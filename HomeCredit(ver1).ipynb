{
  "nbformat": 4,
  "nbformat_minor": 0,
  "metadata": {
    "colab": {
      "name": "kernel89cace86b4.ipynb",
      "version": "0.3.2",
      "provenance": []
    },
    "language_info": {
      "name": "python",
      "version": "3.6.4",
      "mimetype": "text/x-python",
      "codemirror_mode": {
        "name": "ipython",
        "version": 3
      },
      "pygments_lexer": "ipython3",
      "nbconvert_exporter": "python",
      "file_extension": ".py"
    },
    "kernelspec": {
      "display_name": "Python 3",
      "language": "python",
      "name": "python3"
    }
  },
  "cells": [
    {
      "cell_type": "markdown",
      "metadata": {
        "id": "e-fmLXRA-EDx",
        "colab_type": "text"
      },
      "source": [
        "# Home Credit Default Risk Analytics with Python"
      ]
    },
    {
      "cell_type": "markdown",
      "metadata": {
        "id": "tLfzFBDT-EDy",
        "colab_type": "text"
      },
      "source": [
        "<ul>\n",
        "\t<li>0. Preparation</li>\n",
        "\t<li>1. Data Exploration</li>\n",
        "\t\t<ul>\n",
        "\t\t\t<li>1.1 Train & Test </li>\n",
        "                <ul>\n",
        "                    <li>1.1.1 AMT_INCOME_TOTAL</li>\n",
        "                    <li>1.1.2 NAME_EDUCATION_TYPE</li>\n",
        "                    <li>1.1.3 NAME_HOUSING_TYPE</li>\n",
        "                    <li>1.1.5 ORGANIZATION_TYPE</li>\n",
        "                    <li>1.1.6 Docs</li>\n",
        "                    <li>1.1.7 DAYS_BIRTH</li>\n",
        "                    <li>1.1.8 DAYS_ID_PUBLISH</li>\n",
        "                    <li>1.1.9 DAYS_REGISTRATION</li>\n",
        "                    <li>1.1.10 NAME_CONTRACT_TYPE</li>\n",
        "                    <li>1.1.11 Family</li>\n",
        "                    <li>1.1.12 Estate</li>\n",
        "                  <li>1.1.13 Communication by Phone,Mail</li>\n",
        "               </ul>\n",
        "      <li>1.2 Previous </li>\n",
        "      <li>1.3 Installment </li>        \n",
        "                <ul>\n",
        "                    <li>1.3.1 DAYS_INSTALMENT</li>\n",
        "                    <li>1.3.2 AMT_INSTALMENT</li>\n",
        "                </ul>\n",
        "\t\t\t</ul>\n",
        "\t\t     \n",
        "<li>2. Feature Engineering</li>\n",
        "\t\t<ul>\n",
        "\t\t\t<li>2.1 </li>\n",
        "\t\t\t<li>2.2 </li>\n",
        "\t\t</ul>\n",
        "    <li>3. Filling Missing Values</li>\n",
        "        <ul>\n",
        "            <li>3.1 </li>\n",
        "            <li>3.2 </li>\n",
        "            <li>3.3 </li>\n",
        "        </ul>\n",
        "    <li>4. Data Categorization & Dummy</li>\n",
        "        <ul>\n",
        "            <li>4.1 </li>\n",
        "            <li>4.2 </li>\n",
        "        </ul>\n",
        "\t<li>5. Modeling</li>\n",
        "\t\t<ul>\n",
        "\t\t\t<li>5.1 Cross-Validation</li>\n",
        "\t\t\t<li>5.2 Tunning Parameters</li>\n",
        "\t\t\t<li>5.3 Learning Curve</li>\n",
        "\t\t\t<li>5.4 Model Feature Importance</li>\n",
        "\t\t\t<li>5.5 Ensemble Modeling</li>\n",
        "\t\t</ul>\n",
        "\t<li>6. Prediction</li>\n",
        "<ul>"
      ]
    },
    {
      "cell_type": "markdown",
      "metadata": {
        "id": "-yhGLtod-EDz",
        "colab_type": "text"
      },
      "source": [
        "# 0. Preparation"
      ]
    },
    {
      "cell_type": "code",
      "metadata": {
        "_cell_guid": "79c7e3d0-c299-4dcb-8224-4455121ee9b0",
        "_uuid": "d629ff2d2480ee46fbb7e2d37f6b5fab8052498a",
        "trusted": true,
        "id": "b8gylm43-ED0",
        "colab_type": "code",
        "colab": {}
      },
      "source": [
        "import pandas as pd \n",
        "import numpy as np\n",
        "import matplotlib.pyplot as plt\n",
        "import seaborn as sns\n",
        "import warnings\n",
        "from statsmodels.formula.api import ols\n",
        "from statsmodels.stats.anova import anova_lm\n",
        "from sklearn.decomposition import PCA\n",
        "warnings.simplefilter(action='ignore', category=FutureWarning)\n",
        "\n",
        " \n",
        "pd.set_option('display.max_rows',None)\n",
        "pd.set_option('display.max_columns',500)"
      ],
      "execution_count": 0,
      "outputs": []
    },
    {
      "cell_type": "code",
      "metadata": {
        "trusted": true,
        "id": "jfwj42g5-ED3",
        "colab_type": "code",
        "colab": {}
      },
      "source": [
        "def make_bins1(data,col,num_bins):\n",
        "    \n",
        "    New_col1=col+'_binned'\n",
        "    data[New_col1] = pd.cut(data[col], num_bins)\n",
        "    \n",
        "    return data[New_col1]\n",
        "\n",
        "\n",
        "def make_bins2(data,col,num_bins):\n",
        "    \n",
        "    New_col1=col+'_rank'\n",
        "    data[New_col1]=data[col].rank(method='max')\n",
        "    New_col2=col+'_group'\n",
        "    data[New_col2] = pd.cut(data[New_col1], num_bins)\n",
        "    \n",
        "    return data[New_col2]\n",
        "\n",
        "def anova(col1,col2,data):\n",
        "    print('************Variance**************')\n",
        "    print(data[[col1,col2]].groupby(col1).var())\n",
        "    print('*********************************')\n",
        "    print('************Value_counts**************')\n",
        "    print(data[col1].value_counts())\n",
        "    print('*********************************')\n",
        "    print('************anova**************')\n",
        "    model = ols('{} ~ C({})'.format(col2,col1),data).fit()\n",
        "    b=anova_lm(model)\n",
        "    print(b)"
      ],
      "execution_count": 0,
      "outputs": []
    },
    {
      "cell_type": "code",
      "metadata": {
        "trusted": true,
        "id": "j9L_CCY--ED6",
        "colab_type": "code",
        "colab": {}
      },
      "source": [
        "na.strings=c(\"NA\",\"NaN\",\"?\", \"\",\"XNA\"))"
      ],
      "execution_count": 0,
      "outputs": []
    },
    {
      "cell_type": "markdown",
      "metadata": {
        "id": "LRemWudz-ED9",
        "colab_type": "text"
      },
      "source": [
        "# 1. Data Exploration & Data Cleansing & Feature Engineering"
      ]
    },
    {
      "cell_type": "markdown",
      "metadata": {
        "id": "uRKtr3m7-ED9",
        "colab_type": "text"
      },
      "source": [
        "## 1-1.train,test"
      ]
    },
    {
      "cell_type": "code",
      "metadata": {
        "trusted": true,
        "id": "jZtlg_Q4-ED-",
        "colab_type": "code",
        "colab": {}
      },
      "source": [
        "train=pd.read_csv(\"../input/application_train.csv\")\n",
        "test=pd.read_csv(\"../input/application_test.csv\")\n",
        "total=[train,test]"
      ],
      "execution_count": 0,
      "outputs": []
    },
    {
      "cell_type": "code",
      "metadata": {
        "trusted": true,
        "id": "brETfTLh-EEA",
        "colab_type": "code",
        "colab": {},
        "outputId": "fc7cf12d-f33b-4390-a0dd-c03ecac62323"
      },
      "source": [
        "k=test.isnull().sum()\n",
        "k"
      ],
      "execution_count": 0,
      "outputs": [
        {
          "output_type": "execute_result",
          "data": {
            "text/plain": [
              "SK_ID_CURR                          0\n",
              "NAME_CONTRACT_TYPE                  0\n",
              "CODE_GENDER                         0\n",
              "FLAG_OWN_CAR                        0\n",
              "FLAG_OWN_REALTY                     0\n",
              "CNT_CHILDREN                        0\n",
              "AMT_INCOME_TOTAL                    0\n",
              "AMT_CREDIT                          0\n",
              "AMT_ANNUITY                        24\n",
              "AMT_GOODS_PRICE                     0\n",
              "NAME_TYPE_SUITE                   911\n",
              "NAME_INCOME_TYPE                    0\n",
              "NAME_EDUCATION_TYPE                 0\n",
              "NAME_FAMILY_STATUS                  0\n",
              "NAME_HOUSING_TYPE                   0\n",
              "REGION_POPULATION_RELATIVE          0\n",
              "DAYS_BIRTH                          0\n",
              "DAYS_EMPLOYED                       0\n",
              "DAYS_REGISTRATION                   0\n",
              "DAYS_ID_PUBLISH                     0\n",
              "OWN_CAR_AGE                     32312\n",
              "FLAG_MOBIL                          0\n",
              "FLAG_EMP_PHONE                      0\n",
              "FLAG_WORK_PHONE                     0\n",
              "FLAG_CONT_MOBILE                    0\n",
              "FLAG_PHONE                          0\n",
              "FLAG_EMAIL                          0\n",
              "OCCUPATION_TYPE                 15605\n",
              "CNT_FAM_MEMBERS                     0\n",
              "REGION_RATING_CLIENT                0\n",
              "REGION_RATING_CLIENT_W_CITY         0\n",
              "WEEKDAY_APPR_PROCESS_START          0\n",
              "HOUR_APPR_PROCESS_START             0\n",
              "REG_REGION_NOT_LIVE_REGION          0\n",
              "REG_REGION_NOT_WORK_REGION          0\n",
              "LIVE_REGION_NOT_WORK_REGION         0\n",
              "REG_CITY_NOT_LIVE_CITY              0\n",
              "REG_CITY_NOT_WORK_CITY              0\n",
              "LIVE_CITY_NOT_WORK_CITY             0\n",
              "ORGANIZATION_TYPE                   0\n",
              "EXT_SOURCE_1                    20532\n",
              "EXT_SOURCE_2                        8\n",
              "EXT_SOURCE_3                     8668\n",
              "APARTMENTS_AVG                  23887\n",
              "BASEMENTAREA_AVG                27641\n",
              "YEARS_BEGINEXPLUATATION_AVG     22856\n",
              "YEARS_BUILD_AVG                 31818\n",
              "COMMONAREA_AVG                  33495\n",
              "ELEVATORS_AVG                   25189\n",
              "ENTRANCES_AVG                   23579\n",
              "FLOORSMAX_AVG                   23321\n",
              "FLOORSMIN_AVG                   32466\n",
              "LANDAREA_AVG                    28254\n",
              "LIVINGAPARTMENTS_AVG            32780\n",
              "LIVINGAREA_AVG                  23552\n",
              "NONLIVINGAPARTMENTS_AVG         33347\n",
              "NONLIVINGAREA_AVG               26084\n",
              "APARTMENTS_MODE                 23887\n",
              "BASEMENTAREA_MODE               27641\n",
              "YEARS_BEGINEXPLUATATION_MODE    22856\n",
              "YEARS_BUILD_MODE                31818\n",
              "COMMONAREA_MODE                 33495\n",
              "ELEVATORS_MODE                  25189\n",
              "ENTRANCES_MODE                  23579\n",
              "FLOORSMAX_MODE                  23321\n",
              "FLOORSMIN_MODE                  32466\n",
              "LANDAREA_MODE                   28254\n",
              "LIVINGAPARTMENTS_MODE           32780\n",
              "LIVINGAREA_MODE                 23552\n",
              "NONLIVINGAPARTMENTS_MODE        33347\n",
              "NONLIVINGAREA_MODE              26084\n",
              "APARTMENTS_MEDI                 23887\n",
              "BASEMENTAREA_MEDI               27641\n",
              "YEARS_BEGINEXPLUATATION_MEDI    22856\n",
              "YEARS_BUILD_MEDI                31818\n",
              "COMMONAREA_MEDI                 33495\n",
              "ELEVATORS_MEDI                  25189\n",
              "ENTRANCES_MEDI                  23579\n",
              "FLOORSMAX_MEDI                  23321\n",
              "FLOORSMIN_MEDI                  32466\n",
              "LANDAREA_MEDI                   28254\n",
              "LIVINGAPARTMENTS_MEDI           32780\n",
              "LIVINGAREA_MEDI                 23552\n",
              "NONLIVINGAPARTMENTS_MEDI        33347\n",
              "NONLIVINGAREA_MEDI              26084\n",
              "FONDKAPREMONT_MODE              32797\n",
              "HOUSETYPE_MODE                  23619\n",
              "TOTALAREA_MODE                  22624\n",
              "WALLSMATERIAL_MODE              23893\n",
              "EMERGENCYSTATE_MODE             22209\n",
              "OBS_30_CNT_SOCIAL_CIRCLE           29\n",
              "DEF_30_CNT_SOCIAL_CIRCLE           29\n",
              "OBS_60_CNT_SOCIAL_CIRCLE           29\n",
              "DEF_60_CNT_SOCIAL_CIRCLE           29\n",
              "DAYS_LAST_PHONE_CHANGE              0\n",
              "FLAG_DOCUMENT_2                     0\n",
              "FLAG_DOCUMENT_3                     0\n",
              "FLAG_DOCUMENT_4                     0\n",
              "FLAG_DOCUMENT_5                     0\n",
              "FLAG_DOCUMENT_6                     0\n",
              "FLAG_DOCUMENT_7                     0\n",
              "FLAG_DOCUMENT_8                     0\n",
              "FLAG_DOCUMENT_9                     0\n",
              "FLAG_DOCUMENT_10                    0\n",
              "FLAG_DOCUMENT_11                    0\n",
              "FLAG_DOCUMENT_12                    0\n",
              "FLAG_DOCUMENT_13                    0\n",
              "FLAG_DOCUMENT_14                    0\n",
              "FLAG_DOCUMENT_15                    0\n",
              "FLAG_DOCUMENT_16                    0\n",
              "FLAG_DOCUMENT_17                    0\n",
              "FLAG_DOCUMENT_18                    0\n",
              "FLAG_DOCUMENT_19                    0\n",
              "FLAG_DOCUMENT_20                    0\n",
              "FLAG_DOCUMENT_21                    0\n",
              "AMT_REQ_CREDIT_BUREAU_HOUR       6049\n",
              "AMT_REQ_CREDIT_BUREAU_DAY        6049\n",
              "AMT_REQ_CREDIT_BUREAU_WEEK       6049\n",
              "AMT_REQ_CREDIT_BUREAU_MON        6049\n",
              "AMT_REQ_CREDIT_BUREAU_QRT        6049\n",
              "AMT_REQ_CREDIT_BUREAU_YEAR       6049\n",
              "dtype: int64"
            ]
          },
          "metadata": {
            "tags": []
          },
          "execution_count": 195
        }
      ]
    },
    {
      "cell_type": "code",
      "metadata": {
        "trusted": true,
        "id": "iSBVDylO-EEF",
        "colab_type": "code",
        "colab": {}
      },
      "source": [
        "lst=test.columns[k>0]"
      ],
      "execution_count": 0,
      "outputs": []
    },
    {
      "cell_type": "code",
      "metadata": {
        "trusted": true,
        "id": "PyRRFVZU-EEH",
        "colab_type": "code",
        "colab": {},
        "outputId": "b3a95225-c85b-40a0-a4bc-96c74c66f811"
      },
      "source": [
        "lst"
      ],
      "execution_count": 0,
      "outputs": [
        {
          "output_type": "execute_result",
          "data": {
            "text/plain": [
              "['AMT_ANNUITY',\n",
              " 'NAME_TYPE_SUITE',\n",
              " 'OWN_CAR_AGE',\n",
              " 'OCCUPATION_TYPE',\n",
              " 'EXT_SOURCE_1',\n",
              " 'EXT_SOURCE_2',\n",
              " 'EXT_SOURCE_3',\n",
              " 'APARTMENTS_AVG',\n",
              " 'BASEMENTAREA_AVG',\n",
              " 'YEARS_BEGINEXPLUATATION_AVG',\n",
              " 'YEARS_BUILD_AVG',\n",
              " 'COMMONAREA_AVG',\n",
              " 'ELEVATORS_AVG',\n",
              " 'ENTRANCES_AVG',\n",
              " 'FLOORSMAX_AVG',\n",
              " 'FLOORSMIN_AVG',\n",
              " 'LANDAREA_AVG',\n",
              " 'LIVINGAPARTMENTS_AVG',\n",
              " 'LIVINGAREA_AVG',\n",
              " 'NONLIVINGAPARTMENTS_AVG',\n",
              " 'NONLIVINGAREA_AVG',\n",
              " 'APARTMENTS_MODE',\n",
              " 'BASEMENTAREA_MODE',\n",
              " 'YEARS_BEGINEXPLUATATION_MODE',\n",
              " 'YEARS_BUILD_MODE',\n",
              " 'COMMONAREA_MODE',\n",
              " 'ELEVATORS_MODE',\n",
              " 'ENTRANCES_MODE',\n",
              " 'FLOORSMAX_MODE',\n",
              " 'FLOORSMIN_MODE',\n",
              " 'LANDAREA_MODE',\n",
              " 'LIVINGAPARTMENTS_MODE',\n",
              " 'LIVINGAREA_MODE',\n",
              " 'NONLIVINGAPARTMENTS_MODE',\n",
              " 'NONLIVINGAREA_MODE',\n",
              " 'APARTMENTS_MEDI',\n",
              " 'BASEMENTAREA_MEDI',\n",
              " 'YEARS_BEGINEXPLUATATION_MEDI',\n",
              " 'YEARS_BUILD_MEDI',\n",
              " 'COMMONAREA_MEDI',\n",
              " 'ELEVATORS_MEDI',\n",
              " 'ENTRANCES_MEDI',\n",
              " 'FLOORSMAX_MEDI',\n",
              " 'FLOORSMIN_MEDI',\n",
              " 'LANDAREA_MEDI',\n",
              " 'LIVINGAPARTMENTS_MEDI',\n",
              " 'LIVINGAREA_MEDI',\n",
              " 'NONLIVINGAPARTMENTS_MEDI',\n",
              " 'NONLIVINGAREA_MEDI',\n",
              " 'FONDKAPREMONT_MODE',\n",
              " 'HOUSETYPE_MODE',\n",
              " 'TOTALAREA_MODE',\n",
              " 'WALLSMATERIAL_MODE',\n",
              " 'EMERGENCYSTATE_MODE',\n",
              " 'OBS_30_CNT_SOCIAL_CIRCLE',\n",
              " 'DEF_30_CNT_SOCIAL_CIRCLE',\n",
              " 'OBS_60_CNT_SOCIAL_CIRCLE',\n",
              " 'DEF_60_CNT_SOCIAL_CIRCLE',\n",
              " 'AMT_REQ_CREDIT_BUREAU_HOUR',\n",
              " 'AMT_REQ_CREDIT_BUREAU_DAY',\n",
              " 'AMT_REQ_CREDIT_BUREAU_WEEK',\n",
              " 'AMT_REQ_CREDIT_BUREAU_MON',\n",
              " 'AMT_REQ_CREDIT_BUREAU_QRT',\n",
              " 'AMT_REQ_CREDIT_BUREAU_YEAR']"
            ]
          },
          "metadata": {
            "tags": []
          },
          "execution_count": 186
        }
      ]
    },
    {
      "cell_type": "code",
      "metadata": {
        "trusted": true,
        "id": "DyKbBeFj-EEK",
        "colab_type": "code",
        "colab": {}
      },
      "source": [
        "for col in lst:\n",
        "    del train[col],test[col]"
      ],
      "execution_count": 0,
      "outputs": []
    },
    {
      "cell_type": "code",
      "metadata": {
        "trusted": true,
        "id": "TtPq3UxW-EEL",
        "colab_type": "code",
        "colab": {},
        "outputId": "b575bce0-bf15-4ec9-c985-5814b3f82977"
      },
      "source": [
        "train.info()"
      ],
      "execution_count": 0,
      "outputs": [
        {
          "output_type": "stream",
          "text": [
            "<class 'pandas.core.frame.DataFrame'>\n",
            "Int64Index: 307494 entries, 0 to 307510\n",
            "Data columns (total 65 columns):\n",
            "SK_ID_CURR                     307494 non-null int64\n",
            "TARGET                         307494 non-null int64\n",
            "NAME_CONTRACT_TYPE             307494 non-null object\n",
            "CODE_GENDER                    307494 non-null object\n",
            "FLAG_OWN_CAR                   307494 non-null object\n",
            "FLAG_OWN_REALTY                307494 non-null object\n",
            "AMT_INCOME_TOTAL               307494 non-null float64\n",
            "AMT_CREDIT                     307494 non-null float64\n",
            "AMT_GOODS_PRICE                307216 non-null float64\n",
            "NAME_INCOME_TYPE               307494 non-null object\n",
            "NAME_EDUCATION_TYPE            307494 non-null object\n",
            "NAME_FAMILY_STATUS             307494 non-null object\n",
            "NAME_HOUSING_TYPE              307494 non-null object\n",
            "REGION_POPULATION_RELATIVE     307494 non-null float64\n",
            "DAYS_BIRTH                     307494 non-null float64\n",
            "DAYS_EMPLOYED                  307494 non-null int64\n",
            "DAYS_REGISTRATION              307494 non-null float64\n",
            "DAYS_ID_PUBLISH                307494 non-null int64\n",
            "FLAG_MOBIL                     307494 non-null int64\n",
            "FLAG_EMP_PHONE                 307494 non-null int64\n",
            "FLAG_WORK_PHONE                307494 non-null int64\n",
            "FLAG_CONT_MOBILE               307494 non-null int64\n",
            "FLAG_PHONE                     307494 non-null int64\n",
            "FLAG_EMAIL                     307494 non-null int64\n",
            "CNT_FAM_MEMBERS                307492 non-null float64\n",
            "REGION_RATING_CLIENT           307494 non-null int64\n",
            "REGION_RATING_CLIENT_W_CITY    307494 non-null int64\n",
            "WEEKDAY_APPR_PROCESS_START     307494 non-null object\n",
            "HOUR_APPR_PROCESS_START        307494 non-null int64\n",
            "REG_REGION_NOT_LIVE_REGION     307494 non-null int64\n",
            "REG_REGION_NOT_WORK_REGION     307494 non-null int64\n",
            "LIVE_REGION_NOT_WORK_REGION    307494 non-null int64\n",
            "REG_CITY_NOT_LIVE_CITY         307494 non-null int64\n",
            "REG_CITY_NOT_WORK_CITY         307494 non-null int64\n",
            "LIVE_CITY_NOT_WORK_CITY        307494 non-null int64\n",
            "ORGANIZATION_TYPE              307494 non-null object\n",
            "DAYS_LAST_PHONE_CHANGE         307493 non-null float64\n",
            "FLAG_DOCUMENT_2                307494 non-null int64\n",
            "FLAG_DOCUMENT_3                307494 non-null int64\n",
            "FLAG_DOCUMENT_4                307494 non-null int64\n",
            "FLAG_DOCUMENT_5                307494 non-null int64\n",
            "FLAG_DOCUMENT_6                307494 non-null int64\n",
            "FLAG_DOCUMENT_7                307494 non-null int64\n",
            "FLAG_DOCUMENT_8                307494 non-null int64\n",
            "FLAG_DOCUMENT_9                307494 non-null int64\n",
            "FLAG_DOCUMENT_10               307494 non-null int64\n",
            "FLAG_DOCUMENT_11               307494 non-null int64\n",
            "FLAG_DOCUMENT_12               307494 non-null int64\n",
            "FLAG_DOCUMENT_13               307494 non-null int64\n",
            "FLAG_DOCUMENT_14               307494 non-null int64\n",
            "FLAG_DOCUMENT_15               307494 non-null int64\n",
            "FLAG_DOCUMENT_16               307494 non-null int64\n",
            "FLAG_DOCUMENT_17               307494 non-null int64\n",
            "FLAG_DOCUMENT_18               307494 non-null int64\n",
            "FLAG_DOCUMENT_19               307494 non-null int64\n",
            "FLAG_DOCUMENT_20               307494 non-null int64\n",
            "FLAG_DOCUMENT_21               307494 non-null int64\n",
            "AMT_INCOME_TOTAL_binned        307494 non-null category\n",
            "AMT_INCOME_TOTAL_rank          307494 non-null float64\n",
            "AMT_INCOME_TOTAL_group         307494 non-null category\n",
            "DOCUMENT_COUNT                 307494 non-null int64\n",
            "NEW_DOC_KURT                   307494 non-null float64\n",
            "AGE_RANGE                      307494 non-null int64\n",
            "DAYS_ID_PUBLISH_binned         307494 non-null category\n",
            "DAYS_REGISTRATION_binned       307494 non-null category\n",
            "dtypes: category(4), float64(10), int64(41), object(10)\n",
            "memory usage: 156.6+ MB\n"
          ],
          "name": "stdout"
        }
      ]
    },
    {
      "cell_type": "code",
      "metadata": {
        "trusted": true,
        "id": "4v_8ojIV-EEN",
        "colab_type": "code",
        "colab": {}
      },
      "source": [
        "train.describe()"
      ],
      "execution_count": 0,
      "outputs": []
    },
    {
      "cell_type": "code",
      "metadata": {
        "trusted": true,
        "id": "HowDEVXj-EEP",
        "colab_type": "code",
        "colab": {}
      },
      "source": [
        "test.info()"
      ],
      "execution_count": 0,
      "outputs": []
    },
    {
      "cell_type": "code",
      "metadata": {
        "trusted": true,
        "id": "ToMBlvzT-EER",
        "colab_type": "code",
        "colab": {}
      },
      "source": [
        "test.describe()"
      ],
      "execution_count": 0,
      "outputs": []
    },
    {
      "cell_type": "markdown",
      "metadata": {
        "id": "-JuqdpnA-EET",
        "colab_type": "text"
      },
      "source": [
        "### Correlation"
      ]
    },
    {
      "cell_type": "code",
      "metadata": {
        "trusted": true,
        "id": "z0thzRg7-EEU",
        "colab_type": "code",
        "colab": {}
      },
      "source": [
        "a=train.corr()"
      ],
      "execution_count": 0,
      "outputs": []
    },
    {
      "cell_type": "code",
      "metadata": {
        "trusted": true,
        "id": "8Rpez5OJ-EEX",
        "colab_type": "code",
        "colab": {}
      },
      "source": [
        "cols=a.columns\n",
        "rows=a.index.values\n",
        "for i in range(a.shape[0]):\n",
        "    for j in range(i+1,a.shape[1]):\n",
        "        if (a.iloc[i,j]>=0.3):\n",
        "            print(cols[j],',',rows[i],',',a.iloc[i,j])\n"
      ],
      "execution_count": 0,
      "outputs": []
    },
    {
      "cell_type": "markdown",
      "metadata": {
        "id": "GlexLKpg-EEa",
        "colab_type": "text"
      },
      "source": [
        "### 1-1-1 AMT_INCOME_TOTAL"
      ]
    },
    {
      "cell_type": "code",
      "metadata": {
        "trusted": true,
        "id": "1OKyWwrq-EEb",
        "colab_type": "code",
        "colab": {},
        "outputId": "37f50ae3-8b05-48a0-fac6-12a465488361"
      },
      "source": [
        "print('Before:{}'.format(train.shape))\n",
        "train=train[(train.AMT_INCOME_TOTAL<=test.AMT_INCOME_TOTAL.max()) & (train.AMT_INCOME_TOTAL>=test.AMT_INCOME_TOTAL.min())]\n",
        "print('After:{}'.format(train.shape))"
      ],
      "execution_count": 0,
      "outputs": [
        {
          "output_type": "stream",
          "text": [
            "Before:(307511, 122)\n",
            "After:(307494, 122)\n"
          ],
          "name": "stdout"
        }
      ]
    },
    {
      "cell_type": "code",
      "metadata": {
        "trusted": true,
        "id": "p0NgJ9ir-EEe",
        "colab_type": "code",
        "colab": {}
      },
      "source": [
        "#train[['AMT_INCOME_TOTAL','TARGET']].groupby(['TARGET']).describe()"
      ],
      "execution_count": 0,
      "outputs": []
    },
    {
      "cell_type": "code",
      "metadata": {
        "trusted": true,
        "id": "58szo1jk-EEh",
        "colab_type": "code",
        "colab": {},
        "outputId": "42d70ab3-13bf-4637-efe1-4dd5a61fc260"
      },
      "source": [
        "col_x='AMT_INCOME_TOTAL';col_y='TARGET';num_bin=9\n",
        "#;bins = np.linspace(train[col_x].min(),train[col_x].max(),num_bin)\n",
        "train['AMT_INCOME_TOTAL_group'] = make_bins2(train,col_x,num_bin)\n",
        "sns.catplot(x='AMT_INCOME_TOTAL_group',y=col_y,data=train,kind='bar',height=15)"
      ],
      "execution_count": 0,
      "outputs": [
        {
          "output_type": "stream",
          "text": [
            "/opt/conda/lib/python3.6/site-packages/ipykernel_launcher.py:12: SettingWithCopyWarning: \n",
            "A value is trying to be set on a copy of a slice from a DataFrame.\n",
            "Try using .loc[row_indexer,col_indexer] = value instead\n",
            "\n",
            "See the caveats in the documentation: http://pandas.pydata.org/pandas-docs/stable/indexing.html#indexing-view-versus-copy\n",
            "  if sys.path[0] == '':\n",
            "/opt/conda/lib/python3.6/site-packages/ipykernel_launcher.py:14: SettingWithCopyWarning: \n",
            "A value is trying to be set on a copy of a slice from a DataFrame.\n",
            "Try using .loc[row_indexer,col_indexer] = value instead\n",
            "\n",
            "See the caveats in the documentation: http://pandas.pydata.org/pandas-docs/stable/indexing.html#indexing-view-versus-copy\n",
            "  \n",
            "/opt/conda/lib/python3.6/site-packages/ipykernel_launcher.py:3: SettingWithCopyWarning: \n",
            "A value is trying to be set on a copy of a slice from a DataFrame.\n",
            "Try using .loc[row_indexer,col_indexer] = value instead\n",
            "\n",
            "See the caveats in the documentation: http://pandas.pydata.org/pandas-docs/stable/indexing.html#indexing-view-versus-copy\n",
            "  This is separate from the ipykernel package so we can avoid doing imports until\n"
          ],
          "name": "stderr"
        },
        {
          "output_type": "execute_result",
          "data": {
            "text/plain": [
              "<seaborn.axisgrid.FacetGrid at 0x7f2ff0ca2278>"
            ]
          },
          "metadata": {
            "tags": []
          },
          "execution_count": 110
        },
        {
          "output_type": "display_data",
          "data": {
            "text/plain": [
              "<Figure size 1080x1080 with 1 Axes>"
            ],
            "image/png": "[encoded data removed]"
          },
          "metadata": {
            "tags": []
          }
        }
      ]
    },
    {
      "cell_type": "code",
      "metadata": {
        "trusted": true,
        "id": "e616ycCL-EEo",
        "colab_type": "code",
        "colab": {},
        "outputId": "5c558a17-85a2-41bd-c164-d742ef7bd0ba"
      },
      "source": [
        "\n",
        "anova('AMT_INCOME_TOTAL_group','TARGET',train)\n"
      ],
      "execution_count": 0,
      "outputs": [
        {
          "output_type": "stream",
          "text": [
            "************Variance**************\n",
            "                            TARGET\n",
            "AMT_INCOME_TOTAL_group            \n",
            "(-241.428, 34224.667]     0.075263\n",
            "(34224.667, 68383.333]    0.076103\n",
            "(68383.333, 102542.0]     0.079296\n",
            "(102542.0, 136700.667]    0.081144\n",
            "(136700.667, 170859.333]  0.077333\n",
            "(170859.333, 205018.0]    0.078426\n",
            "(205018.0, 239176.667]    0.075484\n",
            "(239176.667, 273335.333]  0.069258\n",
            "(273335.333, 307494.0]    0.059592\n",
            "*********************************\n",
            "************Value_counts**************\n",
            "(205018.0, 239176.667]      46932\n",
            "(136700.667, 170859.333]    42822\n",
            "(273335.333, 307494.0]      37979\n",
            "(170859.333, 205018.0]      34366\n",
            "(34224.667, 68383.333]      33752\n",
            "(-241.428, 34224.667]       33678\n",
            "(68383.333, 102542.0]       33328\n",
            "(239176.667, 273335.333]    31726\n",
            "(102542.0, 136700.667]      12911\n",
            "Name: AMT_INCOME_TOTAL_group, dtype: int64\n",
            "*********************************\n",
            "************anova**************\n",
            "                                 df      ...             PR(>F)\n",
            "C(AMT_INCOME_TOTAL_group)       8.0      ...       1.318988e-42\n",
            "Residual                   307485.0      ...                NaN\n",
            "\n",
            "[2 rows x 5 columns]\n"
          ],
          "name": "stdout"
        }
      ]
    },
    {
      "cell_type": "markdown",
      "metadata": {
        "id": "vcyGWA54-EEr",
        "colab_type": "text"
      },
      "source": [
        "### 1-1-2.NAME_EDUCATION_TYPE"
      ]
    },
    {
      "cell_type": "code",
      "metadata": {
        "trusted": true,
        "id": "KCxHfvIL-EEs",
        "colab_type": "code",
        "colab": {},
        "outputId": "c6536157-1ca4-458d-fd29-3952ff3b12d0"
      },
      "source": [
        "f,ax=plt.subplots(1,1,figsize=(15,4))\n",
        "sns.barplot(x='NAME_EDUCATION_TYPE',y='TARGET',data=train)"
      ],
      "execution_count": 0,
      "outputs": [
        {
          "output_type": "execute_result",
          "data": {
            "text/plain": [
              "<matplotlib.axes._subplots.AxesSubplot at 0x7f2ff0879dd8>"
            ]
          },
          "metadata": {
            "tags": []
          },
          "execution_count": 122
        },
        {
          "output_type": "display_data",
          "data": {
            "text/plain": [
              "<Figure size 1080x288 with 1 Axes>"
            ],
            "image/png": "[encoded data removed]"
          },
          "metadata": {
            "tags": []
          }
        }
      ]
    },
    {
      "cell_type": "code",
      "metadata": {
        "trusted": true,
        "id": "cV-WHI3q-EEu",
        "colab_type": "code",
        "colab": {},
        "outputId": "8a535bf1-1f37-49c1-d112-f3452d42b9d3"
      },
      "source": [
        "anova('NAME_EDUCATION_TYPE','TARGET',train)"
      ],
      "execution_count": 0,
      "outputs": [
        {
          "output_type": "stream",
          "text": [
            "************Variance**************\n",
            "                                 TARGET\n",
            "NAME_EDUCATION_TYPE                    \n",
            "Academic degree                0.018068\n",
            "Higher education               0.050688\n",
            "Incomplete higher              0.077658\n",
            "Lower secondary                0.097383\n",
            "Secondary / secondary special  0.081403\n",
            "*********************************\n",
            "************Value_counts**************\n",
            "Secondary / secondary special    218381\n",
            "Higher education                  74857\n",
            "Incomplete higher                 10277\n",
            "Lower secondary                    3815\n",
            "Academic degree                     164\n",
            "Name: NAME_EDUCATION_TYPE, dtype: int64\n",
            "*********************************\n",
            "************anova**************\n",
            "                              df      ...               PR(>F)\n",
            "C(NAME_EDUCATION_TYPE)       4.0      ...        1.337447e-219\n",
            "Residual                307489.0      ...                  NaN\n",
            "\n",
            "[2 rows x 5 columns]\n"
          ],
          "name": "stdout"
        }
      ]
    },
    {
      "cell_type": "markdown",
      "metadata": {
        "id": "9OzzSrF7-EEw",
        "colab_type": "text"
      },
      "source": [
        "### 1-1-3. NAME_HOUSING_TYPE"
      ]
    },
    {
      "cell_type": "code",
      "metadata": {
        "trusted": true,
        "id": "8UilzlO7-EEx",
        "colab_type": "code",
        "colab": {},
        "outputId": "2e3ef6c7-9c77-45e2-de79-741b945b653b"
      },
      "source": [
        "f,ax=plt.subplots(1,1,figsize=(15,4))\n",
        "sns.barplot(x='NAME_HOUSING_TYPE',y='TARGET',data=train)"
      ],
      "execution_count": 0,
      "outputs": [
        {
          "output_type": "execute_result",
          "data": {
            "text/plain": [
              "<matplotlib.axes._subplots.AxesSubplot at 0x7f2ff01aa080>"
            ]
          },
          "metadata": {
            "tags": []
          },
          "execution_count": 131
        },
        {
          "output_type": "display_data",
          "data": {
            "text/plain": [
              "<Figure size 1080x288 with 1 Axes>"
            ],
            "image/png": "[encoded data removed]"
          },
          "metadata": {
            "tags": []
          }
        }
      ]
    },
    {
      "cell_type": "code",
      "metadata": {
        "trusted": true,
        "id": "RLAAx9nr-EE0",
        "colab_type": "code",
        "colab": {},
        "outputId": "e81caf22-3bbb-4cda-87d7-ca928a678242"
      },
      "source": [
        "anova('NAME_HOUSING_TYPE','TARGET',train)"
      ],
      "execution_count": 0,
      "outputs": [
        {
          "output_type": "stream",
          "text": [
            "************Variance**************\n",
            "                       TARGET\n",
            "NAME_HOUSING_TYPE            \n",
            "Co-op apartment      0.073096\n",
            "House / apartment    0.071878\n",
            "Municipal apartment  0.078112\n",
            "Office apartment     0.061428\n",
            "Rented apartment     0.107992\n",
            "With parents         0.103310\n",
            "*********************************\n",
            "************Value_counts**************\n",
            "House / apartment      272852\n",
            "With parents            14839\n",
            "Municipal apartment     11183\n",
            "Rented apartment         4881\n",
            "Office apartment         2617\n",
            "Co-op apartment          1122\n",
            "Name: NAME_HOUSING_TYPE, dtype: int64\n",
            "*********************************\n",
            "************anova**************\n",
            "                            df      ...             PR(>F)\n",
            "C(NAME_HOUSING_TYPE)       5.0      ...       8.821944e-89\n",
            "Residual              307488.0      ...                NaN\n",
            "\n",
            "[2 rows x 5 columns]\n"
          ],
          "name": "stdout"
        }
      ]
    },
    {
      "cell_type": "markdown",
      "metadata": {
        "id": "QDbSd6JT-EE2",
        "colab_type": "text"
      },
      "source": [
        "### 1-1-5. ORGANIZATION_TYPE"
      ]
    },
    {
      "cell_type": "code",
      "metadata": {
        "trusted": true,
        "id": "KL0gYuvl-EE2",
        "colab_type": "code",
        "colab": {},
        "outputId": "9d1c6db1-77a1-4101-e347-1440757d395a"
      },
      "source": [
        "train[['ORGANIZATION_TYPE','TARGET']].groupby(['ORGANIZATION_TYPE']).mean().sort_values(by='TARGET',ascending=False)"
      ],
      "execution_count": 0,
      "outputs": [
        {
          "output_type": "execute_result",
          "data": {
            "text/plain": [
              "                          TARGET\n",
              "ORGANIZATION_TYPE               \n",
              "Transport: type 3       0.157540\n",
              "Industry: type 13       0.134328\n",
              "Industry: type 8        0.125000\n",
              "Restaurant              0.117062\n",
              "Construction            0.116833\n",
              "Cleaning                0.111538\n",
              "Industry: type 1        0.110683\n",
              "Industry: type 3        0.106162\n",
              "Realtor                 0.106061\n",
              "Agriculture             0.104727\n",
              "Trade: type 3           0.103379\n",
              "Self-employed           0.101742\n",
              "Industry: type 4        0.101482\n",
              "Security                0.099784\n",
              "Trade: type 7           0.094496\n",
              "Business Entity Type 3  0.092986\n",
              "Transport: type 4       0.092829\n",
              "Mobile                  0.091483\n",
              "Trade: type 1           0.089080\n",
              "Industry: type 11       0.086538\n",
              "Business Entity Type 2  0.085284\n",
              "Postal                  0.084376\n",
              "Advertising             0.081585\n",
              "Business Entity Type 1  0.081397\n",
              "Industry: type 7        0.080337\n",
              "Housing                 0.079446\n",
              "Legal Services          0.078689\n",
              "Transport: type 2       0.078040\n",
              "Other                   0.076425\n",
              "Telecom                 0.076256\n",
              "Industry: type 2        0.072052\n",
              "Industry: type 6        0.071429\n",
              "Emergency               0.071429\n",
              "Kindergarten            0.070349\n",
              "Trade: type 2           0.070000\n",
              "Government              0.069781\n",
              "Industry: type 5        0.068447\n",
              "Industry: type 9        0.066805\n",
              "Electricity             0.066316\n",
              "Services                0.066032\n",
              "Medicine                0.065851\n",
              "Industry: type 10       0.064220\n",
              "Hotel                   0.064182\n",
              "Trade: type 5           0.061224\n",
              "School                  0.059154\n",
              "Religion                0.058824\n",
              "Insurance               0.056951\n",
              "Culture                 0.055409\n",
              "XNA                     0.053984\n",
              "Bank                    0.051855\n",
              "Military                0.051272\n",
              "Police                  0.049979\n",
              "University              0.048983\n",
              "Security Ministries     0.048632\n",
              "Trade: type 6           0.045959\n",
              "Transport: type 1       0.044776\n",
              "Industry: type 12       0.037940\n",
              "Trade: type 4           0.031250"
            ],
            "text/html": [
              "<div>\n",
              "<style scoped>\n",
              "    .dataframe tbody tr th:only-of-type {\n",
              "        vertical-align: middle;\n",
              "    }\n",
              "\n",
              "    .dataframe tbody tr th {\n",
              "        vertical-align: top;\n",
              "    }\n",
              "\n",
              "    .dataframe thead th {\n",
              "        text-align: right;\n",
              "    }\n",
              "</style>\n",
              "<table border=\"1\" class=\"dataframe\">\n",
              "  <thead>\n",
              "    <tr style=\"text-align: right;\">\n",
              "      <th></th>\n",
              "      <th>TARGET</th>\n",
              "    </tr>\n",
              "    <tr>\n",
              "      <th>ORGANIZATION_TYPE</th>\n",
              "      <th></th>\n",
              "    </tr>\n",
              "  </thead>\n",
              "  <tbody>\n",
              "    <tr>\n",
              "      <th>Transport: type 3</th>\n",
              "      <td>0.157540</td>\n",
              "    </tr>\n",
              "    <tr>\n",
              "      <th>Industry: type 13</th>\n",
              "      <td>0.134328</td>\n",
              "    </tr>\n",
              "    <tr>\n",
              "      <th>Industry: type 8</th>\n",
              "      <td>0.125000</td>\n",
              "    </tr>\n",
              "    <tr>\n",
              "      <th>Restaurant</th>\n",
              "      <td>0.117062</td>\n",
              "    </tr>\n",
              "    <tr>\n",
              "      <th>Construction</th>\n",
              "      <td>0.116833</td>\n",
              "    </tr>\n",
              "    <tr>\n",
              "      <th>Cleaning</th>\n",
              "      <td>0.111538</td>\n",
              "    </tr>\n",
              "    <tr>\n",
              "      <th>Industry: type 1</th>\n",
              "      <td>0.110683</td>\n",
              "    </tr>\n",
              "    <tr>\n",
              "      <th>Industry: type 3</th>\n",
              "      <td>0.106162</td>\n",
              "    </tr>\n",
              "    <tr>\n",
              "      <th>Realtor</th>\n",
              "      <td>0.106061</td>\n",
              "    </tr>\n",
              "    <tr>\n",
              "      <th>Agriculture</th>\n",
              "      <td>0.104727</td>\n",
              "    </tr>\n",
              "    <tr>\n",
              "      <th>Trade: type 3</th>\n",
              "      <td>0.103379</td>\n",
              "    </tr>\n",
              "    <tr>\n",
              "      <th>Self-employed</th>\n",
              "      <td>0.101742</td>\n",
              "    </tr>\n",
              "    <tr>\n",
              "      <th>Industry: type 4</th>\n",
              "      <td>0.101482</td>\n",
              "    </tr>\n",
              "    <tr>\n",
              "      <th>Security</th>\n",
              "      <td>0.099784</td>\n",
              "    </tr>\n",
              "    <tr>\n",
              "      <th>Trade: type 7</th>\n",
              "      <td>0.094496</td>\n",
              "    </tr>\n",
              "    <tr>\n",
              "      <th>Business Entity Type 3</th>\n",
              "      <td>0.092986</td>\n",
              "    </tr>\n",
              "    <tr>\n",
              "      <th>Transport: type 4</th>\n",
              "      <td>0.092829</td>\n",
              "    </tr>\n",
              "    <tr>\n",
              "      <th>Mobile</th>\n",
              "      <td>0.091483</td>\n",
              "    </tr>\n",
              "    <tr>\n",
              "      <th>Trade: type 1</th>\n",
              "      <td>0.089080</td>\n",
              "    </tr>\n",
              "    <tr>\n",
              "      <th>Industry: type 11</th>\n",
              "      <td>0.086538</td>\n",
              "    </tr>\n",
              "    <tr>\n",
              "      <th>Business Entity Type 2</th>\n",
              "      <td>0.085284</td>\n",
              "    </tr>\n",
              "    <tr>\n",
              "      <th>Postal</th>\n",
              "      <td>0.084376</td>\n",
              "    </tr>\n",
              "    <tr>\n",
              "      <th>Advertising</th>\n",
              "      <td>0.081585</td>\n",
              "    </tr>\n",
              "    <tr>\n",
              "      <th>Business Entity Type 1</th>\n",
              "      <td>0.081397</td>\n",
              "    </tr>\n",
              "    <tr>\n",
              "      <th>Industry: type 7</th>\n",
              "      <td>0.080337</td>\n",
              "    </tr>\n",
              "    <tr>\n",
              "      <th>Housing</th>\n",
              "      <td>0.079446</td>\n",
              "    </tr>\n",
              "    <tr>\n",
              "      <th>Legal Services</th>\n",
              "      <td>0.078689</td>\n",
              "    </tr>\n",
              "    <tr>\n",
              "      <th>Transport: type 2</th>\n",
              "      <td>0.078040</td>\n",
              "    </tr>\n",
              "    <tr>\n",
              "      <th>Other</th>\n",
              "      <td>0.076425</td>\n",
              "    </tr>\n",
              "    <tr>\n",
              "      <th>Telecom</th>\n",
              "      <td>0.076256</td>\n",
              "    </tr>\n",
              "    <tr>\n",
              "      <th>Industry: type 2</th>\n",
              "      <td>0.072052</td>\n",
              "    </tr>\n",
              "    <tr>\n",
              "      <th>Industry: type 6</th>\n",
              "      <td>0.071429</td>\n",
              "    </tr>\n",
              "    <tr>\n",
              "      <th>Emergency</th>\n",
              "      <td>0.071429</td>\n",
              "    </tr>\n",
              "    <tr>\n",
              "      <th>Kindergarten</th>\n",
              "      <td>0.070349</td>\n",
              "    </tr>\n",
              "    <tr>\n",
              "      <th>Trade: type 2</th>\n",
              "      <td>0.070000</td>\n",
              "    </tr>\n",
              "    <tr>\n",
              "      <th>Government</th>\n",
              "      <td>0.069781</td>\n",
              "    </tr>\n",
              "    <tr>\n",
              "      <th>Industry: type 5</th>\n",
              "      <td>0.068447</td>\n",
              "    </tr>\n",
              "    <tr>\n",
              "      <th>Industry: type 9</th>\n",
              "      <td>0.066805</td>\n",
              "    </tr>\n",
              "    <tr>\n",
              "      <th>Electricity</th>\n",
              "      <td>0.066316</td>\n",
              "    </tr>\n",
              "    <tr>\n",
              "      <th>Services</th>\n",
              "      <td>0.066032</td>\n",
              "    </tr>\n",
              "    <tr>\n",
              "      <th>Medicine</th>\n",
              "      <td>0.065851</td>\n",
              "    </tr>\n",
              "    <tr>\n",
              "      <th>Industry: type 10</th>\n",
              "      <td>0.064220</td>\n",
              "    </tr>\n",
              "    <tr>\n",
              "      <th>Hotel</th>\n",
              "      <td>0.064182</td>\n",
              "    </tr>\n",
              "    <tr>\n",
              "      <th>Trade: type 5</th>\n",
              "      <td>0.061224</td>\n",
              "    </tr>\n",
              "    <tr>\n",
              "      <th>School</th>\n",
              "      <td>0.059154</td>\n",
              "    </tr>\n",
              "    <tr>\n",
              "      <th>Religion</th>\n",
              "      <td>0.058824</td>\n",
              "    </tr>\n",
              "    <tr>\n",
              "      <th>Insurance</th>\n",
              "      <td>0.056951</td>\n",
              "    </tr>\n",
              "    <tr>\n",
              "      <th>Culture</th>\n",
              "      <td>0.055409</td>\n",
              "    </tr>\n",
              "    <tr>\n",
              "      <th>XNA</th>\n",
              "      <td>0.053984</td>\n",
              "    </tr>\n",
              "    <tr>\n",
              "      <th>Bank</th>\n",
              "      <td>0.051855</td>\n",
              "    </tr>\n",
              "    <tr>\n",
              "      <th>Military</th>\n",
              "      <td>0.051272</td>\n",
              "    </tr>\n",
              "    <tr>\n",
              "      <th>Police</th>\n",
              "      <td>0.049979</td>\n",
              "    </tr>\n",
              "    <tr>\n",
              "      <th>University</th>\n",
              "      <td>0.048983</td>\n",
              "    </tr>\n",
              "    <tr>\n",
              "      <th>Security Ministries</th>\n",
              "      <td>0.048632</td>\n",
              "    </tr>\n",
              "    <tr>\n",
              "      <th>Trade: type 6</th>\n",
              "      <td>0.045959</td>\n",
              "    </tr>\n",
              "    <tr>\n",
              "      <th>Transport: type 1</th>\n",
              "      <td>0.044776</td>\n",
              "    </tr>\n",
              "    <tr>\n",
              "      <th>Industry: type 12</th>\n",
              "      <td>0.037940</td>\n",
              "    </tr>\n",
              "    <tr>\n",
              "      <th>Trade: type 4</th>\n",
              "      <td>0.031250</td>\n",
              "    </tr>\n",
              "  </tbody>\n",
              "</table>\n",
              "</div>"
            ]
          },
          "metadata": {
            "tags": []
          },
          "execution_count": 135
        }
      ]
    },
    {
      "cell_type": "code",
      "metadata": {
        "trusted": true,
        "id": "I36Qz4O1-EE4",
        "colab_type": "code",
        "colab": {},
        "outputId": "32a3f94b-d50a-4e4c-a711-d96031d0188c"
      },
      "source": [
        "train['ORGANIZATION_TYPE'].value_counts()/307494"
      ],
      "execution_count": 0,
      "outputs": [
        {
          "output_type": "execute_result",
          "data": {
            "text/plain": [
              "Business Entity Type 3    0.221107\n",
              "XNA                       0.180062\n",
              "Self-employed             0.124916\n",
              "Other                     0.054255\n",
              "Medicine                  0.036397\n",
              "Business Entity Type 2    0.034319\n",
              "Government                0.033835\n",
              "School                    0.028918\n",
              "Trade: type 7             0.025467\n",
              "Kindergarten              0.022374\n",
              "Construction              0.021851\n",
              "Business Entity Type 1    0.019457\n",
              "Transport: type 4         0.017552\n",
              "Trade: type 3             0.011356\n",
              "Industry: type 9          0.010953\n",
              "Industry: type 3          0.010660\n",
              "Security                  0.010560\n",
              "Housing                   0.009620\n",
              "Industry: type 11         0.008794\n",
              "Military                  0.008563\n",
              "Bank                      0.008153\n",
              "Agriculture               0.007981\n",
              "Police                    0.007613\n",
              "Transport: type 2         0.007168\n",
              "Postal                    0.007015\n",
              "Security Ministries       0.006420\n",
              "Trade: type 2             0.006179\n",
              "Restaurant                0.005890\n",
              "Services                  0.005122\n",
              "University                0.004316\n",
              "Industry: type 7          0.004250\n",
              "Transport: type 3         0.003860\n",
              "Industry: type 1          0.003379\n",
              "Hotel                     0.003142\n",
              "Electricity               0.003089\n",
              "Industry: type 4          0.002852\n",
              "Trade: type 6             0.002052\n",
              "Industry: type 5          0.001948\n",
              "Insurance                 0.001942\n",
              "Telecom                   0.001876\n",
              "Emergency                 0.001821\n",
              "Industry: type 2          0.001489\n",
              "Advertising               0.001395\n",
              "Realtor                   0.001288\n",
              "Culture                   0.001233\n",
              "Industry: type 12         0.001200\n",
              "Trade: type 1             0.001132\n",
              "Mobile                    0.001031\n",
              "Legal Services            0.000992\n",
              "Cleaning                  0.000846\n",
              "Transport: type 1         0.000654\n",
              "Industry: type 6          0.000364\n",
              "Industry: type 10         0.000354\n",
              "Religion                  0.000276\n",
              "Industry: type 13         0.000218\n",
              "Trade: type 4             0.000208\n",
              "Trade: type 5             0.000159\n",
              "Industry: type 8          0.000078\n",
              "Name: ORGANIZATION_TYPE, dtype: float64"
            ]
          },
          "metadata": {
            "tags": []
          },
          "execution_count": 138
        }
      ]
    },
    {
      "cell_type": "code",
      "metadata": {
        "trusted": true,
        "id": "-skw1rl8-EE7",
        "colab_type": "code",
        "colab": {},
        "outputId": "69eaab0a-1a5e-4767-8e4e-bcb167174973"
      },
      "source": [
        "anova('ORGANIZATION_TYPE','TARGET',train)"
      ],
      "execution_count": 0,
      "outputs": [
        {
          "output_type": "stream",
          "text": [
            "************Variance**************\n",
            "                          TARGET\n",
            "ORGANIZATION_TYPE               \n",
            "Advertising             0.075104\n",
            "Agriculture             0.093797\n",
            "Bank                    0.049186\n",
            "Business Entity Type 1  0.074784\n",
            "Business Entity Type 2  0.078018\n",
            "Business Entity Type 3  0.084341\n",
            "Cleaning                0.099480\n",
            "Construction            0.103198\n",
            "Culture                 0.052477\n",
            "Electricity             0.061983\n",
            "Emergency               0.066445\n",
            "Government              0.064918\n",
            "Hotel                   0.060125\n",
            "Housing                 0.073159\n",
            "Industry: type 1        0.098527\n",
            "Industry: type 10       0.060652\n",
            "Industry: type 11       0.079079\n",
            "Industry: type 12       0.036600\n",
            "Industry: type 13       0.118046\n",
            "Industry: type 2        0.067007\n",
            "Industry: type 3        0.094921\n",
            "Industry: type 4        0.091288\n",
            "Industry: type 5        0.063869\n",
            "Industry: type 6        0.066924\n",
            "Industry: type 7        0.073939\n",
            "Industry: type 8        0.114130\n",
            "Industry: type 9        0.062361\n",
            "Insurance               0.053798\n",
            "Kindergarten            0.065409\n",
            "Legal Services          0.072735\n",
            "Medicine                0.061520\n",
            "Military                0.048662\n",
            "Mobile                  0.083377\n",
            "Other                   0.070589\n",
            "Police                  0.047501\n",
            "Postal                  0.077293\n",
            "Realtor                 0.095052\n",
            "Religion                0.056022\n",
            "Restaurant              0.103416\n",
            "School                  0.055661\n",
            "Security                0.089855\n",
            "Security Ministries     0.046291\n",
            "Self-employed           0.091393\n",
            "Services                0.061711\n",
            "Telecom                 0.070564\n",
            "Trade: type 1           0.081379\n",
            "Trade: type 2           0.065134\n",
            "Trade: type 3           0.092718\n",
            "Trade: type 4           0.030754\n",
            "Trade: type 5           0.058673\n",
            "Trade: type 6           0.043916\n",
            "Trade: type 7           0.085578\n",
            "Transport: type 1       0.042985\n",
            "Transport: type 2       0.071982\n",
            "Transport: type 3       0.132833\n",
            "Transport: type 4       0.084228\n",
            "University              0.046618\n",
            "XNA                     0.051071\n",
            "*********************************\n",
            "************Value_counts**************\n",
            "Business Entity Type 3    67989\n",
            "XNA                       55368\n",
            "Self-employed             38411\n",
            "Other                     16683\n",
            "Medicine                  11192\n",
            "Business Entity Type 2    10553\n",
            "Government                10404\n",
            "School                     8892\n",
            "Trade: type 7              7831\n",
            "Kindergarten               6880\n",
            "Construction               6719\n",
            "Business Entity Type 1     5983\n",
            "Transport: type 4          5397\n",
            "Trade: type 3              3492\n",
            "Industry: type 9           3368\n",
            "Industry: type 3           3278\n",
            "Security                   3247\n",
            "Housing                    2958\n",
            "Industry: type 11          2704\n",
            "Military                   2633\n",
            "Bank                       2507\n",
            "Agriculture                2454\n",
            "Police                     2341\n",
            "Transport: type 2          2204\n",
            "Postal                     2157\n",
            "Security Ministries        1974\n",
            "Trade: type 2              1900\n",
            "Restaurant                 1811\n",
            "Services                   1575\n",
            "University                 1327\n",
            "Industry: type 7           1307\n",
            "Transport: type 3          1187\n",
            "Industry: type 1           1039\n",
            "Hotel                       966\n",
            "Electricity                 950\n",
            "Industry: type 4            877\n",
            "Trade: type 6               631\n",
            "Industry: type 5            599\n",
            "Insurance                   597\n",
            "Telecom                     577\n",
            "Emergency                   560\n",
            "Industry: type 2            458\n",
            "Advertising                 429\n",
            "Realtor                     396\n",
            "Culture                     379\n",
            "Industry: type 12           369\n",
            "Trade: type 1               348\n",
            "Mobile                      317\n",
            "Legal Services              305\n",
            "Cleaning                    260\n",
            "Transport: type 1           201\n",
            "Industry: type 6            112\n",
            "Industry: type 10           109\n",
            "Religion                     85\n",
            "Industry: type 13            67\n",
            "Trade: type 4                64\n",
            "Trade: type 5                49\n",
            "Industry: type 8             24\n",
            "Name: ORGANIZATION_TYPE, dtype: int64\n",
            "*********************************\n",
            "************anova**************\n",
            "                            df      ...               PR(>F)\n",
            "C(ORGANIZATION_TYPE)      57.0      ...        6.118533e-300\n",
            "Residual              307436.0      ...                  NaN\n",
            "\n",
            "[2 rows x 5 columns]\n"
          ],
          "name": "stdout"
        }
      ]
    },
    {
      "cell_type": "markdown",
      "metadata": {
        "id": "tBpJ6gdb-EE9",
        "colab_type": "text"
      },
      "source": [
        "### 1-1-6. Docs"
      ]
    },
    {
      "cell_type": "code",
      "metadata": {
        "trusted": true,
        "id": "N0fyhhJs-EE9",
        "colab_type": "code",
        "colab": {}
      },
      "source": [
        "docs = [f for f in train.columns if 'FLAG_DOC' in f]"
      ],
      "execution_count": 0,
      "outputs": []
    },
    {
      "cell_type": "code",
      "metadata": {
        "trusted": true,
        "id": "pSM3_vGZ-EE_",
        "colab_type": "code",
        "colab": {},
        "outputId": "94d1fd46-d30e-4756-ec4b-47eadd544d83"
      },
      "source": [
        "for doc in docs:\n",
        "    print(train.groupby(doc)[['TARGET']].mean())"
      ],
      "execution_count": 0,
      "outputs": [
        {
          "output_type": "stream",
          "text": [
            "                   TARGET\n",
            "FLAG_DOCUMENT_2          \n",
            "0                0.080717\n",
            "1                0.307692\n",
            "                   TARGET\n",
            "FLAG_DOCUMENT_3          \n",
            "0                0.061819\n",
            "1                0.088449\n",
            "                   TARGET\n",
            "FLAG_DOCUMENT_4          \n",
            "0                0.080733\n",
            "1                0.000000\n",
            "                   TARGET\n",
            "FLAG_DOCUMENT_5          \n",
            "0                0.080737\n",
            "1                0.080034\n",
            "                   TARGET\n",
            "FLAG_DOCUMENT_6          \n",
            "0                0.083148\n",
            "1                0.055656\n",
            "                   TARGET\n",
            "FLAG_DOCUMENT_7          \n",
            "0                0.080733\n",
            "1                0.050847\n",
            "                   TARGET\n",
            "FLAG_DOCUMENT_8          \n",
            "0                0.081378\n",
            "1                0.073375\n",
            "                   TARGET\n",
            "FLAG_DOCUMENT_9          \n",
            "0                0.080801\n",
            "1                0.061821\n",
            "                    TARGET\n",
            "FLAG_DOCUMENT_10          \n",
            "0                 0.080729\n",
            "1                 0.000000\n",
            "                    TARGET\n",
            "FLAG_DOCUMENT_11          \n",
            "0                 0.080799\n",
            "1                 0.062344\n",
            "                    TARGET\n",
            "FLAG_DOCUMENT_12          \n",
            "0                 0.080727\n",
            "1                 0.000000\n",
            "                    TARGET\n",
            "FLAG_DOCUMENT_13          \n",
            "0                 0.080914\n",
            "1                 0.027675\n",
            "                    TARGET\n",
            "FLAG_DOCUMENT_14          \n",
            "0                 0.080867\n",
            "1                 0.033223\n",
            "                    TARGET\n",
            "FLAG_DOCUMENT_15          \n",
            "0                 0.080789\n",
            "1                 0.029570\n",
            "                    TARGET\n",
            "FLAG_DOCUMENT_16          \n",
            "0                 0.081044\n",
            "1                 0.049132\n",
            "                    TARGET\n",
            "FLAG_DOCUMENT_17          \n",
            "0                 0.080742\n",
            "1                 0.024390\n",
            "                    TARGET\n",
            "FLAG_DOCUMENT_18          \n",
            "0                 0.080923\n",
            "1                 0.056800\n",
            "                    TARGET\n",
            "FLAG_DOCUMENT_19          \n",
            "0                 0.080736\n",
            "1                 0.065574\n",
            "                    TARGET\n",
            "FLAG_DOCUMENT_20          \n",
            "0                 0.080725\n",
            "1                 0.083333\n",
            "                    TARGET\n",
            "FLAG_DOCUMENT_21          \n",
            "0                 0.080708\n",
            "1                 0.135922\n"
          ],
          "name": "stdout"
        }
      ]
    },
    {
      "cell_type": "code",
      "metadata": {
        "trusted": true,
        "id": "9Ep7vFJT-EFC",
        "colab_type": "code",
        "colab": {},
        "outputId": "403e05ef-bea7-4a33-c92f-4511ff689dfe"
      },
      "source": [
        "train['DOCUMENT_COUNT'] = train[docs].sum(axis=1)\n",
        "train['DOCUMENT_COUNT'].describe()"
      ],
      "execution_count": 0,
      "outputs": [
        {
          "output_type": "stream",
          "text": [
            "/opt/conda/lib/python3.6/site-packages/ipykernel_launcher.py:1: SettingWithCopyWarning: \n",
            "A value is trying to be set on a copy of a slice from a DataFrame.\n",
            "Try using .loc[row_indexer,col_indexer] = value instead\n",
            "\n",
            "See the caveats in the documentation: http://pandas.pydata.org/pandas-docs/stable/indexing.html#indexing-view-versus-copy\n",
            "  \"\"\"Entry point for launching an IPython kernel.\n"
          ],
          "name": "stderr"
        },
        {
          "output_type": "execute_result",
          "data": {
            "text/plain": [
              "count    307494.000000\n",
              "mean          0.930161\n",
              "std           0.344292\n",
              "min           0.000000\n",
              "25%           1.000000\n",
              "50%           1.000000\n",
              "75%           1.000000\n",
              "max           4.000000\n",
              "Name: DOCUMENT_COUNT, dtype: float64"
            ]
          },
          "metadata": {
            "tags": []
          },
          "execution_count": 142
        }
      ]
    },
    {
      "cell_type": "code",
      "metadata": {
        "trusted": true,
        "id": "0PHONZSO-EFE",
        "colab_type": "code",
        "colab": {},
        "outputId": "8faada27-2bfd-4b39-8d61-bde9b2aa4268"
      },
      "source": [
        "train.groupby('DOCUMENT_COUNT')[['TARGET']].mean()"
      ],
      "execution_count": 0,
      "outputs": [
        {
          "output_type": "execute_result",
          "data": {
            "text/plain": [
              "                  TARGET\n",
              "DOCUMENT_COUNT          \n",
              "0               0.055202\n",
              "1               0.084491\n",
              "2               0.046370\n",
              "3               0.098160\n",
              "4               1.000000"
            ],
            "text/html": [
              "<div>\n",
              "<style scoped>\n",
              "    .dataframe tbody tr th:only-of-type {\n",
              "        vertical-align: middle;\n",
              "    }\n",
              "\n",
              "    .dataframe tbody tr th {\n",
              "        vertical-align: top;\n",
              "    }\n",
              "\n",
              "    .dataframe thead th {\n",
              "        text-align: right;\n",
              "    }\n",
              "</style>\n",
              "<table border=\"1\" class=\"dataframe\">\n",
              "  <thead>\n",
              "    <tr style=\"text-align: right;\">\n",
              "      <th></th>\n",
              "      <th>TARGET</th>\n",
              "    </tr>\n",
              "    <tr>\n",
              "      <th>DOCUMENT_COUNT</th>\n",
              "      <th></th>\n",
              "    </tr>\n",
              "  </thead>\n",
              "  <tbody>\n",
              "    <tr>\n",
              "      <th>0</th>\n",
              "      <td>0.055202</td>\n",
              "    </tr>\n",
              "    <tr>\n",
              "      <th>1</th>\n",
              "      <td>0.084491</td>\n",
              "    </tr>\n",
              "    <tr>\n",
              "      <th>2</th>\n",
              "      <td>0.046370</td>\n",
              "    </tr>\n",
              "    <tr>\n",
              "      <th>3</th>\n",
              "      <td>0.098160</td>\n",
              "    </tr>\n",
              "    <tr>\n",
              "      <th>4</th>\n",
              "      <td>1.000000</td>\n",
              "    </tr>\n",
              "  </tbody>\n",
              "</table>\n",
              "</div>"
            ]
          },
          "metadata": {
            "tags": []
          },
          "execution_count": 143
        }
      ]
    },
    {
      "cell_type": "code",
      "metadata": {
        "trusted": true,
        "id": "OSqFZXN8-EFI",
        "colab_type": "code",
        "colab": {},
        "outputId": "0dd87199-e0fe-4ade-96e2-3035477006fe"
      },
      "source": [
        "train.groupby('DOCUMENT_COUNT')[['TARGET']].count()"
      ],
      "execution_count": 0,
      "outputs": [
        {
          "output_type": "execute_result",
          "data": {
            "text/plain": [
              "                TARGET\n",
              "DOCUMENT_COUNT        \n",
              "0                29546\n",
              "1               270042\n",
              "2                 7742\n",
              "3                  163\n",
              "4                    1"
            ],
            "text/html": [
              "<div>\n",
              "<style scoped>\n",
              "    .dataframe tbody tr th:only-of-type {\n",
              "        vertical-align: middle;\n",
              "    }\n",
              "\n",
              "    .dataframe tbody tr th {\n",
              "        vertical-align: top;\n",
              "    }\n",
              "\n",
              "    .dataframe thead th {\n",
              "        text-align: right;\n",
              "    }\n",
              "</style>\n",
              "<table border=\"1\" class=\"dataframe\">\n",
              "  <thead>\n",
              "    <tr style=\"text-align: right;\">\n",
              "      <th></th>\n",
              "      <th>TARGET</th>\n",
              "    </tr>\n",
              "    <tr>\n",
              "      <th>DOCUMENT_COUNT</th>\n",
              "      <th></th>\n",
              "    </tr>\n",
              "  </thead>\n",
              "  <tbody>\n",
              "    <tr>\n",
              "      <th>0</th>\n",
              "      <td>29546</td>\n",
              "    </tr>\n",
              "    <tr>\n",
              "      <th>1</th>\n",
              "      <td>270042</td>\n",
              "    </tr>\n",
              "    <tr>\n",
              "      <th>2</th>\n",
              "      <td>7742</td>\n",
              "    </tr>\n",
              "    <tr>\n",
              "      <th>3</th>\n",
              "      <td>163</td>\n",
              "    </tr>\n",
              "    <tr>\n",
              "      <th>4</th>\n",
              "      <td>1</td>\n",
              "    </tr>\n",
              "  </tbody>\n",
              "</table>\n",
              "</div>"
            ]
          },
          "metadata": {
            "tags": []
          },
          "execution_count": 144
        }
      ]
    },
    {
      "cell_type": "markdown",
      "metadata": {
        "id": "Ms0mNw-A-EFL",
        "colab_type": "text"
      },
      "source": [
        "### 1-1-7. DAYS_BIRTH"
      ]
    },
    {
      "cell_type": "code",
      "metadata": {
        "trusted": true,
        "id": "6kMuCxXr-EFL",
        "colab_type": "code",
        "colab": {},
        "outputId": "0db90156-5c15-456a-c942-0d502f358615"
      },
      "source": [
        "train['DAYS_BIRTH'] = train['DAYS_BIRTH'].apply(lambda x: -x / 365)\n",
        "sns.distplot(train['DAYS_BIRTH'])"
      ],
      "execution_count": 0,
      "outputs": [
        {
          "output_type": "stream",
          "text": [
            "/opt/conda/lib/python3.6/site-packages/ipykernel_launcher.py:1: SettingWithCopyWarning: \n",
            "A value is trying to be set on a copy of a slice from a DataFrame.\n",
            "Try using .loc[row_indexer,col_indexer] = value instead\n",
            "\n",
            "See the caveats in the documentation: http://pandas.pydata.org/pandas-docs/stable/indexing.html#indexing-view-versus-copy\n",
            "  \"\"\"Entry point for launching an IPython kernel.\n"
          ],
          "name": "stderr"
        },
        {
          "output_type": "execute_result",
          "data": {
            "text/plain": [
              "<matplotlib.axes._subplots.AxesSubplot at 0x7f2ff0cbb588>"
            ]
          },
          "metadata": {
            "tags": []
          },
          "execution_count": 146
        },
        {
          "output_type": "display_data",
          "data": {
            "text/plain": [
              "<Figure size 432x288 with 1 Axes>"
            ],
            "image/png": "[encoded data removed]"
          },
          "metadata": {
            "tags": []
          }
        }
      ]
    },
    {
      "cell_type": "code",
      "metadata": {
        "trusted": true,
        "id": "VQ6oijTW-EFP",
        "colab_type": "code",
        "colab": {},
        "outputId": "5b4bf697-a800-4a22-cd23-7a5937f44621"
      },
      "source": [
        "train['DAYS_BIRTH'].describe()"
      ],
      "execution_count": 0,
      "outputs": [
        {
          "output_type": "execute_result",
          "data": {
            "text/plain": [
              "count    307494.000000\n",
              "mean         43.936700\n",
              "std          11.956231\n",
              "min          20.517808\n",
              "25%          34.008219\n",
              "50%          43.150685\n",
              "75%          53.922603\n",
              "max          69.120548\n",
              "Name: DAYS_BIRTH, dtype: float64"
            ]
          },
          "metadata": {
            "tags": []
          },
          "execution_count": 147
        }
      ]
    },
    {
      "cell_type": "code",
      "metadata": {
        "trusted": true,
        "id": "HR5WD4rZ-EFS",
        "colab_type": "code",
        "colab": {},
        "outputId": "5bb24138-cd20-4a98-d4ab-ccdd8419a9fa"
      },
      "source": [
        "def get_age_label(age):\n",
        "    \"\"\" Return the age group label (int). \"\"\"\n",
        "    if age < 27: return 1\n",
        "    elif age < 40: return 2\n",
        "    elif age < 50: return 3\n",
        "    elif age < 65: return 4\n",
        "    elif age < 99: return 5\n",
        "    else: return 0\n",
        "train['AGE_RANGE'] = train['DAYS_BIRTH'].apply(lambda x: get_age_label(x))"
      ],
      "execution_count": 0,
      "outputs": [
        {
          "output_type": "stream",
          "text": [
            "/opt/conda/lib/python3.6/site-packages/ipykernel_launcher.py:9: SettingWithCopyWarning: \n",
            "A value is trying to be set on a copy of a slice from a DataFrame.\n",
            "Try using .loc[row_indexer,col_indexer] = value instead\n",
            "\n",
            "See the caveats in the documentation: http://pandas.pydata.org/pandas-docs/stable/indexing.html#indexing-view-versus-copy\n",
            "  if __name__ == '__main__':\n"
          ],
          "name": "stderr"
        }
      ]
    },
    {
      "cell_type": "code",
      "metadata": {
        "trusted": true,
        "id": "g8rpCL3b-EFV",
        "colab_type": "code",
        "colab": {},
        "outputId": "1603a8b0-bc27-4804-f831-c562f648f926"
      },
      "source": [
        "sns.barplot(x='AGE_RANGE',y='TARGET',data=train)"
      ],
      "execution_count": 0,
      "outputs": [
        {
          "output_type": "execute_result",
          "data": {
            "text/plain": [
              "<matplotlib.axes._subplots.AxesSubplot at 0x7f2feffcbda0>"
            ]
          },
          "metadata": {
            "tags": []
          },
          "execution_count": 149
        },
        {
          "output_type": "display_data",
          "data": {
            "text/plain": [
              "<Figure size 432x288 with 1 Axes>"
            ],
            "image/png": "[encoded data removed]"
          },
          "metadata": {
            "tags": []
          }
        }
      ]
    },
    {
      "cell_type": "code",
      "metadata": {
        "trusted": true,
        "id": "9rl_WXb9-EFY",
        "colab_type": "code",
        "colab": {},
        "outputId": "d7aef5d4-0f8d-4a21-b468-1203a2597ad7"
      },
      "source": [
        "anova('AGE_RANGE','TARGET',train)"
      ],
      "execution_count": 0,
      "outputs": [
        {
          "output_type": "stream",
          "text": [
            "************Variance**************\n",
            "             TARGET\n",
            "AGE_RANGE          \n",
            "1          0.101445\n",
            "2          0.090041\n",
            "3          0.070701\n",
            "4          0.055384\n",
            "5          0.035805\n",
            "*********************************\n",
            "************Value_counts**************\n",
            "2    106417\n",
            "4     95537\n",
            "3     76539\n",
            "1     20879\n",
            "5      8122\n",
            "Name: AGE_RANGE, dtype: int64\n",
            "*********************************\n",
            "************anova**************\n",
            "                    df        sum_sq    mean_sq           F  PR(>F)\n",
            "C(AGE_RANGE)       4.0    126.106769  31.526692  427.184849     0.0\n",
            "Residual      307489.0  22693.012410   0.073801         NaN     NaN\n"
          ],
          "name": "stdout"
        }
      ]
    },
    {
      "cell_type": "markdown",
      "metadata": {
        "id": "emijJo73-EFa",
        "colab_type": "text"
      },
      "source": [
        "### 1-1-8. DAYS_ID_PUBLISH"
      ]
    },
    {
      "cell_type": "code",
      "metadata": {
        "trusted": true,
        "id": "95cKF6Aq-EFa",
        "colab_type": "code",
        "colab": {},
        "outputId": "b9514d76-107a-44e0-e778-60c68ef692d4"
      },
      "source": [
        "train['DAYS_ID_PUBLISH'] = train['DAYS_ID_PUBLISH'].apply(lambda x: -x)\n",
        "sns.distplot(train['DAYS_ID_PUBLISH'])"
      ],
      "execution_count": 0,
      "outputs": [
        {
          "output_type": "stream",
          "text": [
            "/opt/conda/lib/python3.6/site-packages/ipykernel_launcher.py:1: SettingWithCopyWarning: \n",
            "A value is trying to be set on a copy of a slice from a DataFrame.\n",
            "Try using .loc[row_indexer,col_indexer] = value instead\n",
            "\n",
            "See the caveats in the documentation: http://pandas.pydata.org/pandas-docs/stable/indexing.html#indexing-view-versus-copy\n",
            "  \"\"\"Entry point for launching an IPython kernel.\n"
          ],
          "name": "stderr"
        },
        {
          "output_type": "execute_result",
          "data": {
            "text/plain": [
              "<matplotlib.axes._subplots.AxesSubplot at 0x7f2feff368d0>"
            ]
          },
          "metadata": {
            "tags": []
          },
          "execution_count": 151
        },
        {
          "output_type": "display_data",
          "data": {
            "text/plain": [
              "<Figure size 432x288 with 1 Axes>"
            ],
            "image/png": "[encoded data removed]"
          },
          "metadata": {
            "tags": []
          }
        }
      ]
    },
    {
      "cell_type": "code",
      "metadata": {
        "trusted": true,
        "id": "tSmS_jzz-EFd",
        "colab_type": "code",
        "colab": {},
        "outputId": "be18f1ce-e84c-4da1-c96e-789ec90d703f"
      },
      "source": [
        "train['DAYS_ID_PUBLISH'].describe()"
      ],
      "execution_count": 0,
      "outputs": [
        {
          "output_type": "execute_result",
          "data": {
            "text/plain": [
              "count    307494.000000\n",
              "mean       2994.181428\n",
              "std        1509.453403\n",
              "min           0.000000\n",
              "25%        1720.000000\n",
              "50%        3254.000000\n",
              "75%        4299.000000\n",
              "max        7197.000000\n",
              "Name: DAYS_ID_PUBLISH, dtype: float64"
            ]
          },
          "metadata": {
            "tags": []
          },
          "execution_count": 152
        }
      ]
    },
    {
      "cell_type": "code",
      "metadata": {
        "trusted": true,
        "id": "1qyRtR1j-EFg",
        "colab_type": "code",
        "colab": {}
      },
      "source": [
        "def make_bins1(data,col,num_bins):\n",
        "    \n",
        "    New_col1=col+'_binned'\n",
        "    data[New_col1] = pd.cut(data[col], num_bins)\n",
        "    return data[New_col1]"
      ],
      "execution_count": 0,
      "outputs": []
    },
    {
      "cell_type": "code",
      "metadata": {
        "trusted": true,
        "id": "7U_28yGC-EFj",
        "colab_type": "code",
        "colab": {},
        "outputId": "fcc6e95b-2965-4d79-a5ac-bf4d28b1554a"
      },
      "source": [
        "train['DAYS_ID_PUBLISH_binned']=make_bins1(train,'DAYS_ID_PUBLISH',7)"
      ],
      "execution_count": 0,
      "outputs": [
        {
          "output_type": "stream",
          "text": [
            "/opt/conda/lib/python3.6/site-packages/ipykernel_launcher.py:4: SettingWithCopyWarning: \n",
            "A value is trying to be set on a copy of a slice from a DataFrame.\n",
            "Try using .loc[row_indexer,col_indexer] = value instead\n",
            "\n",
            "See the caveats in the documentation: http://pandas.pydata.org/pandas-docs/stable/indexing.html#indexing-view-versus-copy\n",
            "  after removing the cwd from sys.path.\n",
            "/opt/conda/lib/python3.6/site-packages/ipykernel_launcher.py:1: SettingWithCopyWarning: \n",
            "A value is trying to be set on a copy of a slice from a DataFrame.\n",
            "Try using .loc[row_indexer,col_indexer] = value instead\n",
            "\n",
            "See the caveats in the documentation: http://pandas.pydata.org/pandas-docs/stable/indexing.html#indexing-view-versus-copy\n",
            "  \"\"\"Entry point for launching an IPython kernel.\n"
          ],
          "name": "stderr"
        }
      ]
    },
    {
      "cell_type": "code",
      "metadata": {
        "trusted": true,
        "id": "y9CQn-rG-EFm",
        "colab_type": "code",
        "colab": {},
        "outputId": "5e1f1a90-8b00-495f-ea4f-44e8570fdc5c"
      },
      "source": [
        "fig,ax=plt.subplots(1,1,figsize=(15,10))\n",
        "sns.barplot(x='DAYS_ID_PUBLISH_binned',y='TARGET',data=train,ax=ax)"
      ],
      "execution_count": 0,
      "outputs": [
        {
          "output_type": "execute_result",
          "data": {
            "text/plain": [
              "<matplotlib.axes._subplots.AxesSubplot at 0x7f2fefe4f7b8>"
            ]
          },
          "metadata": {
            "tags": []
          },
          "execution_count": 156
        },
        {
          "output_type": "display_data",
          "data": {
            "text/plain": [
              "<Figure size 1080x720 with 1 Axes>"
            ],
            "image/png": "[encoded data removed]"
          },
          "metadata": {
            "tags": []
          }
        }
      ]
    },
    {
      "cell_type": "code",
      "metadata": {
        "trusted": true,
        "id": "1n_oSiyb-EFo",
        "colab_type": "code",
        "colab": {},
        "outputId": "81a2caff-f742-4d4d-fee0-45c6cad4933c"
      },
      "source": [
        "train[['DAYS_ID_PUBLISH','DAYS_REGISTRATION']].corr()"
      ],
      "execution_count": 0,
      "outputs": [
        {
          "output_type": "execute_result",
          "data": {
            "text/plain": [
              "                   DAYS_ID_PUBLISH  DAYS_REGISTRATION\n",
              "DAYS_ID_PUBLISH           1.000000          -0.101926\n",
              "DAYS_REGISTRATION        -0.101926           1.000000"
            ],
            "text/html": [
              "<div>\n",
              "<style scoped>\n",
              "    .dataframe tbody tr th:only-of-type {\n",
              "        vertical-align: middle;\n",
              "    }\n",
              "\n",
              "    .dataframe tbody tr th {\n",
              "        vertical-align: top;\n",
              "    }\n",
              "\n",
              "    .dataframe thead th {\n",
              "        text-align: right;\n",
              "    }\n",
              "</style>\n",
              "<table border=\"1\" class=\"dataframe\">\n",
              "  <thead>\n",
              "    <tr style=\"text-align: right;\">\n",
              "      <th></th>\n",
              "      <th>DAYS_ID_PUBLISH</th>\n",
              "      <th>DAYS_REGISTRATION</th>\n",
              "    </tr>\n",
              "  </thead>\n",
              "  <tbody>\n",
              "    <tr>\n",
              "      <th>DAYS_ID_PUBLISH</th>\n",
              "      <td>1.000000</td>\n",
              "      <td>-0.101926</td>\n",
              "    </tr>\n",
              "    <tr>\n",
              "      <th>DAYS_REGISTRATION</th>\n",
              "      <td>-0.101926</td>\n",
              "      <td>1.000000</td>\n",
              "    </tr>\n",
              "  </tbody>\n",
              "</table>\n",
              "</div>"
            ]
          },
          "metadata": {
            "tags": []
          },
          "execution_count": 157
        }
      ]
    },
    {
      "cell_type": "markdown",
      "metadata": {
        "id": "4yuavQse-EFq",
        "colab_type": "text"
      },
      "source": [
        "### 1-1-9. DAYS_REGISTRATION"
      ]
    },
    {
      "cell_type": "code",
      "metadata": {
        "trusted": true,
        "id": "h0lh8ec_-EFr",
        "colab_type": "code",
        "colab": {},
        "outputId": "dde01ac1-bec9-4add-8da6-e60547238187"
      },
      "source": [
        "train['DAYS_REGISTRATION_binned']=make_bins1(train,'DAYS_REGISTRATION',8)\n",
        "fig,ax=plt.subplots(1,1,figsize=(15,10))\n",
        "sns.barplot(x='DAYS_REGISTRATION_binned',y='TARGET',data=train,ax=ax)"
      ],
      "execution_count": 0,
      "outputs": [
        {
          "output_type": "stream",
          "text": [
            "/opt/conda/lib/python3.6/site-packages/ipykernel_launcher.py:4: SettingWithCopyWarning: \n",
            "A value is trying to be set on a copy of a slice from a DataFrame.\n",
            "Try using .loc[row_indexer,col_indexer] = value instead\n",
            "\n",
            "See the caveats in the documentation: http://pandas.pydata.org/pandas-docs/stable/indexing.html#indexing-view-versus-copy\n",
            "  after removing the cwd from sys.path.\n",
            "/opt/conda/lib/python3.6/site-packages/ipykernel_launcher.py:1: SettingWithCopyWarning: \n",
            "A value is trying to be set on a copy of a slice from a DataFrame.\n",
            "Try using .loc[row_indexer,col_indexer] = value instead\n",
            "\n",
            "See the caveats in the documentation: http://pandas.pydata.org/pandas-docs/stable/indexing.html#indexing-view-versus-copy\n",
            "  \"\"\"Entry point for launching an IPython kernel.\n"
          ],
          "name": "stderr"
        },
        {
          "output_type": "execute_result",
          "data": {
            "text/plain": [
              "<matplotlib.axes._subplots.AxesSubplot at 0x7f2fefe2a208>"
            ]
          },
          "metadata": {
            "tags": []
          },
          "execution_count": 158
        },
        {
          "output_type": "display_data",
          "data": {
            "text/plain": [
              "<Figure size 1080x720 with 1 Axes>"
            ],
            "image/png": "[encoded data removed]"
          },
          "metadata": {
            "tags": []
          }
        }
      ]
    },
    {
      "cell_type": "markdown",
      "metadata": {
        "id": "9H23rJxi-EFs",
        "colab_type": "text"
      },
      "source": [
        "### 1-1-10. NAME_CONTRACT_TYPE"
      ]
    },
    {
      "cell_type": "code",
      "metadata": {
        "trusted": true,
        "id": "jiPJTbMu-EFt",
        "colab_type": "code",
        "colab": {},
        "outputId": "e4e30e91-41e2-4573-880f-5cbdf26dcc5f"
      },
      "source": [
        "train.NAME_CONTRACT_TYPE.value_counts()"
      ],
      "execution_count": 0,
      "outputs": [
        {
          "output_type": "execute_result",
          "data": {
            "text/plain": [
              "Cash loans         278216\n",
              "Revolving loans     29278\n",
              "Name: NAME_CONTRACT_TYPE, dtype: int64"
            ]
          },
          "metadata": {
            "tags": []
          },
          "execution_count": 159
        }
      ]
    },
    {
      "cell_type": "code",
      "metadata": {
        "trusted": true,
        "id": "ziQhNuff-EFu",
        "colab_type": "code",
        "colab": {},
        "outputId": "1e174e6d-1c4f-400b-d9df-0caac19c6dd7"
      },
      "source": [
        "train[['NAME_CONTRACT_TYPE','TARGET']].groupby('NAME_CONTRACT_TYPE').mean()"
      ],
      "execution_count": 0,
      "outputs": [
        {
          "output_type": "execute_result",
          "data": {
            "text/plain": [
              "                      TARGET\n",
              "NAME_CONTRACT_TYPE          \n",
              "Cash loans          0.083457\n",
              "Revolving loans     0.054785"
            ],
            "text/html": [
              "<div>\n",
              "<style scoped>\n",
              "    .dataframe tbody tr th:only-of-type {\n",
              "        vertical-align: middle;\n",
              "    }\n",
              "\n",
              "    .dataframe tbody tr th {\n",
              "        vertical-align: top;\n",
              "    }\n",
              "\n",
              "    .dataframe thead th {\n",
              "        text-align: right;\n",
              "    }\n",
              "</style>\n",
              "<table border=\"1\" class=\"dataframe\">\n",
              "  <thead>\n",
              "    <tr style=\"text-align: right;\">\n",
              "      <th></th>\n",
              "      <th>TARGET</th>\n",
              "    </tr>\n",
              "    <tr>\n",
              "      <th>NAME_CONTRACT_TYPE</th>\n",
              "      <th></th>\n",
              "    </tr>\n",
              "  </thead>\n",
              "  <tbody>\n",
              "    <tr>\n",
              "      <th>Cash loans</th>\n",
              "      <td>0.083457</td>\n",
              "    </tr>\n",
              "    <tr>\n",
              "      <th>Revolving loans</th>\n",
              "      <td>0.054785</td>\n",
              "    </tr>\n",
              "  </tbody>\n",
              "</table>\n",
              "</div>"
            ]
          },
          "metadata": {
            "tags": []
          },
          "execution_count": 160
        }
      ]
    },
    {
      "cell_type": "code",
      "metadata": {
        "trusted": true,
        "id": "4YJTMlpg-EFw",
        "colab_type": "code",
        "colab": {},
        "outputId": "fb75cbc3-6ce7-4fcf-d704-74ce9a77499a"
      },
      "source": [
        "anova('NAME_CONTRACT_TYPE','TARGET',train)"
      ],
      "execution_count": 0,
      "outputs": [
        {
          "output_type": "stream",
          "text": [
            "************Variance**************\n",
            "                      TARGET\n",
            "NAME_CONTRACT_TYPE          \n",
            "Cash loans          0.076492\n",
            "Revolving loans     0.051786\n",
            "*********************************\n",
            "************Value_counts**************\n",
            "Cash loans         278216\n",
            "Revolving loans     29278\n",
            "Name: NAME_CONTRACT_TYPE, dtype: int64\n",
            "*********************************\n",
            "************anova**************\n",
            "                             df      ...             PR(>F)\n",
            "C(NAME_CONTRACT_TYPE)       1.0      ...       8.237143e-66\n",
            "Residual               307492.0      ...                NaN\n",
            "\n",
            "[2 rows x 5 columns]\n"
          ],
          "name": "stdout"
        }
      ]
    },
    {
      "cell_type": "markdown",
      "metadata": {
        "id": "lDL8zdyU-EFz",
        "colab_type": "text"
      },
      "source": [
        "## 1-1-11 family"
      ]
    },
    {
      "cell_type": "code",
      "metadata": {
        "trusted": true,
        "id": "syXAYJOo-EF0",
        "colab_type": "code",
        "colab": {},
        "outputId": "0d7cfe9f-0764-4497-d59e-f4839be4116d"
      },
      "source": [
        "sns.barplot(x='CNT_CHILDREN',y='TARGET',data=train)"
      ],
      "execution_count": 0,
      "outputs": [
        {
          "output_type": "execute_result",
          "data": {
            "text/plain": [
              "<matplotlib.axes._subplots.AxesSubplot at 0x7f2fefba5588>"
            ]
          },
          "metadata": {
            "tags": []
          },
          "execution_count": 164
        },
        {
          "output_type": "display_data",
          "data": {
            "text/plain": [
              "<Figure size 432x288 with 1 Axes>"
            ],
            "image/png": "[encoded data removed]"
          },
          "metadata": {
            "tags": []
          }
        }
      ]
    },
    {
      "cell_type": "code",
      "metadata": {
        "trusted": true,
        "id": "fqNAw17L-EF1",
        "colab_type": "code",
        "colab": {},
        "outputId": "abf73ef4-7f4c-4e3b-eb2c-21549af5fdb7"
      },
      "source": [
        "sns.barplot(x='CNT_FAM_MEMBERS',y='TARGET',data=train)"
      ],
      "execution_count": 0,
      "outputs": [
        {
          "output_type": "execute_result",
          "data": {
            "text/plain": [
              "<matplotlib.axes._subplots.AxesSubplot at 0x7f2fefa793c8>"
            ]
          },
          "metadata": {
            "tags": []
          },
          "execution_count": 165
        },
        {
          "output_type": "display_data",
          "data": {
            "text/plain": [
              "<Figure size 432x288 with 1 Axes>"
            ],
            "image/png": "[encoded data removed]"
          },
          "metadata": {
            "tags": []
          }
        }
      ]
    },
    {
      "cell_type": "code",
      "metadata": {
        "trusted": true,
        "id": "C_qfvb4L-EF3",
        "colab_type": "code",
        "colab": {},
        "outputId": "2bd3c3a7-a0b1-4019-9f7f-d0606c2912a5"
      },
      "source": [
        "train[['CNT_CHILDREN','CNT_FAM_MEMBERS']].corr()"
      ],
      "execution_count": 0,
      "outputs": [
        {
          "output_type": "execute_result",
          "data": {
            "text/plain": [
              "                 CNT_CHILDREN  CNT_FAM_MEMBERS\n",
              "CNT_CHILDREN         1.000000         0.879161\n",
              "CNT_FAM_MEMBERS      0.879161         1.000000"
            ],
            "text/html": [
              "<div>\n",
              "<style scoped>\n",
              "    .dataframe tbody tr th:only-of-type {\n",
              "        vertical-align: middle;\n",
              "    }\n",
              "\n",
              "    .dataframe tbody tr th {\n",
              "        vertical-align: top;\n",
              "    }\n",
              "\n",
              "    .dataframe thead th {\n",
              "        text-align: right;\n",
              "    }\n",
              "</style>\n",
              "<table border=\"1\" class=\"dataframe\">\n",
              "  <thead>\n",
              "    <tr style=\"text-align: right;\">\n",
              "      <th></th>\n",
              "      <th>CNT_CHILDREN</th>\n",
              "      <th>CNT_FAM_MEMBERS</th>\n",
              "    </tr>\n",
              "  </thead>\n",
              "  <tbody>\n",
              "    <tr>\n",
              "      <th>CNT_CHILDREN</th>\n",
              "      <td>1.000000</td>\n",
              "      <td>0.879161</td>\n",
              "    </tr>\n",
              "    <tr>\n",
              "      <th>CNT_FAM_MEMBERS</th>\n",
              "      <td>0.879161</td>\n",
              "      <td>1.000000</td>\n",
              "    </tr>\n",
              "  </tbody>\n",
              "</table>\n",
              "</div>"
            ]
          },
          "metadata": {
            "tags": []
          },
          "execution_count": 166
        }
      ]
    },
    {
      "cell_type": "code",
      "metadata": {
        "trusted": true,
        "id": "VUAEG6GG-EF5",
        "colab_type": "code",
        "colab": {}
      },
      "source": [
        "del train['CNT_CHILDREN'],test['CNT_CHILDREN']"
      ],
      "execution_count": 0,
      "outputs": []
    },
    {
      "cell_type": "markdown",
      "metadata": {
        "id": "0Nsixy4C-EF7",
        "colab_type": "text"
      },
      "source": [
        "### 1-1-12. Estate"
      ]
    },
    {
      "cell_type": "code",
      "metadata": {
        "trusted": true,
        "id": "fhFj6oei-EF8",
        "colab_type": "code",
        "colab": {}
      },
      "source": [
        "asset_lst=['FLAG_OWN_CAR','FLAG_OWN_REALTY','REGION_RATING_CLIENT','REGION_RATING_CLIENT_W_CITY']"
      ],
      "execution_count": 0,
      "outputs": []
    },
    {
      "cell_type": "code",
      "metadata": {
        "trusted": true,
        "id": "3SfVa1OP-EF9",
        "colab_type": "code",
        "colab": {},
        "outputId": "d5190a8d-afe1-4a27-a072-4fb05a7417d6"
      },
      "source": [
        "train[asset_lst].head(3)"
      ],
      "execution_count": 0,
      "outputs": [
        {
          "output_type": "execute_result",
          "data": {
            "text/plain": [
              "  FLAG_OWN_CAR FLAG_OWN_REALTY  REGION_RATING_CLIENT  \\\n",
              "0            N               Y                     2   \n",
              "1            N               N                     1   \n",
              "2            Y               Y                     2   \n",
              "\n",
              "   REGION_RATING_CLIENT_W_CITY  \n",
              "0                            2  \n",
              "1                            1  \n",
              "2                            2  "
            ],
            "text/html": [
              "<div>\n",
              "<style scoped>\n",
              "    .dataframe tbody tr th:only-of-type {\n",
              "        vertical-align: middle;\n",
              "    }\n",
              "\n",
              "    .dataframe tbody tr th {\n",
              "        vertical-align: top;\n",
              "    }\n",
              "\n",
              "    .dataframe thead th {\n",
              "        text-align: right;\n",
              "    }\n",
              "</style>\n",
              "<table border=\"1\" class=\"dataframe\">\n",
              "  <thead>\n",
              "    <tr style=\"text-align: right;\">\n",
              "      <th></th>\n",
              "      <th>FLAG_OWN_CAR</th>\n",
              "      <th>FLAG_OWN_REALTY</th>\n",
              "      <th>REGION_RATING_CLIENT</th>\n",
              "      <th>REGION_RATING_CLIENT_W_CITY</th>\n",
              "    </tr>\n",
              "  </thead>\n",
              "  <tbody>\n",
              "    <tr>\n",
              "      <th>0</th>\n",
              "      <td>N</td>\n",
              "      <td>Y</td>\n",
              "      <td>2</td>\n",
              "      <td>2</td>\n",
              "    </tr>\n",
              "    <tr>\n",
              "      <th>1</th>\n",
              "      <td>N</td>\n",
              "      <td>N</td>\n",
              "      <td>1</td>\n",
              "      <td>1</td>\n",
              "    </tr>\n",
              "    <tr>\n",
              "      <th>2</th>\n",
              "      <td>Y</td>\n",
              "      <td>Y</td>\n",
              "      <td>2</td>\n",
              "      <td>2</td>\n",
              "    </tr>\n",
              "  </tbody>\n",
              "</table>\n",
              "</div>"
            ]
          },
          "metadata": {
            "tags": []
          },
          "execution_count": 200
        }
      ]
    },
    {
      "cell_type": "code",
      "metadata": {
        "trusted": true,
        "id": "I9uROuMV-EF-",
        "colab_type": "code",
        "colab": {}
      },
      "source": [
        "train['FLAG_OWN_CAR']=train['FLAG_OWN_CAR'].apply(lambda x:0 if x=='N'else 1)\n",
        "train['FLAG_OWN_REALTY']=train['FLAG_OWN_REALTY'].apply(lambda x:0 if x=='N'else 1)"
      ],
      "execution_count": 0,
      "outputs": []
    },
    {
      "cell_type": "code",
      "metadata": {
        "trusted": true,
        "id": "BQexJBe1-EF_",
        "colab_type": "code",
        "colab": {},
        "outputId": "73c4b88c-3778-4249-a894-8a0dc8eed22d"
      },
      "source": [
        "train[asset_lst].corr()"
      ],
      "execution_count": 0,
      "outputs": [
        {
          "output_type": "execute_result",
          "data": {
            "text/plain": [
              "                             FLAG_OWN_CAR  FLAG_OWN_REALTY  \\\n",
              "FLAG_OWN_CAR                     1.000000        -0.002817   \n",
              "FLAG_OWN_REALTY                 -0.002817         1.000000   \n",
              "REGION_RATING_CLIENT            -0.022668         0.001289   \n",
              "REGION_RATING_CLIENT_W_CITY     -0.021405         0.001884   \n",
              "\n",
              "                             REGION_RATING_CLIENT  REGION_RATING_CLIENT_W_CITY  \n",
              "FLAG_OWN_CAR                            -0.022668                    -0.021405  \n",
              "FLAG_OWN_REALTY                          0.001289                     0.001884  \n",
              "REGION_RATING_CLIENT                     1.000000                     0.950842  \n",
              "REGION_RATING_CLIENT_W_CITY              0.950842                     1.000000  "
            ],
            "text/html": [
              "<div>\n",
              "<style scoped>\n",
              "    .dataframe tbody tr th:only-of-type {\n",
              "        vertical-align: middle;\n",
              "    }\n",
              "\n",
              "    .dataframe tbody tr th {\n",
              "        vertical-align: top;\n",
              "    }\n",
              "\n",
              "    .dataframe thead th {\n",
              "        text-align: right;\n",
              "    }\n",
              "</style>\n",
              "<table border=\"1\" class=\"dataframe\">\n",
              "  <thead>\n",
              "    <tr style=\"text-align: right;\">\n",
              "      <th></th>\n",
              "      <th>FLAG_OWN_CAR</th>\n",
              "      <th>FLAG_OWN_REALTY</th>\n",
              "      <th>REGION_RATING_CLIENT</th>\n",
              "      <th>REGION_RATING_CLIENT_W_CITY</th>\n",
              "    </tr>\n",
              "  </thead>\n",
              "  <tbody>\n",
              "    <tr>\n",
              "      <th>FLAG_OWN_CAR</th>\n",
              "      <td>1.000000</td>\n",
              "      <td>-0.002817</td>\n",
              "      <td>-0.022668</td>\n",
              "      <td>-0.021405</td>\n",
              "    </tr>\n",
              "    <tr>\n",
              "      <th>FLAG_OWN_REALTY</th>\n",
              "      <td>-0.002817</td>\n",
              "      <td>1.000000</td>\n",
              "      <td>0.001289</td>\n",
              "      <td>0.001884</td>\n",
              "    </tr>\n",
              "    <tr>\n",
              "      <th>REGION_RATING_CLIENT</th>\n",
              "      <td>-0.022668</td>\n",
              "      <td>0.001289</td>\n",
              "      <td>1.000000</td>\n",
              "      <td>0.950842</td>\n",
              "    </tr>\n",
              "    <tr>\n",
              "      <th>REGION_RATING_CLIENT_W_CITY</th>\n",
              "      <td>-0.021405</td>\n",
              "      <td>0.001884</td>\n",
              "      <td>0.950842</td>\n",
              "      <td>1.000000</td>\n",
              "    </tr>\n",
              "  </tbody>\n",
              "</table>\n",
              "</div>"
            ]
          },
          "metadata": {
            "tags": []
          },
          "execution_count": 202
        }
      ]
    },
    {
      "cell_type": "code",
      "metadata": {
        "trusted": true,
        "id": "CGd_-01_-EGB",
        "colab_type": "code",
        "colab": {}
      },
      "source": [
        "del train['REGION_RATING_CLIENT_W_CITY'],test['REGION_RATING_CLIENT_W_CITY']"
      ],
      "execution_count": 0,
      "outputs": []
    },
    {
      "cell_type": "code",
      "metadata": {
        "trusted": true,
        "id": "Aq8A2mkp-EGC",
        "colab_type": "code",
        "colab": {}
      },
      "source": [
        "train['estate']=train[asset_lst].sum(axis=1)"
      ],
      "execution_count": 0,
      "outputs": []
    },
    {
      "cell_type": "code",
      "metadata": {
        "trusted": true,
        "id": "qaUQq-gk-EGD",
        "colab_type": "code",
        "colab": {},
        "outputId": "03fe3354-2882-4692-cb53-fe443d2df6df"
      },
      "source": [
        "train['estate'].describe()"
      ],
      "execution_count": 0,
      "outputs": [
        {
          "output_type": "execute_result",
          "data": {
            "text/plain": [
              "count    307511.000000\n",
              "mean          5.117765\n",
              "std           1.189355\n",
              "min           2.000000\n",
              "25%           4.000000\n",
              "50%           5.000000\n",
              "75%           6.000000\n",
              "max           8.000000\n",
              "Name: estate, dtype: float64"
            ]
          },
          "metadata": {
            "tags": []
          },
          "execution_count": 208
        }
      ]
    },
    {
      "cell_type": "code",
      "metadata": {
        "trusted": true,
        "id": "tmHbwoSY-EGF",
        "colab_type": "code",
        "colab": {},
        "outputId": "5d61d1df-a58d-4ea2-ace6-0301742614cc"
      },
      "source": [
        "sns.catplot(x='estate',y='TARGET',data=train,kind='bar')"
      ],
      "execution_count": 0,
      "outputs": [
        {
          "output_type": "execute_result",
          "data": {
            "text/plain": [
              "<seaborn.axisgrid.FacetGrid at 0x7f2feb31c940>"
            ]
          },
          "metadata": {
            "tags": []
          },
          "execution_count": 209
        },
        {
          "output_type": "display_data",
          "data": {
            "text/plain": [
              "<Figure size 360x360 with 1 Axes>"
            ],
            "image/png": "[encoded data removed]"
          },
          "metadata": {
            "tags": []
          }
        }
      ]
    },
    {
      "cell_type": "code",
      "metadata": {
        "trusted": true,
        "id": "Et2SZelX-EGI",
        "colab_type": "code",
        "colab": {}
      },
      "source": [
        "def classify_estate(x):\n",
        "    if x<=3:\n",
        "        return 'estate_low'\n",
        "    elif x<=6:\n",
        "        return 'estate_mid'\n",
        "    else:\n",
        "        return 'estate_high'\n",
        "\n",
        "train['estate1']=train['estate'].apply(classify_estate)"
      ],
      "execution_count": 0,
      "outputs": []
    },
    {
      "cell_type": "code",
      "metadata": {
        "trusted": true,
        "id": "WgTw32jd-EGK",
        "colab_type": "code",
        "colab": {},
        "outputId": "2ddc6790-858d-4848-8fff-fcdf0c58b78d"
      },
      "source": [
        "sns.catplot(x='estate1',y='TARGET',data=train,kind='bar')"
      ],
      "execution_count": 0,
      "outputs": [
        {
          "output_type": "execute_result",
          "data": {
            "text/plain": [
              "<seaborn.axisgrid.FacetGrid at 0x7f2fef968898>"
            ]
          },
          "metadata": {
            "tags": []
          },
          "execution_count": 212
        },
        {
          "output_type": "display_data",
          "data": {
            "text/plain": [
              "<Figure size 360x360 with 1 Axes>"
            ],
            "image/png": "[encoded data removed]"
          },
          "metadata": {
            "tags": []
          }
        }
      ]
    },
    {
      "cell_type": "code",
      "metadata": {
        "trusted": true,
        "id": "66sPlN-R-EGM",
        "colab_type": "code",
        "colab": {},
        "outputId": "0342c444-687e-4488-bf7a-f5b8221d4bf5"
      },
      "source": [
        "anova('estate1','TARGET',train)"
      ],
      "execution_count": 0,
      "outputs": [
        {
          "output_type": "stream",
          "text": [
            "************Variance**************\n",
            "               TARGET\n",
            "estate1              \n",
            "estate_high  0.097701\n",
            "estate_low   0.048115\n",
            "estate_mid   0.073217\n",
            "*********************************\n",
            "************Value_counts**************\n",
            "estate_mid     247787\n",
            "estate_high     35356\n",
            "estate_low      24368\n",
            "Name: estate1, dtype: int64\n",
            "*********************************\n",
            "************anova**************\n",
            "                  df        sum_sq    mean_sq           F         PR(>F)\n",
            "C(estate1)       2.0     52.107834  26.053917  351.875733  2.274630e-153\n",
            "Residual    307508.0  22768.799223   0.074043         NaN            NaN\n"
          ],
          "name": "stdout"
        }
      ]
    },
    {
      "cell_type": "code",
      "metadata": {
        "trusted": true,
        "id": "w_91ELGB-EGP",
        "colab_type": "code",
        "colab": {},
        "outputId": "e4d9e122-8aab-4a9a-9b55-cc5d2d97d8cf"
      },
      "source": [
        "asset_lst.append('estate')\n",
        "for col in asset_lst:\n",
        "    del train[col],test[col]\n"
      ],
      "execution_count": 0,
      "outputs": [
        {
          "output_type": "error",
          "ename": "KeyError",
          "evalue": "'estate'",
          "traceback": [
            "\u001b[0;31m---------------------------------------------------------------------------\u001b[0m",
            "\u001b[0;31mKeyError\u001b[0m                                  Traceback (most recent call last)",
            "\u001b[0;32m/opt/conda/lib/python3.6/site-packages/pandas/core/indexes/base.py\u001b[0m in \u001b[0;36mget_loc\u001b[0;34m(self, key, method, tolerance)\u001b[0m\n\u001b[1;32m   3077\u001b[0m             \u001b[0;32mtry\u001b[0m\u001b[0;34m:\u001b[0m\u001b[0;34m\u001b[0m\u001b[0m\n\u001b[0;32m-> 3078\u001b[0;31m                 \u001b[0;32mreturn\u001b[0m \u001b[0mself\u001b[0m\u001b[0;34m.\u001b[0m\u001b[0m_engine\u001b[0m\u001b[0;34m.\u001b[0m\u001b[0mget_loc\u001b[0m\u001b[0;34m(\u001b[0m\u001b[0mkey\u001b[0m\u001b[0;34m)\u001b[0m\u001b[0;34m\u001b[0m\u001b[0m\n\u001b[0m\u001b[1;32m   3079\u001b[0m             \u001b[0;32mexcept\u001b[0m \u001b[0mKeyError\u001b[0m\u001b[0;34m:\u001b[0m\u001b[0;34m\u001b[0m\u001b[0m\n",
            "\u001b[0;32mpandas/_libs/index.pyx\u001b[0m in \u001b[0;36mpandas._libs.index.IndexEngine.get_loc\u001b[0;34m()\u001b[0m\n",
            "\u001b[0;32mpandas/_libs/index.pyx\u001b[0m in \u001b[0;36mpandas._libs.index.IndexEngine.get_loc\u001b[0;34m()\u001b[0m\n",
            "\u001b[0;32mpandas/_libs/hashtable_class_helper.pxi\u001b[0m in \u001b[0;36mpandas._libs.hashtable.PyObjectHashTable.get_item\u001b[0;34m()\u001b[0m\n",
            "\u001b[0;32mpandas/_libs/hashtable_class_helper.pxi\u001b[0m in \u001b[0;36mpandas._libs.hashtable.PyObjectHashTable.get_item\u001b[0;34m()\u001b[0m\n",
            "\u001b[0;31mKeyError\u001b[0m: 'estate'",
            "\nDuring handling of the above exception, another exception occurred:\n",
            "\u001b[0;31mKeyError\u001b[0m                                  Traceback (most recent call last)",
            "\u001b[0;32m<ipython-input-216-ab2893ee963c>\u001b[0m in \u001b[0;36m<module>\u001b[0;34m()\u001b[0m\n\u001b[1;32m      1\u001b[0m \u001b[0masset_lst\u001b[0m\u001b[0;34m.\u001b[0m\u001b[0mappend\u001b[0m\u001b[0;34m(\u001b[0m\u001b[0;34m'estate'\u001b[0m\u001b[0;34m)\u001b[0m\u001b[0;34m\u001b[0m\u001b[0m\n\u001b[1;32m      2\u001b[0m \u001b[0;32mfor\u001b[0m \u001b[0mcol\u001b[0m \u001b[0;32min\u001b[0m \u001b[0masset_lst\u001b[0m\u001b[0;34m:\u001b[0m\u001b[0;34m\u001b[0m\u001b[0m\n\u001b[0;32m----> 3\u001b[0;31m     \u001b[0;32mdel\u001b[0m \u001b[0mtrain\u001b[0m\u001b[0;34m[\u001b[0m\u001b[0mcol\u001b[0m\u001b[0;34m]\u001b[0m\u001b[0;34m,\u001b[0m\u001b[0mtest\u001b[0m\u001b[0;34m[\u001b[0m\u001b[0mcol\u001b[0m\u001b[0;34m]\u001b[0m\u001b[0;34m\u001b[0m\u001b[0m\n\u001b[0m",
            "\u001b[0;32m/opt/conda/lib/python3.6/site-packages/pandas/core/generic.py\u001b[0m in \u001b[0;36m__delitem__\u001b[0;34m(self, key)\u001b[0m\n\u001b[1;32m   2741\u001b[0m             \u001b[0;31m# there was no match, this call should raise the appropriate\u001b[0m\u001b[0;34m\u001b[0m\u001b[0;34m\u001b[0m\u001b[0m\n\u001b[1;32m   2742\u001b[0m             \u001b[0;31m# exception:\u001b[0m\u001b[0;34m\u001b[0m\u001b[0;34m\u001b[0m\u001b[0m\n\u001b[0;32m-> 2743\u001b[0;31m             \u001b[0mself\u001b[0m\u001b[0;34m.\u001b[0m\u001b[0m_data\u001b[0m\u001b[0;34m.\u001b[0m\u001b[0mdelete\u001b[0m\u001b[0;34m(\u001b[0m\u001b[0mkey\u001b[0m\u001b[0;34m)\u001b[0m\u001b[0;34m\u001b[0m\u001b[0m\n\u001b[0m\u001b[1;32m   2744\u001b[0m \u001b[0;34m\u001b[0m\u001b[0m\n\u001b[1;32m   2745\u001b[0m         \u001b[0;31m# delete from the caches\u001b[0m\u001b[0;34m\u001b[0m\u001b[0;34m\u001b[0m\u001b[0m\n",
            "\u001b[0;32m/opt/conda/lib/python3.6/site-packages/pandas/core/internals.py\u001b[0m in \u001b[0;36mdelete\u001b[0;34m(self, item)\u001b[0m\n\u001b[1;32m   4172\u001b[0m         \u001b[0mDelete\u001b[0m \u001b[0mselected\u001b[0m \u001b[0mitem\u001b[0m \u001b[0;34m(\u001b[0m\u001b[0mitems\u001b[0m \u001b[0;32mif\u001b[0m \u001b[0mnon\u001b[0m\u001b[0;34m-\u001b[0m\u001b[0munique\u001b[0m\u001b[0;34m)\u001b[0m \u001b[0;32min\u001b[0m\u001b[0;34m-\u001b[0m\u001b[0mplace\u001b[0m\u001b[0;34m.\u001b[0m\u001b[0;34m\u001b[0m\u001b[0m\n\u001b[1;32m   4173\u001b[0m         \"\"\"\n\u001b[0;32m-> 4174\u001b[0;31m         \u001b[0mindexer\u001b[0m \u001b[0;34m=\u001b[0m \u001b[0mself\u001b[0m\u001b[0;34m.\u001b[0m\u001b[0mitems\u001b[0m\u001b[0;34m.\u001b[0m\u001b[0mget_loc\u001b[0m\u001b[0;34m(\u001b[0m\u001b[0mitem\u001b[0m\u001b[0;34m)\u001b[0m\u001b[0;34m\u001b[0m\u001b[0m\n\u001b[0m\u001b[1;32m   4175\u001b[0m \u001b[0;34m\u001b[0m\u001b[0m\n\u001b[1;32m   4176\u001b[0m         \u001b[0mis_deleted\u001b[0m \u001b[0;34m=\u001b[0m \u001b[0mnp\u001b[0m\u001b[0;34m.\u001b[0m\u001b[0mzeros\u001b[0m\u001b[0;34m(\u001b[0m\u001b[0mself\u001b[0m\u001b[0;34m.\u001b[0m\u001b[0mshape\u001b[0m\u001b[0;34m[\u001b[0m\u001b[0;36m0\u001b[0m\u001b[0;34m]\u001b[0m\u001b[0;34m,\u001b[0m \u001b[0mdtype\u001b[0m\u001b[0;34m=\u001b[0m\u001b[0mnp\u001b[0m\u001b[0;34m.\u001b[0m\u001b[0mbool_\u001b[0m\u001b[0;34m)\u001b[0m\u001b[0;34m\u001b[0m\u001b[0m\n",
            "\u001b[0;32m/opt/conda/lib/python3.6/site-packages/pandas/core/indexes/base.py\u001b[0m in \u001b[0;36mget_loc\u001b[0;34m(self, key, method, tolerance)\u001b[0m\n\u001b[1;32m   3078\u001b[0m                 \u001b[0;32mreturn\u001b[0m \u001b[0mself\u001b[0m\u001b[0;34m.\u001b[0m\u001b[0m_engine\u001b[0m\u001b[0;34m.\u001b[0m\u001b[0mget_loc\u001b[0m\u001b[0;34m(\u001b[0m\u001b[0mkey\u001b[0m\u001b[0;34m)\u001b[0m\u001b[0;34m\u001b[0m\u001b[0m\n\u001b[1;32m   3079\u001b[0m             \u001b[0;32mexcept\u001b[0m \u001b[0mKeyError\u001b[0m\u001b[0;34m:\u001b[0m\u001b[0;34m\u001b[0m\u001b[0m\n\u001b[0;32m-> 3080\u001b[0;31m                 \u001b[0;32mreturn\u001b[0m \u001b[0mself\u001b[0m\u001b[0;34m.\u001b[0m\u001b[0m_engine\u001b[0m\u001b[0;34m.\u001b[0m\u001b[0mget_loc\u001b[0m\u001b[0;34m(\u001b[0m\u001b[0mself\u001b[0m\u001b[0;34m.\u001b[0m\u001b[0m_maybe_cast_indexer\u001b[0m\u001b[0;34m(\u001b[0m\u001b[0mkey\u001b[0m\u001b[0;34m)\u001b[0m\u001b[0;34m)\u001b[0m\u001b[0;34m\u001b[0m\u001b[0m\n\u001b[0m\u001b[1;32m   3081\u001b[0m \u001b[0;34m\u001b[0m\u001b[0m\n\u001b[1;32m   3082\u001b[0m         \u001b[0mindexer\u001b[0m \u001b[0;34m=\u001b[0m \u001b[0mself\u001b[0m\u001b[0;34m.\u001b[0m\u001b[0mget_indexer\u001b[0m\u001b[0;34m(\u001b[0m\u001b[0;34m[\u001b[0m\u001b[0mkey\u001b[0m\u001b[0;34m]\u001b[0m\u001b[0;34m,\u001b[0m \u001b[0mmethod\u001b[0m\u001b[0;34m=\u001b[0m\u001b[0mmethod\u001b[0m\u001b[0;34m,\u001b[0m \u001b[0mtolerance\u001b[0m\u001b[0;34m=\u001b[0m\u001b[0mtolerance\u001b[0m\u001b[0;34m)\u001b[0m\u001b[0;34m\u001b[0m\u001b[0m\n",
            "\u001b[0;32mpandas/_libs/index.pyx\u001b[0m in \u001b[0;36mpandas._libs.index.IndexEngine.get_loc\u001b[0;34m()\u001b[0m\n",
            "\u001b[0;32mpandas/_libs/index.pyx\u001b[0m in \u001b[0;36mpandas._libs.index.IndexEngine.get_loc\u001b[0;34m()\u001b[0m\n",
            "\u001b[0;32mpandas/_libs/hashtable_class_helper.pxi\u001b[0m in \u001b[0;36mpandas._libs.hashtable.PyObjectHashTable.get_item\u001b[0;34m()\u001b[0m\n",
            "\u001b[0;32mpandas/_libs/hashtable_class_helper.pxi\u001b[0m in \u001b[0;36mpandas._libs.hashtable.PyObjectHashTable.get_item\u001b[0;34m()\u001b[0m\n",
            "\u001b[0;31mKeyError\u001b[0m: 'estate'"
          ]
        }
      ]
    },
    {
      "cell_type": "markdown",
      "metadata": {
        "id": "yX59Dxno-EGR",
        "colab_type": "text"
      },
      "source": [
        "### 1-1-13. Communication by Phone,Mail"
      ]
    },
    {
      "cell_type": "code",
      "metadata": {
        "trusted": true,
        "id": "7qjtfl_G-EGR",
        "colab_type": "code",
        "colab": {}
      },
      "source": [
        "comc=['FLAG_MOBIL','FLAG_EMP_PHONE','FLAG_WORK_PHONE','FLAG_CONT_MOBILE','FLAG_PHONE','FLAG_EMAIL']\n",
        "train['comc']=train[comc].sum(axis=1)"
      ],
      "execution_count": 0,
      "outputs": []
    },
    {
      "cell_type": "code",
      "metadata": {
        "trusted": true,
        "id": "5g17BxaB-EGS",
        "colab_type": "code",
        "colab": {},
        "outputId": "d41ed6b9-7fe8-4668-fc85-e7f39ce60919"
      },
      "source": [
        "sns.countplot(train.comc)"
      ],
      "execution_count": 0,
      "outputs": [
        {
          "output_type": "execute_result",
          "data": {
            "text/plain": [
              "<matplotlib.axes._subplots.AxesSubplot at 0x7f2fe8041860>"
            ]
          },
          "metadata": {
            "tags": []
          },
          "execution_count": 220
        },
        {
          "output_type": "display_data",
          "data": {
            "text/plain": [
              "<Figure size 432x288 with 1 Axes>"
            ],
            "image/png": "[encoded data removed]"
          },
          "metadata": {
            "tags": []
          }
        }
      ]
    },
    {
      "cell_type": "code",
      "metadata": {
        "trusted": true,
        "id": "p0TiZ3OF-EGU",
        "colab_type": "code",
        "colab": {},
        "outputId": "b97ca7b1-3e60-49b5-9e99-1f3da6e2fa9a"
      },
      "source": [
        "sns.catplot(x='comc',y='TARGET',data=train,kind='bar')"
      ],
      "execution_count": 0,
      "outputs": [
        {
          "output_type": "execute_result",
          "data": {
            "text/plain": [
              "<seaborn.axisgrid.FacetGrid at 0x7f2fe80395c0>"
            ]
          },
          "metadata": {
            "tags": []
          },
          "execution_count": 221
        },
        {
          "output_type": "display_data",
          "data": {
            "text/plain": [
              "<Figure size 360x360 with 1 Axes>"
            ],
            "image/png": "[encoded data removed]"
          },
          "metadata": {
            "tags": []
          }
        }
      ]
    },
    {
      "cell_type": "markdown",
      "metadata": {
        "id": "wACUNhq2-EGV",
        "colab_type": "text"
      },
      "source": [
        "## 1-2.Previous"
      ]
    },
    {
      "cell_type": "code",
      "metadata": {
        "trusted": true,
        "id": "LafeO9ID-EGW",
        "colab_type": "code",
        "colab": {}
      },
      "source": [
        "pre=pd.read_csv(\"../input/previous_application.csv\")"
      ],
      "execution_count": 0,
      "outputs": []
    },
    {
      "cell_type": "code",
      "metadata": {
        "trusted": true,
        "id": "WU_r_Gz3-EGX",
        "colab_type": "code",
        "colab": {},
        "outputId": "378e9f58-f32d-4b5c-f522-1f66c39f3abe"
      },
      "source": [
        "pre.head(1)"
      ],
      "execution_count": 0,
      "outputs": [
        {
          "output_type": "execute_result",
          "data": {
            "text/plain": [
              "   SK_ID_PREV  SK_ID_CURR NAME_CONTRACT_TYPE  AMT_ANNUITY  AMT_APPLICATION  \\\n",
              "0     2030495      271877     Consumer loans      1730.43          17145.0   \n",
              "\n",
              "   AMT_CREDIT  AMT_DOWN_PAYMENT  AMT_GOODS_PRICE WEEKDAY_APPR_PROCESS_START  \\\n",
              "0     17145.0               0.0          17145.0                   SATURDAY   \n",
              "\n",
              "   HOUR_APPR_PROCESS_START FLAG_LAST_APPL_PER_CONTRACT  \\\n",
              "0                       15                           Y   \n",
              "\n",
              "   NFLAG_LAST_APPL_IN_DAY  RATE_DOWN_PAYMENT  RATE_INTEREST_PRIMARY  \\\n",
              "0                       1                0.0               0.182832   \n",
              "\n",
              "   RATE_INTEREST_PRIVILEGED NAME_CASH_LOAN_PURPOSE NAME_CONTRACT_STATUS  \\\n",
              "0                  0.867336                    XAP             Approved   \n",
              "\n",
              "   DAYS_DECISION      NAME_PAYMENT_TYPE CODE_REJECT_REASON NAME_TYPE_SUITE  \\\n",
              "0            -73  Cash through the bank                XAP             NaN   \n",
              "\n",
              "  NAME_CLIENT_TYPE NAME_GOODS_CATEGORY NAME_PORTFOLIO NAME_PRODUCT_TYPE  \\\n",
              "0         Repeater              Mobile            POS               XNA   \n",
              "\n",
              "   CHANNEL_TYPE  SELLERPLACE_AREA NAME_SELLER_INDUSTRY  CNT_PAYMENT  \\\n",
              "0  Country-wide                35         Connectivity         12.0   \n",
              "\n",
              "  NAME_YIELD_GROUP       PRODUCT_COMBINATION  DAYS_FIRST_DRAWING  \\\n",
              "0           middle  POS mobile with interest            365243.0   \n",
              "\n",
              "   DAYS_FIRST_DUE  DAYS_LAST_DUE_1ST_VERSION  DAYS_LAST_DUE  DAYS_TERMINATION  \\\n",
              "0           -42.0                      300.0          -42.0             -37.0   \n",
              "\n",
              "   NFLAG_INSURED_ON_APPROVAL  \n",
              "0                        0.0  "
            ],
            "text/html": [
              "<div>\n",
              "<style scoped>\n",
              "    .dataframe tbody tr th:only-of-type {\n",
              "        vertical-align: middle;\n",
              "    }\n",
              "\n",
              "    .dataframe tbody tr th {\n",
              "        vertical-align: top;\n",
              "    }\n",
              "\n",
              "    .dataframe thead th {\n",
              "        text-align: right;\n",
              "    }\n",
              "</style>\n",
              "<table border=\"1\" class=\"dataframe\">\n",
              "  <thead>\n",
              "    <tr style=\"text-align: right;\">\n",
              "      <th></th>\n",
              "      <th>SK_ID_PREV</th>\n",
              "      <th>SK_ID_CURR</th>\n",
              "      <th>NAME_CONTRACT_TYPE</th>\n",
              "      <th>AMT_ANNUITY</th>\n",
              "      <th>AMT_APPLICATION</th>\n",
              "      <th>AMT_CREDIT</th>\n",
              "      <th>AMT_DOWN_PAYMENT</th>\n",
              "      <th>AMT_GOODS_PRICE</th>\n",
              "      <th>WEEKDAY_APPR_PROCESS_START</th>\n",
              "      <th>HOUR_APPR_PROCESS_START</th>\n",
              "      <th>FLAG_LAST_APPL_PER_CONTRACT</th>\n",
              "      <th>NFLAG_LAST_APPL_IN_DAY</th>\n",
              "      <th>RATE_DOWN_PAYMENT</th>\n",
              "      <th>RATE_INTEREST_PRIMARY</th>\n",
              "      <th>RATE_INTEREST_PRIVILEGED</th>\n",
              "      <th>NAME_CASH_LOAN_PURPOSE</th>\n",
              "      <th>NAME_CONTRACT_STATUS</th>\n",
              "      <th>DAYS_DECISION</th>\n",
              "      <th>NAME_PAYMENT_TYPE</th>\n",
              "      <th>CODE_REJECT_REASON</th>\n",
              "      <th>NAME_TYPE_SUITE</th>\n",
              "      <th>NAME_CLIENT_TYPE</th>\n",
              "      <th>NAME_GOODS_CATEGORY</th>\n",
              "      <th>NAME_PORTFOLIO</th>\n",
              "      <th>NAME_PRODUCT_TYPE</th>\n",
              "      <th>CHANNEL_TYPE</th>\n",
              "      <th>SELLERPLACE_AREA</th>\n",
              "      <th>NAME_SELLER_INDUSTRY</th>\n",
              "      <th>CNT_PAYMENT</th>\n",
              "      <th>NAME_YIELD_GROUP</th>\n",
              "      <th>PRODUCT_COMBINATION</th>\n",
              "      <th>DAYS_FIRST_DRAWING</th>\n",
              "      <th>DAYS_FIRST_DUE</th>\n",
              "      <th>DAYS_LAST_DUE_1ST_VERSION</th>\n",
              "      <th>DAYS_LAST_DUE</th>\n",
              "      <th>DAYS_TERMINATION</th>\n",
              "      <th>NFLAG_INSURED_ON_APPROVAL</th>\n",
              "    </tr>\n",
              "  </thead>\n",
              "  <tbody>\n",
              "    <tr>\n",
              "      <th>0</th>\n",
              "      <td>2030495</td>\n",
              "      <td>271877</td>\n",
              "      <td>Consumer loans</td>\n",
              "      <td>1730.43</td>\n",
              "      <td>17145.0</td>\n",
              "      <td>17145.0</td>\n",
              "      <td>0.0</td>\n",
              "      <td>17145.0</td>\n",
              "      <td>SATURDAY</td>\n",
              "      <td>15</td>\n",
              "      <td>Y</td>\n",
              "      <td>1</td>\n",
              "      <td>0.0</td>\n",
              "      <td>0.182832</td>\n",
              "      <td>0.867336</td>\n",
              "      <td>XAP</td>\n",
              "      <td>Approved</td>\n",
              "      <td>-73</td>\n",
              "      <td>Cash through the bank</td>\n",
              "      <td>XAP</td>\n",
              "      <td>NaN</td>\n",
              "      <td>Repeater</td>\n",
              "      <td>Mobile</td>\n",
              "      <td>POS</td>\n",
              "      <td>XNA</td>\n",
              "      <td>Country-wide</td>\n",
              "      <td>35</td>\n",
              "      <td>Connectivity</td>\n",
              "      <td>12.0</td>\n",
              "      <td>middle</td>\n",
              "      <td>POS mobile with interest</td>\n",
              "      <td>365243.0</td>\n",
              "      <td>-42.0</td>\n",
              "      <td>300.0</td>\n",
              "      <td>-42.0</td>\n",
              "      <td>-37.0</td>\n",
              "      <td>0.0</td>\n",
              "    </tr>\n",
              "  </tbody>\n",
              "</table>\n",
              "</div>"
            ]
          },
          "metadata": {
            "tags": []
          },
          "execution_count": 218
        }
      ]
    },
    {
      "cell_type": "markdown",
      "metadata": {
        "id": "vu_TU5sT-EGb",
        "colab_type": "text"
      },
      "source": [
        "## 1-3.Installment"
      ]
    },
    {
      "cell_type": "code",
      "metadata": {
        "trusted": true,
        "id": "32h90eNl-EGb",
        "colab_type": "code",
        "colab": {}
      },
      "source": [
        "train=pd.read_csv('../input/application_train.csv')"
      ],
      "execution_count": 0,
      "outputs": []
    },
    {
      "cell_type": "code",
      "metadata": {
        "trusted": true,
        "id": "CjxBT9xH-EGd",
        "colab_type": "code",
        "colab": {}
      },
      "source": [
        "install=pd.read_csv('../input/installments_payments.csv')"
      ],
      "execution_count": 0,
      "outputs": []
    },
    {
      "cell_type": "code",
      "metadata": {
        "trusted": true,
        "id": "8_aCFhGk-EGe",
        "colab_type": "code",
        "colab": {}
      },
      "source": [
        "# DAYS_INSTALMENT : the due date ,DAYS_ENTRY_PAYMENT : actually paid, + value: not paid , -: pre paid\n",
        "install['Expired']=  install.DAYS_ENTRY_PAYMENT-install.DAYS_INSTALMENT "
      ],
      "execution_count": 0,
      "outputs": []
    },
    {
      "cell_type": "code",
      "metadata": {
        "trusted": true,
        "id": "VB0gZgRV-EGg",
        "colab_type": "code",
        "colab": {},
        "outputId": "9000197a-79b7-4d01-c7bf-7bf7b0d34388"
      },
      "source": [
        "install['Expired'].describe()"
      ],
      "execution_count": 0,
      "outputs": [
        {
          "output_type": "execute_result",
          "data": {
            "text/plain": [
              "count    1.360250e+07\n",
              "mean    -8.787405e+00\n",
              "std      2.553990e+01\n",
              "min     -3.189000e+03\n",
              "25%     -1.400000e+01\n",
              "50%     -6.000000e+00\n",
              "75%      0.000000e+00\n",
              "max      2.884000e+03\n",
              "Name: Expired, dtype: float64"
            ]
          },
          "metadata": {
            "tags": []
          },
          "execution_count": 227
        }
      ]
    },
    {
      "cell_type": "code",
      "metadata": {
        "trusted": true,
        "id": "wK-3xQNF-EGi",
        "colab_type": "code",
        "colab": {}
      },
      "source": [
        "def third_class(x):\n",
        "    if x==0:\n",
        "        return 0\n",
        "    elif x>0:\n",
        "        return 1\n",
        "    else:\n",
        "        return -1\n",
        "install['Expired1']=install['Expired'].apply(third_class)\n"
      ],
      "execution_count": 0,
      "outputs": []
    },
    {
      "cell_type": "code",
      "metadata": {
        "trusted": true,
        "id": "b5tKvVKz-EGj",
        "colab_type": "code",
        "colab": {},
        "outputId": "62ece285-faba-4ab2-e091-608ca4383a2d"
      },
      "source": [
        "install['Debt']=install['AMT_INSTALMENT']-install['AMT_PAYMENT']\n",
        "install['Debt'].describe()"
      ],
      "execution_count": 0,
      "outputs": [
        {
          "output_type": "execute_result",
          "data": {
            "text/plain": [
              "count    1.360250e+07\n",
              "mean    -1.871538e+02\n",
              "std      1.910673e+04\n",
              "min     -2.630909e+06\n",
              "25%      0.000000e+00\n",
              "50%      0.000000e+00\n",
              "75%      0.000000e+00\n",
              "max      2.424726e+06\n",
              "Name: Debt, dtype: float64"
            ]
          },
          "metadata": {
            "tags": []
          },
          "execution_count": 234
        }
      ]
    },
    {
      "cell_type": "code",
      "metadata": {
        "trusted": true,
        "id": "uv7MrTsr-EGl",
        "colab_type": "code",
        "colab": {},
        "outputId": "8ec090ed-322e-40e8-d50f-bb5c37e4d8cb"
      },
      "source": [
        "install[install.Debt<0].shape[0] / install.shape[0] *100"
      ],
      "execution_count": 0,
      "outputs": [
        {
          "output_type": "execute_result",
          "data": {
            "text/plain": [
              "1.3185719406579783"
            ]
          },
          "metadata": {
            "tags": []
          },
          "execution_count": 242
        }
      ]
    },
    {
      "cell_type": "code",
      "metadata": {
        "trusted": true,
        "id": "z00E8B3Y-EGm",
        "colab_type": "code",
        "colab": {},
        "outputId": "c0a541bd-f069-4843-929d-e90d069e3fc8"
      },
      "source": [
        "install[install.Debt<0][['Debt','Expired1']].groupby('Expired1').count()\n"
      ],
      "execution_count": 0,
      "outputs": [
        {
          "output_type": "execute_result",
          "data": {
            "text/plain": [
              "            Debt\n",
              "Expired1        \n",
              "-1        171724\n",
              " 0          7186\n",
              " 1           487"
            ],
            "text/html": [
              "<div>\n",
              "<style scoped>\n",
              "    .dataframe tbody tr th:only-of-type {\n",
              "        vertical-align: middle;\n",
              "    }\n",
              "\n",
              "    .dataframe tbody tr th {\n",
              "        vertical-align: top;\n",
              "    }\n",
              "\n",
              "    .dataframe thead th {\n",
              "        text-align: right;\n",
              "    }\n",
              "</style>\n",
              "<table border=\"1\" class=\"dataframe\">\n",
              "  <thead>\n",
              "    <tr style=\"text-align: right;\">\n",
              "      <th></th>\n",
              "      <th>Debt</th>\n",
              "    </tr>\n",
              "    <tr>\n",
              "      <th>Expired1</th>\n",
              "      <th></th>\n",
              "    </tr>\n",
              "  </thead>\n",
              "  <tbody>\n",
              "    <tr>\n",
              "      <th>-1</th>\n",
              "      <td>171724</td>\n",
              "    </tr>\n",
              "    <tr>\n",
              "      <th>0</th>\n",
              "      <td>7186</td>\n",
              "    </tr>\n",
              "    <tr>\n",
              "      <th>1</th>\n",
              "      <td>487</td>\n",
              "    </tr>\n",
              "  </tbody>\n",
              "</table>\n",
              "</div>"
            ]
          },
          "metadata": {
            "tags": []
          },
          "execution_count": 231
        }
      ]
    },
    {
      "cell_type": "code",
      "metadata": {
        "trusted": true,
        "id": "sZawF5sY-EGo",
        "colab_type": "code",
        "colab": {},
        "outputId": "c9608a99-a7c9-46ea-9087-e09d505cc361"
      },
      "source": [
        "install[(install.Debt<0) &(install.Expired1<=0)].loc[:,'Debt']=0\n",
        "install[(install.Debt<0) &(install.Expired1>0)].loc[:,'Debt']=install['Debt'].median()"
      ],
      "execution_count": 0,
      "outputs": [
        {
          "output_type": "stream",
          "text": [
            "/opt/conda/lib/python3.6/site-packages/pandas/core/indexing.py:543: SettingWithCopyWarning: \n",
            "A value is trying to be set on a copy of a slice from a DataFrame.\n",
            "Try using .loc[row_indexer,col_indexer] = value instead\n",
            "\n",
            "See the caveats in the documentation: http://pandas.pydata.org/pandas-docs/stable/indexing.html#indexing-view-versus-copy\n",
            "  self.obj[item] = s\n"
          ],
          "name": "stderr"
        }
      ]
    }
  ]
}