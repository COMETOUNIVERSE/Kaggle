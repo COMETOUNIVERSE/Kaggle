{
 "cells": [
  {
   "cell_type": "markdown",
   "metadata": {},
   "source": [
    "**My goal is predicting taxi fare. <br>\n",
    "I think fare is made of two factors about space and time. If space or time is changed , fare is also changed.<br>\n",
    "So I focus on finding factors about space and time.<br>\n",
    "Let's go !!!!!**"
   ]
  },
  {
   "cell_type": "markdown",
   "metadata": {},
   "source": [
    "\"# 2. Refine Data <br>\n",
    "\"## 2-1. Pickup/Dropoff Longitude/Latitude<br>\n",
    "\"## 2-2. Missing Values<br>\n",
    "\"## 2-3.Passenger_count<br>\n",
    "<br>\n",
    "\"# 3. Hypothesis<br>\n",
    "\"## 3-1. Is New variable 'dist' related with fare_amount?<br>\n",
    "\"## 3-2. When fare_amount <=0 is, Is 'dist' near 0 ?<br>\n",
    "\"## 3-3. Time Series<br>\n",
    "\"### 3-3-1. Is fare_amount different by year ?<br>\n",
    "\"### 3-3-2. Is fare_amount different by month ?<br>\n",
    "\"### 3-3-3. Is fare_amount different by whether is evening or not? <br>\n",
    "\"### 3-3-4. Is fare_amount different by weekend or weekday ? <br>\n",
    "<br>\n",
    "\"## 3-4. Is fare_amount related with passenger_count ?<br>\n",
    "\"## 3-5. Is  fare_amount related with Airport ?<br>\n",
    "\"## 3-6. Is fare_amount related with in city or out city ?<br>\n",
    "<br>\n",
    "\"# 4. Modeling<br>\n",
    "\"## 4-0. Summary<br>\n",
    "\"## 4-1. Dummy <br>\n",
    "\"## 4-2.modeling<br>\n",
    "<br>\n",
    "\"# 5. Improving model<br>\n",
    "\"# 6. Result<br>"
   ]
  },
  {
   "cell_type": "markdown",
   "metadata": {},
   "source": [
    "# 0.Prepare"
   ]
  },
  {
   "cell_type": "code",
   "execution_count": 1,
   "metadata": {},
   "outputs": [],
   "source": [
    "import numpy as np \n",
    "import pandas as pd \n",
    "import seaborn as sns\n",
    "import matplotlib.pyplot as plt"
   ]
  },
  {
   "cell_type": "code",
   "execution_count": 2,
   "metadata": {},
   "outputs": [
    {
     "name": "stdout",
     "output_type": "stream",
     "text": [
      "/kaggle/input/sample_submission.csv\n",
      "/kaggle/input/train.csv\n",
      "/kaggle/input/test.csv\n",
      "/kaggle/input/GCP-Coupons-Instructions.rtf\n"
     ]
    }
   ],
   "source": [
    "import os\n",
    "for dirname, _, filenames in os.walk('/kaggle/input'):\n",
    "    for filename in filenames:\n",
    "        print(os.path.join(dirname, filename))"
   ]
  },
  {
   "cell_type": "markdown",
   "metadata": {},
   "source": [
    "# 1.Data load"
   ]
  },
  {
   "cell_type": "code",
   "execution_count": 3,
   "metadata": {
    "_cell_guid": "79c7e3d0-c299-4dcb-8224-4455121ee9b0",
    "_uuid": "d629ff2d2480ee46fbb7e2d37f6b5fab8052498a"
   },
   "outputs": [],
   "source": [
    "#train=pd.read_csv(\"/kaggle/input/train.csv\",nrows=1000000)\n",
    "train=pd.read_csv(\"/kaggle/input/train.csv\",index_col='pickup_datetime',parse_dates=True,nrows=1000000)"
   ]
  },
  {
   "cell_type": "code",
   "execution_count": 4,
   "metadata": {},
   "outputs": [],
   "source": [
    "test=pd.read_csv(\"/kaggle/input/test.csv\",index_col='pickup_datetime',parse_dates=True)\n",
    "#test=pd.read_csv('/kaggle/input/new-york-city-taxi-fare-prediction/test.csv')"
   ]
  },
  {
   "cell_type": "code",
   "execution_count": 5,
   "metadata": {},
   "outputs": [
    {
     "name": "stdout",
     "output_type": "stream",
     "text": [
      "<class 'pandas.core.frame.DataFrame'>\n",
      "DatetimeIndex: 1000000 entries, 2009-06-15 17:26:21+00:00 to 2009-12-31 14:30:00+00:00\n",
      "Data columns (total 7 columns):\n",
      "key                  1000000 non-null object\n",
      "fare_amount          1000000 non-null float64\n",
      "pickup_longitude     1000000 non-null float64\n",
      "pickup_latitude      1000000 non-null float64\n",
      "dropoff_longitude    999990 non-null float64\n",
      "dropoff_latitude     999990 non-null float64\n",
      "passenger_count      1000000 non-null int64\n",
      "dtypes: float64(5), int64(1), object(1)\n",
      "memory usage: 61.0+ MB\n"
     ]
    }
   ],
   "source": [
    "train.info()"
   ]
  },
  {
   "cell_type": "markdown",
   "metadata": {},
   "source": [
    "categorizing variables into \n",
    "    1. Space factors : pickup_longitude ,pickup_latitude , dropoff_longitude , dropoff_latitude \n",
    "    2. time : key \n",
    "    3. etc : passenger_count\n",
    "    4. goal : fare_amount"
   ]
  },
  {
   "cell_type": "code",
   "execution_count": 6,
   "metadata": {},
   "outputs": [
    {
     "data": {
      "text/html": [
       "<div>\n",
       "<style scoped>\n",
       "    .dataframe tbody tr th:only-of-type {\n",
       "        vertical-align: middle;\n",
       "    }\n",
       "\n",
       "    .dataframe tbody tr th {\n",
       "        vertical-align: top;\n",
       "    }\n",
       "\n",
       "    .dataframe thead th {\n",
       "        text-align: right;\n",
       "    }\n",
       "</style>\n",
       "<table border=\"1\" class=\"dataframe\">\n",
       "  <thead>\n",
       "    <tr style=\"text-align: right;\">\n",
       "      <th></th>\n",
       "      <th>key</th>\n",
       "      <th>fare_amount</th>\n",
       "      <th>pickup_longitude</th>\n",
       "      <th>pickup_latitude</th>\n",
       "      <th>dropoff_longitude</th>\n",
       "      <th>dropoff_latitude</th>\n",
       "      <th>passenger_count</th>\n",
       "    </tr>\n",
       "    <tr>\n",
       "      <th>pickup_datetime</th>\n",
       "      <th></th>\n",
       "      <th></th>\n",
       "      <th></th>\n",
       "      <th></th>\n",
       "      <th></th>\n",
       "      <th></th>\n",
       "      <th></th>\n",
       "    </tr>\n",
       "  </thead>\n",
       "  <tbody>\n",
       "    <tr>\n",
       "      <td>2009-06-15 17:26:21+00:00</td>\n",
       "      <td>2009-06-15 17:26:21.0000001</td>\n",
       "      <td>4.5</td>\n",
       "      <td>-73.844311</td>\n",
       "      <td>40.721319</td>\n",
       "      <td>-73.841610</td>\n",
       "      <td>40.712278</td>\n",
       "      <td>1</td>\n",
       "    </tr>\n",
       "    <tr>\n",
       "      <td>2010-01-05 16:52:16+00:00</td>\n",
       "      <td>2010-01-05 16:52:16.0000002</td>\n",
       "      <td>16.9</td>\n",
       "      <td>-74.016048</td>\n",
       "      <td>40.711303</td>\n",
       "      <td>-73.979268</td>\n",
       "      <td>40.782004</td>\n",
       "      <td>1</td>\n",
       "    </tr>\n",
       "    <tr>\n",
       "      <td>2011-08-18 00:35:00+00:00</td>\n",
       "      <td>2011-08-18 00:35:00.00000049</td>\n",
       "      <td>5.7</td>\n",
       "      <td>-73.982738</td>\n",
       "      <td>40.761270</td>\n",
       "      <td>-73.991242</td>\n",
       "      <td>40.750562</td>\n",
       "      <td>2</td>\n",
       "    </tr>\n",
       "  </tbody>\n",
       "</table>\n",
       "</div>"
      ],
      "text/plain": [
       "                                                    key  fare_amount  \\\n",
       "pickup_datetime                                                        \n",
       "2009-06-15 17:26:21+00:00   2009-06-15 17:26:21.0000001          4.5   \n",
       "2010-01-05 16:52:16+00:00   2010-01-05 16:52:16.0000002         16.9   \n",
       "2011-08-18 00:35:00+00:00  2011-08-18 00:35:00.00000049          5.7   \n",
       "\n",
       "                           pickup_longitude  pickup_latitude  \\\n",
       "pickup_datetime                                                \n",
       "2009-06-15 17:26:21+00:00        -73.844311        40.721319   \n",
       "2010-01-05 16:52:16+00:00        -74.016048        40.711303   \n",
       "2011-08-18 00:35:00+00:00        -73.982738        40.761270   \n",
       "\n",
       "                           dropoff_longitude  dropoff_latitude  \\\n",
       "pickup_datetime                                                  \n",
       "2009-06-15 17:26:21+00:00         -73.841610         40.712278   \n",
       "2010-01-05 16:52:16+00:00         -73.979268         40.782004   \n",
       "2011-08-18 00:35:00+00:00         -73.991242         40.750562   \n",
       "\n",
       "                           passenger_count  \n",
       "pickup_datetime                             \n",
       "2009-06-15 17:26:21+00:00                1  \n",
       "2010-01-05 16:52:16+00:00                1  \n",
       "2011-08-18 00:35:00+00:00                2  "
      ]
     },
     "execution_count": 6,
     "metadata": {},
     "output_type": "execute_result"
    }
   ],
   "source": [
    "train.head(3)"
   ]
  },
  {
   "cell_type": "code",
   "execution_count": 7,
   "metadata": {},
   "outputs": [],
   "source": [
    "#train['pickup_datetime'] =  pd.to_datetime(train['pickup_datetime'])"
   ]
  },
  {
   "cell_type": "code",
   "execution_count": 8,
   "metadata": {},
   "outputs": [
    {
     "data": {
      "text/html": [
       "<div>\n",
       "<style scoped>\n",
       "    .dataframe tbody tr th:only-of-type {\n",
       "        vertical-align: middle;\n",
       "    }\n",
       "\n",
       "    .dataframe tbody tr th {\n",
       "        vertical-align: top;\n",
       "    }\n",
       "\n",
       "    .dataframe thead th {\n",
       "        text-align: right;\n",
       "    }\n",
       "</style>\n",
       "<table border=\"1\" class=\"dataframe\">\n",
       "  <thead>\n",
       "    <tr style=\"text-align: right;\">\n",
       "      <th></th>\n",
       "      <th>key</th>\n",
       "      <th>pickup_longitude</th>\n",
       "      <th>pickup_latitude</th>\n",
       "      <th>dropoff_longitude</th>\n",
       "      <th>dropoff_latitude</th>\n",
       "      <th>passenger_count</th>\n",
       "    </tr>\n",
       "    <tr>\n",
       "      <th>pickup_datetime</th>\n",
       "      <th></th>\n",
       "      <th></th>\n",
       "      <th></th>\n",
       "      <th></th>\n",
       "      <th></th>\n",
       "      <th></th>\n",
       "    </tr>\n",
       "  </thead>\n",
       "  <tbody>\n",
       "    <tr>\n",
       "      <td>2015-01-27 13:08:24+00:00</td>\n",
       "      <td>2015-01-27 13:08:24.0000002</td>\n",
       "      <td>-73.973320</td>\n",
       "      <td>40.763805</td>\n",
       "      <td>-73.981430</td>\n",
       "      <td>40.743835</td>\n",
       "      <td>1</td>\n",
       "    </tr>\n",
       "    <tr>\n",
       "      <td>2015-01-27 13:08:24+00:00</td>\n",
       "      <td>2015-01-27 13:08:24.0000003</td>\n",
       "      <td>-73.986862</td>\n",
       "      <td>40.719383</td>\n",
       "      <td>-73.998886</td>\n",
       "      <td>40.739201</td>\n",
       "      <td>1</td>\n",
       "    </tr>\n",
       "    <tr>\n",
       "      <td>2011-10-08 11:53:44+00:00</td>\n",
       "      <td>2011-10-08 11:53:44.0000002</td>\n",
       "      <td>-73.982524</td>\n",
       "      <td>40.751260</td>\n",
       "      <td>-73.979654</td>\n",
       "      <td>40.746139</td>\n",
       "      <td>1</td>\n",
       "    </tr>\n",
       "  </tbody>\n",
       "</table>\n",
       "</div>"
      ],
      "text/plain": [
       "                                                   key  pickup_longitude  \\\n",
       "pickup_datetime                                                            \n",
       "2015-01-27 13:08:24+00:00  2015-01-27 13:08:24.0000002        -73.973320   \n",
       "2015-01-27 13:08:24+00:00  2015-01-27 13:08:24.0000003        -73.986862   \n",
       "2011-10-08 11:53:44+00:00  2011-10-08 11:53:44.0000002        -73.982524   \n",
       "\n",
       "                           pickup_latitude  dropoff_longitude  \\\n",
       "pickup_datetime                                                 \n",
       "2015-01-27 13:08:24+00:00        40.763805         -73.981430   \n",
       "2015-01-27 13:08:24+00:00        40.719383         -73.998886   \n",
       "2011-10-08 11:53:44+00:00        40.751260         -73.979654   \n",
       "\n",
       "                           dropoff_latitude  passenger_count  \n",
       "pickup_datetime                                               \n",
       "2015-01-27 13:08:24+00:00         40.743835                1  \n",
       "2015-01-27 13:08:24+00:00         40.739201                1  \n",
       "2011-10-08 11:53:44+00:00         40.746139                1  "
      ]
     },
     "execution_count": 8,
     "metadata": {},
     "output_type": "execute_result"
    }
   ],
   "source": [
    "test.head(3)"
   ]
  },
  {
   "cell_type": "code",
   "execution_count": 9,
   "metadata": {},
   "outputs": [
    {
     "name": "stdout",
     "output_type": "stream",
     "text": [
      "<class 'pandas.core.frame.DataFrame'>\n",
      "DatetimeIndex: 9914 entries, 2015-01-27 13:08:24+00:00 to 2015-01-18 14:06:23+00:00\n",
      "Data columns (total 6 columns):\n",
      "key                  9914 non-null object\n",
      "pickup_longitude     9914 non-null float64\n",
      "pickup_latitude      9914 non-null float64\n",
      "dropoff_longitude    9914 non-null float64\n",
      "dropoff_latitude     9914 non-null float64\n",
      "passenger_count      9914 non-null int64\n",
      "dtypes: float64(4), int64(1), object(1)\n",
      "memory usage: 542.2+ KB\n"
     ]
    }
   ],
   "source": [
    "test.info()"
   ]
  },
  {
   "cell_type": "code",
   "execution_count": 10,
   "metadata": {},
   "outputs": [],
   "source": [
    "#test['pickup_datetime'] =  pd.to_datetime(test['pickup_datetime'])"
   ]
  },
  {
   "cell_type": "code",
   "execution_count": 11,
   "metadata": {},
   "outputs": [
    {
     "data": {
      "text/html": [
       "<div>\n",
       "<style scoped>\n",
       "    .dataframe tbody tr th:only-of-type {\n",
       "        vertical-align: middle;\n",
       "    }\n",
       "\n",
       "    .dataframe tbody tr th {\n",
       "        vertical-align: top;\n",
       "    }\n",
       "\n",
       "    .dataframe thead th {\n",
       "        text-align: right;\n",
       "    }\n",
       "</style>\n",
       "<table border=\"1\" class=\"dataframe\">\n",
       "  <thead>\n",
       "    <tr style=\"text-align: right;\">\n",
       "      <th></th>\n",
       "      <th>fare_amount</th>\n",
       "      <th>pickup_longitude</th>\n",
       "      <th>pickup_latitude</th>\n",
       "      <th>dropoff_longitude</th>\n",
       "      <th>dropoff_latitude</th>\n",
       "      <th>passenger_count</th>\n",
       "    </tr>\n",
       "  </thead>\n",
       "  <tbody>\n",
       "    <tr>\n",
       "      <td>count</td>\n",
       "      <td>1000000.000000</td>\n",
       "      <td>1000000.000000</td>\n",
       "      <td>1000000.000000</td>\n",
       "      <td>999990.000000</td>\n",
       "      <td>999990.000000</td>\n",
       "      <td>1000000.000000</td>\n",
       "    </tr>\n",
       "    <tr>\n",
       "      <td>mean</td>\n",
       "      <td>11.348079</td>\n",
       "      <td>-72.526640</td>\n",
       "      <td>39.929008</td>\n",
       "      <td>-72.527860</td>\n",
       "      <td>39.919954</td>\n",
       "      <td>1.684924</td>\n",
       "    </tr>\n",
       "    <tr>\n",
       "      <td>std</td>\n",
       "      <td>9.822090</td>\n",
       "      <td>12.057937</td>\n",
       "      <td>7.626154</td>\n",
       "      <td>11.324494</td>\n",
       "      <td>8.201418</td>\n",
       "      <td>1.323911</td>\n",
       "    </tr>\n",
       "    <tr>\n",
       "      <td>min</td>\n",
       "      <td>-44.900000</td>\n",
       "      <td>-3377.680935</td>\n",
       "      <td>-3116.285383</td>\n",
       "      <td>-3383.296608</td>\n",
       "      <td>-3114.338567</td>\n",
       "      <td>0.000000</td>\n",
       "    </tr>\n",
       "    <tr>\n",
       "      <td>25%</td>\n",
       "      <td>6.000000</td>\n",
       "      <td>-73.992060</td>\n",
       "      <td>40.734965</td>\n",
       "      <td>-73.991385</td>\n",
       "      <td>40.734046</td>\n",
       "      <td>1.000000</td>\n",
       "    </tr>\n",
       "    <tr>\n",
       "      <td>50%</td>\n",
       "      <td>8.500000</td>\n",
       "      <td>-73.981792</td>\n",
       "      <td>40.752695</td>\n",
       "      <td>-73.980135</td>\n",
       "      <td>40.753166</td>\n",
       "      <td>1.000000</td>\n",
       "    </tr>\n",
       "    <tr>\n",
       "      <td>75%</td>\n",
       "      <td>12.500000</td>\n",
       "      <td>-73.967094</td>\n",
       "      <td>40.767154</td>\n",
       "      <td>-73.963654</td>\n",
       "      <td>40.768129</td>\n",
       "      <td>2.000000</td>\n",
       "    </tr>\n",
       "    <tr>\n",
       "      <td>max</td>\n",
       "      <td>500.000000</td>\n",
       "      <td>2522.271325</td>\n",
       "      <td>2621.628430</td>\n",
       "      <td>45.581619</td>\n",
       "      <td>1651.553433</td>\n",
       "      <td>208.000000</td>\n",
       "    </tr>\n",
       "  </tbody>\n",
       "</table>\n",
       "</div>"
      ],
      "text/plain": [
       "         fare_amount  pickup_longitude  pickup_latitude  dropoff_longitude  \\\n",
       "count 1000000.000000    1000000.000000   1000000.000000      999990.000000   \n",
       "mean       11.348079        -72.526640        39.929008         -72.527860   \n",
       "std         9.822090         12.057937         7.626154          11.324494   \n",
       "min       -44.900000      -3377.680935     -3116.285383       -3383.296608   \n",
       "25%         6.000000        -73.992060        40.734965         -73.991385   \n",
       "50%         8.500000        -73.981792        40.752695         -73.980135   \n",
       "75%        12.500000        -73.967094        40.767154         -73.963654   \n",
       "max       500.000000       2522.271325      2621.628430          45.581619   \n",
       "\n",
       "       dropoff_latitude  passenger_count  \n",
       "count     999990.000000   1000000.000000  \n",
       "mean          39.919954         1.684924  \n",
       "std            8.201418         1.323911  \n",
       "min        -3114.338567         0.000000  \n",
       "25%           40.734046         1.000000  \n",
       "50%           40.753166         1.000000  \n",
       "75%           40.768129         2.000000  \n",
       "max         1651.553433       208.000000  "
      ]
     },
     "execution_count": 11,
     "metadata": {},
     "output_type": "execute_result"
    }
   ],
   "source": [
    "pd.options.display.float_format = '{:.6f}'.format\n",
    "train.describe()"
   ]
  },
  {
   "cell_type": "raw",
   "metadata": {},
   "source": [
    "**According to train.describe :**\n",
    "    1. fare_amount : There are No NULL , (-) and 0 value , Outlier (max=61550) \n",
    "    2. pickup_longitud : There are No NULL , (-) value , Wrong value(max =3457.625683 ) , half of Data range ( -73.992073 ~ -73.967088)\n",
    "    3. pickup_latitude : There are No NULL , (-) value , Wrong value(max = 3406.008395) , half of Data range ( 40.734910 ~ 40.767120)\n",
    "    4. dropoff_longitude : There are NULL , (-) value , Wrong value(max = 3457.622350) , half of Data range (-73.991398 ~ -73.963680)\n",
    "    5. dropoff_latitude : There are NULL , (-) value , Wrong value(max = 3457.622350) , half of Data range (40.734027 ~ 40.768090)\n",
    "    6. passenger_count : There are No NULL , Wrong value(max = 208) , 3/4 of  Data range (0 ~ 2)"
   ]
  },
  {
   "cell_type": "code",
   "execution_count": 12,
   "metadata": {},
   "outputs": [
    {
     "data": {
      "text/html": [
       "<div>\n",
       "<style scoped>\n",
       "    .dataframe tbody tr th:only-of-type {\n",
       "        vertical-align: middle;\n",
       "    }\n",
       "\n",
       "    .dataframe tbody tr th {\n",
       "        vertical-align: top;\n",
       "    }\n",
       "\n",
       "    .dataframe thead th {\n",
       "        text-align: right;\n",
       "    }\n",
       "</style>\n",
       "<table border=\"1\" class=\"dataframe\">\n",
       "  <thead>\n",
       "    <tr style=\"text-align: right;\">\n",
       "      <th></th>\n",
       "      <th>pickup_longitude</th>\n",
       "      <th>pickup_latitude</th>\n",
       "      <th>dropoff_longitude</th>\n",
       "      <th>dropoff_latitude</th>\n",
       "      <th>passenger_count</th>\n",
       "    </tr>\n",
       "  </thead>\n",
       "  <tbody>\n",
       "    <tr>\n",
       "      <td>count</td>\n",
       "      <td>9914.000000</td>\n",
       "      <td>9914.000000</td>\n",
       "      <td>9914.000000</td>\n",
       "      <td>9914.000000</td>\n",
       "      <td>9914.000000</td>\n",
       "    </tr>\n",
       "    <tr>\n",
       "      <td>mean</td>\n",
       "      <td>-73.974722</td>\n",
       "      <td>40.751041</td>\n",
       "      <td>-73.973657</td>\n",
       "      <td>40.751743</td>\n",
       "      <td>1.671273</td>\n",
       "    </tr>\n",
       "    <tr>\n",
       "      <td>std</td>\n",
       "      <td>0.042774</td>\n",
       "      <td>0.033541</td>\n",
       "      <td>0.039072</td>\n",
       "      <td>0.035435</td>\n",
       "      <td>1.278747</td>\n",
       "    </tr>\n",
       "    <tr>\n",
       "      <td>min</td>\n",
       "      <td>-74.252193</td>\n",
       "      <td>40.573143</td>\n",
       "      <td>-74.263242</td>\n",
       "      <td>40.568973</td>\n",
       "      <td>1.000000</td>\n",
       "    </tr>\n",
       "    <tr>\n",
       "      <td>25%</td>\n",
       "      <td>-73.992501</td>\n",
       "      <td>40.736125</td>\n",
       "      <td>-73.991247</td>\n",
       "      <td>40.735254</td>\n",
       "      <td>1.000000</td>\n",
       "    </tr>\n",
       "    <tr>\n",
       "      <td>50%</td>\n",
       "      <td>-73.982326</td>\n",
       "      <td>40.753051</td>\n",
       "      <td>-73.980015</td>\n",
       "      <td>40.754065</td>\n",
       "      <td>1.000000</td>\n",
       "    </tr>\n",
       "    <tr>\n",
       "      <td>75%</td>\n",
       "      <td>-73.968013</td>\n",
       "      <td>40.767113</td>\n",
       "      <td>-73.964059</td>\n",
       "      <td>40.768757</td>\n",
       "      <td>2.000000</td>\n",
       "    </tr>\n",
       "    <tr>\n",
       "      <td>max</td>\n",
       "      <td>-72.986532</td>\n",
       "      <td>41.709555</td>\n",
       "      <td>-72.990963</td>\n",
       "      <td>41.696683</td>\n",
       "      <td>6.000000</td>\n",
       "    </tr>\n",
       "  </tbody>\n",
       "</table>\n",
       "</div>"
      ],
      "text/plain": [
       "       pickup_longitude  pickup_latitude  dropoff_longitude  dropoff_latitude  \\\n",
       "count       9914.000000      9914.000000        9914.000000       9914.000000   \n",
       "mean         -73.974722        40.751041         -73.973657         40.751743   \n",
       "std            0.042774         0.033541           0.039072          0.035435   \n",
       "min          -74.252193        40.573143         -74.263242         40.568973   \n",
       "25%          -73.992501        40.736125         -73.991247         40.735254   \n",
       "50%          -73.982326        40.753051         -73.980015         40.754065   \n",
       "75%          -73.968013        40.767113         -73.964059         40.768757   \n",
       "max          -72.986532        41.709555         -72.990963         41.696683   \n",
       "\n",
       "       passenger_count  \n",
       "count      9914.000000  \n",
       "mean          1.671273  \n",
       "std           1.278747  \n",
       "min           1.000000  \n",
       "25%           1.000000  \n",
       "50%           1.000000  \n",
       "75%           2.000000  \n",
       "max           6.000000  "
      ]
     },
     "execution_count": 12,
     "metadata": {},
     "output_type": "execute_result"
    }
   ],
   "source": [
    "test_desc=test.describe()\n",
    "test_desc"
   ]
  },
  {
   "cell_type": "markdown",
   "metadata": {},
   "source": [
    "# 2. Refine Data "
   ]
  },
  {
   "cell_type": "markdown",
   "metadata": {},
   "source": [
    "## 2-1. Pickup/Dropoff Longitude/Latitude"
   ]
  },
  {
   "cell_type": "markdown",
   "metadata": {},
   "source": [
    "2-1-1. reset train range depend on test range"
   ]
  },
  {
   "cell_type": "code",
   "execution_count": 13,
   "metadata": {},
   "outputs": [
    {
     "data": {
      "text/plain": [
       "(-74.263242, -72.986532, 40.568973, 41.696683)"
      ]
     },
     "execution_count": 13,
     "metadata": {},
     "output_type": "execute_result"
    }
   ],
   "source": [
    "lon_min=min(test_desc['pickup_longitude']['min'],test_desc['dropoff_longitude']['min']);\n",
    "lon_max=max(test_desc['pickup_longitude']['max'],test_desc['dropoff_longitude']['max']);\n",
    "lat_min=min(test_desc['pickup_latitude']['min'],test_desc['dropoff_latitude']['min']);\n",
    "lat_max=min(test_desc['pickup_latitude']['max'],test_desc['dropoff_latitude']['max']);\n",
    "lon_min,lon_max,lat_min,lat_max"
   ]
  },
  {
   "cell_type": "code",
   "execution_count": 14,
   "metadata": {},
   "outputs": [
    {
     "data": {
      "text/html": [
       "<div>\n",
       "<style scoped>\n",
       "    .dataframe tbody tr th:only-of-type {\n",
       "        vertical-align: middle;\n",
       "    }\n",
       "\n",
       "    .dataframe tbody tr th {\n",
       "        vertical-align: top;\n",
       "    }\n",
       "\n",
       "    .dataframe thead th {\n",
       "        text-align: right;\n",
       "    }\n",
       "</style>\n",
       "<table border=\"1\" class=\"dataframe\">\n",
       "  <thead>\n",
       "    <tr style=\"text-align: right;\">\n",
       "      <th></th>\n",
       "      <th>key</th>\n",
       "      <th>fare_amount</th>\n",
       "      <th>pickup_longitude</th>\n",
       "      <th>pickup_latitude</th>\n",
       "      <th>dropoff_longitude</th>\n",
       "      <th>dropoff_latitude</th>\n",
       "      <th>passenger_count</th>\n",
       "    </tr>\n",
       "    <tr>\n",
       "      <th>pickup_datetime</th>\n",
       "      <th></th>\n",
       "      <th></th>\n",
       "      <th></th>\n",
       "      <th></th>\n",
       "      <th></th>\n",
       "      <th></th>\n",
       "      <th></th>\n",
       "    </tr>\n",
       "  </thead>\n",
       "  <tbody>\n",
       "    <tr>\n",
       "      <td>2012-12-24 11:24:00+00:00</td>\n",
       "      <td>2012-12-24 11:24:00.00000098</td>\n",
       "      <td>5.500000</td>\n",
       "      <td>0.000000</td>\n",
       "      <td>0.000000</td>\n",
       "      <td>0.000000</td>\n",
       "      <td>0.000000</td>\n",
       "      <td>3</td>\n",
       "    </tr>\n",
       "    <tr>\n",
       "      <td>2013-11-23 12:57:00+00:00</td>\n",
       "      <td>2013-11-23 12:57:00.000000190</td>\n",
       "      <td>5.000000</td>\n",
       "      <td>0.000000</td>\n",
       "      <td>0.000000</td>\n",
       "      <td>0.000000</td>\n",
       "      <td>0.000000</td>\n",
       "      <td>1</td>\n",
       "    </tr>\n",
       "    <tr>\n",
       "      <td>2011-02-07 20:01:00+00:00</td>\n",
       "      <td>2011-02-07 20:01:00.000000114</td>\n",
       "      <td>6.500000</td>\n",
       "      <td>0.000000</td>\n",
       "      <td>0.000000</td>\n",
       "      <td>0.000000</td>\n",
       "      <td>0.000000</td>\n",
       "      <td>1</td>\n",
       "    </tr>\n",
       "    <tr>\n",
       "      <td>2013-01-17 17:22:00+00:00</td>\n",
       "      <td>2013-01-17 17:22:00.00000043</td>\n",
       "      <td>8.000000</td>\n",
       "      <td>0.000000</td>\n",
       "      <td>0.000000</td>\n",
       "      <td>0.000000</td>\n",
       "      <td>0.000000</td>\n",
       "      <td>2</td>\n",
       "    </tr>\n",
       "    <tr>\n",
       "      <td>2010-09-05 17:08:00+00:00</td>\n",
       "      <td>2010-09-05 17:08:00.00000092</td>\n",
       "      <td>3.700000</td>\n",
       "      <td>0.000000</td>\n",
       "      <td>0.000000</td>\n",
       "      <td>0.000000</td>\n",
       "      <td>0.000000</td>\n",
       "      <td>5</td>\n",
       "    </tr>\n",
       "    <tr>\n",
       "      <td>...</td>\n",
       "      <td>...</td>\n",
       "      <td>...</td>\n",
       "      <td>...</td>\n",
       "      <td>...</td>\n",
       "      <td>...</td>\n",
       "      <td>...</td>\n",
       "      <td>...</td>\n",
       "    </tr>\n",
       "    <tr>\n",
       "      <td>2013-06-07 20:40:21+00:00</td>\n",
       "      <td>2013-06-07 20:40:21.0000003</td>\n",
       "      <td>8.000000</td>\n",
       "      <td>0.000000</td>\n",
       "      <td>0.000000</td>\n",
       "      <td>0.000000</td>\n",
       "      <td>0.000000</td>\n",
       "      <td>2</td>\n",
       "    </tr>\n",
       "    <tr>\n",
       "      <td>2013-03-03 13:18:00+00:00</td>\n",
       "      <td>2013-03-03 13:18:00.000000227</td>\n",
       "      <td>3.500000</td>\n",
       "      <td>0.000000</td>\n",
       "      <td>0.000000</td>\n",
       "      <td>0.000000</td>\n",
       "      <td>0.000000</td>\n",
       "      <td>6</td>\n",
       "    </tr>\n",
       "    <tr>\n",
       "      <td>2014-05-04 23:27:00+00:00</td>\n",
       "      <td>2014-05-04 23:27:00.000000103</td>\n",
       "      <td>9.000000</td>\n",
       "      <td>0.000000</td>\n",
       "      <td>0.000000</td>\n",
       "      <td>0.000000</td>\n",
       "      <td>0.000000</td>\n",
       "      <td>6</td>\n",
       "    </tr>\n",
       "    <tr>\n",
       "      <td>2010-04-28 21:08:00+00:00</td>\n",
       "      <td>2010-04-28 21:08:00.00000038</td>\n",
       "      <td>9.300000</td>\n",
       "      <td>0.000000</td>\n",
       "      <td>0.000000</td>\n",
       "      <td>0.000000</td>\n",
       "      <td>0.000000</td>\n",
       "      <td>3</td>\n",
       "    </tr>\n",
       "    <tr>\n",
       "      <td>2014-05-12 02:34:05+00:00</td>\n",
       "      <td>2014-05-12 02:34:05.0000001</td>\n",
       "      <td>8.000000</td>\n",
       "      <td>0.000000</td>\n",
       "      <td>0.000000</td>\n",
       "      <td>0.000000</td>\n",
       "      <td>0.000000</td>\n",
       "      <td>2</td>\n",
       "    </tr>\n",
       "  </tbody>\n",
       "</table>\n",
       "<p>20965 rows × 7 columns</p>\n",
       "</div>"
      ],
      "text/plain": [
       "                                                     key  fare_amount  \\\n",
       "pickup_datetime                                                         \n",
       "2012-12-24 11:24:00+00:00   2012-12-24 11:24:00.00000098     5.500000   \n",
       "2013-11-23 12:57:00+00:00  2013-11-23 12:57:00.000000190     5.000000   \n",
       "2011-02-07 20:01:00+00:00  2011-02-07 20:01:00.000000114     6.500000   \n",
       "2013-01-17 17:22:00+00:00   2013-01-17 17:22:00.00000043     8.000000   \n",
       "2010-09-05 17:08:00+00:00   2010-09-05 17:08:00.00000092     3.700000   \n",
       "...                                                  ...          ...   \n",
       "2013-06-07 20:40:21+00:00    2013-06-07 20:40:21.0000003     8.000000   \n",
       "2013-03-03 13:18:00+00:00  2013-03-03 13:18:00.000000227     3.500000   \n",
       "2014-05-04 23:27:00+00:00  2014-05-04 23:27:00.000000103     9.000000   \n",
       "2010-04-28 21:08:00+00:00   2010-04-28 21:08:00.00000038     9.300000   \n",
       "2014-05-12 02:34:05+00:00    2014-05-12 02:34:05.0000001     8.000000   \n",
       "\n",
       "                           pickup_longitude  pickup_latitude  \\\n",
       "pickup_datetime                                                \n",
       "2012-12-24 11:24:00+00:00          0.000000         0.000000   \n",
       "2013-11-23 12:57:00+00:00          0.000000         0.000000   \n",
       "2011-02-07 20:01:00+00:00          0.000000         0.000000   \n",
       "2013-01-17 17:22:00+00:00          0.000000         0.000000   \n",
       "2010-09-05 17:08:00+00:00          0.000000         0.000000   \n",
       "...                                     ...              ...   \n",
       "2013-06-07 20:40:21+00:00          0.000000         0.000000   \n",
       "2013-03-03 13:18:00+00:00          0.000000         0.000000   \n",
       "2014-05-04 23:27:00+00:00          0.000000         0.000000   \n",
       "2010-04-28 21:08:00+00:00          0.000000         0.000000   \n",
       "2014-05-12 02:34:05+00:00          0.000000         0.000000   \n",
       "\n",
       "                           dropoff_longitude  dropoff_latitude  \\\n",
       "pickup_datetime                                                  \n",
       "2012-12-24 11:24:00+00:00           0.000000          0.000000   \n",
       "2013-11-23 12:57:00+00:00           0.000000          0.000000   \n",
       "2011-02-07 20:01:00+00:00           0.000000          0.000000   \n",
       "2013-01-17 17:22:00+00:00           0.000000          0.000000   \n",
       "2010-09-05 17:08:00+00:00           0.000000          0.000000   \n",
       "...                                      ...               ...   \n",
       "2013-06-07 20:40:21+00:00           0.000000          0.000000   \n",
       "2013-03-03 13:18:00+00:00           0.000000          0.000000   \n",
       "2014-05-04 23:27:00+00:00           0.000000          0.000000   \n",
       "2010-04-28 21:08:00+00:00           0.000000          0.000000   \n",
       "2014-05-12 02:34:05+00:00           0.000000          0.000000   \n",
       "\n",
       "                           passenger_count  \n",
       "pickup_datetime                             \n",
       "2012-12-24 11:24:00+00:00                3  \n",
       "2013-11-23 12:57:00+00:00                1  \n",
       "2011-02-07 20:01:00+00:00                1  \n",
       "2013-01-17 17:22:00+00:00                2  \n",
       "2010-09-05 17:08:00+00:00                5  \n",
       "...                                    ...  \n",
       "2013-06-07 20:40:21+00:00                2  \n",
       "2013-03-03 13:18:00+00:00                6  \n",
       "2014-05-04 23:27:00+00:00                6  \n",
       "2010-04-28 21:08:00+00:00                3  \n",
       "2014-05-12 02:34:05+00:00                2  \n",
       "\n",
       "[20965 rows x 7 columns]"
      ]
     },
     "execution_count": 14,
     "metadata": {},
     "output_type": "execute_result"
    }
   ],
   "source": [
    "train[(train['pickup_longitude']>lon_max) | (train['pickup_longitude'] <lon_min) | (train['dropoff_longitude'] > lon_max) | (train['dropoff_latitude'] < lat_min)]"
   ]
  },
  {
   "cell_type": "code",
   "execution_count": 15,
   "metadata": {},
   "outputs": [
    {
     "data": {
      "text/html": [
       "<div>\n",
       "<style scoped>\n",
       "    .dataframe tbody tr th:only-of-type {\n",
       "        vertical-align: middle;\n",
       "    }\n",
       "\n",
       "    .dataframe tbody tr th {\n",
       "        vertical-align: top;\n",
       "    }\n",
       "\n",
       "    .dataframe thead th {\n",
       "        text-align: right;\n",
       "    }\n",
       "</style>\n",
       "<table border=\"1\" class=\"dataframe\">\n",
       "  <thead>\n",
       "    <tr style=\"text-align: right;\">\n",
       "      <th></th>\n",
       "      <th>key</th>\n",
       "      <th>fare_amount</th>\n",
       "      <th>pickup_longitude</th>\n",
       "      <th>pickup_latitude</th>\n",
       "      <th>dropoff_longitude</th>\n",
       "      <th>dropoff_latitude</th>\n",
       "      <th>passenger_count</th>\n",
       "    </tr>\n",
       "    <tr>\n",
       "      <th>pickup_datetime</th>\n",
       "      <th></th>\n",
       "      <th></th>\n",
       "      <th></th>\n",
       "      <th></th>\n",
       "      <th></th>\n",
       "      <th></th>\n",
       "      <th></th>\n",
       "    </tr>\n",
       "  </thead>\n",
       "  <tbody>\n",
       "    <tr>\n",
       "      <td>2009-06-15 17:26:21+00:00</td>\n",
       "      <td>2009-06-15 17:26:21.0000001</td>\n",
       "      <td>4.500000</td>\n",
       "      <td>-73.844311</td>\n",
       "      <td>40.721319</td>\n",
       "      <td>-73.841610</td>\n",
       "      <td>40.712278</td>\n",
       "      <td>1</td>\n",
       "    </tr>\n",
       "    <tr>\n",
       "      <td>2010-01-05 16:52:16+00:00</td>\n",
       "      <td>2010-01-05 16:52:16.0000002</td>\n",
       "      <td>16.900000</td>\n",
       "      <td>-74.016048</td>\n",
       "      <td>40.711303</td>\n",
       "      <td>-73.979268</td>\n",
       "      <td>40.782004</td>\n",
       "      <td>1</td>\n",
       "    </tr>\n",
       "    <tr>\n",
       "      <td>2011-08-18 00:35:00+00:00</td>\n",
       "      <td>2011-08-18 00:35:00.00000049</td>\n",
       "      <td>5.700000</td>\n",
       "      <td>-73.982738</td>\n",
       "      <td>40.761270</td>\n",
       "      <td>-73.991242</td>\n",
       "      <td>40.750562</td>\n",
       "      <td>2</td>\n",
       "    </tr>\n",
       "  </tbody>\n",
       "</table>\n",
       "</div>"
      ],
      "text/plain": [
       "                                                    key  fare_amount  \\\n",
       "pickup_datetime                                                        \n",
       "2009-06-15 17:26:21+00:00   2009-06-15 17:26:21.0000001     4.500000   \n",
       "2010-01-05 16:52:16+00:00   2010-01-05 16:52:16.0000002    16.900000   \n",
       "2011-08-18 00:35:00+00:00  2011-08-18 00:35:00.00000049     5.700000   \n",
       "\n",
       "                           pickup_longitude  pickup_latitude  \\\n",
       "pickup_datetime                                                \n",
       "2009-06-15 17:26:21+00:00        -73.844311        40.721319   \n",
       "2010-01-05 16:52:16+00:00        -74.016048        40.711303   \n",
       "2011-08-18 00:35:00+00:00        -73.982738        40.761270   \n",
       "\n",
       "                           dropoff_longitude  dropoff_latitude  \\\n",
       "pickup_datetime                                                  \n",
       "2009-06-15 17:26:21+00:00         -73.841610         40.712278   \n",
       "2010-01-05 16:52:16+00:00         -73.979268         40.782004   \n",
       "2011-08-18 00:35:00+00:00         -73.991242         40.750562   \n",
       "\n",
       "                           passenger_count  \n",
       "pickup_datetime                             \n",
       "2009-06-15 17:26:21+00:00                1  \n",
       "2010-01-05 16:52:16+00:00                1  \n",
       "2011-08-18 00:35:00+00:00                2  "
      ]
     },
     "execution_count": 15,
     "metadata": {},
     "output_type": "execute_result"
    }
   ],
   "source": [
    "train=train[~((train['pickup_longitude']>lon_max) | (train['pickup_longitude'] <lon_min) | (train['dropoff_longitude'] > lon_max) | (train['dropoff_longitude'] < lon_min)\n",
    "             | (train['pickup_latitude']>lat_max) | (train['pickup_latitude'] <lat_min) | (train['dropoff_latitude'] > lat_max) | (train['dropoff_latitude'] < lat_min))]\n",
    "train.head(3)"
   ]
  },
  {
   "cell_type": "markdown",
   "metadata": {},
   "source": [
    "## 2-2. Missing Values"
   ]
  },
  {
   "cell_type": "code",
   "execution_count": 16,
   "metadata": {},
   "outputs": [],
   "source": [
    "train=train.dropna()"
   ]
  },
  {
   "cell_type": "markdown",
   "metadata": {},
   "source": [
    "## 2-3.Passenger_count"
   ]
  },
  {
   "cell_type": "code",
   "execution_count": 17,
   "metadata": {},
   "outputs": [
    {
     "data": {
      "text/plain": [
       "<matplotlib.axes._subplots.AxesSubplot at 0x7f2970b035f8>"
      ]
     },
     "execution_count": 17,
     "metadata": {},
     "output_type": "execute_result"
    },
    {
     "data": {
      "image/png": "[encoded data removed]",
      "text/plain": [
       "<Figure size 432x288 with 1 Axes>"
      ]
     },
     "metadata": {
      "needs_background": "light"
     },
     "output_type": "display_data"
    }
   ],
   "source": [
    "sns.boxplot(x='passenger_count',data=train)"
   ]
  },
  {
   "cell_type": "code",
   "execution_count": 18,
   "metadata": {},
   "outputs": [
    {
     "data": {
      "text/plain": [
       "1    676474\n",
       "2    145205\n",
       "5     69075\n",
       "3     42860\n",
       "4     20996\n",
       "6     20759\n",
       "0      3482\n",
       "Name: passenger_count, dtype: int64"
      ]
     },
     "execution_count": 18,
     "metadata": {},
     "output_type": "execute_result"
    }
   ],
   "source": [
    "train.passenger_count.value_counts()"
   ]
  },
  {
   "cell_type": "code",
   "execution_count": 19,
   "metadata": {},
   "outputs": [
    {
     "data": {
      "text/html": [
       "<div>\n",
       "<style scoped>\n",
       "    .dataframe tbody tr th:only-of-type {\n",
       "        vertical-align: middle;\n",
       "    }\n",
       "\n",
       "    .dataframe tbody tr th {\n",
       "        vertical-align: top;\n",
       "    }\n",
       "\n",
       "    .dataframe thead th {\n",
       "        text-align: right;\n",
       "    }\n",
       "</style>\n",
       "<table border=\"1\" class=\"dataframe\">\n",
       "  <thead>\n",
       "    <tr style=\"text-align: right;\">\n",
       "      <th></th>\n",
       "      <th>key</th>\n",
       "      <th>fare_amount</th>\n",
       "      <th>pickup_longitude</th>\n",
       "      <th>pickup_latitude</th>\n",
       "      <th>dropoff_longitude</th>\n",
       "      <th>dropoff_latitude</th>\n",
       "      <th>passenger_count</th>\n",
       "    </tr>\n",
       "    <tr>\n",
       "      <th>pickup_datetime</th>\n",
       "      <th></th>\n",
       "      <th></th>\n",
       "      <th></th>\n",
       "      <th></th>\n",
       "      <th></th>\n",
       "      <th></th>\n",
       "      <th></th>\n",
       "    </tr>\n",
       "  </thead>\n",
       "  <tbody>\n",
       "    <tr>\n",
       "      <td>2015-06-02 23:16:15+00:00</td>\n",
       "      <td>2015-06-02 23:16:15.00000012</td>\n",
       "      <td>34.000000</td>\n",
       "      <td>-73.974899</td>\n",
       "      <td>40.751095</td>\n",
       "      <td>-73.908546</td>\n",
       "      <td>40.881878</td>\n",
       "      <td>0</td>\n",
       "    </tr>\n",
       "    <tr>\n",
       "      <td>2012-01-28 21:33:18+00:00</td>\n",
       "      <td>2012-01-28 21:33:18.0000002</td>\n",
       "      <td>4.900000</td>\n",
       "      <td>-73.955322</td>\n",
       "      <td>40.782840</td>\n",
       "      <td>-73.955797</td>\n",
       "      <td>40.773673</td>\n",
       "      <td>0</td>\n",
       "    </tr>\n",
       "    <tr>\n",
       "      <td>2012-02-27 07:24:20+00:00</td>\n",
       "      <td>2012-02-27 07:24:20.0000003</td>\n",
       "      <td>6.500000</td>\n",
       "      <td>-73.983397</td>\n",
       "      <td>40.738183</td>\n",
       "      <td>-73.971395</td>\n",
       "      <td>40.758023</td>\n",
       "      <td>0</td>\n",
       "    </tr>\n",
       "    <tr>\n",
       "      <td>2011-05-25 23:58:48+00:00</td>\n",
       "      <td>2011-05-25 23:58:48.0000001</td>\n",
       "      <td>13.300000</td>\n",
       "      <td>-73.998360</td>\n",
       "      <td>40.740348</td>\n",
       "      <td>-73.946455</td>\n",
       "      <td>40.777348</td>\n",
       "      <td>0</td>\n",
       "    </tr>\n",
       "    <tr>\n",
       "      <td>2011-10-23 11:09:28+00:00</td>\n",
       "      <td>2011-10-23 11:09:28.0000001</td>\n",
       "      <td>10.100000</td>\n",
       "      <td>-73.971400</td>\n",
       "      <td>40.795000</td>\n",
       "      <td>-73.967900</td>\n",
       "      <td>40.768600</td>\n",
       "      <td>0</td>\n",
       "    </tr>\n",
       "    <tr>\n",
       "      <td>...</td>\n",
       "      <td>...</td>\n",
       "      <td>...</td>\n",
       "      <td>...</td>\n",
       "      <td>...</td>\n",
       "      <td>...</td>\n",
       "      <td>...</td>\n",
       "      <td>...</td>\n",
       "    </tr>\n",
       "    <tr>\n",
       "      <td>2011-09-22 15:16:33+00:00</td>\n",
       "      <td>2011-09-22 15:16:33.0000001</td>\n",
       "      <td>11.700000</td>\n",
       "      <td>-73.975200</td>\n",
       "      <td>40.765300</td>\n",
       "      <td>-73.961100</td>\n",
       "      <td>40.806600</td>\n",
       "      <td>0</td>\n",
       "    </tr>\n",
       "    <tr>\n",
       "      <td>2011-07-09 17:23:58+00:00</td>\n",
       "      <td>2011-07-09 17:23:58.0000002</td>\n",
       "      <td>3.300000</td>\n",
       "      <td>-73.986900</td>\n",
       "      <td>40.761600</td>\n",
       "      <td>-73.982700</td>\n",
       "      <td>40.765500</td>\n",
       "      <td>0</td>\n",
       "    </tr>\n",
       "    <tr>\n",
       "      <td>2011-01-19 15:46:03+00:00</td>\n",
       "      <td>2011-01-19 15:46:03.0000001</td>\n",
       "      <td>6.900000</td>\n",
       "      <td>-73.991477</td>\n",
       "      <td>40.730023</td>\n",
       "      <td>-73.993657</td>\n",
       "      <td>40.744948</td>\n",
       "      <td>0</td>\n",
       "    </tr>\n",
       "    <tr>\n",
       "      <td>2012-04-20 14:29:01+00:00</td>\n",
       "      <td>2012-04-20 14:29:01.0000007</td>\n",
       "      <td>8.900000</td>\n",
       "      <td>-74.008015</td>\n",
       "      <td>40.745340</td>\n",
       "      <td>-73.996070</td>\n",
       "      <td>40.725392</td>\n",
       "      <td>0</td>\n",
       "    </tr>\n",
       "    <tr>\n",
       "      <td>2011-02-10 12:08:13+00:00</td>\n",
       "      <td>2011-02-10 12:08:13.0000001</td>\n",
       "      <td>13.300000</td>\n",
       "      <td>-74.015867</td>\n",
       "      <td>40.715233</td>\n",
       "      <td>-73.989395</td>\n",
       "      <td>40.758612</td>\n",
       "      <td>0</td>\n",
       "    </tr>\n",
       "  </tbody>\n",
       "</table>\n",
       "<p>3482 rows × 7 columns</p>\n",
       "</div>"
      ],
      "text/plain": [
       "                                                    key  fare_amount  \\\n",
       "pickup_datetime                                                        \n",
       "2015-06-02 23:16:15+00:00  2015-06-02 23:16:15.00000012    34.000000   \n",
       "2012-01-28 21:33:18+00:00   2012-01-28 21:33:18.0000002     4.900000   \n",
       "2012-02-27 07:24:20+00:00   2012-02-27 07:24:20.0000003     6.500000   \n",
       "2011-05-25 23:58:48+00:00   2011-05-25 23:58:48.0000001    13.300000   \n",
       "2011-10-23 11:09:28+00:00   2011-10-23 11:09:28.0000001    10.100000   \n",
       "...                                                 ...          ...   \n",
       "2011-09-22 15:16:33+00:00   2011-09-22 15:16:33.0000001    11.700000   \n",
       "2011-07-09 17:23:58+00:00   2011-07-09 17:23:58.0000002     3.300000   \n",
       "2011-01-19 15:46:03+00:00   2011-01-19 15:46:03.0000001     6.900000   \n",
       "2012-04-20 14:29:01+00:00   2012-04-20 14:29:01.0000007     8.900000   \n",
       "2011-02-10 12:08:13+00:00   2011-02-10 12:08:13.0000001    13.300000   \n",
       "\n",
       "                           pickup_longitude  pickup_latitude  \\\n",
       "pickup_datetime                                                \n",
       "2015-06-02 23:16:15+00:00        -73.974899        40.751095   \n",
       "2012-01-28 21:33:18+00:00        -73.955322        40.782840   \n",
       "2012-02-27 07:24:20+00:00        -73.983397        40.738183   \n",
       "2011-05-25 23:58:48+00:00        -73.998360        40.740348   \n",
       "2011-10-23 11:09:28+00:00        -73.971400        40.795000   \n",
       "...                                     ...              ...   \n",
       "2011-09-22 15:16:33+00:00        -73.975200        40.765300   \n",
       "2011-07-09 17:23:58+00:00        -73.986900        40.761600   \n",
       "2011-01-19 15:46:03+00:00        -73.991477        40.730023   \n",
       "2012-04-20 14:29:01+00:00        -74.008015        40.745340   \n",
       "2011-02-10 12:08:13+00:00        -74.015867        40.715233   \n",
       "\n",
       "                           dropoff_longitude  dropoff_latitude  \\\n",
       "pickup_datetime                                                  \n",
       "2015-06-02 23:16:15+00:00         -73.908546         40.881878   \n",
       "2012-01-28 21:33:18+00:00         -73.955797         40.773673   \n",
       "2012-02-27 07:24:20+00:00         -73.971395         40.758023   \n",
       "2011-05-25 23:58:48+00:00         -73.946455         40.777348   \n",
       "2011-10-23 11:09:28+00:00         -73.967900         40.768600   \n",
       "...                                      ...               ...   \n",
       "2011-09-22 15:16:33+00:00         -73.961100         40.806600   \n",
       "2011-07-09 17:23:58+00:00         -73.982700         40.765500   \n",
       "2011-01-19 15:46:03+00:00         -73.993657         40.744948   \n",
       "2012-04-20 14:29:01+00:00         -73.996070         40.725392   \n",
       "2011-02-10 12:08:13+00:00         -73.989395         40.758612   \n",
       "\n",
       "                           passenger_count  \n",
       "pickup_datetime                             \n",
       "2015-06-02 23:16:15+00:00                0  \n",
       "2012-01-28 21:33:18+00:00                0  \n",
       "2012-02-27 07:24:20+00:00                0  \n",
       "2011-05-25 23:58:48+00:00                0  \n",
       "2011-10-23 11:09:28+00:00                0  \n",
       "...                                    ...  \n",
       "2011-09-22 15:16:33+00:00                0  \n",
       "2011-07-09 17:23:58+00:00                0  \n",
       "2011-01-19 15:46:03+00:00                0  \n",
       "2012-04-20 14:29:01+00:00                0  \n",
       "2011-02-10 12:08:13+00:00                0  \n",
       "\n",
       "[3482 rows x 7 columns]"
      ]
     },
     "execution_count": 19,
     "metadata": {},
     "output_type": "execute_result"
    }
   ],
   "source": [
    "train[train['passenger_count']==0]"
   ]
  },
  {
   "cell_type": "markdown",
   "metadata": {},
   "source": [
    "According to Test passenger_count range, I drop out of the range."
   ]
  },
  {
   "cell_type": "code",
   "execution_count": 20,
   "metadata": {},
   "outputs": [
    {
     "data": {
      "text/html": [
       "<div>\n",
       "<style scoped>\n",
       "    .dataframe tbody tr th:only-of-type {\n",
       "        vertical-align: middle;\n",
       "    }\n",
       "\n",
       "    .dataframe tbody tr th {\n",
       "        vertical-align: top;\n",
       "    }\n",
       "\n",
       "    .dataframe thead th {\n",
       "        text-align: right;\n",
       "    }\n",
       "</style>\n",
       "<table border=\"1\" class=\"dataframe\">\n",
       "  <thead>\n",
       "    <tr style=\"text-align: right;\">\n",
       "      <th></th>\n",
       "      <th>key</th>\n",
       "      <th>fare_amount</th>\n",
       "      <th>pickup_longitude</th>\n",
       "      <th>pickup_latitude</th>\n",
       "      <th>dropoff_longitude</th>\n",
       "      <th>dropoff_latitude</th>\n",
       "      <th>passenger_count</th>\n",
       "    </tr>\n",
       "    <tr>\n",
       "      <th>pickup_datetime</th>\n",
       "      <th></th>\n",
       "      <th></th>\n",
       "      <th></th>\n",
       "      <th></th>\n",
       "      <th></th>\n",
       "      <th></th>\n",
       "      <th></th>\n",
       "    </tr>\n",
       "  </thead>\n",
       "  <tbody>\n",
       "    <tr>\n",
       "      <td>2009-06-15 17:26:21+00:00</td>\n",
       "      <td>2009-06-15 17:26:21.0000001</td>\n",
       "      <td>4.500000</td>\n",
       "      <td>-73.844311</td>\n",
       "      <td>40.721319</td>\n",
       "      <td>-73.841610</td>\n",
       "      <td>40.712278</td>\n",
       "      <td>1</td>\n",
       "    </tr>\n",
       "    <tr>\n",
       "      <td>2010-01-05 16:52:16+00:00</td>\n",
       "      <td>2010-01-05 16:52:16.0000002</td>\n",
       "      <td>16.900000</td>\n",
       "      <td>-74.016048</td>\n",
       "      <td>40.711303</td>\n",
       "      <td>-73.979268</td>\n",
       "      <td>40.782004</td>\n",
       "      <td>1</td>\n",
       "    </tr>\n",
       "    <tr>\n",
       "      <td>2011-08-18 00:35:00+00:00</td>\n",
       "      <td>2011-08-18 00:35:00.00000049</td>\n",
       "      <td>5.700000</td>\n",
       "      <td>-73.982738</td>\n",
       "      <td>40.761270</td>\n",
       "      <td>-73.991242</td>\n",
       "      <td>40.750562</td>\n",
       "      <td>2</td>\n",
       "    </tr>\n",
       "    <tr>\n",
       "      <td>2012-04-21 04:30:42+00:00</td>\n",
       "      <td>2012-04-21 04:30:42.0000001</td>\n",
       "      <td>7.700000</td>\n",
       "      <td>-73.987130</td>\n",
       "      <td>40.733143</td>\n",
       "      <td>-73.991567</td>\n",
       "      <td>40.758092</td>\n",
       "      <td>1</td>\n",
       "    </tr>\n",
       "    <tr>\n",
       "      <td>2010-03-09 07:51:00+00:00</td>\n",
       "      <td>2010-03-09 07:51:00.000000135</td>\n",
       "      <td>5.300000</td>\n",
       "      <td>-73.968095</td>\n",
       "      <td>40.768008</td>\n",
       "      <td>-73.956655</td>\n",
       "      <td>40.783762</td>\n",
       "      <td>1</td>\n",
       "    </tr>\n",
       "    <tr>\n",
       "      <td>...</td>\n",
       "      <td>...</td>\n",
       "      <td>...</td>\n",
       "      <td>...</td>\n",
       "      <td>...</td>\n",
       "      <td>...</td>\n",
       "      <td>...</td>\n",
       "      <td>...</td>\n",
       "    </tr>\n",
       "    <tr>\n",
       "      <td>2014-09-13 21:44:38+00:00</td>\n",
       "      <td>2014-09-13 21:44:38.0000001</td>\n",
       "      <td>7.000000</td>\n",
       "      <td>-73.976676</td>\n",
       "      <td>40.785630</td>\n",
       "      <td>-73.959196</td>\n",
       "      <td>40.775114</td>\n",
       "      <td>1</td>\n",
       "    </tr>\n",
       "    <tr>\n",
       "      <td>2010-09-20 14:50:37+00:00</td>\n",
       "      <td>2010-09-20 14:50:37.0000002</td>\n",
       "      <td>7.300000</td>\n",
       "      <td>-73.992103</td>\n",
       "      <td>40.671385</td>\n",
       "      <td>-73.992103</td>\n",
       "      <td>40.671385</td>\n",
       "      <td>2</td>\n",
       "    </tr>\n",
       "    <tr>\n",
       "      <td>2013-04-26 14:03:00+00:00</td>\n",
       "      <td>2013-04-26 14:03:00.000000118</td>\n",
       "      <td>10.500000</td>\n",
       "      <td>-73.978423</td>\n",
       "      <td>40.751135</td>\n",
       "      <td>-73.993397</td>\n",
       "      <td>40.762197</td>\n",
       "      <td>5</td>\n",
       "    </tr>\n",
       "    <tr>\n",
       "      <td>2011-07-08 00:29:00+00:00</td>\n",
       "      <td>2011-07-08 00:29:00.00000099</td>\n",
       "      <td>6.900000</td>\n",
       "      <td>-73.980317</td>\n",
       "      <td>40.759482</td>\n",
       "      <td>-73.976832</td>\n",
       "      <td>40.743122</td>\n",
       "      <td>1</td>\n",
       "    </tr>\n",
       "    <tr>\n",
       "      <td>2009-12-31 14:30:00+00:00</td>\n",
       "      <td>2009-12-31 14:30:00.00000021</td>\n",
       "      <td>4.100000</td>\n",
       "      <td>-74.006635</td>\n",
       "      <td>40.741598</td>\n",
       "      <td>-73.999450</td>\n",
       "      <td>40.745702</td>\n",
       "      <td>1</td>\n",
       "    </tr>\n",
       "  </tbody>\n",
       "</table>\n",
       "<p>975369 rows × 7 columns</p>\n",
       "</div>"
      ],
      "text/plain": [
       "                                                     key  fare_amount  \\\n",
       "pickup_datetime                                                         \n",
       "2009-06-15 17:26:21+00:00    2009-06-15 17:26:21.0000001     4.500000   \n",
       "2010-01-05 16:52:16+00:00    2010-01-05 16:52:16.0000002    16.900000   \n",
       "2011-08-18 00:35:00+00:00   2011-08-18 00:35:00.00000049     5.700000   \n",
       "2012-04-21 04:30:42+00:00    2012-04-21 04:30:42.0000001     7.700000   \n",
       "2010-03-09 07:51:00+00:00  2010-03-09 07:51:00.000000135     5.300000   \n",
       "...                                                  ...          ...   \n",
       "2014-09-13 21:44:38+00:00    2014-09-13 21:44:38.0000001     7.000000   \n",
       "2010-09-20 14:50:37+00:00    2010-09-20 14:50:37.0000002     7.300000   \n",
       "2013-04-26 14:03:00+00:00  2013-04-26 14:03:00.000000118    10.500000   \n",
       "2011-07-08 00:29:00+00:00   2011-07-08 00:29:00.00000099     6.900000   \n",
       "2009-12-31 14:30:00+00:00   2009-12-31 14:30:00.00000021     4.100000   \n",
       "\n",
       "                           pickup_longitude  pickup_latitude  \\\n",
       "pickup_datetime                                                \n",
       "2009-06-15 17:26:21+00:00        -73.844311        40.721319   \n",
       "2010-01-05 16:52:16+00:00        -74.016048        40.711303   \n",
       "2011-08-18 00:35:00+00:00        -73.982738        40.761270   \n",
       "2012-04-21 04:30:42+00:00        -73.987130        40.733143   \n",
       "2010-03-09 07:51:00+00:00        -73.968095        40.768008   \n",
       "...                                     ...              ...   \n",
       "2014-09-13 21:44:38+00:00        -73.976676        40.785630   \n",
       "2010-09-20 14:50:37+00:00        -73.992103        40.671385   \n",
       "2013-04-26 14:03:00+00:00        -73.978423        40.751135   \n",
       "2011-07-08 00:29:00+00:00        -73.980317        40.759482   \n",
       "2009-12-31 14:30:00+00:00        -74.006635        40.741598   \n",
       "\n",
       "                           dropoff_longitude  dropoff_latitude  \\\n",
       "pickup_datetime                                                  \n",
       "2009-06-15 17:26:21+00:00         -73.841610         40.712278   \n",
       "2010-01-05 16:52:16+00:00         -73.979268         40.782004   \n",
       "2011-08-18 00:35:00+00:00         -73.991242         40.750562   \n",
       "2012-04-21 04:30:42+00:00         -73.991567         40.758092   \n",
       "2010-03-09 07:51:00+00:00         -73.956655         40.783762   \n",
       "...                                      ...               ...   \n",
       "2014-09-13 21:44:38+00:00         -73.959196         40.775114   \n",
       "2010-09-20 14:50:37+00:00         -73.992103         40.671385   \n",
       "2013-04-26 14:03:00+00:00         -73.993397         40.762197   \n",
       "2011-07-08 00:29:00+00:00         -73.976832         40.743122   \n",
       "2009-12-31 14:30:00+00:00         -73.999450         40.745702   \n",
       "\n",
       "                           passenger_count  \n",
       "pickup_datetime                             \n",
       "2009-06-15 17:26:21+00:00                1  \n",
       "2010-01-05 16:52:16+00:00                1  \n",
       "2011-08-18 00:35:00+00:00                2  \n",
       "2012-04-21 04:30:42+00:00                1  \n",
       "2010-03-09 07:51:00+00:00                1  \n",
       "...                                    ...  \n",
       "2014-09-13 21:44:38+00:00                1  \n",
       "2010-09-20 14:50:37+00:00                2  \n",
       "2013-04-26 14:03:00+00:00                5  \n",
       "2011-07-08 00:29:00+00:00                1  \n",
       "2009-12-31 14:30:00+00:00                1  \n",
       "\n",
       "[975369 rows x 7 columns]"
      ]
     },
     "execution_count": 20,
     "metadata": {},
     "output_type": "execute_result"
    }
   ],
   "source": [
    "train=train[(train['passenger_count']>=1) & (train['passenger_count']<=6)]\n",
    "train"
   ]
  },
  {
   "cell_type": "markdown",
   "metadata": {},
   "source": [
    "# 3. Hypothesis\n",
    "## 3-1. Is New variable 'dist' related with fare_amount?\n",
    " Definition  'dist' :  https://en.wikipedia.org/wiki/Haversine_formula\n",
    " "
   ]
  },
  {
   "cell_type": "code",
   "execution_count": 21,
   "metadata": {},
   "outputs": [],
   "source": [
    "\"\"\"Referenced from (https://stackoverflow.com/questions/4913349/haversine-formula-in-python-bearing-and-distance-between-two-gps-points (by Michael Dunn))\"\"\"\n",
    "\n",
    "from math import radians, cos, sin, asin, sqrt\n",
    "\n",
    "def distance(lat1,lon1,lat2,lon2):\n",
    "    # convert decimal degrees to radians \n",
    "    lon1, lat1, lon2, lat2 = map(radians, [lon1, lat1, lon2, lat2])\n",
    "\n",
    "    # haversine formula \n",
    "    dlon = lon2 - lon1 \n",
    "    dlat = lat2 - lat1 \n",
    "    a = sin(dlat/2)**2 + cos(lat1) * cos(lat2) * sin(dlon/2)**2\n",
    "    c = 2 * asin(sqrt(a)) \n",
    "    r = 6371 # Radius of earth in kilometers. Use 3956 for miles\n",
    "    return c * r"
   ]
  },
  {
   "cell_type": "code",
   "execution_count": 22,
   "metadata": {},
   "outputs": [],
   "source": [
    "train['dist'] =  np.vectorize(distance)(train['pickup_latitude'],train['pickup_longitude'],train['dropoff_latitude'],train['dropoff_longitude'])\n",
    "#from haversine import haversine, Unit #(lat, lon)\n",
    "#train['dist']=train.apply(lambda a:haversine((a.pickup_latitude,a.pickup_longitude),(a.dropoff_latitude,a.dropoff_longitude), unit='mi'),axis=1)"
   ]
  },
  {
   "cell_type": "code",
   "execution_count": 23,
   "metadata": {},
   "outputs": [
    {
     "data": {
      "text/html": [
       "<div>\n",
       "<style scoped>\n",
       "    .dataframe tbody tr th:only-of-type {\n",
       "        vertical-align: middle;\n",
       "    }\n",
       "\n",
       "    .dataframe tbody tr th {\n",
       "        vertical-align: top;\n",
       "    }\n",
       "\n",
       "    .dataframe thead th {\n",
       "        text-align: right;\n",
       "    }\n",
       "</style>\n",
       "<table border=\"1\" class=\"dataframe\">\n",
       "  <thead>\n",
       "    <tr style=\"text-align: right;\">\n",
       "      <th></th>\n",
       "      <th>key</th>\n",
       "      <th>fare_amount</th>\n",
       "      <th>pickup_longitude</th>\n",
       "      <th>pickup_latitude</th>\n",
       "      <th>dropoff_longitude</th>\n",
       "      <th>dropoff_latitude</th>\n",
       "      <th>passenger_count</th>\n",
       "      <th>dist</th>\n",
       "    </tr>\n",
       "    <tr>\n",
       "      <th>pickup_datetime</th>\n",
       "      <th></th>\n",
       "      <th></th>\n",
       "      <th></th>\n",
       "      <th></th>\n",
       "      <th></th>\n",
       "      <th></th>\n",
       "      <th></th>\n",
       "      <th></th>\n",
       "    </tr>\n",
       "  </thead>\n",
       "  <tbody>\n",
       "    <tr>\n",
       "      <td>2009-06-15 17:26:21+00:00</td>\n",
       "      <td>2009-06-15 17:26:21.0000001</td>\n",
       "      <td>4.500000</td>\n",
       "      <td>-73.844311</td>\n",
       "      <td>40.721319</td>\n",
       "      <td>-73.841610</td>\n",
       "      <td>40.712278</td>\n",
       "      <td>1</td>\n",
       "      <td>1.030764</td>\n",
       "    </tr>\n",
       "    <tr>\n",
       "      <td>2010-01-05 16:52:16+00:00</td>\n",
       "      <td>2010-01-05 16:52:16.0000002</td>\n",
       "      <td>16.900000</td>\n",
       "      <td>-74.016048</td>\n",
       "      <td>40.711303</td>\n",
       "      <td>-73.979268</td>\n",
       "      <td>40.782004</td>\n",
       "      <td>1</td>\n",
       "      <td>8.450134</td>\n",
       "    </tr>\n",
       "    <tr>\n",
       "      <td>2011-08-18 00:35:00+00:00</td>\n",
       "      <td>2011-08-18 00:35:00.00000049</td>\n",
       "      <td>5.700000</td>\n",
       "      <td>-73.982738</td>\n",
       "      <td>40.761270</td>\n",
       "      <td>-73.991242</td>\n",
       "      <td>40.750562</td>\n",
       "      <td>2</td>\n",
       "      <td>1.389525</td>\n",
       "    </tr>\n",
       "  </tbody>\n",
       "</table>\n",
       "</div>"
      ],
      "text/plain": [
       "                                                    key  fare_amount  \\\n",
       "pickup_datetime                                                        \n",
       "2009-06-15 17:26:21+00:00   2009-06-15 17:26:21.0000001     4.500000   \n",
       "2010-01-05 16:52:16+00:00   2010-01-05 16:52:16.0000002    16.900000   \n",
       "2011-08-18 00:35:00+00:00  2011-08-18 00:35:00.00000049     5.700000   \n",
       "\n",
       "                           pickup_longitude  pickup_latitude  \\\n",
       "pickup_datetime                                                \n",
       "2009-06-15 17:26:21+00:00        -73.844311        40.721319   \n",
       "2010-01-05 16:52:16+00:00        -74.016048        40.711303   \n",
       "2011-08-18 00:35:00+00:00        -73.982738        40.761270   \n",
       "\n",
       "                           dropoff_longitude  dropoff_latitude  \\\n",
       "pickup_datetime                                                  \n",
       "2009-06-15 17:26:21+00:00         -73.841610         40.712278   \n",
       "2010-01-05 16:52:16+00:00         -73.979268         40.782004   \n",
       "2011-08-18 00:35:00+00:00         -73.991242         40.750562   \n",
       "\n",
       "                           passenger_count     dist  \n",
       "pickup_datetime                                      \n",
       "2009-06-15 17:26:21+00:00                1 1.030764  \n",
       "2010-01-05 16:52:16+00:00                1 8.450134  \n",
       "2011-08-18 00:35:00+00:00                2 1.389525  "
      ]
     },
     "execution_count": 23,
     "metadata": {},
     "output_type": "execute_result"
    }
   ],
   "source": [
    "train.head(3)"
   ]
  },
  {
   "cell_type": "code",
   "execution_count": 24,
   "metadata": {},
   "outputs": [
    {
     "data": {
      "text/plain": [
       "<matplotlib.axes._subplots.AxesSubplot at 0x7f29722d0438>"
      ]
     },
     "execution_count": 24,
     "metadata": {},
     "output_type": "execute_result"
    },
    {
     "data": {
      "image/png": "[encoded data removed]",
      "text/plain": [
       "<Figure size 1152x432 with 1 Axes>"
      ]
     },
     "metadata": {
      "needs_background": "light"
     },
     "output_type": "display_data"
    }
   ],
   "source": [
    "f, ax = plt.subplots(figsize=(16, 6))\n",
    "sns.distplot(train.dist)"
   ]
  },
  {
   "cell_type": "code",
   "execution_count": 25,
   "metadata": {},
   "outputs": [
    {
     "data": {
      "text/plain": [
       "<matplotlib.axes._subplots.AxesSubplot at 0x7f296f2a2278>"
      ]
     },
     "execution_count": 25,
     "metadata": {},
     "output_type": "execute_result"
    },
    {
     "data": {
      "image/png": "[encoded data removed]",
      "text/plain": [
       "<Figure size 432x288 with 2 Axes>"
      ]
     },
     "metadata": {
      "needs_background": "light"
     },
     "output_type": "display_data"
    }
   ],
   "source": [
    "sns.heatmap(train[['fare_amount','dist']].corr(),annot=True)"
   ]
  },
  {
   "cell_type": "markdown",
   "metadata": {},
   "source": [
    "### * ** Yes,fare_amount is related with dist***"
   ]
  },
  {
   "cell_type": "markdown",
   "metadata": {},
   "source": [
    "## 3-2. When fare_amount <=0 is, Is 'dist' near 0 ?"
   ]
  },
  {
   "cell_type": "code",
   "execution_count": 26,
   "metadata": {},
   "outputs": [
    {
     "name": "stdout",
     "output_type": "stream",
     "text": [
      "24 , 34\n"
     ]
    }
   ],
   "source": [
    "train_a=train[train.fare_amount == 0]\n",
    "train_b=train[train.fare_amount < 0]\n",
    "print(train_a.shape[0] ,',',train_b.shape[0])"
   ]
  },
  {
   "cell_type": "code",
   "execution_count": 27,
   "metadata": {},
   "outputs": [
    {
     "data": {
      "text/plain": [
       "<matplotlib.axes._subplots.AxesSubplot at 0x7f297494c400>"
      ]
     },
     "execution_count": 27,
     "metadata": {},
     "output_type": "execute_result"
    },
    {
     "data": {
      "image/png": "[encoded data removed]",
      "text/plain": [
       "<Figure size 432x288 with 1 Axes>"
      ]
     },
     "metadata": {
      "needs_background": "light"
     },
     "output_type": "display_data"
    }
   ],
   "source": [
    "train_a.dist.hist()"
   ]
  },
  {
   "cell_type": "code",
   "execution_count": 28,
   "metadata": {},
   "outputs": [
    {
     "data": {
      "text/plain": [
       "<matplotlib.axes._subplots.AxesSubplot at 0x7f29714b9198>"
      ]
     },
     "execution_count": 28,
     "metadata": {},
     "output_type": "execute_result"
    },
    {
     "data": {
      "image/png": "[encoded data removed]",
      "text/plain": [
       "<Figure size 432x288 with 1 Axes>"
      ]
     },
     "metadata": {
      "needs_background": "light"
     },
     "output_type": "display_data"
    }
   ],
   "source": [
    "train_b.dist.hist()"
   ]
  },
  {
   "cell_type": "markdown",
   "metadata": {},
   "source": [
    "### * ** Yes, when fare_amount < 0 is , dist is near 0 ***"
   ]
  },
  {
   "cell_type": "code",
   "execution_count": 29,
   "metadata": {},
   "outputs": [
    {
     "data": {
      "text/plain": [
       "0"
      ]
     },
     "execution_count": 29,
     "metadata": {},
     "output_type": "execute_result"
    }
   ],
   "source": [
    "train[train.fare_amount < 0] = 0\n",
    "train[train.fare_amount < 0].shape[0]"
   ]
  },
  {
   "cell_type": "markdown",
   "metadata": {},
   "source": [
    "## 3-3. Time Series"
   ]
  },
  {
   "cell_type": "markdown",
   "metadata": {},
   "source": [
    "### 3-3-1. Is fare_amount different by year ?"
   ]
  },
  {
   "cell_type": "code",
   "execution_count": 30,
   "metadata": {},
   "outputs": [],
   "source": [
    "train_f=train.fare_amount\n",
    "#train_f.plot()"
   ]
  },
  {
   "cell_type": "code",
   "execution_count": 31,
   "metadata": {},
   "outputs": [
    {
     "name": "stderr",
     "output_type": "stream",
     "text": [
      "/opt/conda/lib/python3.6/site-packages/pandas/core/arrays/datetimes.py:1269: UserWarning: Converting to PeriodArray/Index representation will drop timezone information.\n",
      "  UserWarning,\n"
     ]
    },
    {
     "data": {
      "text/plain": [
       "<matplotlib.axes._subplots.AxesSubplot at 0x7f296c953748>"
      ]
     },
     "execution_count": 31,
     "metadata": {},
     "output_type": "execute_result"
    },
    {
     "data": {
      "image/png": "[encoded data removed]",
      "text/plain": [
       "<Figure size 432x288 with 1 Axes>"
      ]
     },
     "metadata": {
      "needs_background": "light"
     },
     "output_type": "display_data"
    }
   ],
   "source": [
    "train_f.resample('Y').mean().plot()"
   ]
  },
  {
   "cell_type": "raw",
   "metadata": {},
   "source": [
    "**## Yes,fare_amount Average is ascending by year**\n",
    "**## Go further , Check fare_amount is different by year using ANOVA**"
   ]
  },
  {
   "cell_type": "code",
   "execution_count": 32,
   "metadata": {},
   "outputs": [
    {
     "data": {
      "text/html": [
       "<div>\n",
       "<style scoped>\n",
       "    .dataframe tbody tr th:only-of-type {\n",
       "        vertical-align: middle;\n",
       "    }\n",
       "\n",
       "    .dataframe tbody tr th {\n",
       "        vertical-align: top;\n",
       "    }\n",
       "\n",
       "    .dataframe thead th {\n",
       "        text-align: right;\n",
       "    }\n",
       "</style>\n",
       "<table border=\"1\" class=\"dataframe\">\n",
       "  <thead>\n",
       "    <tr style=\"text-align: right;\">\n",
       "      <th></th>\n",
       "      <th>count</th>\n",
       "      <th>mean</th>\n",
       "      <th>std</th>\n",
       "      <th>min</th>\n",
       "      <th>25%</th>\n",
       "      <th>50%</th>\n",
       "      <th>75%</th>\n",
       "      <th>max</th>\n",
       "    </tr>\n",
       "    <tr>\n",
       "      <th>pickup_datetime</th>\n",
       "      <th></th>\n",
       "      <th></th>\n",
       "      <th></th>\n",
       "      <th></th>\n",
       "      <th></th>\n",
       "      <th></th>\n",
       "      <th></th>\n",
       "      <th></th>\n",
       "    </tr>\n",
       "  </thead>\n",
       "  <tbody>\n",
       "    <tr>\n",
       "      <td>2009</td>\n",
       "      <td>151990.000000</td>\n",
       "      <td>10.037697</td>\n",
       "      <td>8.152858</td>\n",
       "      <td>2.500000</td>\n",
       "      <td>5.700000</td>\n",
       "      <td>7.700000</td>\n",
       "      <td>11.300000</td>\n",
       "      <td>200.000000</td>\n",
       "    </tr>\n",
       "    <tr>\n",
       "      <td>2010</td>\n",
       "      <td>147543.000000</td>\n",
       "      <td>10.166434</td>\n",
       "      <td>8.338316</td>\n",
       "      <td>0.000000</td>\n",
       "      <td>5.700000</td>\n",
       "      <td>7.700000</td>\n",
       "      <td>11.300000</td>\n",
       "      <td>167.090000</td>\n",
       "    </tr>\n",
       "    <tr>\n",
       "      <td>2011</td>\n",
       "      <td>152554.000000</td>\n",
       "      <td>10.439090</td>\n",
       "      <td>8.792013</td>\n",
       "      <td>2.500000</td>\n",
       "      <td>5.700000</td>\n",
       "      <td>7.700000</td>\n",
       "      <td>11.700000</td>\n",
       "      <td>500.000000</td>\n",
       "    </tr>\n",
       "    <tr>\n",
       "      <td>2012</td>\n",
       "      <td>155958.000000</td>\n",
       "      <td>11.170754</td>\n",
       "      <td>9.548840</td>\n",
       "      <td>2.500000</td>\n",
       "      <td>6.000000</td>\n",
       "      <td>8.500000</td>\n",
       "      <td>12.500000</td>\n",
       "      <td>450.000000</td>\n",
       "    </tr>\n",
       "    <tr>\n",
       "      <td>2013</td>\n",
       "      <td>152990.000000</td>\n",
       "      <td>12.572314</td>\n",
       "      <td>10.624514</td>\n",
       "      <td>0.000000</td>\n",
       "      <td>6.500000</td>\n",
       "      <td>9.500000</td>\n",
       "      <td>14.000000</td>\n",
       "      <td>250.250000</td>\n",
       "    </tr>\n",
       "    <tr>\n",
       "      <td>2014</td>\n",
       "      <td>145834.000000</td>\n",
       "      <td>12.882203</td>\n",
       "      <td>10.964487</td>\n",
       "      <td>0.000000</td>\n",
       "      <td>6.500000</td>\n",
       "      <td>9.500000</td>\n",
       "      <td>14.500000</td>\n",
       "      <td>215.000000</td>\n",
       "    </tr>\n",
       "    <tr>\n",
       "      <td>2015</td>\n",
       "      <td>68500.000000</td>\n",
       "      <td>12.985703</td>\n",
       "      <td>11.421358</td>\n",
       "      <td>0.000000</td>\n",
       "      <td>6.500000</td>\n",
       "      <td>9.500000</td>\n",
       "      <td>14.500000</td>\n",
       "      <td>450.000000</td>\n",
       "    </tr>\n",
       "  </tbody>\n",
       "</table>\n",
       "</div>"
      ],
      "text/plain": [
       "                        count      mean       std      min      25%      50%  \\\n",
       "pickup_datetime                                                                \n",
       "2009            151990.000000 10.037697  8.152858 2.500000 5.700000 7.700000   \n",
       "2010            147543.000000 10.166434  8.338316 0.000000 5.700000 7.700000   \n",
       "2011            152554.000000 10.439090  8.792013 2.500000 5.700000 7.700000   \n",
       "2012            155958.000000 11.170754  9.548840 2.500000 6.000000 8.500000   \n",
       "2013            152990.000000 12.572314 10.624514 0.000000 6.500000 9.500000   \n",
       "2014            145834.000000 12.882203 10.964487 0.000000 6.500000 9.500000   \n",
       "2015             68500.000000 12.985703 11.421358 0.000000 6.500000 9.500000   \n",
       "\n",
       "                      75%        max  \n",
       "pickup_datetime                       \n",
       "2009            11.300000 200.000000  \n",
       "2010            11.300000 167.090000  \n",
       "2011            11.700000 500.000000  \n",
       "2012            12.500000 450.000000  \n",
       "2013            14.000000 250.250000  \n",
       "2014            14.500000 215.000000  \n",
       "2015            14.500000 450.000000  "
      ]
     },
     "execution_count": 32,
     "metadata": {},
     "output_type": "execute_result"
    }
   ],
   "source": [
    "train_f.groupby(train_f.index.year).describe()"
   ]
  },
  {
   "cell_type": "code",
   "execution_count": 33,
   "metadata": {},
   "outputs": [
    {
     "data": {
      "text/html": [
       "<div>\n",
       "<style scoped>\n",
       "    .dataframe tbody tr th:only-of-type {\n",
       "        vertical-align: middle;\n",
       "    }\n",
       "\n",
       "    .dataframe tbody tr th {\n",
       "        vertical-align: top;\n",
       "    }\n",
       "\n",
       "    .dataframe thead th {\n",
       "        text-align: right;\n",
       "    }\n",
       "</style>\n",
       "<table border=\"1\" class=\"dataframe\">\n",
       "  <thead>\n",
       "    <tr style=\"text-align: right;\">\n",
       "      <th></th>\n",
       "      <th>key</th>\n",
       "      <th>fare_amount</th>\n",
       "      <th>pickup_longitude</th>\n",
       "      <th>pickup_latitude</th>\n",
       "      <th>dropoff_longitude</th>\n",
       "      <th>dropoff_latitude</th>\n",
       "      <th>passenger_count</th>\n",
       "      <th>dist</th>\n",
       "      <th>year</th>\n",
       "    </tr>\n",
       "    <tr>\n",
       "      <th>pickup_datetime</th>\n",
       "      <th></th>\n",
       "      <th></th>\n",
       "      <th></th>\n",
       "      <th></th>\n",
       "      <th></th>\n",
       "      <th></th>\n",
       "      <th></th>\n",
       "      <th></th>\n",
       "      <th></th>\n",
       "    </tr>\n",
       "  </thead>\n",
       "  <tbody>\n",
       "    <tr>\n",
       "      <td>2009-06-15 17:26:21+00:00</td>\n",
       "      <td>2009-06-15 17:26:21.0000001</td>\n",
       "      <td>4.500000</td>\n",
       "      <td>-73.844311</td>\n",
       "      <td>40.721319</td>\n",
       "      <td>-73.841610</td>\n",
       "      <td>40.712278</td>\n",
       "      <td>1</td>\n",
       "      <td>1.030764</td>\n",
       "      <td>2009</td>\n",
       "    </tr>\n",
       "  </tbody>\n",
       "</table>\n",
       "</div>"
      ],
      "text/plain": [
       "                                                   key  fare_amount  \\\n",
       "pickup_datetime                                                       \n",
       "2009-06-15 17:26:21+00:00  2009-06-15 17:26:21.0000001     4.500000   \n",
       "\n",
       "                           pickup_longitude  pickup_latitude  \\\n",
       "pickup_datetime                                                \n",
       "2009-06-15 17:26:21+00:00        -73.844311        40.721319   \n",
       "\n",
       "                           dropoff_longitude  dropoff_latitude  \\\n",
       "pickup_datetime                                                  \n",
       "2009-06-15 17:26:21+00:00         -73.841610         40.712278   \n",
       "\n",
       "                           passenger_count     dist  year  \n",
       "pickup_datetime                                            \n",
       "2009-06-15 17:26:21+00:00                1 1.030764  2009  "
      ]
     },
     "execution_count": 33,
     "metadata": {},
     "output_type": "execute_result"
    }
   ],
   "source": [
    "train['year']=train.index.year\n",
    "train.head(1)"
   ]
  },
  {
   "cell_type": "markdown",
   "metadata": {},
   "source": [
    "I try comparing groups by year with 1-way ANONA. To do this, I try testing nomality."
   ]
  },
  {
   "cell_type": "code",
   "execution_count": 34,
   "metadata": {},
   "outputs": [
    {
     "data": {
      "image/png": "[encoded data removed]",
      "text/plain": [
       "<Figure size 720x720 with 8 Axes>"
      ]
     },
     "metadata": {
      "needs_background": "light"
     },
     "output_type": "display_data"
    }
   ],
   "source": [
    "import scipy.stats as sp\n",
    "fig,ax=plt.subplots(2,4,figsize=(10,10))\n",
    "for j in range(2):\n",
    "    for i in range(4):\n",
    "        if j==1 and i==3 :\n",
    "            break\n",
    "        year=2009+i+(j*4)\n",
    "        sp.probplot(train[train['year']==year].fare_amount, plot=ax[j,i])\n"
   ]
  },
  {
   "cell_type": "markdown",
   "metadata": {},
   "source": [
    "It doesn't matched as normality test. So Use Kruskal-Wallis Test known as non-parametic comparing groups method."
   ]
  },
  {
   "cell_type": "code",
   "execution_count": 35,
   "metadata": {},
   "outputs": [
    {
     "data": {
      "text/plain": [
       "KruskalResult(statistic=23255.70440684511, pvalue=0.0)"
      ]
     },
     "execution_count": 35,
     "metadata": {},
     "output_type": "execute_result"
    }
   ],
   "source": [
    "'''Referenced from ( https://stackoverflow.com/questions/51632900/pandas-apply-kruskal-wallis-to-numeric-columns )'''\n",
    "sp.mstats.kruskalwallis(*[group[\"fare_amount\"].values for name, group in train.groupby(\"year\")])"
   ]
  },
  {
   "cell_type": "markdown",
   "metadata": {},
   "source": [
    "As a result, fare_amount Groups by year are different."
   ]
  },
  {
   "cell_type": "markdown",
   "metadata": {},
   "source": [
    "### 3-3-2. Is fare_amount different by month ?"
   ]
  },
  {
   "cell_type": "code",
   "execution_count": 36,
   "metadata": {},
   "outputs": [
    {
     "data": {
      "image/png": "[encoded data removed]",
      "text/plain": [
       "<Figure size 432x288 with 1 Axes>"
      ]
     },
     "metadata": {
      "needs_background": "light"
     },
     "output_type": "display_data"
    }
   ],
   "source": [
    "monthly=train_f.resample('M').mean()\n",
    "monthly.rolling(3,center=True).sum().plot(style=['--'])\n",
    "plt.grid(True)"
   ]
  },
  {
   "cell_type": "code",
   "execution_count": 37,
   "metadata": {},
   "outputs": [
    {
     "data": {
      "text/html": [
       "<div>\n",
       "<style scoped>\n",
       "    .dataframe tbody tr th:only-of-type {\n",
       "        vertical-align: middle;\n",
       "    }\n",
       "\n",
       "    .dataframe tbody tr th {\n",
       "        vertical-align: top;\n",
       "    }\n",
       "\n",
       "    .dataframe thead th {\n",
       "        text-align: right;\n",
       "    }\n",
       "</style>\n",
       "<table border=\"1\" class=\"dataframe\">\n",
       "  <thead>\n",
       "    <tr style=\"text-align: right;\">\n",
       "      <th></th>\n",
       "      <th>key</th>\n",
       "      <th>fare_amount</th>\n",
       "      <th>pickup_longitude</th>\n",
       "      <th>pickup_latitude</th>\n",
       "      <th>dropoff_longitude</th>\n",
       "      <th>dropoff_latitude</th>\n",
       "      <th>passenger_count</th>\n",
       "      <th>dist</th>\n",
       "      <th>year</th>\n",
       "      <th>month</th>\n",
       "    </tr>\n",
       "    <tr>\n",
       "      <th>pickup_datetime</th>\n",
       "      <th></th>\n",
       "      <th></th>\n",
       "      <th></th>\n",
       "      <th></th>\n",
       "      <th></th>\n",
       "      <th></th>\n",
       "      <th></th>\n",
       "      <th></th>\n",
       "      <th></th>\n",
       "      <th></th>\n",
       "    </tr>\n",
       "  </thead>\n",
       "  <tbody>\n",
       "    <tr>\n",
       "      <td>2009-06-15 17:26:21+00:00</td>\n",
       "      <td>2009-06-15 17:26:21.0000001</td>\n",
       "      <td>4.500000</td>\n",
       "      <td>-73.844311</td>\n",
       "      <td>40.721319</td>\n",
       "      <td>-73.841610</td>\n",
       "      <td>40.712278</td>\n",
       "      <td>1</td>\n",
       "      <td>1.030764</td>\n",
       "      <td>2009</td>\n",
       "      <td>6</td>\n",
       "    </tr>\n",
       "  </tbody>\n",
       "</table>\n",
       "</div>"
      ],
      "text/plain": [
       "                                                   key  fare_amount  \\\n",
       "pickup_datetime                                                       \n",
       "2009-06-15 17:26:21+00:00  2009-06-15 17:26:21.0000001     4.500000   \n",
       "\n",
       "                           pickup_longitude  pickup_latitude  \\\n",
       "pickup_datetime                                                \n",
       "2009-06-15 17:26:21+00:00        -73.844311        40.721319   \n",
       "\n",
       "                           dropoff_longitude  dropoff_latitude  \\\n",
       "pickup_datetime                                                  \n",
       "2009-06-15 17:26:21+00:00         -73.841610         40.712278   \n",
       "\n",
       "                           passenger_count     dist  year  month  \n",
       "pickup_datetime                                                   \n",
       "2009-06-15 17:26:21+00:00                1 1.030764  2009      6  "
      ]
     },
     "execution_count": 37,
     "metadata": {},
     "output_type": "execute_result"
    }
   ],
   "source": [
    "train['month']=train.index.month\n",
    "train.head(1)"
   ]
  },
  {
   "cell_type": "code",
   "execution_count": 38,
   "metadata": {},
   "outputs": [
    {
     "data": {
      "image/png": "[encoded data removed]",
      "text/plain": [
       "<Figure size 720x720 with 12 Axes>"
      ]
     },
     "metadata": {
      "needs_background": "light"
     },
     "output_type": "display_data"
    }
   ],
   "source": [
    "fig,ax=plt.subplots(3,4,figsize=(10,10))\n",
    "for j in range(3):\n",
    "    for i in range(4):\n",
    "        month=1+i+(j*4)\n",
    "        sp.probplot(train[train['month']==month].fare_amount, plot=ax[j,i])"
   ]
  },
  {
   "cell_type": "code",
   "execution_count": 39,
   "metadata": {},
   "outputs": [
    {
     "data": {
      "text/plain": [
       "KruskalResult(statistic=1611.5944999804144, pvalue=0.0)"
      ]
     },
     "execution_count": 39,
     "metadata": {},
     "output_type": "execute_result"
    }
   ],
   "source": [
    "'''Referenced from ( https://stackoverflow.com/questions/51632900/pandas-apply-kruskal-wallis-to-numeric-columns )'''\n",
    "sp.mstats.kruskalwallis(*[group[\"fare_amount\"].values for name, group in train.groupby(\"month\")])"
   ]
  },
  {
   "cell_type": "markdown",
   "metadata": {},
   "source": [
    "### 3-3-3. Is fare_amount different by whether is evening or not? \n"
   ]
  },
  {
   "cell_type": "code",
   "execution_count": 40,
   "metadata": {},
   "outputs": [
    {
     "data": {
      "text/plain": [
       "<matplotlib.axes._subplots.AxesSubplot at 0x7f29747d4f28>"
      ]
     },
     "execution_count": 40,
     "metadata": {},
     "output_type": "execute_result"
    },
    {
     "data": {
      "image/png": "[encoded data removed]",
      "text/plain": [
       "<Figure size 432x288 with 1 Axes>"
      ]
     },
     "metadata": {
      "needs_background": "light"
     },
     "output_type": "display_data"
    }
   ],
   "source": [
    "by_time=train_f.groupby(train_f.index.hour).mean()\n",
    "by_time.plot(style=['--'])"
   ]
  },
  {
   "cell_type": "markdown",
   "metadata": {},
   "source": [
    "I guess 20~6AM is evening, beause 20 PM fare_amount is going up , and 6am fare_amount is stopping."
   ]
  },
  {
   "cell_type": "code",
   "execution_count": 41,
   "metadata": {},
   "outputs": [
    {
     "data": {
      "text/plain": [
       "pickup_datetime\n",
       "2009-06-15 17:26:21+00:00    17\n",
       "2010-01-05 16:52:16+00:00    16\n",
       "2011-08-18 00:35:00+00:00     0\n",
       "2012-04-21 04:30:42+00:00     4\n",
       "2010-03-09 07:51:00+00:00     7\n",
       "2011-01-06 09:50:45+00:00     9\n",
       "2012-11-20 20:35:00+00:00    20\n",
       "2012-01-04 17:22:00+00:00    17\n",
       "2012-12-03 13:10:00+00:00    13\n",
       "2009-09-02 01:11:00+00:00     1\n",
       "Name: evening, dtype: int64"
      ]
     },
     "execution_count": 41,
     "metadata": {},
     "output_type": "execute_result"
    }
   ],
   "source": [
    "train['evening']=train.index.hour\n",
    "train['evening'].head(10)"
   ]
  },
  {
   "cell_type": "code",
   "execution_count": 42,
   "metadata": {},
   "outputs": [],
   "source": [
    "train['evening']=np.vectorize(lambda x: 1 if (x<=6 or x>=20 ) else 0)(train.evening)"
   ]
  },
  {
   "cell_type": "code",
   "execution_count": 43,
   "metadata": {},
   "outputs": [
    {
     "data": {
      "text/plain": [
       "0    615083\n",
       "1    360286\n",
       "Name: evening, dtype: int64"
      ]
     },
     "execution_count": 43,
     "metadata": {},
     "output_type": "execute_result"
    }
   ],
   "source": [
    "train['evening'].value_counts()"
   ]
  },
  {
   "cell_type": "code",
   "execution_count": 44,
   "metadata": {},
   "outputs": [
    {
     "data": {
      "image/png": "[encoded data removed]",
      "text/plain": [
       "<Figure size 720x720 with 2 Axes>"
      ]
     },
     "metadata": {
      "needs_background": "light"
     },
     "output_type": "display_data"
    }
   ],
   "source": [
    "fig,ax=plt.subplots(2,figsize=(10,10))\n",
    "for j in range(2):\n",
    "    sp.probplot(train[train['evening']==j].fare_amount, plot=ax[j])"
   ]
  },
  {
   "cell_type": "code",
   "execution_count": 45,
   "metadata": {},
   "outputs": [
    {
     "data": {
      "text/plain": [
       "KruskalResult(statistic=1315.9619061380545, pvalue=3.84142086871634e-288)"
      ]
     },
     "execution_count": 45,
     "metadata": {},
     "output_type": "execute_result"
    }
   ],
   "source": [
    "sp.mstats.kruskalwallis(*[group[\"fare_amount\"].values for name, group in train.groupby(\"evening\")])"
   ]
  },
  {
   "cell_type": "markdown",
   "metadata": {},
   "source": [
    "### 3-3-4. Is fare_amount different by dayofweek ? "
   ]
  },
  {
   "cell_type": "code",
   "execution_count": 46,
   "metadata": {},
   "outputs": [
    {
     "data": {
      "text/plain": [
       "<matplotlib.axes._subplots.AxesSubplot at 0x7f297472d668>"
      ]
     },
     "execution_count": 46,
     "metadata": {},
     "output_type": "execute_result"
    },
    {
     "data": {
      "image/png": "[encoded data removed]",
      "text/plain": [
       "<Figure size 432x288 with 1 Axes>"
      ]
     },
     "metadata": {
      "needs_background": "light"
     },
     "output_type": "display_data"
    }
   ],
   "source": [
    "by_weekday= train_f.groupby(train_f.index.dayofweek).mean()\n",
    "by_weekday.index = ['Mon','Tues','Wed','Thurs','Fri','Sat','Sun']\n",
    "by_weekday.plot(style=['--'])"
   ]
  },
  {
   "cell_type": "code",
   "execution_count": 47,
   "metadata": {},
   "outputs": [
    {
     "data": {
      "image/png": "[encoded data removed]",
      "text/plain": [
       "<Figure size 432x288 with 1 Axes>"
      ]
     },
     "metadata": {
      "needs_background": "light"
     },
     "output_type": "display_data"
    }
   ],
   "source": [
    "by_date=train_f.groupby(train_f.index.day).mean()\n",
    "by_date.plot(style=['--'])\n",
    "plt.grid(True)"
   ]
  },
  {
   "cell_type": "markdown",
   "metadata": {},
   "source": [
    "I guess fare_amount is changed by dayofweek according to two graphs above"
   ]
  },
  {
   "cell_type": "code",
   "execution_count": 48,
   "metadata": {},
   "outputs": [
    {
     "data": {
      "text/html": [
       "<div>\n",
       "<style scoped>\n",
       "    .dataframe tbody tr th:only-of-type {\n",
       "        vertical-align: middle;\n",
       "    }\n",
       "\n",
       "    .dataframe tbody tr th {\n",
       "        vertical-align: top;\n",
       "    }\n",
       "\n",
       "    .dataframe thead th {\n",
       "        text-align: right;\n",
       "    }\n",
       "</style>\n",
       "<table border=\"1\" class=\"dataframe\">\n",
       "  <thead>\n",
       "    <tr style=\"text-align: right;\">\n",
       "      <th></th>\n",
       "      <th>key</th>\n",
       "      <th>fare_amount</th>\n",
       "      <th>pickup_longitude</th>\n",
       "      <th>pickup_latitude</th>\n",
       "      <th>dropoff_longitude</th>\n",
       "      <th>dropoff_latitude</th>\n",
       "      <th>passenger_count</th>\n",
       "      <th>dist</th>\n",
       "      <th>year</th>\n",
       "      <th>month</th>\n",
       "      <th>evening</th>\n",
       "      <th>dayofweek</th>\n",
       "    </tr>\n",
       "    <tr>\n",
       "      <th>pickup_datetime</th>\n",
       "      <th></th>\n",
       "      <th></th>\n",
       "      <th></th>\n",
       "      <th></th>\n",
       "      <th></th>\n",
       "      <th></th>\n",
       "      <th></th>\n",
       "      <th></th>\n",
       "      <th></th>\n",
       "      <th></th>\n",
       "      <th></th>\n",
       "      <th></th>\n",
       "    </tr>\n",
       "  </thead>\n",
       "  <tbody>\n",
       "    <tr>\n",
       "      <td>2009-06-15 17:26:21+00:00</td>\n",
       "      <td>2009-06-15 17:26:21.0000001</td>\n",
       "      <td>4.500000</td>\n",
       "      <td>-73.844311</td>\n",
       "      <td>40.721319</td>\n",
       "      <td>-73.841610</td>\n",
       "      <td>40.712278</td>\n",
       "      <td>1</td>\n",
       "      <td>1.030764</td>\n",
       "      <td>2009</td>\n",
       "      <td>6</td>\n",
       "      <td>0</td>\n",
       "      <td>Mon</td>\n",
       "    </tr>\n",
       "    <tr>\n",
       "      <td>2010-01-05 16:52:16+00:00</td>\n",
       "      <td>2010-01-05 16:52:16.0000002</td>\n",
       "      <td>16.900000</td>\n",
       "      <td>-74.016048</td>\n",
       "      <td>40.711303</td>\n",
       "      <td>-73.979268</td>\n",
       "      <td>40.782004</td>\n",
       "      <td>1</td>\n",
       "      <td>8.450134</td>\n",
       "      <td>2010</td>\n",
       "      <td>1</td>\n",
       "      <td>0</td>\n",
       "      <td>Tues</td>\n",
       "    </tr>\n",
       "    <tr>\n",
       "      <td>2011-08-18 00:35:00+00:00</td>\n",
       "      <td>2011-08-18 00:35:00.00000049</td>\n",
       "      <td>5.700000</td>\n",
       "      <td>-73.982738</td>\n",
       "      <td>40.761270</td>\n",
       "      <td>-73.991242</td>\n",
       "      <td>40.750562</td>\n",
       "      <td>2</td>\n",
       "      <td>1.389525</td>\n",
       "      <td>2011</td>\n",
       "      <td>8</td>\n",
       "      <td>1</td>\n",
       "      <td>Thurs</td>\n",
       "    </tr>\n",
       "    <tr>\n",
       "      <td>2012-04-21 04:30:42+00:00</td>\n",
       "      <td>2012-04-21 04:30:42.0000001</td>\n",
       "      <td>7.700000</td>\n",
       "      <td>-73.987130</td>\n",
       "      <td>40.733143</td>\n",
       "      <td>-73.991567</td>\n",
       "      <td>40.758092</td>\n",
       "      <td>1</td>\n",
       "      <td>2.799270</td>\n",
       "      <td>2012</td>\n",
       "      <td>4</td>\n",
       "      <td>1</td>\n",
       "      <td>Sat</td>\n",
       "    </tr>\n",
       "    <tr>\n",
       "      <td>2010-03-09 07:51:00+00:00</td>\n",
       "      <td>2010-03-09 07:51:00.000000135</td>\n",
       "      <td>5.300000</td>\n",
       "      <td>-73.968095</td>\n",
       "      <td>40.768008</td>\n",
       "      <td>-73.956655</td>\n",
       "      <td>40.783762</td>\n",
       "      <td>1</td>\n",
       "      <td>1.999157</td>\n",
       "      <td>2010</td>\n",
       "      <td>3</td>\n",
       "      <td>0</td>\n",
       "      <td>Tues</td>\n",
       "    </tr>\n",
       "  </tbody>\n",
       "</table>\n",
       "</div>"
      ],
      "text/plain": [
       "                                                     key  fare_amount  \\\n",
       "pickup_datetime                                                         \n",
       "2009-06-15 17:26:21+00:00    2009-06-15 17:26:21.0000001     4.500000   \n",
       "2010-01-05 16:52:16+00:00    2010-01-05 16:52:16.0000002    16.900000   \n",
       "2011-08-18 00:35:00+00:00   2011-08-18 00:35:00.00000049     5.700000   \n",
       "2012-04-21 04:30:42+00:00    2012-04-21 04:30:42.0000001     7.700000   \n",
       "2010-03-09 07:51:00+00:00  2010-03-09 07:51:00.000000135     5.300000   \n",
       "\n",
       "                           pickup_longitude  pickup_latitude  \\\n",
       "pickup_datetime                                                \n",
       "2009-06-15 17:26:21+00:00        -73.844311        40.721319   \n",
       "2010-01-05 16:52:16+00:00        -74.016048        40.711303   \n",
       "2011-08-18 00:35:00+00:00        -73.982738        40.761270   \n",
       "2012-04-21 04:30:42+00:00        -73.987130        40.733143   \n",
       "2010-03-09 07:51:00+00:00        -73.968095        40.768008   \n",
       "\n",
       "                           dropoff_longitude  dropoff_latitude  \\\n",
       "pickup_datetime                                                  \n",
       "2009-06-15 17:26:21+00:00         -73.841610         40.712278   \n",
       "2010-01-05 16:52:16+00:00         -73.979268         40.782004   \n",
       "2011-08-18 00:35:00+00:00         -73.991242         40.750562   \n",
       "2012-04-21 04:30:42+00:00         -73.991567         40.758092   \n",
       "2010-03-09 07:51:00+00:00         -73.956655         40.783762   \n",
       "\n",
       "                           passenger_count     dist  year  month  evening  \\\n",
       "pickup_datetime                                                             \n",
       "2009-06-15 17:26:21+00:00                1 1.030764  2009      6        0   \n",
       "2010-01-05 16:52:16+00:00                1 8.450134  2010      1        0   \n",
       "2011-08-18 00:35:00+00:00                2 1.389525  2011      8        1   \n",
       "2012-04-21 04:30:42+00:00                1 2.799270  2012      4        1   \n",
       "2010-03-09 07:51:00+00:00                1 1.999157  2010      3        0   \n",
       "\n",
       "                          dayofweek  \n",
       "pickup_datetime                      \n",
       "2009-06-15 17:26:21+00:00       Mon  \n",
       "2010-01-05 16:52:16+00:00      Tues  \n",
       "2011-08-18 00:35:00+00:00     Thurs  \n",
       "2012-04-21 04:30:42+00:00       Sat  \n",
       "2010-03-09 07:51:00+00:00      Tues  "
      ]
     },
     "execution_count": 48,
     "metadata": {},
     "output_type": "execute_result"
    }
   ],
   "source": [
    "train['dayofweek'] = train.index.dayofweek\n",
    "train.dayofweek = train.dayofweek.map({0:'Mon',1:'Tues',2:'Wed',3:'Thurs',4:'Fri',5:'Sat',6:'Sun'})\n",
    "train.head(5)"
   ]
  },
  {
   "cell_type": "code",
   "execution_count": 49,
   "metadata": {},
   "outputs": [
    {
     "data": {
      "image/png": "[encoded data removed]",
      "text/plain": [
       "<Figure size 720x720 with 8 Axes>"
      ]
     },
     "metadata": {
      "needs_background": "light"
     },
     "output_type": "display_data"
    }
   ],
   "source": [
    "fig,ax=plt.subplots(2,4,figsize=(10,10));dayofweek=['Mon','Tues','Wed','Thurs','Fri','Sat','Sun']\n",
    "count=0\n",
    "for j in range(2):\n",
    "    for i in range(4):\n",
    "        if count <=6:\n",
    "            sp.probplot(train[train['dayofweek']==dayofweek[count]].fare_amount, plot=ax[j,i])\n",
    "            count+=1"
   ]
  },
  {
   "cell_type": "code",
   "execution_count": 50,
   "metadata": {},
   "outputs": [
    {
     "data": {
      "text/plain": [
       "KruskalResult(statistic=370.59021118048526, pvalue=5.844448370154635e-77)"
      ]
     },
     "execution_count": 50,
     "metadata": {},
     "output_type": "execute_result"
    }
   ],
   "source": [
    "sp.mstats.kruskalwallis(*[group[\"fare_amount\"].values for name, group in train.groupby(\"dayofweek\")])"
   ]
  },
  {
   "cell_type": "code",
   "execution_count": 51,
   "metadata": {},
   "outputs": [
    {
     "data": {
      "text/plain": [
       "<matplotlib.axes._subplots.AxesSubplot at 0x7f2973e39e48>"
      ]
     },
     "execution_count": 51,
     "metadata": {},
     "output_type": "execute_result"
    },
    {
     "data": {
      "image/png": "[encoded data removed]",
      "text/plain": [
       "<Figure size 432x288 with 1 Axes>"
      ]
     },
     "metadata": {
      "needs_background": "light"
     },
     "output_type": "display_data"
    }
   ],
   "source": [
    "sns.distplot(train[train.fare_amount <= 12.5].fare_amount)"
   ]
  },
  {
   "cell_type": "markdown",
   "metadata": {},
   "source": [
    "## 3-4. Is fare_amount related with passenger_count ?"
   ]
  },
  {
   "cell_type": "code",
   "execution_count": 52,
   "metadata": {},
   "outputs": [
    {
     "data": {
      "text/plain": [
       "passenger_count\n",
       "0    0.000000\n",
       "1   11.197905\n",
       "2   11.785536\n",
       "3   11.492372\n",
       "4   11.695422\n",
       "5   11.193585\n",
       "6   12.264027\n",
       "Name: fare_amount, dtype: float64"
      ]
     },
     "execution_count": 52,
     "metadata": {},
     "output_type": "execute_result"
    }
   ],
   "source": [
    "train.groupby(['passenger_count']).fare_amount.mean()"
   ]
  },
  {
   "cell_type": "markdown",
   "metadata": {},
   "source": [
    "## 3-5. Is  fare_amount related with Airport ?\n",
    "LaGuardia Airport : 40.776967 , -73.874044\n",
    "      JFK Airport : 40.648433 , -73.783051\n",
    "      \n",
    "  1 km > 0.621371 mi"
   ]
  },
  {
   "cell_type": "code",
   "execution_count": 53,
   "metadata": {},
   "outputs": [],
   "source": [
    "LgAirLog=-73.874044 ; LgAirLat=40.776967 ; JfkAirLog=-73.783051 ; JfkAirLat = 40.648433"
   ]
  },
  {
   "cell_type": "code",
   "execution_count": 54,
   "metadata": {},
   "outputs": [],
   "source": [
    "train['LgAirPickDist']=np.vectorize(distance)(train['pickup_latitude'],train['pickup_longitude'], LgAirLat , LgAirLog)\n",
    "train['LgAirDropDist']=np.vectorize(distance)(train['dropoff_latitude'],train['dropoff_longitude'], LgAirLat , LgAirLog)\n",
    "train['JfkAirPickDist']=np.vectorize(distance)(train['pickup_latitude'],train['pickup_longitude'], JfkAirLat , JfkAirLog)\n",
    "train['JfkAirDropDist']=np.vectorize(distance)(train['dropoff_latitude'],train['dropoff_longitude'], JfkAirLat , JfkAirLog)"
   ]
  },
  {
   "cell_type": "code",
   "execution_count": 55,
   "metadata": {},
   "outputs": [
    {
     "data": {
      "text/html": [
       "<div>\n",
       "<style scoped>\n",
       "    .dataframe tbody tr th:only-of-type {\n",
       "        vertical-align: middle;\n",
       "    }\n",
       "\n",
       "    .dataframe tbody tr th {\n",
       "        vertical-align: top;\n",
       "    }\n",
       "\n",
       "    .dataframe thead th {\n",
       "        text-align: right;\n",
       "    }\n",
       "</style>\n",
       "<table border=\"1\" class=\"dataframe\">\n",
       "  <thead>\n",
       "    <tr style=\"text-align: right;\">\n",
       "      <th></th>\n",
       "      <th>key</th>\n",
       "      <th>fare_amount</th>\n",
       "      <th>pickup_longitude</th>\n",
       "      <th>pickup_latitude</th>\n",
       "      <th>dropoff_longitude</th>\n",
       "      <th>dropoff_latitude</th>\n",
       "      <th>passenger_count</th>\n",
       "      <th>dist</th>\n",
       "      <th>year</th>\n",
       "      <th>month</th>\n",
       "      <th>evening</th>\n",
       "      <th>dayofweek</th>\n",
       "      <th>LgAirPickDist</th>\n",
       "      <th>LgAirDropDist</th>\n",
       "      <th>JfkAirPickDist</th>\n",
       "      <th>JfkAirDropDist</th>\n",
       "    </tr>\n",
       "    <tr>\n",
       "      <th>pickup_datetime</th>\n",
       "      <th></th>\n",
       "      <th></th>\n",
       "      <th></th>\n",
       "      <th></th>\n",
       "      <th></th>\n",
       "      <th></th>\n",
       "      <th></th>\n",
       "      <th></th>\n",
       "      <th></th>\n",
       "      <th></th>\n",
       "      <th></th>\n",
       "      <th></th>\n",
       "      <th></th>\n",
       "      <th></th>\n",
       "      <th></th>\n",
       "      <th></th>\n",
       "    </tr>\n",
       "  </thead>\n",
       "  <tbody>\n",
       "    <tr>\n",
       "      <td>2009-06-15 17:26:21+00:00</td>\n",
       "      <td>2009-06-15 17:26:21.0000001</td>\n",
       "      <td>4.500000</td>\n",
       "      <td>-73.844311</td>\n",
       "      <td>40.721319</td>\n",
       "      <td>-73.841610</td>\n",
       "      <td>40.712278</td>\n",
       "      <td>1</td>\n",
       "      <td>1.030764</td>\n",
       "      <td>2009</td>\n",
       "      <td>6</td>\n",
       "      <td>0</td>\n",
       "      <td>Mon</td>\n",
       "      <td>6.675470</td>\n",
       "      <td>7.694570</td>\n",
       "      <td>9.610696</td>\n",
       "      <td>8.647730</td>\n",
       "    </tr>\n",
       "    <tr>\n",
       "      <td>2010-01-05 16:52:16+00:00</td>\n",
       "      <td>2010-01-05 16:52:16.0000002</td>\n",
       "      <td>16.900000</td>\n",
       "      <td>-74.016048</td>\n",
       "      <td>40.711303</td>\n",
       "      <td>-73.979268</td>\n",
       "      <td>40.782004</td>\n",
       "      <td>1</td>\n",
       "      <td>8.450134</td>\n",
       "      <td>2010</td>\n",
       "      <td>1</td>\n",
       "      <td>0</td>\n",
       "      <td>Tues</td>\n",
       "      <td>14.015265</td>\n",
       "      <td>8.877548</td>\n",
       "      <td>20.854379</td>\n",
       "      <td>22.227933</td>\n",
       "    </tr>\n",
       "    <tr>\n",
       "      <td>2011-08-18 00:35:00+00:00</td>\n",
       "      <td>2011-08-18 00:35:00.00000049</td>\n",
       "      <td>5.700000</td>\n",
       "      <td>-73.982738</td>\n",
       "      <td>40.761270</td>\n",
       "      <td>-73.991242</td>\n",
       "      <td>40.750562</td>\n",
       "      <td>2</td>\n",
       "      <td>1.389525</td>\n",
       "      <td>2011</td>\n",
       "      <td>8</td>\n",
       "      <td>1</td>\n",
       "      <td>Thurs</td>\n",
       "      <td>9.318392</td>\n",
       "      <td>10.297847</td>\n",
       "      <td>20.994244</td>\n",
       "      <td>20.904384</td>\n",
       "    </tr>\n",
       "  </tbody>\n",
       "</table>\n",
       "</div>"
      ],
      "text/plain": [
       "                                                    key  fare_amount  \\\n",
       "pickup_datetime                                                        \n",
       "2009-06-15 17:26:21+00:00   2009-06-15 17:26:21.0000001     4.500000   \n",
       "2010-01-05 16:52:16+00:00   2010-01-05 16:52:16.0000002    16.900000   \n",
       "2011-08-18 00:35:00+00:00  2011-08-18 00:35:00.00000049     5.700000   \n",
       "\n",
       "                           pickup_longitude  pickup_latitude  \\\n",
       "pickup_datetime                                                \n",
       "2009-06-15 17:26:21+00:00        -73.844311        40.721319   \n",
       "2010-01-05 16:52:16+00:00        -74.016048        40.711303   \n",
       "2011-08-18 00:35:00+00:00        -73.982738        40.761270   \n",
       "\n",
       "                           dropoff_longitude  dropoff_latitude  \\\n",
       "pickup_datetime                                                  \n",
       "2009-06-15 17:26:21+00:00         -73.841610         40.712278   \n",
       "2010-01-05 16:52:16+00:00         -73.979268         40.782004   \n",
       "2011-08-18 00:35:00+00:00         -73.991242         40.750562   \n",
       "\n",
       "                           passenger_count     dist  year  month  evening  \\\n",
       "pickup_datetime                                                             \n",
       "2009-06-15 17:26:21+00:00                1 1.030764  2009      6        0   \n",
       "2010-01-05 16:52:16+00:00                1 8.450134  2010      1        0   \n",
       "2011-08-18 00:35:00+00:00                2 1.389525  2011      8        1   \n",
       "\n",
       "                          dayofweek  LgAirPickDist  LgAirDropDist  \\\n",
       "pickup_datetime                                                     \n",
       "2009-06-15 17:26:21+00:00       Mon       6.675470       7.694570   \n",
       "2010-01-05 16:52:16+00:00      Tues      14.015265       8.877548   \n",
       "2011-08-18 00:35:00+00:00     Thurs       9.318392      10.297847   \n",
       "\n",
       "                           JfkAirPickDist  JfkAirDropDist  \n",
       "pickup_datetime                                            \n",
       "2009-06-15 17:26:21+00:00        9.610696        8.647730  \n",
       "2010-01-05 16:52:16+00:00       20.854379       22.227933  \n",
       "2011-08-18 00:35:00+00:00       20.994244       20.904384  "
      ]
     },
     "execution_count": 55,
     "metadata": {},
     "output_type": "execute_result"
    }
   ],
   "source": [
    "train.head(3)"
   ]
  },
  {
   "cell_type": "markdown",
   "metadata": {},
   "source": [
    "I wonder There are  [JFK Air port - manhattan ] taxi driving and its fare ."
   ]
  },
  {
   "cell_type": "code",
   "execution_count": 56,
   "metadata": {},
   "outputs": [],
   "source": [
    "train_a=train[(train.JfkAirPickDist <= 2) | (train.JfkAirDropDist <= 2)]"
   ]
  },
  {
   "cell_type": "code",
   "execution_count": 57,
   "metadata": {},
   "outputs": [
    {
     "data": {
      "text/html": [
       "<div>\n",
       "<style scoped>\n",
       "    .dataframe tbody tr th:only-of-type {\n",
       "        vertical-align: middle;\n",
       "    }\n",
       "\n",
       "    .dataframe tbody tr th {\n",
       "        vertical-align: top;\n",
       "    }\n",
       "\n",
       "    .dataframe thead th {\n",
       "        text-align: right;\n",
       "    }\n",
       "</style>\n",
       "<table border=\"1\" class=\"dataframe\">\n",
       "  <thead>\n",
       "    <tr style=\"text-align: right;\">\n",
       "      <th></th>\n",
       "      <th>dist</th>\n",
       "      <th>fare_amount</th>\n",
       "    </tr>\n",
       "  </thead>\n",
       "  <tbody>\n",
       "    <tr>\n",
       "      <td>count</td>\n",
       "      <td>20900.000000</td>\n",
       "      <td>20900.000000</td>\n",
       "    </tr>\n",
       "    <tr>\n",
       "      <td>mean</td>\n",
       "      <td>17.709441</td>\n",
       "      <td>45.606776</td>\n",
       "    </tr>\n",
       "    <tr>\n",
       "      <td>std</td>\n",
       "      <td>6.236529</td>\n",
       "      <td>15.262911</td>\n",
       "    </tr>\n",
       "    <tr>\n",
       "      <td>min</td>\n",
       "      <td>0.000000</td>\n",
       "      <td>0.000000</td>\n",
       "    </tr>\n",
       "    <tr>\n",
       "      <td>25%</td>\n",
       "      <td>16.406525</td>\n",
       "      <td>42.000000</td>\n",
       "    </tr>\n",
       "    <tr>\n",
       "      <td>50%</td>\n",
       "      <td>20.006025</td>\n",
       "      <td>49.800000</td>\n",
       "    </tr>\n",
       "    <tr>\n",
       "      <td>75%</td>\n",
       "      <td>20.965829</td>\n",
       "      <td>56.800000</td>\n",
       "    </tr>\n",
       "    <tr>\n",
       "      <td>max</td>\n",
       "      <td>98.333655</td>\n",
       "      <td>287.080000</td>\n",
       "    </tr>\n",
       "  </tbody>\n",
       "</table>\n",
       "</div>"
      ],
      "text/plain": [
       "              dist  fare_amount\n",
       "count 20900.000000 20900.000000\n",
       "mean     17.709441    45.606776\n",
       "std       6.236529    15.262911\n",
       "min       0.000000     0.000000\n",
       "25%      16.406525    42.000000\n",
       "50%      20.006025    49.800000\n",
       "75%      20.965829    56.800000\n",
       "max      98.333655   287.080000"
      ]
     },
     "execution_count": 57,
     "metadata": {},
     "output_type": "execute_result"
    }
   ],
   "source": [
    "train_a[['dist','fare_amount']].describe()"
   ]
  },
  {
   "cell_type": "code",
   "execution_count": 58,
   "metadata": {},
   "outputs": [
    {
     "data": {
      "text/plain": [
       "<matplotlib.axes._subplots.AxesSubplot at 0x7f2973daab70>"
      ]
     },
     "execution_count": 58,
     "metadata": {},
     "output_type": "execute_result"
    },
    {
     "data": {
      "image/png": "[encoded data removed]",
      "text/plain": [
       "<Figure size 432x288 with 1 Axes>"
      ]
     },
     "metadata": {
      "needs_background": "light"
     },
     "output_type": "display_data"
    }
   ],
   "source": [
    "sns.distplot(train_a.dist)"
   ]
  },
  {
   "cell_type": "code",
   "execution_count": 59,
   "metadata": {},
   "outputs": [
    {
     "data": {
      "text/plain": [
       "<matplotlib.axes._subplots.AxesSubplot at 0x7f2970c66780>"
      ]
     },
     "execution_count": 59,
     "metadata": {},
     "output_type": "execute_result"
    },
    {
     "data": {
      "image/png": "[encoded data removed]",
      "text/plain": [
       "<Figure size 432x288 with 1 Axes>"
      ]
     },
     "metadata": {
      "needs_background": "light"
     },
     "output_type": "display_data"
    }
   ],
   "source": [
    "sns.distplot(train_a.fare_amount)"
   ]
  },
  {
   "cell_type": "code",
   "execution_count": 60,
   "metadata": {},
   "outputs": [],
   "source": [
    "train_b=train[(train.LgAirDropDist <= 2) | (train.LgAirPickDist <= 2)]"
   ]
  },
  {
   "cell_type": "code",
   "execution_count": 61,
   "metadata": {},
   "outputs": [
    {
     "data": {
      "text/plain": [
       "<matplotlib.axes._subplots.AxesSubplot at 0x7f2973cf2978>"
      ]
     },
     "execution_count": 61,
     "metadata": {},
     "output_type": "execute_result"
    },
    {
     "data": {
      "image/png": "[encoded data removed]",
      "text/plain": [
       "<Figure size 432x288 with 1 Axes>"
      ]
     },
     "metadata": {
      "needs_background": "light"
     },
     "output_type": "display_data"
    }
   ],
   "source": [
    "sns.distplot(train_b.dist)"
   ]
  },
  {
   "cell_type": "code",
   "execution_count": 62,
   "metadata": {},
   "outputs": [
    {
     "data": {
      "text/plain": [
       "<matplotlib.axes._subplots.AxesSubplot at 0x7f2970c66b70>"
      ]
     },
     "execution_count": 62,
     "metadata": {},
     "output_type": "execute_result"
    },
    {
     "data": {
      "image/png": "[encoded data removed]",
      "text/plain": [
       "<Figure size 432x288 with 1 Axes>"
      ]
     },
     "metadata": {
      "needs_background": "light"
     },
     "output_type": "display_data"
    }
   ],
   "source": [
    "sns.distplot(train_b.fare_amount)"
   ]
  },
  {
   "cell_type": "code",
   "execution_count": 63,
   "metadata": {},
   "outputs": [
    {
     "name": "stdout",
     "output_type": "stream",
     "text": [
      "The t-statistic and p-value assuming unequal variances is 194.884 and 0.000.\n"
     ]
    }
   ],
   "source": [
    "#Referenced from ( https://thenotes.tistory.com/entry/Ttest-in-python [NOTES] )\n",
    "from scipy import stats\n",
    "\n",
    "tTest_Result= stats.ttest_ind(train[train.JfkAirDropDist <= 2].fare_amount,train[train.JfkAirDropDist > 2].fare_amount, equal_var=False) \n",
    "print(\"The t-statistic and p-value assuming unequal variances is %.3f and %.3f.\" % tTest_Result)\n"
   ]
  },
  {
   "cell_type": "code",
   "execution_count": 64,
   "metadata": {},
   "outputs": [
    {
     "name": "stdout",
     "output_type": "stream",
     "text": [
      "The t-statistic and p-value assuming unequal variances is 233.783 and 0.000.\n"
     ]
    }
   ],
   "source": [
    "tTest_Result= stats.ttest_ind(train[train.JfkAirPickDist <= 2].fare_amount,train[train.JfkAirPickDist > 2].fare_amount, equal_var=False) \n",
    "print(\"The t-statistic and p-value assuming unequal variances is %.3f and %.3f.\" % tTest_Result)\n"
   ]
  },
  {
   "cell_type": "code",
   "execution_count": 65,
   "metadata": {},
   "outputs": [
    {
     "name": "stdout",
     "output_type": "stream",
     "text": [
      "The t-statistic and p-value assuming unequal variances is 233.712 and 0.000.\n"
     ]
    }
   ],
   "source": [
    "tTest_Result= stats.ttest_ind(train[train.LgAirDropDist <= 2].fare_amount,train[train.LgAirDropDist > 2].fare_amount, equal_var=False) \n",
    "print(\"The t-statistic and p-value assuming unequal variances is %.3f and %.3f.\" % tTest_Result)\n"
   ]
  },
  {
   "cell_type": "code",
   "execution_count": 66,
   "metadata": {},
   "outputs": [
    {
     "name": "stdout",
     "output_type": "stream",
     "text": [
      "The t-statistic and p-value assuming unequal variances is 242.977 and 0.000.\n"
     ]
    }
   ],
   "source": [
    "tTest_Result= stats.ttest_ind(train[train.LgAirPickDist <= 2].fare_amount,train[train.LgAirPickDist > 2].fare_amount, equal_var=False) \n",
    "print(\"The t-statistic and p-value assuming unequal variances is %.3f and %.3f.\" % tTest_Result)\n"
   ]
  },
  {
   "cell_type": "code",
   "execution_count": 67,
   "metadata": {},
   "outputs": [],
   "source": [
    "train['LgAirPickDist']=np.vectorize(lambda x: 1 if x<=2 else 0)(train['LgAirPickDist'])\n",
    "train['LgAirDropDist']=np.vectorize(lambda x: 1 if x<=2 else 0)(train['LgAirDropDist'])\n",
    "train['JfkAirPickDist']=np.vectorize(lambda x: 1 if x<=2 else 0)(train['JfkAirPickDist'])\n",
    "train['JfkAirDropDist']=np.vectorize(lambda x: 1 if x<=2 else 0)(train['JfkAirDropDist'])"
   ]
  },
  {
   "cell_type": "markdown",
   "metadata": {},
   "source": [
    "* ###  There is difference Whether airport is near "
   ]
  },
  {
   "cell_type": "markdown",
   "metadata": {},
   "source": [
    "## 3-6. Is fare_amount related with in city or out city ?\n",
    "### step1.Devide regions"
   ]
  },
  {
   "cell_type": "code",
   "execution_count": 68,
   "metadata": {},
   "outputs": [],
   "source": [
    "r1={'south':40.557246 ,'north':40.64994 , 'west':-74.213979 , 'east':-74.053616 } ;\n",
    "r2={'south':40.496008 ,'north':r1['south'] , 'west': -74.255730 , 'east': -74.101707 };\n",
    "r3={'south':40.701027 ,'north':40.748349 , 'west': -74.019548 , 'east': -73.967354 };\n",
    "r4={'south':r3['north'] ,'north':40.766704 , 'west': -74.010367 , 'east': -73.929445 };\n",
    "r5={'south':r4['north'] ,'north':40.796729 , 'west': -73.997547 , 'east': -73.929445 };\n",
    "r6={'south':r5['north'] ,'north':40.911176 , 'west': -73.976801 , 'east': -73.929445 };\n",
    "r7={'south':r5['south'] ,'north':40.915690 , 'west': r6['east'] , 'east': -73.781091 };\n",
    "r8={'south':40.739446 ,'north':r4['south'] , 'west': r3['east'] , 'east': -73.942672 };\n",
    "r9={'south': 40.570376 ,'north':r3['south'] , 'west':  -74.041803 , 'east': -73.856216 };\n",
    "r10={'south': r9['north'] ,'north':r8['south'] , 'west':  r3['east'] , 'east': r8['east'] };\n",
    "r11={'south': r4['south'] ,'north':r7['south'] , 'west':  r4['east'] , 'east':-73.764818 };\n",
    "r12={'south': r10['south'] ,'north':r11['south'] , 'west':  r10['east'] , 'east':-73.700318 };\n",
    "r13={'south': r9['south'] ,'north': r12['south'] , 'west':  r9['east'] , 'east':-73.725710 };\n",
    "r14={'south': 40.543202 ,'north': r13['south'] , 'west':  -73.940431 , 'east':-73.844121 }; \n",
    "areaList=[r1,r2,r3,r4,r5,r6,r7,r8,r9,r10,r11,r12,r13,r14] "
   ]
  },
  {
   "cell_type": "code",
   "execution_count": 69,
   "metadata": {},
   "outputs": [
    {
     "data": {
      "text/html": [
       "<div>\n",
       "<style scoped>\n",
       "    .dataframe tbody tr th:only-of-type {\n",
       "        vertical-align: middle;\n",
       "    }\n",
       "\n",
       "    .dataframe tbody tr th {\n",
       "        vertical-align: top;\n",
       "    }\n",
       "\n",
       "    .dataframe thead th {\n",
       "        text-align: right;\n",
       "    }\n",
       "</style>\n",
       "<table border=\"1\" class=\"dataframe\">\n",
       "  <thead>\n",
       "    <tr style=\"text-align: right;\">\n",
       "      <th></th>\n",
       "      <th>key</th>\n",
       "      <th>fare_amount</th>\n",
       "      <th>pickup_longitude</th>\n",
       "      <th>pickup_latitude</th>\n",
       "      <th>dropoff_longitude</th>\n",
       "      <th>dropoff_latitude</th>\n",
       "      <th>passenger_count</th>\n",
       "      <th>dist</th>\n",
       "      <th>year</th>\n",
       "      <th>month</th>\n",
       "      <th>evening</th>\n",
       "      <th>dayofweek</th>\n",
       "      <th>LgAirPickDist</th>\n",
       "      <th>LgAirDropDist</th>\n",
       "      <th>JfkAirPickDist</th>\n",
       "      <th>JfkAirDropDist</th>\n",
       "    </tr>\n",
       "    <tr>\n",
       "      <th>pickup_datetime</th>\n",
       "      <th></th>\n",
       "      <th></th>\n",
       "      <th></th>\n",
       "      <th></th>\n",
       "      <th></th>\n",
       "      <th></th>\n",
       "      <th></th>\n",
       "      <th></th>\n",
       "      <th></th>\n",
       "      <th></th>\n",
       "      <th></th>\n",
       "      <th></th>\n",
       "      <th></th>\n",
       "      <th></th>\n",
       "      <th></th>\n",
       "      <th></th>\n",
       "    </tr>\n",
       "  </thead>\n",
       "  <tbody>\n",
       "    <tr>\n",
       "      <td>2009-08-07 21:49:13+00:00</td>\n",
       "      <td>2009-08-07 21:49:13.0000003</td>\n",
       "      <td>165.000000</td>\n",
       "      <td>-73.633363</td>\n",
       "      <td>41.032490</td>\n",
       "      <td>-73.633671</td>\n",
       "      <td>41.032598</td>\n",
       "      <td>1</td>\n",
       "      <td>0.028489</td>\n",
       "      <td>2009</td>\n",
       "      <td>8</td>\n",
       "      <td>1</td>\n",
       "      <td>Fri</td>\n",
       "      <td>0</td>\n",
       "      <td>0</td>\n",
       "      <td>0</td>\n",
       "      <td>0</td>\n",
       "    </tr>\n",
       "    <tr>\n",
       "      <td>2009-05-02 19:01:01+00:00</td>\n",
       "      <td>2009-05-02 19:01:01.0000002</td>\n",
       "      <td>2.500000</td>\n",
       "      <td>-73.137393</td>\n",
       "      <td>41.366138</td>\n",
       "      <td>-73.996510</td>\n",
       "      <td>40.745320</td>\n",
       "      <td>2</td>\n",
       "      <td>99.771579</td>\n",
       "      <td>2009</td>\n",
       "      <td>5</td>\n",
       "      <td>0</td>\n",
       "      <td>Sat</td>\n",
       "      <td>0</td>\n",
       "      <td>0</td>\n",
       "      <td>0</td>\n",
       "      <td>0</td>\n",
       "    </tr>\n",
       "    <tr>\n",
       "      <td>2010-03-09 23:37:10+00:00</td>\n",
       "      <td>0</td>\n",
       "      <td>0.000000</td>\n",
       "      <td>0.000000</td>\n",
       "      <td>0.000000</td>\n",
       "      <td>0.000000</td>\n",
       "      <td>0.000000</td>\n",
       "      <td>0</td>\n",
       "      <td>0.000000</td>\n",
       "      <td>2010</td>\n",
       "      <td>3</td>\n",
       "      <td>1</td>\n",
       "      <td>Tues</td>\n",
       "      <td>0</td>\n",
       "      <td>0</td>\n",
       "      <td>0</td>\n",
       "      <td>0</td>\n",
       "    </tr>\n",
       "    <tr>\n",
       "      <td>2015-03-22 05:14:27+00:00</td>\n",
       "      <td>0</td>\n",
       "      <td>0.000000</td>\n",
       "      <td>0.000000</td>\n",
       "      <td>0.000000</td>\n",
       "      <td>0.000000</td>\n",
       "      <td>0.000000</td>\n",
       "      <td>0</td>\n",
       "      <td>0.000000</td>\n",
       "      <td>2015</td>\n",
       "      <td>3</td>\n",
       "      <td>1</td>\n",
       "      <td>Sun</td>\n",
       "      <td>0</td>\n",
       "      <td>0</td>\n",
       "      <td>0</td>\n",
       "      <td>0</td>\n",
       "    </tr>\n",
       "    <tr>\n",
       "      <td>2009-01-06 10:53:36+00:00</td>\n",
       "      <td>2009-01-06 10:53:36.0000004</td>\n",
       "      <td>6.900000</td>\n",
       "      <td>-73.137393</td>\n",
       "      <td>41.366138</td>\n",
       "      <td>-73.974598</td>\n",
       "      <td>40.751311</td>\n",
       "      <td>1</td>\n",
       "      <td>97.985088</td>\n",
       "      <td>2009</td>\n",
       "      <td>1</td>\n",
       "      <td>0</td>\n",
       "      <td>Tues</td>\n",
       "      <td>0</td>\n",
       "      <td>0</td>\n",
       "      <td>0</td>\n",
       "      <td>0</td>\n",
       "    </tr>\n",
       "    <tr>\n",
       "      <td>...</td>\n",
       "      <td>...</td>\n",
       "      <td>...</td>\n",
       "      <td>...</td>\n",
       "      <td>...</td>\n",
       "      <td>...</td>\n",
       "      <td>...</td>\n",
       "      <td>...</td>\n",
       "      <td>...</td>\n",
       "      <td>...</td>\n",
       "      <td>...</td>\n",
       "      <td>...</td>\n",
       "      <td>...</td>\n",
       "      <td>...</td>\n",
       "      <td>...</td>\n",
       "      <td>...</td>\n",
       "      <td>...</td>\n",
       "    </tr>\n",
       "    <tr>\n",
       "      <td>2010-04-30 11:34:15+00:00</td>\n",
       "      <td>2010-04-30 11:34:15.0000001</td>\n",
       "      <td>4.100000</td>\n",
       "      <td>-73.137393</td>\n",
       "      <td>41.366138</td>\n",
       "      <td>-73.137393</td>\n",
       "      <td>41.366138</td>\n",
       "      <td>1</td>\n",
       "      <td>0.000000</td>\n",
       "      <td>2010</td>\n",
       "      <td>4</td>\n",
       "      <td>0</td>\n",
       "      <td>Fri</td>\n",
       "      <td>0</td>\n",
       "      <td>0</td>\n",
       "      <td>0</td>\n",
       "      <td>0</td>\n",
       "    </tr>\n",
       "    <tr>\n",
       "      <td>2009-10-22 06:51:36+00:00</td>\n",
       "      <td>2009-10-22 06:51:36.0000001</td>\n",
       "      <td>9.700000</td>\n",
       "      <td>-73.137393</td>\n",
       "      <td>41.366138</td>\n",
       "      <td>-74.006365</td>\n",
       "      <td>40.742378</td>\n",
       "      <td>1</td>\n",
       "      <td>100.596245</td>\n",
       "      <td>2009</td>\n",
       "      <td>10</td>\n",
       "      <td>1</td>\n",
       "      <td>Thurs</td>\n",
       "      <td>0</td>\n",
       "      <td>0</td>\n",
       "      <td>0</td>\n",
       "      <td>0</td>\n",
       "    </tr>\n",
       "    <tr>\n",
       "      <td>2009-06-11 22:17:19+00:00</td>\n",
       "      <td>2009-06-11 22:17:19.0000002</td>\n",
       "      <td>13.700000</td>\n",
       "      <td>-73.137393</td>\n",
       "      <td>41.366138</td>\n",
       "      <td>-73.137393</td>\n",
       "      <td>41.366138</td>\n",
       "      <td>2</td>\n",
       "      <td>0.000000</td>\n",
       "      <td>2009</td>\n",
       "      <td>6</td>\n",
       "      <td>1</td>\n",
       "      <td>Thurs</td>\n",
       "      <td>0</td>\n",
       "      <td>0</td>\n",
       "      <td>0</td>\n",
       "      <td>0</td>\n",
       "    </tr>\n",
       "    <tr>\n",
       "      <td>2009-01-16 09:53:24+00:00</td>\n",
       "      <td>2009-01-16 09:53:24.0000003</td>\n",
       "      <td>4.100000</td>\n",
       "      <td>-73.137393</td>\n",
       "      <td>41.366138</td>\n",
       "      <td>-73.981113</td>\n",
       "      <td>40.750522</td>\n",
       "      <td>1</td>\n",
       "      <td>98.438428</td>\n",
       "      <td>2009</td>\n",
       "      <td>1</td>\n",
       "      <td>0</td>\n",
       "      <td>Fri</td>\n",
       "      <td>0</td>\n",
       "      <td>0</td>\n",
       "      <td>0</td>\n",
       "      <td>0</td>\n",
       "    </tr>\n",
       "    <tr>\n",
       "      <td>2010-07-12 15:14:26+00:00</td>\n",
       "      <td>2010-07-12 15:14:26.0000004</td>\n",
       "      <td>4.100000</td>\n",
       "      <td>-73.137393</td>\n",
       "      <td>41.366138</td>\n",
       "      <td>-73.137393</td>\n",
       "      <td>41.366138</td>\n",
       "      <td>2</td>\n",
       "      <td>0.000000</td>\n",
       "      <td>2010</td>\n",
       "      <td>7</td>\n",
       "      <td>0</td>\n",
       "      <td>Mon</td>\n",
       "      <td>0</td>\n",
       "      <td>0</td>\n",
       "      <td>0</td>\n",
       "      <td>0</td>\n",
       "    </tr>\n",
       "  </tbody>\n",
       "</table>\n",
       "<p>411 rows × 16 columns</p>\n",
       "</div>"
      ],
      "text/plain": [
       "                                                   key  fare_amount  \\\n",
       "pickup_datetime                                                       \n",
       "2009-08-07 21:49:13+00:00  2009-08-07 21:49:13.0000003   165.000000   \n",
       "2009-05-02 19:01:01+00:00  2009-05-02 19:01:01.0000002     2.500000   \n",
       "2010-03-09 23:37:10+00:00                            0     0.000000   \n",
       "2015-03-22 05:14:27+00:00                            0     0.000000   \n",
       "2009-01-06 10:53:36+00:00  2009-01-06 10:53:36.0000004     6.900000   \n",
       "...                                                ...          ...   \n",
       "2010-04-30 11:34:15+00:00  2010-04-30 11:34:15.0000001     4.100000   \n",
       "2009-10-22 06:51:36+00:00  2009-10-22 06:51:36.0000001     9.700000   \n",
       "2009-06-11 22:17:19+00:00  2009-06-11 22:17:19.0000002    13.700000   \n",
       "2009-01-16 09:53:24+00:00  2009-01-16 09:53:24.0000003     4.100000   \n",
       "2010-07-12 15:14:26+00:00  2010-07-12 15:14:26.0000004     4.100000   \n",
       "\n",
       "                           pickup_longitude  pickup_latitude  \\\n",
       "pickup_datetime                                                \n",
       "2009-08-07 21:49:13+00:00        -73.633363        41.032490   \n",
       "2009-05-02 19:01:01+00:00        -73.137393        41.366138   \n",
       "2010-03-09 23:37:10+00:00          0.000000         0.000000   \n",
       "2015-03-22 05:14:27+00:00          0.000000         0.000000   \n",
       "2009-01-06 10:53:36+00:00        -73.137393        41.366138   \n",
       "...                                     ...              ...   \n",
       "2010-04-30 11:34:15+00:00        -73.137393        41.366138   \n",
       "2009-10-22 06:51:36+00:00        -73.137393        41.366138   \n",
       "2009-06-11 22:17:19+00:00        -73.137393        41.366138   \n",
       "2009-01-16 09:53:24+00:00        -73.137393        41.366138   \n",
       "2010-07-12 15:14:26+00:00        -73.137393        41.366138   \n",
       "\n",
       "                           dropoff_longitude  dropoff_latitude  \\\n",
       "pickup_datetime                                                  \n",
       "2009-08-07 21:49:13+00:00         -73.633671         41.032598   \n",
       "2009-05-02 19:01:01+00:00         -73.996510         40.745320   \n",
       "2010-03-09 23:37:10+00:00           0.000000          0.000000   \n",
       "2015-03-22 05:14:27+00:00           0.000000          0.000000   \n",
       "2009-01-06 10:53:36+00:00         -73.974598         40.751311   \n",
       "...                                      ...               ...   \n",
       "2010-04-30 11:34:15+00:00         -73.137393         41.366138   \n",
       "2009-10-22 06:51:36+00:00         -74.006365         40.742378   \n",
       "2009-06-11 22:17:19+00:00         -73.137393         41.366138   \n",
       "2009-01-16 09:53:24+00:00         -73.981113         40.750522   \n",
       "2010-07-12 15:14:26+00:00         -73.137393         41.366138   \n",
       "\n",
       "                           passenger_count       dist  year  month  evening  \\\n",
       "pickup_datetime                                                               \n",
       "2009-08-07 21:49:13+00:00                1   0.028489  2009      8        1   \n",
       "2009-05-02 19:01:01+00:00                2  99.771579  2009      5        0   \n",
       "2010-03-09 23:37:10+00:00                0   0.000000  2010      3        1   \n",
       "2015-03-22 05:14:27+00:00                0   0.000000  2015      3        1   \n",
       "2009-01-06 10:53:36+00:00                1  97.985088  2009      1        0   \n",
       "...                                    ...        ...   ...    ...      ...   \n",
       "2010-04-30 11:34:15+00:00                1   0.000000  2010      4        0   \n",
       "2009-10-22 06:51:36+00:00                1 100.596245  2009     10        1   \n",
       "2009-06-11 22:17:19+00:00                2   0.000000  2009      6        1   \n",
       "2009-01-16 09:53:24+00:00                1  98.438428  2009      1        0   \n",
       "2010-07-12 15:14:26+00:00                2   0.000000  2010      7        0   \n",
       "\n",
       "                          dayofweek  LgAirPickDist  LgAirDropDist  \\\n",
       "pickup_datetime                                                     \n",
       "2009-08-07 21:49:13+00:00       Fri              0              0   \n",
       "2009-05-02 19:01:01+00:00       Sat              0              0   \n",
       "2010-03-09 23:37:10+00:00      Tues              0              0   \n",
       "2015-03-22 05:14:27+00:00       Sun              0              0   \n",
       "2009-01-06 10:53:36+00:00      Tues              0              0   \n",
       "...                             ...            ...            ...   \n",
       "2010-04-30 11:34:15+00:00       Fri              0              0   \n",
       "2009-10-22 06:51:36+00:00     Thurs              0              0   \n",
       "2009-06-11 22:17:19+00:00     Thurs              0              0   \n",
       "2009-01-16 09:53:24+00:00       Fri              0              0   \n",
       "2010-07-12 15:14:26+00:00       Mon              0              0   \n",
       "\n",
       "                           JfkAirPickDist  JfkAirDropDist  \n",
       "pickup_datetime                                            \n",
       "2009-08-07 21:49:13+00:00               0               0  \n",
       "2009-05-02 19:01:01+00:00               0               0  \n",
       "2010-03-09 23:37:10+00:00               0               0  \n",
       "2015-03-22 05:14:27+00:00               0               0  \n",
       "2009-01-06 10:53:36+00:00               0               0  \n",
       "...                                   ...             ...  \n",
       "2010-04-30 11:34:15+00:00               0               0  \n",
       "2009-10-22 06:51:36+00:00               0               0  \n",
       "2009-06-11 22:17:19+00:00               0               0  \n",
       "2009-01-16 09:53:24+00:00               0               0  \n",
       "2010-07-12 15:14:26+00:00               0               0  \n",
       "\n",
       "[411 rows x 16 columns]"
      ]
     },
     "execution_count": 69,
     "metadata": {},
     "output_type": "execute_result"
    }
   ],
   "source": [
    "West = -74.257159 ; East = -73.699215 ; North = 40.915568 ; South = 40.495992 ;\n",
    "train[((train.pickup_longitude < West) | (train.pickup_longitude > East)) & ((train.pickup_latitude < South) | (train.pickup_latitude > North))]"
   ]
  },
  {
   "cell_type": "code",
   "execution_count": 70,
   "metadata": {},
   "outputs": [],
   "source": [
    "def CheckArea(lat,lon):\n",
    "    for num,area in enumerate(areaList):\n",
    "        if ( (area['west'] <= lon )& (area['east'] > lon)  & (area['south'] <= lat) & (area['north'] > lat) ):\n",
    "            return str(num+1)\n",
    "    return 0\n",
    "\n",
    "# In -> In : 0 ,  In -> Out : 1 , Out -> In : 2 , Out -> Out : 3\n",
    "def IsBorderChange(pickArea,dropArea):\n",
    "    if pickArea == '0':\n",
    "        if dropArea =='0':\n",
    "            return '3'\n",
    "        else:\n",
    "            return '2'\n",
    "    else:\n",
    "        if dropArea =='0':\n",
    "            return '1'\n",
    "        else:\n",
    "            return '0'"
   ]
  },
  {
   "cell_type": "code",
   "execution_count": 71,
   "metadata": {},
   "outputs": [
    {
     "data": {
      "text/html": [
       "<div>\n",
       "<style scoped>\n",
       "    .dataframe tbody tr th:only-of-type {\n",
       "        vertical-align: middle;\n",
       "    }\n",
       "\n",
       "    .dataframe tbody tr th {\n",
       "        vertical-align: top;\n",
       "    }\n",
       "\n",
       "    .dataframe thead th {\n",
       "        text-align: right;\n",
       "    }\n",
       "</style>\n",
       "<table border=\"1\" class=\"dataframe\">\n",
       "  <thead>\n",
       "    <tr style=\"text-align: right;\">\n",
       "      <th></th>\n",
       "      <th>key</th>\n",
       "      <th>fare_amount</th>\n",
       "      <th>pickup_longitude</th>\n",
       "      <th>pickup_latitude</th>\n",
       "      <th>dropoff_longitude</th>\n",
       "      <th>dropoff_latitude</th>\n",
       "      <th>passenger_count</th>\n",
       "      <th>dist</th>\n",
       "      <th>year</th>\n",
       "      <th>month</th>\n",
       "      <th>evening</th>\n",
       "      <th>dayofweek</th>\n",
       "      <th>LgAirPickDist</th>\n",
       "      <th>LgAirDropDist</th>\n",
       "      <th>JfkAirPickDist</th>\n",
       "      <th>JfkAirDropDist</th>\n",
       "      <th>pickupArea</th>\n",
       "      <th>dropoffArea</th>\n",
       "      <th>BorderChange</th>\n",
       "    </tr>\n",
       "    <tr>\n",
       "      <th>pickup_datetime</th>\n",
       "      <th></th>\n",
       "      <th></th>\n",
       "      <th></th>\n",
       "      <th></th>\n",
       "      <th></th>\n",
       "      <th></th>\n",
       "      <th></th>\n",
       "      <th></th>\n",
       "      <th></th>\n",
       "      <th></th>\n",
       "      <th></th>\n",
       "      <th></th>\n",
       "      <th></th>\n",
       "      <th></th>\n",
       "      <th></th>\n",
       "      <th></th>\n",
       "      <th></th>\n",
       "      <th></th>\n",
       "      <th></th>\n",
       "    </tr>\n",
       "  </thead>\n",
       "  <tbody>\n",
       "    <tr>\n",
       "      <td>2009-06-15 17:26:21+00:00</td>\n",
       "      <td>2009-06-15 17:26:21.0000001</td>\n",
       "      <td>4.500000</td>\n",
       "      <td>-73.844311</td>\n",
       "      <td>40.721319</td>\n",
       "      <td>-73.841610</td>\n",
       "      <td>40.712278</td>\n",
       "      <td>1</td>\n",
       "      <td>1.030764</td>\n",
       "      <td>2009</td>\n",
       "      <td>6</td>\n",
       "      <td>0</td>\n",
       "      <td>Mon</td>\n",
       "      <td>0</td>\n",
       "      <td>0</td>\n",
       "      <td>0</td>\n",
       "      <td>0</td>\n",
       "      <td>12</td>\n",
       "      <td>12</td>\n",
       "      <td>0</td>\n",
       "    </tr>\n",
       "    <tr>\n",
       "      <td>2010-01-05 16:52:16+00:00</td>\n",
       "      <td>2010-01-05 16:52:16.0000002</td>\n",
       "      <td>16.900000</td>\n",
       "      <td>-74.016048</td>\n",
       "      <td>40.711303</td>\n",
       "      <td>-73.979268</td>\n",
       "      <td>40.782004</td>\n",
       "      <td>1</td>\n",
       "      <td>8.450134</td>\n",
       "      <td>2010</td>\n",
       "      <td>1</td>\n",
       "      <td>0</td>\n",
       "      <td>Tues</td>\n",
       "      <td>0</td>\n",
       "      <td>0</td>\n",
       "      <td>0</td>\n",
       "      <td>0</td>\n",
       "      <td>3</td>\n",
       "      <td>5</td>\n",
       "      <td>0</td>\n",
       "    </tr>\n",
       "    <tr>\n",
       "      <td>2011-08-18 00:35:00+00:00</td>\n",
       "      <td>2011-08-18 00:35:00.00000049</td>\n",
       "      <td>5.700000</td>\n",
       "      <td>-73.982738</td>\n",
       "      <td>40.761270</td>\n",
       "      <td>-73.991242</td>\n",
       "      <td>40.750562</td>\n",
       "      <td>2</td>\n",
       "      <td>1.389525</td>\n",
       "      <td>2011</td>\n",
       "      <td>8</td>\n",
       "      <td>1</td>\n",
       "      <td>Thurs</td>\n",
       "      <td>0</td>\n",
       "      <td>0</td>\n",
       "      <td>0</td>\n",
       "      <td>0</td>\n",
       "      <td>4</td>\n",
       "      <td>4</td>\n",
       "      <td>0</td>\n",
       "    </tr>\n",
       "    <tr>\n",
       "      <td>2012-04-21 04:30:42+00:00</td>\n",
       "      <td>2012-04-21 04:30:42.0000001</td>\n",
       "      <td>7.700000</td>\n",
       "      <td>-73.987130</td>\n",
       "      <td>40.733143</td>\n",
       "      <td>-73.991567</td>\n",
       "      <td>40.758092</td>\n",
       "      <td>1</td>\n",
       "      <td>2.799270</td>\n",
       "      <td>2012</td>\n",
       "      <td>4</td>\n",
       "      <td>1</td>\n",
       "      <td>Sat</td>\n",
       "      <td>0</td>\n",
       "      <td>0</td>\n",
       "      <td>0</td>\n",
       "      <td>0</td>\n",
       "      <td>3</td>\n",
       "      <td>4</td>\n",
       "      <td>0</td>\n",
       "    </tr>\n",
       "    <tr>\n",
       "      <td>2010-03-09 07:51:00+00:00</td>\n",
       "      <td>2010-03-09 07:51:00.000000135</td>\n",
       "      <td>5.300000</td>\n",
       "      <td>-73.968095</td>\n",
       "      <td>40.768008</td>\n",
       "      <td>-73.956655</td>\n",
       "      <td>40.783762</td>\n",
       "      <td>1</td>\n",
       "      <td>1.999157</td>\n",
       "      <td>2010</td>\n",
       "      <td>3</td>\n",
       "      <td>0</td>\n",
       "      <td>Tues</td>\n",
       "      <td>0</td>\n",
       "      <td>0</td>\n",
       "      <td>0</td>\n",
       "      <td>0</td>\n",
       "      <td>5</td>\n",
       "      <td>5</td>\n",
       "      <td>0</td>\n",
       "    </tr>\n",
       "  </tbody>\n",
       "</table>\n",
       "</div>"
      ],
      "text/plain": [
       "                                                     key  fare_amount  \\\n",
       "pickup_datetime                                                         \n",
       "2009-06-15 17:26:21+00:00    2009-06-15 17:26:21.0000001     4.500000   \n",
       "2010-01-05 16:52:16+00:00    2010-01-05 16:52:16.0000002    16.900000   \n",
       "2011-08-18 00:35:00+00:00   2011-08-18 00:35:00.00000049     5.700000   \n",
       "2012-04-21 04:30:42+00:00    2012-04-21 04:30:42.0000001     7.700000   \n",
       "2010-03-09 07:51:00+00:00  2010-03-09 07:51:00.000000135     5.300000   \n",
       "\n",
       "                           pickup_longitude  pickup_latitude  \\\n",
       "pickup_datetime                                                \n",
       "2009-06-15 17:26:21+00:00        -73.844311        40.721319   \n",
       "2010-01-05 16:52:16+00:00        -74.016048        40.711303   \n",
       "2011-08-18 00:35:00+00:00        -73.982738        40.761270   \n",
       "2012-04-21 04:30:42+00:00        -73.987130        40.733143   \n",
       "2010-03-09 07:51:00+00:00        -73.968095        40.768008   \n",
       "\n",
       "                           dropoff_longitude  dropoff_latitude  \\\n",
       "pickup_datetime                                                  \n",
       "2009-06-15 17:26:21+00:00         -73.841610         40.712278   \n",
       "2010-01-05 16:52:16+00:00         -73.979268         40.782004   \n",
       "2011-08-18 00:35:00+00:00         -73.991242         40.750562   \n",
       "2012-04-21 04:30:42+00:00         -73.991567         40.758092   \n",
       "2010-03-09 07:51:00+00:00         -73.956655         40.783762   \n",
       "\n",
       "                           passenger_count     dist  year  month  evening  \\\n",
       "pickup_datetime                                                             \n",
       "2009-06-15 17:26:21+00:00                1 1.030764  2009      6        0   \n",
       "2010-01-05 16:52:16+00:00                1 8.450134  2010      1        0   \n",
       "2011-08-18 00:35:00+00:00                2 1.389525  2011      8        1   \n",
       "2012-04-21 04:30:42+00:00                1 2.799270  2012      4        1   \n",
       "2010-03-09 07:51:00+00:00                1 1.999157  2010      3        0   \n",
       "\n",
       "                          dayofweek  LgAirPickDist  LgAirDropDist  \\\n",
       "pickup_datetime                                                     \n",
       "2009-06-15 17:26:21+00:00       Mon              0              0   \n",
       "2010-01-05 16:52:16+00:00      Tues              0              0   \n",
       "2011-08-18 00:35:00+00:00     Thurs              0              0   \n",
       "2012-04-21 04:30:42+00:00       Sat              0              0   \n",
       "2010-03-09 07:51:00+00:00      Tues              0              0   \n",
       "\n",
       "                           JfkAirPickDist  JfkAirDropDist pickupArea  \\\n",
       "pickup_datetime                                                        \n",
       "2009-06-15 17:26:21+00:00               0               0         12   \n",
       "2010-01-05 16:52:16+00:00               0               0          3   \n",
       "2011-08-18 00:35:00+00:00               0               0          4   \n",
       "2012-04-21 04:30:42+00:00               0               0          3   \n",
       "2010-03-09 07:51:00+00:00               0               0          5   \n",
       "\n",
       "                          dropoffArea BorderChange  \n",
       "pickup_datetime                                     \n",
       "2009-06-15 17:26:21+00:00          12            0  \n",
       "2010-01-05 16:52:16+00:00           5            0  \n",
       "2011-08-18 00:35:00+00:00           4            0  \n",
       "2012-04-21 04:30:42+00:00           4            0  \n",
       "2010-03-09 07:51:00+00:00           5            0  "
      ]
     },
     "execution_count": 71,
     "metadata": {},
     "output_type": "execute_result"
    }
   ],
   "source": [
    "train['pickupArea'] =  np.vectorize(CheckArea)(train['pickup_latitude'],train['pickup_longitude'])\n",
    "train['dropoffArea'] =  np.vectorize(CheckArea)(train['dropoff_latitude'],train['dropoff_longitude'])\n",
    "train['BorderChange'] = np.vectorize(IsBorderChange)(train['pickupArea'],train['dropoffArea'])\n",
    "train.head(5)"
   ]
  },
  {
   "cell_type": "code",
   "execution_count": 72,
   "metadata": {},
   "outputs": [
    {
     "data": {
      "text/plain": [
       "<matplotlib.axes._subplots.AxesSubplot at 0x7f29735ae630>"
      ]
     },
     "execution_count": 72,
     "metadata": {},
     "output_type": "execute_result"
    },
    {
     "data": {
      "image/png": "[encoded data removed]",
      "text/plain": [
       "<Figure size 432x288 with 1 Axes>"
      ]
     },
     "metadata": {
      "needs_background": "light"
     },
     "output_type": "display_data"
    }
   ],
   "source": [
    "sns.countplot(x=\"pickupArea\",data=train)\n",
    "#train['pickupArea'].value_counts()"
   ]
  },
  {
   "cell_type": "code",
   "execution_count": 73,
   "metadata": {},
   "outputs": [
    {
     "data": {
      "text/plain": [
       "<matplotlib.axes._subplots.AxesSubplot at 0x7f296e4a7588>"
      ]
     },
     "execution_count": 73,
     "metadata": {},
     "output_type": "execute_result"
    },
    {
     "data": {
      "image/png": "[encoded data removed]",
      "text/plain": [
       "<Figure size 432x288 with 1 Axes>"
      ]
     },
     "metadata": {
      "needs_background": "light"
     },
     "output_type": "display_data"
    }
   ],
   "source": [
    "sns.countplot(x=\"dropoffArea\",data=train)\n",
    "#train['dropoffArea'].value_counts()"
   ]
  },
  {
   "cell_type": "code",
   "execution_count": 74,
   "metadata": {},
   "outputs": [
    {
     "data": {
      "text/plain": [
       "0    970355\n",
       "1      2818\n",
       "3      1751\n",
       "2       445\n",
       "Name: BorderChange, dtype: int64"
      ]
     },
     "execution_count": 74,
     "metadata": {},
     "output_type": "execute_result"
    },
    {
     "data": {
      "image/png": "[encoded data removed]",
      "text/plain": [
       "<Figure size 432x288 with 1 Axes>"
      ]
     },
     "metadata": {
      "needs_background": "light"
     },
     "output_type": "display_data"
    }
   ],
   "source": [
    "'''# In -> In : 0 ,  In -> Out : 1 , Out -> In : 2 , Out -> Out : 3'''\n",
    "sns.countplot(x=\"BorderChange\",data=train)\n",
    "train.BorderChange.value_counts()"
   ]
  },
  {
   "cell_type": "code",
   "execution_count": 75,
   "metadata": {},
   "outputs": [
    {
     "data": {
      "text/plain": [
       "<matplotlib.axes._subplots.AxesSubplot at 0x7f2972b8bac8>"
      ]
     },
     "execution_count": 75,
     "metadata": {},
     "output_type": "execute_result"
    },
    {
     "data": {
      "image/png": "[encoded data removed]",
      "text/plain": [
       "<Figure size 432x288 with 1 Axes>"
      ]
     },
     "metadata": {
      "needs_background": "light"
     },
     "output_type": "display_data"
    }
   ],
   "source": [
    "sns.boxplot(x=\"BorderChange\",y='fare_amount',data=train)"
   ]
  },
  {
   "cell_type": "code",
   "execution_count": 76,
   "metadata": {},
   "outputs": [
    {
     "data": {
      "image/png": "[encoded data removed]",
      "text/plain": [
       "<Figure size 432x288 with 4 Axes>"
      ]
     },
     "metadata": {
      "needs_background": "light"
     },
     "output_type": "display_data"
    }
   ],
   "source": [
    "fig,ax=plt.subplots(4)\n",
    "fig.subplots_adjust(hspace=1.2,wspace=0.4)\n",
    "for num in range(4):\n",
    "    obj=str(num)                  \n",
    "    ax[num].hist(train[train['BorderChange']==obj].fare_amount)\n",
    "    ax[num].set_title(\"BorderChange:{}\".format(num))\n",
    "\n",
    "plt.show()"
   ]
  },
  {
   "cell_type": "code",
   "execution_count": 77,
   "metadata": {},
   "outputs": [
    {
     "data": {
      "text/plain": [
       "<matplotlib.axes._subplots.AxesSubplot at 0x7f2972997278>"
      ]
     },
     "execution_count": 77,
     "metadata": {},
     "output_type": "execute_result"
    },
    {
     "data": {
      "image/png": "[encoded data removed]",
      "text/plain": [
       "<Figure size 432x288 with 1 Axes>"
      ]
     },
     "metadata": {
      "needs_background": "light"
     },
     "output_type": "display_data"
    }
   ],
   "source": [
    "train[train['BorderChange']=='1'].fare_amount.plot(kind='kde')"
   ]
  },
  {
   "cell_type": "markdown",
   "metadata": {},
   "source": [
    "# 4. Modeling"
   ]
  },
  {
   "cell_type": "markdown",
   "metadata": {},
   "source": [
    "## 4-0. Summary"
   ]
  },
  {
   "cell_type": "code",
   "execution_count": 78,
   "metadata": {},
   "outputs": [
    {
     "data": {
      "text/plain": [
       "<matplotlib.axes._subplots.AxesSubplot at 0x7f29729026d8>"
      ]
     },
     "execution_count": 78,
     "metadata": {},
     "output_type": "execute_result"
    },
    {
     "data": {
      "image/png": "[encoded data removed]",
      "text/plain": [
       "<Figure size 2160x864 with 2 Axes>"
      ]
     },
     "metadata": {
      "needs_background": "light"
     },
     "output_type": "display_data"
    }
   ],
   "source": [
    "fig = plt.figure(figsize=(30,12))\n",
    "sns.heatmap(train.corr(),annot=True)"
   ]
  },
  {
   "cell_type": "code",
   "execution_count": 79,
   "metadata": {},
   "outputs": [
    {
     "data": {
      "text/html": [
       "<div>\n",
       "<style scoped>\n",
       "    .dataframe tbody tr th:only-of-type {\n",
       "        vertical-align: middle;\n",
       "    }\n",
       "\n",
       "    .dataframe tbody tr th {\n",
       "        vertical-align: top;\n",
       "    }\n",
       "\n",
       "    .dataframe thead th {\n",
       "        text-align: right;\n",
       "    }\n",
       "</style>\n",
       "<table border=\"1\" class=\"dataframe\">\n",
       "  <thead>\n",
       "    <tr style=\"text-align: right;\">\n",
       "      <th></th>\n",
       "      <th>key</th>\n",
       "      <th>fare_amount</th>\n",
       "      <th>pickup_longitude</th>\n",
       "      <th>pickup_latitude</th>\n",
       "      <th>dropoff_longitude</th>\n",
       "      <th>dropoff_latitude</th>\n",
       "      <th>passenger_count</th>\n",
       "      <th>dist</th>\n",
       "      <th>year</th>\n",
       "      <th>month</th>\n",
       "      <th>evening</th>\n",
       "      <th>dayofweek</th>\n",
       "      <th>LgAirPickDist</th>\n",
       "      <th>LgAirDropDist</th>\n",
       "      <th>JfkAirPickDist</th>\n",
       "      <th>JfkAirDropDist</th>\n",
       "      <th>pickupArea</th>\n",
       "      <th>dropoffArea</th>\n",
       "      <th>BorderChange</th>\n",
       "    </tr>\n",
       "    <tr>\n",
       "      <th>pickup_datetime</th>\n",
       "      <th></th>\n",
       "      <th></th>\n",
       "      <th></th>\n",
       "      <th></th>\n",
       "      <th></th>\n",
       "      <th></th>\n",
       "      <th></th>\n",
       "      <th></th>\n",
       "      <th></th>\n",
       "      <th></th>\n",
       "      <th></th>\n",
       "      <th></th>\n",
       "      <th></th>\n",
       "      <th></th>\n",
       "      <th></th>\n",
       "      <th></th>\n",
       "      <th></th>\n",
       "      <th></th>\n",
       "      <th></th>\n",
       "    </tr>\n",
       "  </thead>\n",
       "  <tbody>\n",
       "    <tr>\n",
       "      <td>2009-06-15 17:26:21+00:00</td>\n",
       "      <td>2009-06-15 17:26:21.0000001</td>\n",
       "      <td>4.500000</td>\n",
       "      <td>-73.844311</td>\n",
       "      <td>40.721319</td>\n",
       "      <td>-73.841610</td>\n",
       "      <td>40.712278</td>\n",
       "      <td>1</td>\n",
       "      <td>1.030764</td>\n",
       "      <td>2009</td>\n",
       "      <td>6</td>\n",
       "      <td>0</td>\n",
       "      <td>Mon</td>\n",
       "      <td>0</td>\n",
       "      <td>0</td>\n",
       "      <td>0</td>\n",
       "      <td>0</td>\n",
       "      <td>12</td>\n",
       "      <td>12</td>\n",
       "      <td>0</td>\n",
       "    </tr>\n",
       "    <tr>\n",
       "      <td>2010-01-05 16:52:16+00:00</td>\n",
       "      <td>2010-01-05 16:52:16.0000002</td>\n",
       "      <td>16.900000</td>\n",
       "      <td>-74.016048</td>\n",
       "      <td>40.711303</td>\n",
       "      <td>-73.979268</td>\n",
       "      <td>40.782004</td>\n",
       "      <td>1</td>\n",
       "      <td>8.450134</td>\n",
       "      <td>2010</td>\n",
       "      <td>1</td>\n",
       "      <td>0</td>\n",
       "      <td>Tues</td>\n",
       "      <td>0</td>\n",
       "      <td>0</td>\n",
       "      <td>0</td>\n",
       "      <td>0</td>\n",
       "      <td>3</td>\n",
       "      <td>5</td>\n",
       "      <td>0</td>\n",
       "    </tr>\n",
       "    <tr>\n",
       "      <td>2011-08-18 00:35:00+00:00</td>\n",
       "      <td>2011-08-18 00:35:00.00000049</td>\n",
       "      <td>5.700000</td>\n",
       "      <td>-73.982738</td>\n",
       "      <td>40.761270</td>\n",
       "      <td>-73.991242</td>\n",
       "      <td>40.750562</td>\n",
       "      <td>2</td>\n",
       "      <td>1.389525</td>\n",
       "      <td>2011</td>\n",
       "      <td>8</td>\n",
       "      <td>1</td>\n",
       "      <td>Thurs</td>\n",
       "      <td>0</td>\n",
       "      <td>0</td>\n",
       "      <td>0</td>\n",
       "      <td>0</td>\n",
       "      <td>4</td>\n",
       "      <td>4</td>\n",
       "      <td>0</td>\n",
       "    </tr>\n",
       "  </tbody>\n",
       "</table>\n",
       "</div>"
      ],
      "text/plain": [
       "                                                    key  fare_amount  \\\n",
       "pickup_datetime                                                        \n",
       "2009-06-15 17:26:21+00:00   2009-06-15 17:26:21.0000001     4.500000   \n",
       "2010-01-05 16:52:16+00:00   2010-01-05 16:52:16.0000002    16.900000   \n",
       "2011-08-18 00:35:00+00:00  2011-08-18 00:35:00.00000049     5.700000   \n",
       "\n",
       "                           pickup_longitude  pickup_latitude  \\\n",
       "pickup_datetime                                                \n",
       "2009-06-15 17:26:21+00:00        -73.844311        40.721319   \n",
       "2010-01-05 16:52:16+00:00        -74.016048        40.711303   \n",
       "2011-08-18 00:35:00+00:00        -73.982738        40.761270   \n",
       "\n",
       "                           dropoff_longitude  dropoff_latitude  \\\n",
       "pickup_datetime                                                  \n",
       "2009-06-15 17:26:21+00:00         -73.841610         40.712278   \n",
       "2010-01-05 16:52:16+00:00         -73.979268         40.782004   \n",
       "2011-08-18 00:35:00+00:00         -73.991242         40.750562   \n",
       "\n",
       "                           passenger_count     dist  year  month  evening  \\\n",
       "pickup_datetime                                                             \n",
       "2009-06-15 17:26:21+00:00                1 1.030764  2009      6        0   \n",
       "2010-01-05 16:52:16+00:00                1 8.450134  2010      1        0   \n",
       "2011-08-18 00:35:00+00:00                2 1.389525  2011      8        1   \n",
       "\n",
       "                          dayofweek  LgAirPickDist  LgAirDropDist  \\\n",
       "pickup_datetime                                                     \n",
       "2009-06-15 17:26:21+00:00       Mon              0              0   \n",
       "2010-01-05 16:52:16+00:00      Tues              0              0   \n",
       "2011-08-18 00:35:00+00:00     Thurs              0              0   \n",
       "\n",
       "                           JfkAirPickDist  JfkAirDropDist pickupArea  \\\n",
       "pickup_datetime                                                        \n",
       "2009-06-15 17:26:21+00:00               0               0         12   \n",
       "2010-01-05 16:52:16+00:00               0               0          3   \n",
       "2011-08-18 00:35:00+00:00               0               0          4   \n",
       "\n",
       "                          dropoffArea BorderChange  \n",
       "pickup_datetime                                     \n",
       "2009-06-15 17:26:21+00:00          12            0  \n",
       "2010-01-05 16:52:16+00:00           5            0  \n",
       "2011-08-18 00:35:00+00:00           4            0  "
      ]
     },
     "execution_count": 79,
     "metadata": {},
     "output_type": "execute_result"
    }
   ],
   "source": [
    "train.head(3)"
   ]
  },
  {
   "cell_type": "markdown",
   "metadata": {},
   "source": [
    "original variables .. \n",
    "    1. Space factors : pickup_longitude ,pickup_latitude , dropoff_longitude , dropoff_latitude \n",
    "    2. time : key \n",
    "    3. etc : passenger_count\n",
    "    4. goal : fare_amount<br>\n",
    "new variables ..\n",
    "    1. Space factors : dist  , LgAirPickDist\tLgAirDropDist\tJfkAirPickDist\tJfkAirDropDist , BorderChange ,pickupArea,dropoffArea\n",
    "    2. time :  year, evening, dayofweek \n",
    "    4. goal : fare_amount<br>\n",
    "    \n",
    "And I drop some unhelpful variables like passenger_count according to correlation."
   ]
  },
  {
   "cell_type": "code",
   "execution_count": 80,
   "metadata": {},
   "outputs": [],
   "source": [
    "train=train.drop(['passenger_count','month','evening','pickupArea','dropoffArea','pickup_longitude','pickup_latitude','dropoff_longitude','dropoff_latitude','key'],axis=1)"
   ]
  },
  {
   "cell_type": "code",
   "execution_count": 81,
   "metadata": {},
   "outputs": [
    {
     "data": {
      "text/html": [
       "<div>\n",
       "<style scoped>\n",
       "    .dataframe tbody tr th:only-of-type {\n",
       "        vertical-align: middle;\n",
       "    }\n",
       "\n",
       "    .dataframe tbody tr th {\n",
       "        vertical-align: top;\n",
       "    }\n",
       "\n",
       "    .dataframe thead th {\n",
       "        text-align: right;\n",
       "    }\n",
       "</style>\n",
       "<table border=\"1\" class=\"dataframe\">\n",
       "  <thead>\n",
       "    <tr style=\"text-align: right;\">\n",
       "      <th></th>\n",
       "      <th>fare_amount</th>\n",
       "      <th>dist</th>\n",
       "      <th>year</th>\n",
       "      <th>dayofweek</th>\n",
       "      <th>LgAirPickDist</th>\n",
       "      <th>LgAirDropDist</th>\n",
       "      <th>JfkAirPickDist</th>\n",
       "      <th>JfkAirDropDist</th>\n",
       "      <th>BorderChange</th>\n",
       "    </tr>\n",
       "    <tr>\n",
       "      <th>pickup_datetime</th>\n",
       "      <th></th>\n",
       "      <th></th>\n",
       "      <th></th>\n",
       "      <th></th>\n",
       "      <th></th>\n",
       "      <th></th>\n",
       "      <th></th>\n",
       "      <th></th>\n",
       "      <th></th>\n",
       "    </tr>\n",
       "  </thead>\n",
       "  <tbody>\n",
       "    <tr>\n",
       "      <td>2009-06-15 17:26:21+00:00</td>\n",
       "      <td>4.500000</td>\n",
       "      <td>1.030764</td>\n",
       "      <td>2009</td>\n",
       "      <td>Mon</td>\n",
       "      <td>0</td>\n",
       "      <td>0</td>\n",
       "      <td>0</td>\n",
       "      <td>0</td>\n",
       "      <td>0</td>\n",
       "    </tr>\n",
       "    <tr>\n",
       "      <td>2010-01-05 16:52:16+00:00</td>\n",
       "      <td>16.900000</td>\n",
       "      <td>8.450134</td>\n",
       "      <td>2010</td>\n",
       "      <td>Tues</td>\n",
       "      <td>0</td>\n",
       "      <td>0</td>\n",
       "      <td>0</td>\n",
       "      <td>0</td>\n",
       "      <td>0</td>\n",
       "    </tr>\n",
       "    <tr>\n",
       "      <td>2011-08-18 00:35:00+00:00</td>\n",
       "      <td>5.700000</td>\n",
       "      <td>1.389525</td>\n",
       "      <td>2011</td>\n",
       "      <td>Thurs</td>\n",
       "      <td>0</td>\n",
       "      <td>0</td>\n",
       "      <td>0</td>\n",
       "      <td>0</td>\n",
       "      <td>0</td>\n",
       "    </tr>\n",
       "  </tbody>\n",
       "</table>\n",
       "</div>"
      ],
      "text/plain": [
       "                           fare_amount     dist  year dayofweek  \\\n",
       "pickup_datetime                                                   \n",
       "2009-06-15 17:26:21+00:00     4.500000 1.030764  2009       Mon   \n",
       "2010-01-05 16:52:16+00:00    16.900000 8.450134  2010      Tues   \n",
       "2011-08-18 00:35:00+00:00     5.700000 1.389525  2011     Thurs   \n",
       "\n",
       "                           LgAirPickDist  LgAirDropDist  JfkAirPickDist  \\\n",
       "pickup_datetime                                                           \n",
       "2009-06-15 17:26:21+00:00              0              0               0   \n",
       "2010-01-05 16:52:16+00:00              0              0               0   \n",
       "2011-08-18 00:35:00+00:00              0              0               0   \n",
       "\n",
       "                           JfkAirDropDist BorderChange  \n",
       "pickup_datetime                                         \n",
       "2009-06-15 17:26:21+00:00               0            0  \n",
       "2010-01-05 16:52:16+00:00               0            0  \n",
       "2011-08-18 00:35:00+00:00               0            0  "
      ]
     },
     "execution_count": 81,
     "metadata": {},
     "output_type": "execute_result"
    }
   ],
   "source": [
    "train.head(3)"
   ]
  },
  {
   "cell_type": "code",
   "execution_count": 82,
   "metadata": {},
   "outputs": [],
   "source": [
    "test['dist'] =  np.vectorize(distance)(test['pickup_latitude'],test['pickup_longitude'],test['dropoff_latitude'],test['dropoff_longitude'])\n",
    "test['year']=test.index.year\n",
    "test['dayofweek'] = test.index.dayofweek;test.dayofweek = test.dayofweek.map({0:'Mon',1:'Tues',2:'Wed',3:'Thurs',4:'Fri',5:'Sat',6:'Sun'})\n",
    "\n",
    "test['LgAirPickDist']=np.vectorize(distance)(test['pickup_latitude'],test['pickup_longitude'], LgAirLat , LgAirLog)\n",
    "test['LgAirDropDist']=np.vectorize(distance)(test['dropoff_latitude'],test['dropoff_longitude'], LgAirLat , LgAirLog)\n",
    "test['JfkAirPickDist']=np.vectorize(distance)(test['pickup_latitude'],test['pickup_longitude'], JfkAirLat , JfkAirLog)\n",
    "test['JfkAirDropDist']=np.vectorize(distance)(test['dropoff_latitude'],test['dropoff_longitude'], JfkAirLat , JfkAirLog)\n",
    "\n",
    "test['LgAirPickDist']=np.vectorize(lambda x: 1 if x<=2 else 0)(test['LgAirPickDist'])\n",
    "test['LgAirDropDist']=np.vectorize(lambda x: 1 if x<=2 else 0)(test['LgAirDropDist'])\n",
    "test['JfkAirPickDist']=np.vectorize(lambda x: 1 if x<=2 else 0)(test['JfkAirPickDist'])\n",
    "test['JfkAirDropDist']=np.vectorize(lambda x: 1 if x<=2 else 0)(test['JfkAirDropDist'])\n",
    "\n",
    "test['pickupArea'] =  np.vectorize(CheckArea)(test['pickup_latitude'],test['pickup_longitude'])\n",
    "test['dropoffArea'] =  np.vectorize(CheckArea)(test['dropoff_latitude'],test['dropoff_longitude'])\n",
    "test['BorderChange'] = np.vectorize(IsBorderChange)(test['pickupArea'],test['dropoffArea'])"
   ]
  },
  {
   "cell_type": "code",
   "execution_count": 83,
   "metadata": {},
   "outputs": [
    {
     "data": {
      "text/html": [
       "<div>\n",
       "<style scoped>\n",
       "    .dataframe tbody tr th:only-of-type {\n",
       "        vertical-align: middle;\n",
       "    }\n",
       "\n",
       "    .dataframe tbody tr th {\n",
       "        vertical-align: top;\n",
       "    }\n",
       "\n",
       "    .dataframe thead th {\n",
       "        text-align: right;\n",
       "    }\n",
       "</style>\n",
       "<table border=\"1\" class=\"dataframe\">\n",
       "  <thead>\n",
       "    <tr style=\"text-align: right;\">\n",
       "      <th></th>\n",
       "      <th>key</th>\n",
       "      <th>pickup_longitude</th>\n",
       "      <th>pickup_latitude</th>\n",
       "      <th>dropoff_longitude</th>\n",
       "      <th>dropoff_latitude</th>\n",
       "      <th>passenger_count</th>\n",
       "      <th>dist</th>\n",
       "      <th>year</th>\n",
       "      <th>dayofweek</th>\n",
       "      <th>LgAirPickDist</th>\n",
       "      <th>LgAirDropDist</th>\n",
       "      <th>JfkAirPickDist</th>\n",
       "      <th>JfkAirDropDist</th>\n",
       "      <th>pickupArea</th>\n",
       "      <th>dropoffArea</th>\n",
       "      <th>BorderChange</th>\n",
       "    </tr>\n",
       "    <tr>\n",
       "      <th>pickup_datetime</th>\n",
       "      <th></th>\n",
       "      <th></th>\n",
       "      <th></th>\n",
       "      <th></th>\n",
       "      <th></th>\n",
       "      <th></th>\n",
       "      <th></th>\n",
       "      <th></th>\n",
       "      <th></th>\n",
       "      <th></th>\n",
       "      <th></th>\n",
       "      <th></th>\n",
       "      <th></th>\n",
       "      <th></th>\n",
       "      <th></th>\n",
       "      <th></th>\n",
       "    </tr>\n",
       "  </thead>\n",
       "  <tbody>\n",
       "    <tr>\n",
       "      <td>2015-01-27 13:08:24+00:00</td>\n",
       "      <td>2015-01-27 13:08:24.0000002</td>\n",
       "      <td>-73.973320</td>\n",
       "      <td>40.763805</td>\n",
       "      <td>-73.981430</td>\n",
       "      <td>40.743835</td>\n",
       "      <td>1</td>\n",
       "      <td>2.323260</td>\n",
       "      <td>2015</td>\n",
       "      <td>Tues</td>\n",
       "      <td>0</td>\n",
       "      <td>0</td>\n",
       "      <td>0</td>\n",
       "      <td>0</td>\n",
       "      <td>4</td>\n",
       "      <td>3</td>\n",
       "      <td>0</td>\n",
       "    </tr>\n",
       "    <tr>\n",
       "      <td>2015-01-27 13:08:24+00:00</td>\n",
       "      <td>2015-01-27 13:08:24.0000003</td>\n",
       "      <td>-73.986862</td>\n",
       "      <td>40.719383</td>\n",
       "      <td>-73.998886</td>\n",
       "      <td>40.739201</td>\n",
       "      <td>1</td>\n",
       "      <td>2.425353</td>\n",
       "      <td>2015</td>\n",
       "      <td>Tues</td>\n",
       "      <td>0</td>\n",
       "      <td>0</td>\n",
       "      <td>0</td>\n",
       "      <td>0</td>\n",
       "      <td>3</td>\n",
       "      <td>3</td>\n",
       "      <td>0</td>\n",
       "    </tr>\n",
       "    <tr>\n",
       "      <td>2011-10-08 11:53:44+00:00</td>\n",
       "      <td>2011-10-08 11:53:44.0000002</td>\n",
       "      <td>-73.982524</td>\n",
       "      <td>40.751260</td>\n",
       "      <td>-73.979654</td>\n",
       "      <td>40.746139</td>\n",
       "      <td>1</td>\n",
       "      <td>0.618628</td>\n",
       "      <td>2011</td>\n",
       "      <td>Sat</td>\n",
       "      <td>0</td>\n",
       "      <td>0</td>\n",
       "      <td>0</td>\n",
       "      <td>0</td>\n",
       "      <td>4</td>\n",
       "      <td>3</td>\n",
       "      <td>0</td>\n",
       "    </tr>\n",
       "  </tbody>\n",
       "</table>\n",
       "</div>"
      ],
      "text/plain": [
       "                                                   key  pickup_longitude  \\\n",
       "pickup_datetime                                                            \n",
       "2015-01-27 13:08:24+00:00  2015-01-27 13:08:24.0000002        -73.973320   \n",
       "2015-01-27 13:08:24+00:00  2015-01-27 13:08:24.0000003        -73.986862   \n",
       "2011-10-08 11:53:44+00:00  2011-10-08 11:53:44.0000002        -73.982524   \n",
       "\n",
       "                           pickup_latitude  dropoff_longitude  \\\n",
       "pickup_datetime                                                 \n",
       "2015-01-27 13:08:24+00:00        40.763805         -73.981430   \n",
       "2015-01-27 13:08:24+00:00        40.719383         -73.998886   \n",
       "2011-10-08 11:53:44+00:00        40.751260         -73.979654   \n",
       "\n",
       "                           dropoff_latitude  passenger_count     dist  year  \\\n",
       "pickup_datetime                                                               \n",
       "2015-01-27 13:08:24+00:00         40.743835                1 2.323260  2015   \n",
       "2015-01-27 13:08:24+00:00         40.739201                1 2.425353  2015   \n",
       "2011-10-08 11:53:44+00:00         40.746139                1 0.618628  2011   \n",
       "\n",
       "                          dayofweek  LgAirPickDist  LgAirDropDist  \\\n",
       "pickup_datetime                                                     \n",
       "2015-01-27 13:08:24+00:00      Tues              0              0   \n",
       "2015-01-27 13:08:24+00:00      Tues              0              0   \n",
       "2011-10-08 11:53:44+00:00       Sat              0              0   \n",
       "\n",
       "                           JfkAirPickDist  JfkAirDropDist pickupArea  \\\n",
       "pickup_datetime                                                        \n",
       "2015-01-27 13:08:24+00:00               0               0          4   \n",
       "2015-01-27 13:08:24+00:00               0               0          3   \n",
       "2011-10-08 11:53:44+00:00               0               0          4   \n",
       "\n",
       "                          dropoffArea BorderChange  \n",
       "pickup_datetime                                     \n",
       "2015-01-27 13:08:24+00:00           3            0  \n",
       "2015-01-27 13:08:24+00:00           3            0  \n",
       "2011-10-08 11:53:44+00:00           3            0  "
      ]
     },
     "execution_count": 83,
     "metadata": {},
     "output_type": "execute_result"
    }
   ],
   "source": [
    "test.head(3)"
   ]
  },
  {
   "cell_type": "code",
   "execution_count": 84,
   "metadata": {},
   "outputs": [],
   "source": [
    "test=test.drop(['passenger_count','pickupArea','dropoffArea','pickup_longitude','pickup_latitude','dropoff_longitude','dropoff_latitude'],axis=1)"
   ]
  },
  {
   "cell_type": "code",
   "execution_count": 85,
   "metadata": {},
   "outputs": [
    {
     "data": {
      "text/html": [
       "<div>\n",
       "<style scoped>\n",
       "    .dataframe tbody tr th:only-of-type {\n",
       "        vertical-align: middle;\n",
       "    }\n",
       "\n",
       "    .dataframe tbody tr th {\n",
       "        vertical-align: top;\n",
       "    }\n",
       "\n",
       "    .dataframe thead th {\n",
       "        text-align: right;\n",
       "    }\n",
       "</style>\n",
       "<table border=\"1\" class=\"dataframe\">\n",
       "  <thead>\n",
       "    <tr style=\"text-align: right;\">\n",
       "      <th></th>\n",
       "      <th>key</th>\n",
       "      <th>dist</th>\n",
       "      <th>year</th>\n",
       "      <th>dayofweek</th>\n",
       "      <th>LgAirPickDist</th>\n",
       "      <th>LgAirDropDist</th>\n",
       "      <th>JfkAirPickDist</th>\n",
       "      <th>JfkAirDropDist</th>\n",
       "      <th>BorderChange</th>\n",
       "    </tr>\n",
       "    <tr>\n",
       "      <th>pickup_datetime</th>\n",
       "      <th></th>\n",
       "      <th></th>\n",
       "      <th></th>\n",
       "      <th></th>\n",
       "      <th></th>\n",
       "      <th></th>\n",
       "      <th></th>\n",
       "      <th></th>\n",
       "      <th></th>\n",
       "    </tr>\n",
       "  </thead>\n",
       "  <tbody>\n",
       "    <tr>\n",
       "      <td>2015-01-27 13:08:24+00:00</td>\n",
       "      <td>2015-01-27 13:08:24.0000002</td>\n",
       "      <td>2.323260</td>\n",
       "      <td>2015</td>\n",
       "      <td>Tues</td>\n",
       "      <td>0</td>\n",
       "      <td>0</td>\n",
       "      <td>0</td>\n",
       "      <td>0</td>\n",
       "      <td>0</td>\n",
       "    </tr>\n",
       "  </tbody>\n",
       "</table>\n",
       "</div>"
      ],
      "text/plain": [
       "                                                   key     dist  year  \\\n",
       "pickup_datetime                                                         \n",
       "2015-01-27 13:08:24+00:00  2015-01-27 13:08:24.0000002 2.323260  2015   \n",
       "\n",
       "                          dayofweek  LgAirPickDist  LgAirDropDist  \\\n",
       "pickup_datetime                                                     \n",
       "2015-01-27 13:08:24+00:00      Tues              0              0   \n",
       "\n",
       "                           JfkAirPickDist  JfkAirDropDist BorderChange  \n",
       "pickup_datetime                                                         \n",
       "2015-01-27 13:08:24+00:00               0               0            0  "
      ]
     },
     "execution_count": 85,
     "metadata": {},
     "output_type": "execute_result"
    }
   ],
   "source": [
    "test.head(1)"
   ]
  },
  {
   "cell_type": "markdown",
   "metadata": {},
   "source": [
    "# 4. Modeling"
   ]
  },
  {
   "cell_type": "markdown",
   "metadata": {},
   "source": [
    "## 4-1. Dummy "
   ]
  },
  {
   "cell_type": "code",
   "execution_count": 86,
   "metadata": {},
   "outputs": [
    {
     "data": {
      "text/html": [
       "<div>\n",
       "<style scoped>\n",
       "    .dataframe tbody tr th:only-of-type {\n",
       "        vertical-align: middle;\n",
       "    }\n",
       "\n",
       "    .dataframe tbody tr th {\n",
       "        vertical-align: top;\n",
       "    }\n",
       "\n",
       "    .dataframe thead th {\n",
       "        text-align: right;\n",
       "    }\n",
       "</style>\n",
       "<table border=\"1\" class=\"dataframe\">\n",
       "  <thead>\n",
       "    <tr style=\"text-align: right;\">\n",
       "      <th></th>\n",
       "      <th>dist</th>\n",
       "      <th>year_2009</th>\n",
       "      <th>year_2010</th>\n",
       "      <th>year_2011</th>\n",
       "      <th>year_2012</th>\n",
       "      <th>year_2013</th>\n",
       "      <th>year_2014</th>\n",
       "      <th>year_2015</th>\n",
       "      <th>dayofweek_Fri</th>\n",
       "      <th>dayofweek_Mon</th>\n",
       "      <th>...</th>\n",
       "      <th>LgAirDropDist_0</th>\n",
       "      <th>LgAirDropDist_1</th>\n",
       "      <th>JfkAirPickDist_0</th>\n",
       "      <th>JfkAirPickDist_1</th>\n",
       "      <th>JfkAirDropDist_0</th>\n",
       "      <th>JfkAirDropDist_1</th>\n",
       "      <th>BorderChange_0</th>\n",
       "      <th>BorderChange_1</th>\n",
       "      <th>BorderChange_2</th>\n",
       "      <th>BorderChange_3</th>\n",
       "    </tr>\n",
       "    <tr>\n",
       "      <th>pickup_datetime</th>\n",
       "      <th></th>\n",
       "      <th></th>\n",
       "      <th></th>\n",
       "      <th></th>\n",
       "      <th></th>\n",
       "      <th></th>\n",
       "      <th></th>\n",
       "      <th></th>\n",
       "      <th></th>\n",
       "      <th></th>\n",
       "      <th></th>\n",
       "      <th></th>\n",
       "      <th></th>\n",
       "      <th></th>\n",
       "      <th></th>\n",
       "      <th></th>\n",
       "      <th></th>\n",
       "      <th></th>\n",
       "      <th></th>\n",
       "      <th></th>\n",
       "      <th></th>\n",
       "    </tr>\n",
       "  </thead>\n",
       "  <tbody>\n",
       "    <tr>\n",
       "      <td>2009-06-15 17:26:21+00:00</td>\n",
       "      <td>1.030764</td>\n",
       "      <td>1</td>\n",
       "      <td>0</td>\n",
       "      <td>0</td>\n",
       "      <td>0</td>\n",
       "      <td>0</td>\n",
       "      <td>0</td>\n",
       "      <td>0</td>\n",
       "      <td>0</td>\n",
       "      <td>1</td>\n",
       "      <td>...</td>\n",
       "      <td>1</td>\n",
       "      <td>0</td>\n",
       "      <td>1</td>\n",
       "      <td>0</td>\n",
       "      <td>1</td>\n",
       "      <td>0</td>\n",
       "      <td>1</td>\n",
       "      <td>0</td>\n",
       "      <td>0</td>\n",
       "      <td>0</td>\n",
       "    </tr>\n",
       "    <tr>\n",
       "      <td>2010-01-05 16:52:16+00:00</td>\n",
       "      <td>8.450134</td>\n",
       "      <td>0</td>\n",
       "      <td>1</td>\n",
       "      <td>0</td>\n",
       "      <td>0</td>\n",
       "      <td>0</td>\n",
       "      <td>0</td>\n",
       "      <td>0</td>\n",
       "      <td>0</td>\n",
       "      <td>0</td>\n",
       "      <td>...</td>\n",
       "      <td>1</td>\n",
       "      <td>0</td>\n",
       "      <td>1</td>\n",
       "      <td>0</td>\n",
       "      <td>1</td>\n",
       "      <td>0</td>\n",
       "      <td>1</td>\n",
       "      <td>0</td>\n",
       "      <td>0</td>\n",
       "      <td>0</td>\n",
       "    </tr>\n",
       "    <tr>\n",
       "      <td>2011-08-18 00:35:00+00:00</td>\n",
       "      <td>1.389525</td>\n",
       "      <td>0</td>\n",
       "      <td>0</td>\n",
       "      <td>1</td>\n",
       "      <td>0</td>\n",
       "      <td>0</td>\n",
       "      <td>0</td>\n",
       "      <td>0</td>\n",
       "      <td>0</td>\n",
       "      <td>0</td>\n",
       "      <td>...</td>\n",
       "      <td>1</td>\n",
       "      <td>0</td>\n",
       "      <td>1</td>\n",
       "      <td>0</td>\n",
       "      <td>1</td>\n",
       "      <td>0</td>\n",
       "      <td>1</td>\n",
       "      <td>0</td>\n",
       "      <td>0</td>\n",
       "      <td>0</td>\n",
       "    </tr>\n",
       "  </tbody>\n",
       "</table>\n",
       "<p>3 rows × 27 columns</p>\n",
       "</div>"
      ],
      "text/plain": [
       "                              dist  year_2009  year_2010  year_2011  \\\n",
       "pickup_datetime                                                       \n",
       "2009-06-15 17:26:21+00:00 1.030764          1          0          0   \n",
       "2010-01-05 16:52:16+00:00 8.450134          0          1          0   \n",
       "2011-08-18 00:35:00+00:00 1.389525          0          0          1   \n",
       "\n",
       "                           year_2012  year_2013  year_2014  year_2015  \\\n",
       "pickup_datetime                                                         \n",
       "2009-06-15 17:26:21+00:00          0          0          0          0   \n",
       "2010-01-05 16:52:16+00:00          0          0          0          0   \n",
       "2011-08-18 00:35:00+00:00          0          0          0          0   \n",
       "\n",
       "                           dayofweek_Fri  dayofweek_Mon  ...  LgAirDropDist_0  \\\n",
       "pickup_datetime                                          ...                    \n",
       "2009-06-15 17:26:21+00:00              0              1  ...                1   \n",
       "2010-01-05 16:52:16+00:00              0              0  ...                1   \n",
       "2011-08-18 00:35:00+00:00              0              0  ...                1   \n",
       "\n",
       "                           LgAirDropDist_1  JfkAirPickDist_0  \\\n",
       "pickup_datetime                                                \n",
       "2009-06-15 17:26:21+00:00                0                 1   \n",
       "2010-01-05 16:52:16+00:00                0                 1   \n",
       "2011-08-18 00:35:00+00:00                0                 1   \n",
       "\n",
       "                           JfkAirPickDist_1  JfkAirDropDist_0  \\\n",
       "pickup_datetime                                                 \n",
       "2009-06-15 17:26:21+00:00                 0                 1   \n",
       "2010-01-05 16:52:16+00:00                 0                 1   \n",
       "2011-08-18 00:35:00+00:00                 0                 1   \n",
       "\n",
       "                           JfkAirDropDist_1  BorderChange_0  BorderChange_1  \\\n",
       "pickup_datetime                                                               \n",
       "2009-06-15 17:26:21+00:00                 0               1               0   \n",
       "2010-01-05 16:52:16+00:00                 0               1               0   \n",
       "2011-08-18 00:35:00+00:00                 0               1               0   \n",
       "\n",
       "                           BorderChange_2  BorderChange_3  \n",
       "pickup_datetime                                            \n",
       "2009-06-15 17:26:21+00:00               0               0  \n",
       "2010-01-05 16:52:16+00:00               0               0  \n",
       "2011-08-18 00:35:00+00:00               0               0  \n",
       "\n",
       "[3 rows x 27 columns]"
      ]
     },
     "execution_count": 86,
     "metadata": {},
     "output_type": "execute_result"
    }
   ],
   "source": [
    "new_train=pd.get_dummies(train[['dist','year','dayofweek','LgAirPickDist','LgAirDropDist','JfkAirPickDist','JfkAirDropDist','BorderChange']],\n",
    "                         columns=['year','dayofweek','LgAirPickDist','LgAirDropDist','JfkAirPickDist','JfkAirDropDist','BorderChange'])\n",
    "new_train.head(3)"
   ]
  },
  {
   "cell_type": "code",
   "execution_count": 87,
   "metadata": {},
   "outputs": [],
   "source": [
    "test=pd.get_dummies(test[['dist','year','dayofweek','LgAirPickDist','LgAirDropDist','JfkAirPickDist','JfkAirDropDist','BorderChange','key']],\n",
    "                         columns=['year','dayofweek','LgAirPickDist','LgAirDropDist','JfkAirPickDist','JfkAirDropDist','BorderChange'])"
   ]
  },
  {
   "cell_type": "code",
   "execution_count": 88,
   "metadata": {},
   "outputs": [
    {
     "data": {
      "text/html": [
       "<div>\n",
       "<style scoped>\n",
       "    .dataframe tbody tr th:only-of-type {\n",
       "        vertical-align: middle;\n",
       "    }\n",
       "\n",
       "    .dataframe tbody tr th {\n",
       "        vertical-align: top;\n",
       "    }\n",
       "\n",
       "    .dataframe thead th {\n",
       "        text-align: right;\n",
       "    }\n",
       "</style>\n",
       "<table border=\"1\" class=\"dataframe\">\n",
       "  <thead>\n",
       "    <tr style=\"text-align: right;\">\n",
       "      <th></th>\n",
       "      <th>dist</th>\n",
       "      <th>key</th>\n",
       "      <th>year_2009</th>\n",
       "      <th>year_2010</th>\n",
       "      <th>year_2011</th>\n",
       "      <th>year_2012</th>\n",
       "      <th>year_2013</th>\n",
       "      <th>year_2014</th>\n",
       "      <th>year_2015</th>\n",
       "      <th>dayofweek_Fri</th>\n",
       "      <th>...</th>\n",
       "      <th>LgAirDropDist_0</th>\n",
       "      <th>LgAirDropDist_1</th>\n",
       "      <th>JfkAirPickDist_0</th>\n",
       "      <th>JfkAirPickDist_1</th>\n",
       "      <th>JfkAirDropDist_0</th>\n",
       "      <th>JfkAirDropDist_1</th>\n",
       "      <th>BorderChange_0</th>\n",
       "      <th>BorderChange_1</th>\n",
       "      <th>BorderChange_2</th>\n",
       "      <th>BorderChange_3</th>\n",
       "    </tr>\n",
       "    <tr>\n",
       "      <th>pickup_datetime</th>\n",
       "      <th></th>\n",
       "      <th></th>\n",
       "      <th></th>\n",
       "      <th></th>\n",
       "      <th></th>\n",
       "      <th></th>\n",
       "      <th></th>\n",
       "      <th></th>\n",
       "      <th></th>\n",
       "      <th></th>\n",
       "      <th></th>\n",
       "      <th></th>\n",
       "      <th></th>\n",
       "      <th></th>\n",
       "      <th></th>\n",
       "      <th></th>\n",
       "      <th></th>\n",
       "      <th></th>\n",
       "      <th></th>\n",
       "      <th></th>\n",
       "      <th></th>\n",
       "    </tr>\n",
       "  </thead>\n",
       "  <tbody>\n",
       "    <tr>\n",
       "      <td>2015-01-27 13:08:24+00:00</td>\n",
       "      <td>2.323260</td>\n",
       "      <td>2015-01-27 13:08:24.0000002</td>\n",
       "      <td>0</td>\n",
       "      <td>0</td>\n",
       "      <td>0</td>\n",
       "      <td>0</td>\n",
       "      <td>0</td>\n",
       "      <td>0</td>\n",
       "      <td>1</td>\n",
       "      <td>0</td>\n",
       "      <td>...</td>\n",
       "      <td>1</td>\n",
       "      <td>0</td>\n",
       "      <td>1</td>\n",
       "      <td>0</td>\n",
       "      <td>1</td>\n",
       "      <td>0</td>\n",
       "      <td>1</td>\n",
       "      <td>0</td>\n",
       "      <td>0</td>\n",
       "      <td>0</td>\n",
       "    </tr>\n",
       "  </tbody>\n",
       "</table>\n",
       "<p>1 rows × 28 columns</p>\n",
       "</div>"
      ],
      "text/plain": [
       "                              dist                          key  year_2009  \\\n",
       "pickup_datetime                                                              \n",
       "2015-01-27 13:08:24+00:00 2.323260  2015-01-27 13:08:24.0000002          0   \n",
       "\n",
       "                           year_2010  year_2011  year_2012  year_2013  \\\n",
       "pickup_datetime                                                         \n",
       "2015-01-27 13:08:24+00:00          0          0          0          0   \n",
       "\n",
       "                           year_2014  year_2015  dayofweek_Fri  ...  \\\n",
       "pickup_datetime                                                 ...   \n",
       "2015-01-27 13:08:24+00:00          0          1              0  ...   \n",
       "\n",
       "                           LgAirDropDist_0  LgAirDropDist_1  JfkAirPickDist_0  \\\n",
       "pickup_datetime                                                                 \n",
       "2015-01-27 13:08:24+00:00                1                0                 1   \n",
       "\n",
       "                           JfkAirPickDist_1  JfkAirDropDist_0  \\\n",
       "pickup_datetime                                                 \n",
       "2015-01-27 13:08:24+00:00                 0                 1   \n",
       "\n",
       "                           JfkAirDropDist_1  BorderChange_0  BorderChange_1  \\\n",
       "pickup_datetime                                                               \n",
       "2015-01-27 13:08:24+00:00                 0               1               0   \n",
       "\n",
       "                           BorderChange_2  BorderChange_3  \n",
       "pickup_datetime                                            \n",
       "2015-01-27 13:08:24+00:00               0               0  \n",
       "\n",
       "[1 rows x 28 columns]"
      ]
     },
     "execution_count": 88,
     "metadata": {},
     "output_type": "execute_result"
    }
   ],
   "source": [
    "test.head(1)"
   ]
  },
  {
   "cell_type": "markdown",
   "metadata": {},
   "source": [
    "## 4-2.modeling"
   ]
  },
  {
   "cell_type": "code",
   "execution_count": 89,
   "metadata": {},
   "outputs": [],
   "source": [
    "from sklearn.linear_model import LinearRegression\n",
    "from sklearn.model_selection import train_test_split\n",
    "\n",
    "train_x,test_x,train_y,test_y=train_test_split(new_train,train[['fare_amount']],random_state=10)"
   ]
  },
  {
   "cell_type": "code",
   "execution_count": 90,
   "metadata": {},
   "outputs": [
    {
     "name": "stdout",
     "output_type": "stream",
     "text": [
      "731526,243843,731526,243843 \n"
     ]
    }
   ],
   "source": [
    "print(f'{train_x.shape[0]},{test_x.shape[0]},{train_y.shape[0]},{test_y.shape[0]} ') "
   ]
  },
  {
   "cell_type": "code",
   "execution_count": 91,
   "metadata": {},
   "outputs": [
    {
     "data": {
      "text/html": [
       "<div>\n",
       "<style scoped>\n",
       "    .dataframe tbody tr th:only-of-type {\n",
       "        vertical-align: middle;\n",
       "    }\n",
       "\n",
       "    .dataframe tbody tr th {\n",
       "        vertical-align: top;\n",
       "    }\n",
       "\n",
       "    .dataframe thead th {\n",
       "        text-align: right;\n",
       "    }\n",
       "</style>\n",
       "<table border=\"1\" class=\"dataframe\">\n",
       "  <thead>\n",
       "    <tr style=\"text-align: right;\">\n",
       "      <th></th>\n",
       "      <th>fare_amount</th>\n",
       "    </tr>\n",
       "    <tr>\n",
       "      <th>pickup_datetime</th>\n",
       "      <th></th>\n",
       "    </tr>\n",
       "  </thead>\n",
       "  <tbody>\n",
       "    <tr>\n",
       "      <td>2012-01-13 01:42:26+00:00</td>\n",
       "      <td>8.500000</td>\n",
       "    </tr>\n",
       "    <tr>\n",
       "      <td>2010-07-06 20:48:30+00:00</td>\n",
       "      <td>5.700000</td>\n",
       "    </tr>\n",
       "    <tr>\n",
       "      <td>2013-11-28 21:35:09+00:00</td>\n",
       "      <td>14.000000</td>\n",
       "    </tr>\n",
       "  </tbody>\n",
       "</table>\n",
       "</div>"
      ],
      "text/plain": [
       "                           fare_amount\n",
       "pickup_datetime                       \n",
       "2012-01-13 01:42:26+00:00     8.500000\n",
       "2010-07-06 20:48:30+00:00     5.700000\n",
       "2013-11-28 21:35:09+00:00    14.000000"
      ]
     },
     "execution_count": 91,
     "metadata": {},
     "output_type": "execute_result"
    }
   ],
   "source": [
    "train_y.head(3)"
   ]
  },
  {
   "cell_type": "code",
   "execution_count": 92,
   "metadata": {},
   "outputs": [],
   "source": [
    "LinearReg=LinearRegression().fit(train_x,train_y)"
   ]
  },
  {
   "cell_type": "code",
   "execution_count": 93,
   "metadata": {},
   "outputs": [
    {
     "name": "stdout",
     "output_type": "stream",
     "text": [
      " coef: [[ 1.80515304e+00 -2.70778894e+11 -2.70778894e+11 -2.70778894e+11\n",
      "  -2.70778894e+11 -2.70778894e+11 -2.70778894e+11 -2.70778894e+11\n",
      "   2.91057293e+12  2.91057293e+12  2.91057293e+12  2.91057293e+12\n",
      "   2.91057293e+12  2.91057293e+12  2.91057293e+12 -1.60277152e+11\n",
      "  -1.60277152e+11 -6.93919301e+11 -6.93919301e+11 -1.88938945e+12\n",
      "  -1.88938945e+12 -5.99705629e+10 -5.99705629e+10  6.52383736e+11\n",
      "   6.52383736e+11  6.52383736e+11  6.52383736e+11]], Intercept : [-4.88621304e+11] , score_train : 0.7488828619256312 ,  score_test : 0.7334989290655924\n"
     ]
    }
   ],
   "source": [
    "print(f' coef: {LinearReg.coef_}, Intercept : {LinearReg.intercept_ } , score_train : {LinearReg.score(train_x,train_y)} ,  score_test : {LinearReg.score(test_x,test_y)}') "
   ]
  },
  {
   "cell_type": "code",
   "execution_count": 94,
   "metadata": {},
   "outputs": [
    {
     "name": "stdout",
     "output_type": "stream",
     "text": [
      " score_train : 0.9784689309406072 ,  score_test : 0.6545453710103926\n"
     ]
    }
   ],
   "source": [
    "from sklearn.tree import DecisionTreeRegressor\n",
    "tree=DecisionTreeRegressor().fit(train_x,train_y)\n",
    "print(f' score_train : {tree.score(train_x,train_y)} ,  score_test : {tree.score(test_x,test_y)}') "
   ]
  },
  {
   "cell_type": "code",
   "execution_count": 95,
   "metadata": {},
   "outputs": [
    {
     "name": "stderr",
     "output_type": "stream",
     "text": [
      "/opt/conda/lib/python3.6/site-packages/sklearn/ensemble/forest.py:245: FutureWarning: The default value of n_estimators will change from 10 in version 0.20 to 100 in 0.22.\n",
      "  \"10 in version 0.20 to 100 in 0.22.\", FutureWarning)\n",
      "/opt/conda/lib/python3.6/site-packages/ipykernel_launcher.py:2: DataConversionWarning: A column-vector y was passed when a 1d array was expected. Please change the shape of y to (n_samples,), for example using ravel().\n",
      "  \n"
     ]
    },
    {
     "name": "stdout",
     "output_type": "stream",
     "text": [
      " score_train : 0.831179203654252 ,  score_test : 0.802445402535115\n"
     ]
    }
   ],
   "source": [
    "from sklearn.ensemble import RandomForestRegressor\n",
    "regr = RandomForestRegressor(max_depth=10,n_jobs=-1).fit(train_x,train_y)\n",
    "print(f' score_train : {regr.score(train_x,train_y)} ,  score_test : {regr.score(test_x,test_y)}') "
   ]
  },
  {
   "cell_type": "code",
   "execution_count": 96,
   "metadata": {},
   "outputs": [
    {
     "name": "stderr",
     "output_type": "stream",
     "text": [
      "/opt/conda/lib/python3.6/site-packages/sklearn/ensemble/gradient_boosting.py:1450: DataConversionWarning: A column-vector y was passed when a 1d array was expected. Please change the shape of y to (n_samples, ), for example using ravel().\n",
      "  y = column_or_1d(y, warn=True)\n"
     ]
    },
    {
     "name": "stdout",
     "output_type": "stream",
     "text": [
      " score_train : 0.8141414312068853 ,  score_test : 0.799971545303191\n"
     ]
    }
   ],
   "source": [
    "from sklearn.ensemble import GradientBoostingRegressor\n",
    "regr2 = GradientBoostingRegressor().fit(train_x,train_y)\n",
    "print(f' score_train : {regr2.score(train_x,train_y)} ,  score_test : {regr2.score(test_x,test_y)}') "
   ]
  },
  {
   "cell_type": "code",
   "execution_count": 97,
   "metadata": {},
   "outputs": [
    {
     "data": {
      "image/png": "[encoded data removed]",
      "text/plain": [
       "<Figure size 1440x1440 with 1 Axes>"
      ]
     },
     "metadata": {
      "needs_background": "light"
     },
     "output_type": "display_data"
    }
   ],
   "source": [
    "#Referenced From https://github.com/rickiepark/introduction_to_ml_with_python/blob/master/02-supervised-learning.ipynb\n",
    "def plot_feature_importances(model,n_features):\n",
    "    plt.figure(figsize=(20,20))\n",
    "    plt.barh(np.arange(n_features), model.feature_importances_, align='center')\n",
    "    plt.yticks(np.arange(n_features), train_x.columns)\n",
    "    plt.xlabel(\"feature_importances\")\n",
    "    plt.ylabel(\"features\")\n",
    "    plt.ylim(-1, n_features)\n",
    "plot_feature_importances(regr2,train_x.shape[1])"
   ]
  },
  {
   "cell_type": "markdown",
   "metadata": {},
   "source": [
    "# 5. Improving model"
   ]
  },
  {
   "cell_type": "code",
   "execution_count": 98,
   "metadata": {},
   "outputs": [
    {
     "name": "stderr",
     "output_type": "stream",
     "text": [
      "/opt/conda/lib/python3.6/site-packages/ipykernel_launcher.py:9: DataConversionWarning: A column-vector y was passed when a 1d array was expected. Please change the shape of y to (n_samples,), for example using ravel().\n",
      "  if __name__ == '__main__':\n",
      "/opt/conda/lib/python3.6/site-packages/ipykernel_launcher.py:9: DataConversionWarning: A column-vector y was passed when a 1d array was expected. Please change the shape of y to (n_samples,), for example using ravel().\n",
      "  if __name__ == '__main__':\n",
      "/opt/conda/lib/python3.6/site-packages/ipykernel_launcher.py:9: DataConversionWarning: A column-vector y was passed when a 1d array was expected. Please change the shape of y to (n_samples,), for example using ravel().\n",
      "  if __name__ == '__main__':\n",
      "/opt/conda/lib/python3.6/site-packages/ipykernel_launcher.py:9: DataConversionWarning: A column-vector y was passed when a 1d array was expected. Please change the shape of y to (n_samples,), for example using ravel().\n",
      "  if __name__ == '__main__':\n",
      "/opt/conda/lib/python3.6/site-packages/ipykernel_launcher.py:9: DataConversionWarning: A column-vector y was passed when a 1d array was expected. Please change the shape of y to (n_samples,), for example using ravel().\n",
      "  if __name__ == '__main__':\n",
      "/opt/conda/lib/python3.6/site-packages/ipykernel_launcher.py:9: DataConversionWarning: A column-vector y was passed when a 1d array was expected. Please change the shape of y to (n_samples,), for example using ravel().\n",
      "  if __name__ == '__main__':\n",
      "/opt/conda/lib/python3.6/site-packages/ipykernel_launcher.py:9: DataConversionWarning: A column-vector y was passed when a 1d array was expected. Please change the shape of y to (n_samples,), for example using ravel().\n",
      "  if __name__ == '__main__':\n",
      "/opt/conda/lib/python3.6/site-packages/ipykernel_launcher.py:9: DataConversionWarning: A column-vector y was passed when a 1d array was expected. Please change the shape of y to (n_samples,), for example using ravel().\n",
      "  if __name__ == '__main__':\n",
      "/opt/conda/lib/python3.6/site-packages/ipykernel_launcher.py:9: DataConversionWarning: A column-vector y was passed when a 1d array was expected. Please change the shape of y to (n_samples,), for example using ravel().\n",
      "  if __name__ == '__main__':\n",
      "/opt/conda/lib/python3.6/site-packages/ipykernel_launcher.py:9: DataConversionWarning: A column-vector y was passed when a 1d array was expected. Please change the shape of y to (n_samples,), for example using ravel().\n",
      "  if __name__ == '__main__':\n",
      "/opt/conda/lib/python3.6/site-packages/ipykernel_launcher.py:9: DataConversionWarning: A column-vector y was passed when a 1d array was expected. Please change the shape of y to (n_samples,), for example using ravel().\n",
      "  if __name__ == '__main__':\n",
      "/opt/conda/lib/python3.6/site-packages/ipykernel_launcher.py:9: DataConversionWarning: A column-vector y was passed when a 1d array was expected. Please change the shape of y to (n_samples,), for example using ravel().\n",
      "  if __name__ == '__main__':\n",
      "/opt/conda/lib/python3.6/site-packages/ipykernel_launcher.py:9: DataConversionWarning: A column-vector y was passed when a 1d array was expected. Please change the shape of y to (n_samples,), for example using ravel().\n",
      "  if __name__ == '__main__':\n",
      "/opt/conda/lib/python3.6/site-packages/ipykernel_launcher.py:9: DataConversionWarning: A column-vector y was passed when a 1d array was expected. Please change the shape of y to (n_samples,), for example using ravel().\n",
      "  if __name__ == '__main__':\n",
      "/opt/conda/lib/python3.6/site-packages/ipykernel_launcher.py:9: DataConversionWarning: A column-vector y was passed when a 1d array was expected. Please change the shape of y to (n_samples,), for example using ravel().\n",
      "  if __name__ == '__main__':\n",
      "/opt/conda/lib/python3.6/site-packages/ipykernel_launcher.py:9: DataConversionWarning: A column-vector y was passed when a 1d array was expected. Please change the shape of y to (n_samples,), for example using ravel().\n",
      "  if __name__ == '__main__':\n",
      "/opt/conda/lib/python3.6/site-packages/ipykernel_launcher.py:9: DataConversionWarning: A column-vector y was passed when a 1d array was expected. Please change the shape of y to (n_samples,), for example using ravel().\n",
      "  if __name__ == '__main__':\n",
      "/opt/conda/lib/python3.6/site-packages/ipykernel_launcher.py:9: DataConversionWarning: A column-vector y was passed when a 1d array was expected. Please change the shape of y to (n_samples,), for example using ravel().\n",
      "  if __name__ == '__main__':\n",
      "/opt/conda/lib/python3.6/site-packages/ipykernel_launcher.py:9: DataConversionWarning: A column-vector y was passed when a 1d array was expected. Please change the shape of y to (n_samples,), for example using ravel().\n",
      "  if __name__ == '__main__':\n",
      "/opt/conda/lib/python3.6/site-packages/ipykernel_launcher.py:9: DataConversionWarning: A column-vector y was passed when a 1d array was expected. Please change the shape of y to (n_samples,), for example using ravel().\n",
      "  if __name__ == '__main__':\n",
      "/opt/conda/lib/python3.6/site-packages/ipykernel_launcher.py:9: DataConversionWarning: A column-vector y was passed when a 1d array was expected. Please change the shape of y to (n_samples,), for example using ravel().\n",
      "  if __name__ == '__main__':\n",
      "/opt/conda/lib/python3.6/site-packages/ipykernel_launcher.py:9: DataConversionWarning: A column-vector y was passed when a 1d array was expected. Please change the shape of y to (n_samples,), for example using ravel().\n",
      "  if __name__ == '__main__':\n",
      "/opt/conda/lib/python3.6/site-packages/ipykernel_launcher.py:9: DataConversionWarning: A column-vector y was passed when a 1d array was expected. Please change the shape of y to (n_samples,), for example using ravel().\n",
      "  if __name__ == '__main__':\n",
      "/opt/conda/lib/python3.6/site-packages/ipykernel_launcher.py:9: DataConversionWarning: A column-vector y was passed when a 1d array was expected. Please change the shape of y to (n_samples,), for example using ravel().\n",
      "  if __name__ == '__main__':\n",
      "/opt/conda/lib/python3.6/site-packages/ipykernel_launcher.py:9: DataConversionWarning: A column-vector y was passed when a 1d array was expected. Please change the shape of y to (n_samples,), for example using ravel().\n",
      "  if __name__ == '__main__':\n",
      "/opt/conda/lib/python3.6/site-packages/ipykernel_launcher.py:9: DataConversionWarning: A column-vector y was passed when a 1d array was expected. Please change the shape of y to (n_samples,), for example using ravel().\n",
      "  if __name__ == '__main__':\n",
      "/opt/conda/lib/python3.6/site-packages/ipykernel_launcher.py:9: DataConversionWarning: A column-vector y was passed when a 1d array was expected. Please change the shape of y to (n_samples,), for example using ravel().\n",
      "  if __name__ == '__main__':\n"
     ]
    },
    {
     "name": "stdout",
     "output_type": "stream",
     "text": [
      " score_test : 0.8019794132036535 ,  score_test : {'max_depth': 12, 'n_estimators': 15, 'max_features': 'auto'}\n"
     ]
    }
   ],
   "source": [
    "#Referenced From ( https://github.com/rickiepark/introduction_to_ml_with_python/blob/master/05-model-evaluation-and-improvement.ipynb )\n",
    "\n",
    "max_depth=[4,8,12];n_estimators=[5,10,15];max_features=[\"auto\",\"sqrt\",\"log2\"]\n",
    "\n",
    "best_score = 0\n",
    "for depth in max_depth:\n",
    "    for estimators in n_estimators:\n",
    "        for featrues in max_features:\n",
    "            regr = RandomForestRegressor(max_depth=depth,n_jobs=-1,n_estimators=estimators,max_features=featrues).fit(train_x,train_y)\n",
    "            score = regr.score(test_x,test_y)\n",
    "            if score > best_score:\n",
    "                best_score = score\n",
    "                best_parameters = {'max_depth': depth, 'n_estimators': estimators , 'max_features':featrues}\n",
    "                        \n",
    "print(f' score_test : {best_score} ,  score_test : {best_parameters}')             "
   ]
  },
  {
   "cell_type": "markdown",
   "metadata": {},
   "source": [
    "# 6. Result"
   ]
  },
  {
   "cell_type": "code",
   "execution_count": 99,
   "metadata": {},
   "outputs": [
    {
     "name": "stderr",
     "output_type": "stream",
     "text": [
      "/opt/conda/lib/python3.6/site-packages/ipykernel_launcher.py:3: DataConversionWarning: A column-vector y was passed when a 1d array was expected. Please change the shape of y to (n_samples,), for example using ravel().\n",
      "  This is separate from the ipykernel package so we can avoid doing imports until\n"
     ]
    }
   ],
   "source": [
    "#Referenced from ( https://www.kaggle.com/breemen/nyc-taxi-fare-data-exploration )\n",
    "test_key=test.key;test=test.drop(['key'],axis=1)\n",
    "estimator = RandomForestRegressor(max_depth= 8, n_estimators= 10, max_features= 'auto').fit(train_x,train_y)\n",
    "y_pred = estimator.predict(test)\n",
    "\n",
    "submission = pd.DataFrame(\n",
    "    {'key': test_key, 'fare_amount': y_pred},\n",
    "    columns = ['key', 'fare_amount'])\n",
    "submission.to_csv('submission.csv', index = False)"
   ]
  }
 ],
 "metadata": {
  "kernelspec": {
   "display_name": "Python 3",
   "language": "python",
   "name": "python3"
  },
  "language_info": {
   "codemirror_mode": {
    "name": "ipython",
    "version": 3
   },
   "file_extension": ".py",
   "mimetype": "text/x-python",
   "name": "python",
   "nbconvert_exporter": "python",
   "pygments_lexer": "ipython3",
   "version": "3.6.6"
  }
 },
 "nbformat": 4,
 "nbformat_minor": 1
}
