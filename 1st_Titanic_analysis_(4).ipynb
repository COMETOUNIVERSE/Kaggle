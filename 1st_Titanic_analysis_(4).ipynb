{
  "nbformat": 4,
  "nbformat_minor": 0,
  "metadata": {
    "colab": {
      "name": "1st_Titanic_analysis (4).ipynb",
      "version": "0.3.2",
      "provenance": [],
      "collapsed_sections": []
    },
    "kernelspec": {
      "display_name": "Python 3",
      "language": "python",
      "name": "python3"
    }
  },
  "cells": [
    {
      "cell_type": "markdown",
      "metadata": {
        "colab_type": "text",
        "id": "7opvSqeg2Ux-"
      },
      "source": [
        "# TITANIC DATA ANALYTICS_Python"
      ]
    },
    {
      "cell_type": "markdown",
      "metadata": {
        "colab_type": "text",
        "id": "5qmkBzg6bo-V"
      },
      "source": [
        "Hello,<br>\n",
        "We are beginner in Kaggle. <br> \n",
        "So We refer to yassine ghouzam's Kernel(https://www.kaggle.com/yassineghouzam/titanic-top-4-with-ensemble-modeling) <br>\n",
        "Welcome any opinion about our Kernel.<br>\n",
        "\n",
        "Thank you!<br>"
      ]
    },
    {
      "cell_type": "markdown",
      "metadata": {
        "id": "JM7BSC7rDz7V",
        "colab_type": "text"
      },
      "source": [
        ""
      ]
    },
    {
      "cell_type": "markdown",
      "metadata": {
        "id": "bhIhBX-7Dz7Y",
        "colab_type": "text"
      },
      "source": [
        "<ul>\n",
        "\t<li>0. Preparation</li>\n",
        "\t<li>1. Data Exploration</li>\n",
        "\t\t<ul>\n",
        "\t\t\t<li>1.1 Age</li>\n",
        "\t\t\t<li>1.2 Sex</li>\n",
        "\t\t\t<li>1.3 Embarked</li>\n",
        "\t\t\t<li>1.4 Pclass</li>\n",
        "\t\t\t<li>1.5 Parch</li>\n",
        "\t\t\t<li>1.6 SibSp</li>\n",
        "\t\t\t<li>1.7 Fare</li>\n",
        "\t\t\t<li>1.8 Relations among Variables</li>\n",
        "\t\t</ul>\n",
        "\t<li>2. Feature Engineering</li>\n",
        "\t\t<ul>\n",
        "\t\t\t<li>2.1 Name</li>\n",
        "\t\t\t<li>2.2 Parch+SibSp->FamilySize</li>\n",
        "\t\t</ul>\n",
        "    <li>3. Filling Missing Values</li>\n",
        "        <ul>\n",
        "            <li>3.1 Fare</li>\n",
        "            <li>3.2 Embarked</li>\n",
        "            <li>3.3 Age</li>\n",
        "        </ul>\n",
        "    <li>4. Data Categorization & Dummy</li>\n",
        "        <ul>\n",
        "            <li>4.1 Sex</li>\n",
        "            <li>4.2 Embarked</li>\n",
        "            <li>4.3 Pclass</li>\n",
        "            <li>4.4 Title</li>\n",
        "            <li>4.5 FamilySize</li>\n",
        "        </ul>\n",
        "\t<li>5. Modeling</li>\n",
        "\t\t<ul>\n",
        "\t\t\t<li>5.1 Cross-Validation</li>\n",
        "\t\t\t<li>5.2 Tunning Parameters</li>\n",
        "\t\t\t<li>5.3 Learning Curve</li>\n",
        "\t\t\t<li>5.4 Model Feature Importance</li>\n",
        "\t\t\t<li>5.5 Ensemble Modeling</li>\n",
        "\t\t</ul>\n",
        "\t<li>6. Prediction</li>\n",
        "<ul>"
      ]
    },
    {
      "cell_type": "markdown",
      "metadata": {
        "colab_type": "text",
        "id": "4M-EQMGdgpm3"
      },
      "source": [
        "# 0. Preparation"
      ]
    },
    {
      "cell_type": "markdown",
      "metadata": {
        "colab_type": "text",
        "id": "aVE05ANGeqQ2"
      },
      "source": [
        "## Import Packages"
      ]
    },
    {
      "cell_type": "code",
      "metadata": {
        "colab_type": "code",
        "id": "ZDgkd9CK2UyB",
        "trusted": true,
        "colab": {}
      },
      "source": [
        "# Ignore warnings\n",
        "import warnings\n",
        "warnings.filterwarnings('ignore')\n",
        "\n",
        "# Handle table-like data and matrices\n",
        "import numpy as np\n",
        "import pandas as pd\n",
        "\n",
        "# Visualisation\n",
        "import matplotlib as mpl \n",
        "import matplotlib.pyplot as plt\n",
        "import matplotlib.pylab as pylab\n",
        "import seaborn as sns\n",
        "\n",
        "\n",
        "#Modeling\n",
        "from sklearn.model_selection import train_test_split\n",
        "\n",
        "from sklearn.ensemble import RandomForestClassifier,  VotingClassifier\n",
        "from sklearn.linear_model import LogisticRegression\n",
        "from sklearn.neighbors import KNeighborsClassifier\n",
        "from sklearn.tree import DecisionTreeClassifier\n",
        "from sklearn.svm import SVC\n",
        "\n",
        "from sklearn.model_selection import  cross_val_score, KFold, learning_curve\n",
        "from sklearn.model_selection import GridSearchCV\n",
        "\n",
        "%matplotlib inline"
      ],
      "execution_count": 0,
      "outputs": []
    },
    {
      "cell_type": "markdown",
      "metadata": {
        "colab_type": "text",
        "id": "_zCveFXegTUe"
      },
      "source": [
        "## Loading Dataset"
      ]
    },
    {
      "cell_type": "code",
      "metadata": {
        "colab_type": "code",
        "id": "Nyg-7hEdjoDi",
        "trusted": true,
        "colab": {}
      },
      "source": [
        "#get titanic data\n",
        "train = pd.read_csv(\"../input/train.csv\") #(891,12)\n",
        "test = pd.read_csv(\"../input/test.csv\") #(418, 11)\n",
        "\n",
        "#combine train & test\n",
        "total = train.append(test, ignore_index = True)"
      ],
      "execution_count": 0,
      "outputs": []
    },
    {
      "cell_type": "markdown",
      "metadata": {
        "id": "syb861CXDz77",
        "colab_type": "text"
      },
      "source": [
        "# 1. Data Exploration"
      ]
    },
    {
      "cell_type": "markdown",
      "metadata": {
        "colab_type": "text",
        "id": "5IaPkoNWhMSd"
      },
      "source": [
        "## Info"
      ]
    },
    {
      "cell_type": "code",
      "metadata": {
        "colab_type": "code",
        "id": "-Qkn7Avn2UyZ",
        "trusted": true,
        "colab": {}
      },
      "source": [
        "total.info() "
      ],
      "execution_count": 0,
      "outputs": []
    },
    {
      "cell_type": "code",
      "metadata": {
        "colab_type": "code",
        "id": "EHaWcrYrh0nb",
        "trusted": true,
        "colab": {}
      },
      "source": [
        "total.head()"
      ],
      "execution_count": 0,
      "outputs": []
    },
    {
      "cell_type": "code",
      "metadata": {
        "colab_type": "code",
        "id": "-dpKB4uMJEoh",
        "trusted": true,
        "colab": {}
      },
      "source": [
        "total.describe(include='all')"
      ],
      "execution_count": 0,
      "outputs": []
    },
    {
      "cell_type": "code",
      "metadata": {
        "colab_type": "code",
        "id": "_T6ht4iDN51i",
        "trusted": true,
        "colab": {}
      },
      "source": [
        "#unique value\n",
        "print('col_name'.center(15),'count','value'.center(20))\n",
        "for col in total.columns:\n",
        "    length=len(total[col].dropna().unique())\n",
        "    if length <=10:\n",
        "        print('##',col.center(11),':' ,length,' ,',total[col].dropna().unique())\n",
        "    else:\n",
        "        print('##',col.center(11),':' ,length)"
      ],
      "execution_count": 0,
      "outputs": []
    },
    {
      "cell_type": "markdown",
      "metadata": {
        "colab_type": "raw",
        "id": "A8x5S8QY2Uyi"
      },
      "source": [
        "##Number of Null"
      ]
    },
    {
      "cell_type": "markdown",
      "metadata": {
        "id": "bunWRy8bDz8q",
        "colab_type": "text"
      },
      "source": [
        "As you can see, there are missing values.<br>\n",
        "The order based on values having more missing values except Survived(because Survived feature is in test data): <br> (Many) Cabin > Age > Embarked > Fare <br>\n"
      ]
    },
    {
      "cell_type": "code",
      "metadata": {
        "colab_type": "code",
        "id": "NnI4PcTG3pjD",
        "trusted": true,
        "colab": {}
      },
      "source": [
        "total.isnull().sum()"
      ],
      "execution_count": 0,
      "outputs": []
    },
    {
      "cell_type": "markdown",
      "metadata": {
        "colab_type": "text",
        "id": "ZlU6D7llRw6p"
      },
      "source": [
        "#1.0 Survived probability"
      ]
    },
    {
      "cell_type": "code",
      "metadata": {
        "colab_type": "code",
        "id": "hRBiQeGHRuz1",
        "trusted": true,
        "colab": {}
      },
      "source": [
        "a=train.Survived.value_counts()\n",
        "plt.pie(a,labels=a.index,autopct='%1.1f%%')"
      ],
      "execution_count": 0,
      "outputs": []
    },
    {
      "cell_type": "markdown",
      "metadata": {
        "colab_type": "text",
        "id": "uqXyweep2Uyv"
      },
      "source": [
        "# 1.1 Age "
      ]
    },
    {
      "cell_type": "markdown",
      "metadata": {
        "colab_type": "text",
        "id": "4KDXdKDjincH"
      },
      "source": [
        "Age distribution looks like normal distribution"
      ]
    },
    {
      "cell_type": "code",
      "metadata": {
        "colab_type": "code",
        "id": "gb42iCwn2Uyx",
        "trusted": true,
        "colab": {}
      },
      "source": [
        "sns.distplot(train.Age.dropna())"
      ],
      "execution_count": 0,
      "outputs": []
    },
    {
      "cell_type": "markdown",
      "metadata": {
        "id": "rPGL-Wt4h-2T",
        "colab_type": "text"
      },
      "source": [
        "We wonder If there is different depending on age interval like 2,3,4..<br>\n",
        "We set interval from 2 to 10, and show y_axis: survival percentage ,x_axis: age.<br>\n",
        "Find out some age bands are different such as under 6 age and over 70 age."
      ]
    },
    {
      "cell_type": "code",
      "metadata": {
        "colab_type": "code",
        "id": "nzCwW-vU69Rs",
        "trusted": true,
        "colab": {}
      },
      "source": [
        "#Survival(%) by Age Interval\n",
        "fig,ax=plt.subplots(3,3)\n",
        "fig.subplots_adjust(hspace=0.8,wspace=0.4)\n",
        "for interval in range(2,11):\n",
        "    age_dict0={(i,i+interval):0 for i in range(0,int(train.Age.max()+interval),interval)}\n",
        "    age_dict1={(i,i+interval):0 for i in range(0,int(train.Age.max()+interval),interval)}\n",
        "    \n",
        "    def survive_age1(age):\n",
        "        global age_dict0; value=age//interval\n",
        "        age_dict0[(interval*value,interval*(value+1))]+=1\n",
        "                                        \n",
        "    def survive_age2(age):\n",
        "        global age_dict1; value=age//interval\n",
        "        age_dict1[(interval*value,interval*(value+1))]+=1\n",
        "                      \n",
        "    train[\"Age\"][(train[\"Survived\"] == 0) & (train[\"Age\"].notnull())].apply(survive_age1)\n",
        "    train[\"Age\"][(train[\"Survived\"] == 1) & (train[\"Age\"].notnull())].apply(survive_age2)\n",
        "    age_list=[round(age_dict1[i]*100/(age_dict1[i]+age_dict0[i])) for i in age_dict1.keys() if age_dict0[i]+age_dict1[i]!=0]\n",
        "    print('###interval=%d###'%(interval))\n",
        "    a,b=divmod(interval-2,3)\n",
        "    ax[a][b].plot(age_list,marker='.')\n",
        "    ax[a][b].set_title(\"interval:{}\".format(interval))\n",
        "plt.xlabel(\"Age\",x=-1,y=0)\n",
        "plt.show()\n",
        "    "
      ],
      "execution_count": 0,
      "outputs": []
    },
    {
      "cell_type": "markdown",
      "metadata": {
        "colab_type": "text",
        "id": "Dyr-POP92UzW"
      },
      "source": [
        "# 1.2 Sex"
      ]
    },
    {
      "cell_type": "markdown",
      "metadata": {
        "id": "Y6eZwcVrRt2R",
        "colab_type": "text"
      },
      "source": [
        "Male is more than Female,but Survived probability is opposite."
      ]
    },
    {
      "cell_type": "code",
      "metadata": {
        "colab_type": "code",
        "id": "jNIEuhnlW6d0",
        "trusted": true,
        "colab": {}
      },
      "source": [
        "a=train['Sex'].value_counts()\n",
        "print(a)"
      ],
      "execution_count": 0,
      "outputs": []
    },
    {
      "cell_type": "code",
      "metadata": {
        "trusted": true,
        "id": "Vk8uuE_-Rt2V",
        "colab_type": "code",
        "colab": {}
      },
      "source": [
        "plt.pie(a,labels=a.index,autopct='%1.1f%%')"
      ],
      "execution_count": 0,
      "outputs": []
    },
    {
      "cell_type": "code",
      "metadata": {
        "colab_type": "code",
        "id": "K_0Vd3bW2UzZ",
        "trusted": true,
        "colab": {}
      },
      "source": [
        "sns.barplot(x=\"Sex\", y=\"Survived\", data=train)"
      ],
      "execution_count": 0,
      "outputs": []
    },
    {
      "cell_type": "markdown",
      "metadata": {
        "colab_type": "text",
        "id": "W8OWnbTN2Uzh"
      },
      "source": [
        "# 1.3 Embarked"
      ]
    },
    {
      "cell_type": "markdown",
      "metadata": {
        "id": "qkDsFgs7Rt2d",
        "colab_type": "text"
      },
      "source": [
        "'S'  is most popular Embarking place ,but Survived probability is lowest."
      ]
    },
    {
      "cell_type": "code",
      "metadata": {
        "trusted": true,
        "id": "Tcqc6IWmRt2e",
        "colab_type": "code",
        "colab": {}
      },
      "source": [
        "a=train['Embarked'].value_counts()\n",
        "print(a)"
      ],
      "execution_count": 0,
      "outputs": []
    },
    {
      "cell_type": "code",
      "metadata": {
        "trusted": true,
        "id": "davALlOnRt2k",
        "colab_type": "code",
        "colab": {}
      },
      "source": [
        "plt.pie(a,labels=a.index,autopct='%1.1f%%')"
      ],
      "execution_count": 0,
      "outputs": []
    },
    {
      "cell_type": "code",
      "metadata": {
        "trusted": true,
        "id": "v8T29o0jRt2p",
        "colab_type": "code",
        "colab": {}
      },
      "source": [
        "sns.barplot(x='Embarked', y='Survived', data=train)"
      ],
      "execution_count": 0,
      "outputs": []
    },
    {
      "cell_type": "code",
      "metadata": {
        "trusted": true,
        "id": "mePJpkkbRt2w",
        "colab_type": "code",
        "colab": {}
      },
      "source": [
        "train[[\"Embarked\",\"Survived\"]].groupby(['Embarked'], as_index=False).mean().sort_values(by='Survived', ascending=False)"
      ],
      "execution_count": 0,
      "outputs": []
    },
    {
      "cell_type": "markdown",
      "metadata": {
        "colab_type": "text",
        "id": "mhqZiEgf2Uzw"
      },
      "source": [
        "# 1.4 Pclass"
      ]
    },
    {
      "cell_type": "code",
      "metadata": {
        "colab_type": "code",
        "id": "mJxy7vJu2Uzz",
        "trusted": true,
        "colab": {}
      },
      "source": [
        "a=train['Pclass'].value_counts()\n",
        "print(a)\n"
      ],
      "execution_count": 0,
      "outputs": []
    },
    {
      "cell_type": "code",
      "metadata": {
        "trusted": true,
        "id": "P4vzO2LFRt23",
        "colab_type": "code",
        "colab": {}
      },
      "source": [
        "plt.pie(a,labels=a.index,autopct='%1.1f%%')"
      ],
      "execution_count": 0,
      "outputs": []
    },
    {
      "cell_type": "markdown",
      "metadata": {
        "colab_type": "text",
        "id": "rhaINb6ri426"
      },
      "source": [
        "Pclass '1' have higher survival than others."
      ]
    },
    {
      "cell_type": "code",
      "metadata": {
        "colab_type": "code",
        "id": "CHf8ikpVYM48",
        "trusted": true,
        "colab": {}
      },
      "source": [
        "sns.catplot(x='Pclass',y='Survived',data=train,kind='bar',size=6)"
      ],
      "execution_count": 0,
      "outputs": []
    },
    {
      "cell_type": "code",
      "metadata": {
        "colab_type": "code",
        "id": "8u3Z5iL74Xrn",
        "trusted": true,
        "colab": {}
      },
      "source": [
        "grid = sns.FacetGrid(total, col='Survived', row='Pclass', size=2.2, aspect=1.6)\n",
        "grid.map(plt.hist, 'Age', alpha=.5, bins=20)\n",
        "grid.add_legend()"
      ],
      "execution_count": 0,
      "outputs": []
    },
    {
      "cell_type": "markdown",
      "metadata": {
        "colab_type": "text",
        "id": "ZA5EjBAi2Uz8"
      },
      "source": [
        "# 1.5 Parch"
      ]
    },
    {
      "cell_type": "code",
      "metadata": {
        "trusted": true,
        "id": "SlCSxysCRt3C",
        "colab_type": "code",
        "colab": {}
      },
      "source": [
        "a=train['Parch'].value_counts()\n",
        "print(a)"
      ],
      "execution_count": 0,
      "outputs": []
    },
    {
      "cell_type": "code",
      "metadata": {
        "trusted": true,
        "id": "ClNG0rFBRt3F",
        "colab_type": "code",
        "colab": {}
      },
      "source": [
        "plt.pie(a,labels=a.index,autopct='%1.1f%%')"
      ],
      "execution_count": 0,
      "outputs": []
    },
    {
      "cell_type": "markdown",
      "metadata": {
        "colab_type": "text",
        "id": "6wZDk01ulLgg"
      },
      "source": [
        "People who have 1,2,3 parents or children have high survival"
      ]
    },
    {
      "cell_type": "code",
      "metadata": {
        "colab_type": "code",
        "id": "rxunO3TAYckI",
        "trusted": true,
        "colab": {}
      },
      "source": [
        "sns.catplot(x='Parch',y='Survived',data=train,kind='bar',size=6)"
      ],
      "execution_count": 0,
      "outputs": []
    },
    {
      "cell_type": "markdown",
      "metadata": {
        "colab_type": "text",
        "id": "sBvBvLYSSIgj"
      },
      "source": [
        "# 1.6 SibSp"
      ]
    },
    {
      "cell_type": "code",
      "metadata": {
        "colab_type": "code",
        "id": "6AAUWHAq2U0H",
        "trusted": true,
        "colab": {}
      },
      "source": [
        "a=train['SibSp'].value_counts()\n",
        "print(a)"
      ],
      "execution_count": 0,
      "outputs": []
    },
    {
      "cell_type": "code",
      "metadata": {
        "trusted": true,
        "id": "tXpB7GRVRt3S",
        "colab_type": "code",
        "colab": {}
      },
      "source": [
        "plt.pie(a,labels=a.index,autopct='%1.1f%%')"
      ],
      "execution_count": 0,
      "outputs": []
    },
    {
      "cell_type": "markdown",
      "metadata": {
        "colab_type": "text",
        "id": "0bXEHTUUlti8"
      },
      "source": [
        "People who have 1,2 Siblings or spouse have high survival"
      ]
    },
    {
      "cell_type": "code",
      "metadata": {
        "colab_type": "code",
        "id": "haF90UpeY2VS",
        "trusted": true,
        "colab": {}
      },
      "source": [
        "sns.barplot(x='SibSp',y='Survived',data=train)"
      ],
      "execution_count": 0,
      "outputs": []
    },
    {
      "cell_type": "markdown",
      "metadata": {
        "colab_type": "text",
        "id": "BGiEq8Dh5gwZ"
      },
      "source": [
        "# 1.7 Fare"
      ]
    },
    {
      "cell_type": "markdown",
      "metadata": {
        "colab_type": "text",
        "id": "KNyJcB6UmB0r"
      },
      "source": [
        "Fare distribution has high kurtosis"
      ]
    },
    {
      "cell_type": "code",
      "metadata": {
        "colab_type": "code",
        "id": "WcQwrZ-NY98x",
        "trusted": true,
        "colab": {}
      },
      "source": [
        "sns.distplot(train.Fare.dropna()) "
      ],
      "execution_count": 0,
      "outputs": []
    },
    {
      "cell_type": "code",
      "metadata": {
        "colab_type": "code",
        "id": "Hh4oXXcMZDUo",
        "trusted": true,
        "colab": {}
      },
      "source": [
        "sns.catplot(x='Survived',y='Fare',data=train,kind='box',size=6)"
      ],
      "execution_count": 0,
      "outputs": []
    },
    {
      "cell_type": "code",
      "metadata": {
        "colab_type": "code",
        "id": "4FtdDuYj5l7r",
        "trusted": true,
        "colab": {}
      },
      "source": [
        "#Fare Distribution according to Survived\n",
        "grid = sns.FacetGrid(total, col='Survived', height=3, aspect=1.6)\n",
        "grid.map(plt.hist, 'Fare', alpha=.5, bins=20)\n",
        "grid.add_legend();"
      ],
      "execution_count": 0,
      "outputs": []
    },
    {
      "cell_type": "markdown",
      "metadata": {
        "colab_type": "text",
        "id": "682VLN5nRZJR"
      },
      "source": [
        "# 1.7 Relations among Variables"
      ]
    },
    {
      "cell_type": "markdown",
      "metadata": {
        "colab_type": "text",
        "id": "U-2NOmNsoGiB"
      },
      "source": [
        "There are some correlation between Pclass and Fare, SibSp and Parch ."
      ]
    },
    {
      "cell_type": "code",
      "metadata": {
        "colab_type": "code",
        "id": "-RPtHC9jRUT7",
        "trusted": true,
        "colab": {}
      },
      "source": [
        "sns.heatmap(train.corr(),annot=True)"
      ],
      "execution_count": 0,
      "outputs": []
    },
    {
      "cell_type": "markdown",
      "metadata": {
        "colab_type": "text",
        "id": "I6H1cy-yn1HB"
      },
      "source": [
        "## Embark + Age"
      ]
    },
    {
      "cell_type": "code",
      "metadata": {
        "colab_type": "code",
        "id": "eFlbzNV8Rk3D",
        "trusted": true,
        "colab": {}
      },
      "source": [
        "sns.catplot(x='Embarked',y='Age',size=6,kind='box',data=total)\n",
        "#Conclusion : no special differenciation"
      ],
      "execution_count": 0,
      "outputs": []
    },
    {
      "cell_type": "markdown",
      "metadata": {
        "colab_type": "text",
        "id": "DIjo3AP8n-Kb"
      },
      "source": [
        "## Sex + Fare"
      ]
    },
    {
      "cell_type": "code",
      "metadata": {
        "colab_type": "code",
        "id": "9bha4Avbdk7o",
        "trusted": true,
        "colab": {}
      },
      "source": [
        "sns.factorplot(x='Sex',y='Fare',size=6,kind='box',data=total)"
      ],
      "execution_count": 0,
      "outputs": []
    },
    {
      "cell_type": "markdown",
      "metadata": {
        "colab_type": "text",
        "id": "0EAFSMw62U0f"
      },
      "source": [
        "# 2. Feature Engineering"
      ]
    },
    {
      "cell_type": "markdown",
      "metadata": {
        "colab_type": "text",
        "id": "n63OUfcJFdwV"
      },
      "source": [
        "# 2.1 Name\n",
        "\n",
        "The reason that we extract the title is for filling missing Age and it will be used for value when we process modeling.<br>\n",
        "Name is consist of Title,first name,second name. We classify title of name into 5 titles like Mr, Mrs, Miss, Master, Rare.<br>\n",
        "Since the others are < 10 each of them so that we decide it would be better to combine all to Rare category.<br>"
      ]
    },
    {
      "cell_type": "code",
      "metadata": {
        "colab_type": "code",
        "id": "vPendhFvFqXt",
        "trusted": true,
        "colab": {}
      },
      "source": [
        "#Age Distirbution according to Title\n",
        "total['Title'] = total.Name.str.extract('([A-Za-z]+)\\.', expand=True)\n",
        "print(list(total.Title.unique()))\n",
        "print(total.Title.value_counts())\n",
        "\n"
      ],
      "execution_count": 0,
      "outputs": []
    },
    {
      "cell_type": "code",
      "metadata": {
        "id": "bgCts-xtGQNp",
        "colab_type": "code",
        "trusted": true,
        "colab": {}
      },
      "source": [
        "total['Title'] = total['Title'].replace('Mlle', 'Miss')\n",
        "total['Title'] = total['Title'].replace(['Capt', 'Col','Countess',\n",
        "    'Don','Dona', 'Dr', 'Major','Mme','Ms','Lady','Sir', 'Rev', 'Jonkheer' ],'Rare')\n",
        "print(total.Title.value_counts())"
      ],
      "execution_count": 0,
      "outputs": []
    },
    {
      "cell_type": "markdown",
      "metadata": {
        "colab_type": "text",
        "id": "4z8JAmLHTZIK"
      },
      "source": [
        "# 2.2 Parch+SibSp->FamilySize"
      ]
    },
    {
      "cell_type": "markdown",
      "metadata": {
        "colab_type": "text",
        "id": "6I9kDvs2pVDt"
      },
      "source": [
        "We suppose Family size is important for  survival.As a result, 1 ~4 size of family survived more than others."
      ]
    },
    {
      "cell_type": "code",
      "metadata": {
        "colab_type": "code",
        "id": "nvtQW9VN51mt",
        "trusted": true,
        "colab": {}
      },
      "source": [
        "total['FamilySize'] = total['SibSp'] + total['Parch'] + 1"
      ],
      "execution_count": 0,
      "outputs": []
    },
    {
      "cell_type": "code",
      "metadata": {
        "colab_type": "code",
        "id": "iMdTCATB5ziB",
        "trusted": true,
        "colab": {}
      },
      "source": [
        "f,ax=plt.subplots(1,1,figsize=(15,4))\n",
        "sns.barplot('FamilySize','Survived',data=total,ax=ax)\n",
        "ax.set_title('FamilySize vs Survived')\n"
      ],
      "execution_count": 0,
      "outputs": []
    },
    {
      "cell_type": "code",
      "metadata": {
        "colab_type": "code",
        "id": "xI6hKB_52U0P",
        "trusted": true,
        "colab": {}
      },
      "source": [
        "total.loc[total['FamilySize'] == 1, 'FamilySize'] = 0\n",
        "total.loc[(total['FamilySize'] > 1) & (total['FamilySize'] <= 4), 'FamilySize'] = 1\n",
        "total.loc[(total['FamilySize'] > 4), 'FamilySize']   = 2"
      ],
      "execution_count": 0,
      "outputs": []
    },
    {
      "cell_type": "code",
      "metadata": {
        "colab_type": "code",
        "id": "Z7rQJaMr2U0W",
        "trusted": true,
        "colab": {}
      },
      "source": [
        "total[['FamilySize', 'Survived']].groupby(['FamilySize']).mean().sort_values(by='Survived',ascending=False)"
      ],
      "execution_count": 0,
      "outputs": []
    },
    {
      "cell_type": "code",
      "metadata": {
        "colab_type": "code",
        "id": "UGCYQmcrqeCC",
        "trusted": true,
        "colab": {}
      },
      "source": [
        "sns.heatmap(total.corr(),annot=True)"
      ],
      "execution_count": 0,
      "outputs": []
    },
    {
      "cell_type": "code",
      "metadata": {
        "colab_type": "code",
        "id": "lg2BNmbuktmN",
        "trusted": true,
        "colab": {}
      },
      "source": [
        "#Parchm SibSp del\n",
        "total = total.drop(['Parch','SibSp'], axis=1)"
      ],
      "execution_count": 0,
      "outputs": []
    },
    {
      "cell_type": "markdown",
      "metadata": {
        "colab_type": "text",
        "id": "Cg0iDUzO2U0i"
      },
      "source": [
        "# 3 Filling Missing Values\n",
        "\n",
        "These are missing values given below<br>\n",
        "\n",
        "Fare: 1 <br>\n",
        "Embarked: 2 <br>\n",
        "Age: 263 <br>\n",
        "Cabin: 1114 <br>\n"
      ]
    },
    {
      "cell_type": "markdown",
      "metadata": {
        "colab_type": "text",
        "id": "usNbzrkC2U0l"
      },
      "source": [
        "# 3.1 Fare"
      ]
    },
    {
      "cell_type": "markdown",
      "metadata": {
        "colab_type": "text",
        "id": "SfRYxKIx2U0n"
      },
      "source": [
        "Fill median without outliers, Because Fare distribution has high kurtosis"
      ]
    },
    {
      "cell_type": "code",
      "metadata": {
        "colab_type": "code",
        "id": "fiqC2ryKb55w",
        "trusted": true,
        "colab": {}
      },
      "source": [
        "total[total.Fare.isnull()]"
      ],
      "execution_count": 0,
      "outputs": []
    },
    {
      "cell_type": "code",
      "metadata": {
        "colab_type": "code",
        "id": "-9ZdFTz9b-tH",
        "trusted": true,
        "colab": {}
      },
      "source": [
        "sns.distplot(total.Fare[(total.Pclass==3) & (total.Fare.notnull())])"
      ],
      "execution_count": 0,
      "outputs": []
    },
    {
      "cell_type": "code",
      "metadata": {
        "colab_type": "code",
        "id": "BsdPe4Tv2U0q",
        "trusted": true,
        "colab": {}
      },
      "source": [
        "total['Fare'] = total.Fare.fillna(total[total['Pclass']==3]['Fare'].median())"
      ],
      "execution_count": 0,
      "outputs": []
    },
    {
      "cell_type": "code",
      "metadata": {
        "trusted": true,
        "id": "0fb1DzmERt4m",
        "colab_type": "code",
        "colab": {}
      },
      "source": [
        "total.Fare.isnull().sum()"
      ],
      "execution_count": 0,
      "outputs": []
    },
    {
      "cell_type": "markdown",
      "metadata": {
        "colab_type": "text",
        "id": "QQXk5w8C2U0x"
      },
      "source": [
        "# 3.2 Embarked"
      ]
    },
    {
      "cell_type": "markdown",
      "metadata": {
        "colab_type": "text",
        "id": "_VBWmeVosB0D"
      },
      "source": [
        "Two women has 80 of Fare. So we look Embarked and Fare distribution.<br>\n",
        "Among 3 ports , C port has fare range including 80. SO we decide those women's port is 'C'"
      ]
    },
    {
      "cell_type": "code",
      "metadata": {
        "colab_type": "code",
        "id": "9Ow6Jhv82U0y",
        "trusted": true,
        "colab": {}
      },
      "source": [
        "total[total.Embarked.isnull()]"
      ],
      "execution_count": 0,
      "outputs": []
    },
    {
      "cell_type": "code",
      "metadata": {
        "colab_type": "code",
        "id": "5v_K41SheBfC",
        "trusted": true,
        "colab": {}
      },
      "source": [
        "sns.catplot(x='Embarked',y='Fare',size=6,kind='box',data=total)"
      ],
      "execution_count": 0,
      "outputs": []
    },
    {
      "cell_type": "code",
      "metadata": {
        "colab_type": "code",
        "id": "CkYSIMVX2U05",
        "trusted": true,
        "colab": {}
      },
      "source": [
        "total['Embarked'] = total.Embarked.fillna('C')"
      ],
      "execution_count": 0,
      "outputs": []
    },
    {
      "cell_type": "code",
      "metadata": {
        "trusted": true,
        "id": "pj2oSlPTRt4w",
        "colab_type": "code",
        "colab": {}
      },
      "source": [
        "total.Embarked.isnull().sum()"
      ],
      "execution_count": 0,
      "outputs": []
    },
    {
      "cell_type": "markdown",
      "metadata": {
        "colab_type": "text",
        "id": "z_gVN-SJ2U0_"
      },
      "source": [
        "# 3.3 Age"
      ]
    },
    {
      "cell_type": "markdown",
      "metadata": {
        "colab_type": "text",
        "id": "kzjGbYpytH9e"
      },
      "source": [
        "There is difference of age distribution depending on title.<br>\n",
        "So we fill age missing value according to mean age of title."
      ]
    },
    {
      "cell_type": "code",
      "metadata": {
        "colab_type": "code",
        "id": "SGOwjXZNFtRd",
        "trusted": true,
        "colab": {}
      },
      "source": [
        "TotalAge = total[total.Age.isnull()==False]\n",
        "grid = sns.FacetGrid(TotalAge, col=\"Title\", hue=\"Title\",col_wrap=4)\n",
        "grid.map(sns.distplot, \"Age\")"
      ],
      "execution_count": 0,
      "outputs": []
    },
    {
      "cell_type": "code",
      "metadata": {
        "colab_type": "code",
        "id": "_j6ZgrB3ktnX",
        "trusted": true,
        "colab": {}
      },
      "source": [
        "total[['Title', 'Age']].groupby(['Title']).median().sort_values(by='Title',ascending=False)"
      ],
      "execution_count": 0,
      "outputs": []
    },
    {
      "cell_type": "code",
      "metadata": {
        "colab_type": "code",
        "id": "UOeV7JhNkozL",
        "trusted": true,
        "colab": {}
      },
      "source": [
        "total['Age']=total.groupby('Title').transform(lambda x:x.fillna(x.median()))"
      ],
      "execution_count": 0,
      "outputs": []
    },
    {
      "cell_type": "markdown",
      "metadata": {
        "colab_type": "text",
        "id": "496xd9Pwktnk"
      },
      "source": [
        "# 4 Data Categorization & Dummy"
      ]
    },
    {
      "cell_type": "markdown",
      "metadata": {
        "id": "te7J8SRvD0Ez",
        "colab_type": "text"
      },
      "source": [
        "We dicide to use Age, Embarked, Fare, Plcass, Sex and FamilySize for feature engineering.<br>\n",
        "The reason of dropping the others:<br>\n",
        "<pre>\n",
        "Cabin: Most of Cabins are missing\n",
        "Name: We already extracted title\n",
        "Ticket: We weren't able to find out encrypted meaning inside.\n",
        "</pre>"
      ]
    },
    {
      "cell_type": "code",
      "metadata": {
        "colab_type": "code",
        "id": "0jzksdVqktn6",
        "scrolled": true,
        "trusted": true,
        "colab": {}
      },
      "source": [
        "total = total.drop(['Cabin','Name','Ticket'], axis=1)"
      ],
      "execution_count": 0,
      "outputs": []
    },
    {
      "cell_type": "code",
      "metadata": {
        "colab_type": "code",
        "id": "4PPuQAHNktoF",
        "trusted": true,
        "colab": {}
      },
      "source": [
        "total.head()"
      ],
      "execution_count": 0,
      "outputs": []
    },
    {
      "cell_type": "markdown",
      "metadata": {
        "colab_type": "text",
        "id": "C9acYgotktoW"
      },
      "source": [
        "# 4.1 Sex"
      ]
    },
    {
      "cell_type": "markdown",
      "metadata": {
        "id": "fm6vS0o6D0FG",
        "colab_type": "text"
      },
      "source": [
        "We classify Female to 1 and Male to 0"
      ]
    },
    {
      "cell_type": "code",
      "metadata": {
        "colab_type": "code",
        "id": "slfdF9Ctktoe",
        "trusted": true,
        "colab": {}
      },
      "source": [
        "total['Sex'] = total['Sex'].map( {'female': 1, 'male': 0} ).astype(int)\n",
        "total.head()"
      ],
      "execution_count": 0,
      "outputs": []
    },
    {
      "cell_type": "markdown",
      "metadata": {
        "colab_type": "text",
        "id": "WfsUun7ektop"
      },
      "source": [
        "# 4.2 Embarked"
      ]
    },
    {
      "cell_type": "markdown",
      "metadata": {
        "id": "-e4tY7hbD0FW",
        "colab_type": "text"
      },
      "source": [
        "We use get_dummies in Pandas for processing Embarked"
      ]
    },
    {
      "cell_type": "code",
      "metadata": {
        "colab_type": "code",
        "id": "QWdSg8J0kto0",
        "trusted": true,
        "colab": {}
      },
      "source": [
        "total[\"Embarked\"] = total[\"Embarked\"].astype(\"category\")\n",
        "total = pd.get_dummies(total, columns = [\"Embarked\"],prefix=\"Embarked\")\n",
        "total.head()"
      ],
      "execution_count": 0,
      "outputs": []
    },
    {
      "cell_type": "markdown",
      "metadata": {
        "colab_type": "text",
        "id": "ETseNxJtkto6"
      },
      "source": [
        "# 4.3 Pclass"
      ]
    },
    {
      "cell_type": "code",
      "metadata": {
        "colab_type": "code",
        "id": "agRO72J8ktpL",
        "trusted": true,
        "colab": {}
      },
      "source": [
        "total[\"Pclass\"] = total[\"Pclass\"].astype(\"category\")\n",
        "total = pd.get_dummies(total, columns = [\"Pclass\"],prefix=\"Pclass\")\n",
        "total.head()"
      ],
      "execution_count": 0,
      "outputs": []
    },
    {
      "cell_type": "markdown",
      "metadata": {
        "colab_type": "text",
        "id": "Fek-zWq2biIN"
      },
      "source": [
        "# 4.4 Title"
      ]
    },
    {
      "cell_type": "code",
      "metadata": {
        "colab_type": "code",
        "id": "bYUkdcLsbiIP",
        "trusted": true,
        "colab": {}
      },
      "source": [
        "total[\"Title\"] = total[\"Title\"].astype(\"category\")\n",
        "total = pd.get_dummies(total, columns = [\"Title\"],prefix=\"Title\")"
      ],
      "execution_count": 0,
      "outputs": []
    },
    {
      "cell_type": "markdown",
      "metadata": {
        "colab_type": "text",
        "id": "wvRzy_cMktpb"
      },
      "source": [
        "# 4.5 FamilySize"
      ]
    },
    {
      "cell_type": "markdown",
      "metadata": {
        "id": "wqwb-I-qD0GM",
        "colab_type": "text"
      },
      "source": [
        "We already categorized FamilySize, We renamed them as Family_Single,Small and Large"
      ]
    },
    {
      "cell_type": "code",
      "metadata": {
        "colab_type": "code",
        "id": "J7GJ2Xthktpf",
        "trusted": true,
        "colab": {}
      },
      "source": [
        "total[ 'Family_Single' ] = total[ 'FamilySize' ].map( lambda s : 1 if s == 0 else 0 )\n",
        "total[ 'Family_Small' ]  = total[ 'FamilySize' ].map( lambda s : 1 if s == 1 else 0 )\n",
        "total[ 'Family_Large' ]  = total[ 'FamilySize' ].map( lambda s : 1 if s == 2 else 0 )\n",
        "\n",
        "total = total.drop(['FamilySize'], axis=1)\n",
        "total.head()"
      ],
      "execution_count": 0,
      "outputs": []
    },
    {
      "cell_type": "markdown",
      "metadata": {
        "colab_type": "text",
        "id": "6_pZu9ctktpx"
      },
      "source": [
        "# 5 Modeling"
      ]
    },
    {
      "cell_type": "markdown",
      "metadata": {
        "id": "jRaFQ_8fD0Gc",
        "colab_type": "text"
      },
      "source": [
        "\n",
        "Almost done!  We've just finised feature engineering, now we need to adjust several models.<br>\n",
        "<pre>\n",
        "train: train set\n",
        "y_train: only Survived values of train set\n",
        "x_train: all values except for Survived\n",
        "test: test set\n",
        "</pre>\n",
        "\n",
        "We split the train set into train and test again for testing"
      ]
    },
    {
      "cell_type": "code",
      "metadata": {
        "colab_type": "code",
        "id": "P3fyYkp6ktp1",
        "trusted": true,
        "colab": {}
      },
      "source": [
        "del train,test\n",
        "train=total[:891];test=total[891:];test_id=test['PassengerId'];test=test.drop(['Survived','PassengerId'],1)\n",
        "y_train=train['Survived'];x_train=train.drop(['Survived','PassengerId'],1)\n",
        "\n",
        "x_train1, x_test, y_train1, y_test = train_test_split(x_train, y_train, random_state=0)\n",
        "del total,train"
      ],
      "execution_count": 0,
      "outputs": []
    },
    {
      "cell_type": "markdown",
      "metadata": {
        "colab_type": "text",
        "id": "vkP7h0p0u4at"
      },
      "source": [
        "# 5.1 Cross-Validation"
      ]
    },
    {
      "cell_type": "code",
      "metadata": {
        "colab_type": "code",
        "id": "56WdP6rfktp7",
        "trusted": true,
        "colab": {}
      },
      "source": [
        "random_state = 0\n",
        "kfold = KFold(n_splits=5, shuffle=True, random_state=random_state)\n",
        "\n",
        "classifiers = []\n",
        "classifiers.append(SVC(random_state=random_state))\n",
        "classifiers.append(DecisionTreeClassifier(random_state=random_state))\n",
        "classifiers.append(RandomForestClassifier(random_state=random_state))\n",
        "classifiers.append(KNeighborsClassifier())\n",
        "classifiers.append(LogisticRegression(random_state = random_state))\n",
        "\n",
        "\n",
        "cv_means = [];cv_stds= []\n",
        "for classifier in classifiers :\n",
        "    result=cross_val_score(classifier, x_train, y_train, scoring = \"accuracy\", cv = kfold)\n",
        "    cv_means.append(result.mean());cv_stds.append(result.std())\n",
        "    \n",
        "cv_df= pd.DataFrame({\"Means\":cv_means,\"Stds\": cv_stds,\"Algorithm\":[\"SVC\",\"DecisionTree\",\"RandomForest\",\"KNeighboors\",\"LogisticRegression\"]})\n",
        "\n",
        "g = sns.barplot(\"Means\",\"Algorithm\",data = cv_df,orient = \"h\",**{'xerr':cv_stds})\n",
        "g.set_xlabel(\"Mean Accuracy\")\n",
        "g = g.set_title(\"Cross validation scores\")"
      ],
      "execution_count": 0,
      "outputs": []
    },
    {
      "cell_type": "markdown",
      "metadata": {
        "colab_type": "text",
        "id": "dsJWqtNXu-BX"
      },
      "source": [
        "# 5.2 Tunning Parameters"
      ]
    },
    {
      "cell_type": "code",
      "metadata": {
        "colab_type": "code",
        "id": "YPm69IJ4HUZ8",
        "trusted": true,
        "colab": {}
      },
      "source": [
        "#Logistic Regression\n",
        "param_grid = {'C': [0.001, 0.01, 0.1, 1, 10, 100]}\n",
        "\n",
        "grid_search = GridSearchCV(LogisticRegression(), param_grid, cv=5,n_jobs=-1,return_train_score=True)\n",
        "\n",
        "grid_search.fit(x_train1, y_train1)\n",
        "print(\"Test score: {}\".format(grid_search.score(x_test,y_test)))\n",
        "print(\"Best Parameter : {}\".format(grid_search.best_params_))\n",
        "print(\"Best cross-validation score: {:.2f}\".format(grid_search.best_score_))\n",
        "\n",
        "print(\"Best score model: \\n{}\".format(grid_search.best_estimator_))"
      ],
      "execution_count": 0,
      "outputs": []
    },
    {
      "cell_type": "markdown",
      "metadata": {
        "colab_type": "text",
        "id": "c4Aopl3DKvlY"
      },
      "source": [
        "# 6. Prediction"
      ]
    },
    {
      "cell_type": "code",
      "metadata": {
        "colab_type": "code",
        "id": "uxhqj6DXK6Hm",
        "trusted": true,
        "colab": {}
      },
      "source": [
        "logi=LogisticRegression(C=0.1)\n",
        "logi.fit(x_train,y_train)\n",
        "y_pred=logi.predict(test).astype(int)\n",
        "test_score = round(logi.score(x_train, y_train) * 100, 2)\n",
        "print(test_score)\n",
        "\n",
        "submission = pd.DataFrame({\n",
        "        \"PassengerId\": test_id,\n",
        "        \"Survived\": y_pred\n",
        "    })\n",
        "\n",
        "submission.to_csv('submission.csv', index=False)"
      ],
      "execution_count": 0,
      "outputs": []
    }
  ]
}