{
  "nbformat": 4,
  "nbformat_minor": 0,
  "metadata": {
    "colab": {
      "name": "1st_Titanic_analysis (5).ipynb",
      "version": "0.3.2",
      "provenance": [],
      "collapsed_sections": []
    },
    "kernelspec": {
      "display_name": "Python 3",
      "language": "python",
      "name": "python3"
    }
  },
  "cells": [
    {
      "cell_type": "markdown",
      "metadata": {
        "colab_type": "text",
        "id": "7opvSqeg2Ux-"
      },
      "source": [
        "# TITANIC DATA ANALYTICS_Python"
      ]
    },
    {
      "cell_type": "markdown",
      "metadata": {
        "colab_type": "text",
        "id": "5qmkBzg6bo-V"
      },
      "source": [
        "Hello,<br>\n",
        "We are beginner in Kaggle. <br> \n",
        "So We refer to yassine ghouzam's Kernel(https://www.kaggle.com/yassineghouzam/titanic-top-4-with-ensemble-modeling) <br>\n",
        "Welcome any opinion about our Kernel.<br>\n",
        "\n",
        "Thank you!<br>"
      ]
    },
    {
      "cell_type": "markdown",
      "metadata": {
        "id": "JM7BSC7rDz7V",
        "colab_type": "text"
      },
      "source": [
        ""
      ]
    },
    {
      "cell_type": "markdown",
      "metadata": {
        "id": "bhIhBX-7Dz7Y",
        "colab_type": "text"
      },
      "source": [
        "<ul>\n",
        "\t<li>0. Preparation</li>\n",
        "\t<li>1. Data Exploration</li>\n",
        "\t\t<ul>\n",
        "\t\t\t<li>1.1 Age</li>\n",
        "\t\t\t<li>1.2 Sex</li>\n",
        "\t\t\t<li>1.3 Embarked</li>\n",
        "\t\t\t<li>1.4 Pclass</li>\n",
        "\t\t\t<li>1.5 Parch</li>\n",
        "\t\t\t<li>1.6 SibSp</li>\n",
        "\t\t\t<li>1.7 Fare</li>\n",
        "\t\t\t<li>1.8 Relations among Variables</li>\n",
        "\t\t</ul>\n",
        "\t<li>2. Feature Engineering</li>\n",
        "\t\t<ul>\n",
        "\t\t\t<li>2.1 Name</li>\n",
        "\t\t\t<li>2.2 Parch+SibSp->FamilySize</li>\n",
        "\t\t</ul>\n",
        "    <li>3. Filling Missing Values</li>\n",
        "        <ul>\n",
        "            <li>3.1 Fare</li>\n",
        "            <li>3.2 Embarked</li>\n",
        "            <li>3.3 Age</li>\n",
        "        </ul>\n",
        "    <li>4. Data Categorization & Dummy</li>\n",
        "        <ul>\n",
        "            <li>4.1 Sex</li>\n",
        "            <li>4.2 Embarked</li>\n",
        "            <li>4.3 Pclass</li>\n",
        "            <li>4.4 Title</li>\n",
        "            <li>4.5 FamilySize</li>\n",
        "        </ul>\n",
        "\t<li>5. Modeling</li>\n",
        "\t\t<ul>\n",
        "\t\t\t<li>5.1 Cross-Validation</li>\n",
        "\t\t\t<li>5.2 Tunning Parameters</li>\n",
        "\t\t\t<li>5.3 Learning Curve</li>\n",
        "\t\t\t<li>5.4 Model Feature Importance</li>\n",
        "\t\t\t<li>5.5 Ensemble Modeling</li>\n",
        "\t\t</ul>\n",
        "\t<li>6. Prediction</li>\n",
        "<ul>"
      ]
    },
    {
      "cell_type": "markdown",
      "metadata": {
        "colab_type": "text",
        "id": "4M-EQMGdgpm3"
      },
      "source": [
        "# 0. Preparation"
      ]
    },
    {
      "cell_type": "markdown",
      "metadata": {
        "colab_type": "text",
        "id": "aVE05ANGeqQ2"
      },
      "source": [
        "## Import Packages"
      ]
    },
    {
      "cell_type": "code",
      "metadata": {
        "colab_type": "code",
        "id": "ZDgkd9CK2UyB",
        "trusted": true,
        "colab": {}
      },
      "source": [
        "# Ignore warnings\n",
        "import warnings\n",
        "warnings.filterwarnings('ignore')\n",
        "\n",
        "# Handle table-like data and matrices\n",
        "import numpy as np\n",
        "import pandas as pd\n",
        "\n",
        "# Visualisation\n",
        "import matplotlib as mpl \n",
        "import matplotlib.pyplot as plt\n",
        "import matplotlib.pylab as pylab\n",
        "import seaborn as sns\n",
        "\n",
        "\n",
        "#Modeling\n",
        "from sklearn.model_selection import train_test_split\n",
        "\n",
        "from sklearn.ensemble import RandomForestClassifier,  VotingClassifier\n",
        "from sklearn.linear_model import LogisticRegression\n",
        "from sklearn.neighbors import KNeighborsClassifier\n",
        "from sklearn.tree import DecisionTreeClassifier\n",
        "from sklearn.svm import SVC\n",
        "\n",
        "from sklearn.model_selection import  cross_val_score, KFold, learning_curve\n",
        "from sklearn.model_selection import GridSearchCV\n",
        "\n",
        "%matplotlib inline"
      ],
      "execution_count": 0,
      "outputs": []
    },
    {
      "cell_type": "markdown",
      "metadata": {
        "colab_type": "text",
        "id": "_zCveFXegTUe"
      },
      "source": [
        "## Loading Dataset"
      ]
    },
    {
      "cell_type": "code",
      "metadata": {
        "colab_type": "code",
        "id": "Nyg-7hEdjoDi",
        "trusted": true,
        "colab": {}
      },
      "source": [
        "#get titanic data\n",
        "train = pd.read_csv(\"../input/train.csv\") #(891,12)\n",
        "test = pd.read_csv(\"../input/test.csv\") #(418, 11)\n",
        "\n",
        "#combine train & test\n",
        "total = train.append(test, ignore_index = True)"
      ],
      "execution_count": 0,
      "outputs": []
    },
    {
      "cell_type": "markdown",
      "metadata": {
        "id": "syb861CXDz77",
        "colab_type": "text"
      },
      "source": [
        "# 1. Data Exploration"
      ]
    },
    {
      "cell_type": "markdown",
      "metadata": {
        "colab_type": "text",
        "id": "5IaPkoNWhMSd"
      },
      "source": [
        "## Info"
      ]
    },
    {
      "cell_type": "code",
      "metadata": {
        "colab_type": "code",
        "id": "-Qkn7Avn2UyZ",
        "outputId": "1ea82615-5e49-479a-d6c1-06eb8dfc7816",
        "trusted": true,
        "colab": {}
      },
      "source": [
        "total.info() "
      ],
      "execution_count": 0,
      "outputs": [
        {
          "output_type": "stream",
          "text": [
            "<class 'pandas.core.frame.DataFrame'>\n",
            "RangeIndex: 1309 entries, 0 to 1308\n",
            "Data columns (total 12 columns):\n",
            "Age            1046 non-null float64\n",
            "Cabin          295 non-null object\n",
            "Embarked       1307 non-null object\n",
            "Fare           1308 non-null float64\n",
            "Name           1309 non-null object\n",
            "Parch          1309 non-null int64\n",
            "PassengerId    1309 non-null int64\n",
            "Pclass         1309 non-null int64\n",
            "Sex            1309 non-null object\n",
            "SibSp          1309 non-null int64\n",
            "Survived       891 non-null float64\n",
            "Ticket         1309 non-null object\n",
            "dtypes: float64(3), int64(4), object(5)\n",
            "memory usage: 122.8+ KB\n"
          ],
          "name": "stdout"
        }
      ]
    },
    {
      "cell_type": "code",
      "metadata": {
        "colab_type": "code",
        "id": "EHaWcrYrh0nb",
        "outputId": "149565cf-34a0-44b1-9325-de4a2268d93e",
        "trusted": true,
        "colab": {}
      },
      "source": [
        "total.head()"
      ],
      "execution_count": 0,
      "outputs": [
        {
          "output_type": "execute_result",
          "data": {
            "text/plain": [
              "    Age Cabin Embarked        ...         SibSp Survived            Ticket\n",
              "0  22.0   NaN        S        ...             1      0.0         A/5 21171\n",
              "1  38.0   C85        C        ...             1      1.0          PC 17599\n",
              "2  26.0   NaN        S        ...             0      1.0  STON/O2. 3101282\n",
              "3  35.0  C123        S        ...             1      1.0            113803\n",
              "4  35.0   NaN        S        ...             0      0.0            373450\n",
              "\n",
              "[5 rows x 12 columns]"
            ],
            "text/html": [
              "<div>\n",
              "<style scoped>\n",
              "    .dataframe tbody tr th:only-of-type {\n",
              "        vertical-align: middle;\n",
              "    }\n",
              "\n",
              "    .dataframe tbody tr th {\n",
              "        vertical-align: top;\n",
              "    }\n",
              "\n",
              "    .dataframe thead th {\n",
              "        text-align: right;\n",
              "    }\n",
              "</style>\n",
              "<table border=\"1\" class=\"dataframe\">\n",
              "  <thead>\n",
              "    <tr style=\"text-align: right;\">\n",
              "      <th></th>\n",
              "      <th>Age</th>\n",
              "      <th>Cabin</th>\n",
              "      <th>Embarked</th>\n",
              "      <th>Fare</th>\n",
              "      <th>Name</th>\n",
              "      <th>Parch</th>\n",
              "      <th>PassengerId</th>\n",
              "      <th>Pclass</th>\n",
              "      <th>Sex</th>\n",
              "      <th>SibSp</th>\n",
              "      <th>Survived</th>\n",
              "      <th>Ticket</th>\n",
              "    </tr>\n",
              "  </thead>\n",
              "  <tbody>\n",
              "    <tr>\n",
              "      <th>0</th>\n",
              "      <td>22.0</td>\n",
              "      <td>NaN</td>\n",
              "      <td>S</td>\n",
              "      <td>7.2500</td>\n",
              "      <td>Braund, Mr. Owen Harris</td>\n",
              "      <td>0</td>\n",
              "      <td>1</td>\n",
              "      <td>3</td>\n",
              "      <td>male</td>\n",
              "      <td>1</td>\n",
              "      <td>0.0</td>\n",
              "      <td>A/5 21171</td>\n",
              "    </tr>\n",
              "    <tr>\n",
              "      <th>1</th>\n",
              "      <td>38.0</td>\n",
              "      <td>C85</td>\n",
              "      <td>C</td>\n",
              "      <td>71.2833</td>\n",
              "      <td>Cumings, Mrs. John Bradley (Florence Briggs Th...</td>\n",
              "      <td>0</td>\n",
              "      <td>2</td>\n",
              "      <td>1</td>\n",
              "      <td>female</td>\n",
              "      <td>1</td>\n",
              "      <td>1.0</td>\n",
              "      <td>PC 17599</td>\n",
              "    </tr>\n",
              "    <tr>\n",
              "      <th>2</th>\n",
              "      <td>26.0</td>\n",
              "      <td>NaN</td>\n",
              "      <td>S</td>\n",
              "      <td>7.9250</td>\n",
              "      <td>Heikkinen, Miss. Laina</td>\n",
              "      <td>0</td>\n",
              "      <td>3</td>\n",
              "      <td>3</td>\n",
              "      <td>female</td>\n",
              "      <td>0</td>\n",
              "      <td>1.0</td>\n",
              "      <td>STON/O2. 3101282</td>\n",
              "    </tr>\n",
              "    <tr>\n",
              "      <th>3</th>\n",
              "      <td>35.0</td>\n",
              "      <td>C123</td>\n",
              "      <td>S</td>\n",
              "      <td>53.1000</td>\n",
              "      <td>Futrelle, Mrs. Jacques Heath (Lily May Peel)</td>\n",
              "      <td>0</td>\n",
              "      <td>4</td>\n",
              "      <td>1</td>\n",
              "      <td>female</td>\n",
              "      <td>1</td>\n",
              "      <td>1.0</td>\n",
              "      <td>113803</td>\n",
              "    </tr>\n",
              "    <tr>\n",
              "      <th>4</th>\n",
              "      <td>35.0</td>\n",
              "      <td>NaN</td>\n",
              "      <td>S</td>\n",
              "      <td>8.0500</td>\n",
              "      <td>Allen, Mr. William Henry</td>\n",
              "      <td>0</td>\n",
              "      <td>5</td>\n",
              "      <td>3</td>\n",
              "      <td>male</td>\n",
              "      <td>0</td>\n",
              "      <td>0.0</td>\n",
              "      <td>373450</td>\n",
              "    </tr>\n",
              "  </tbody>\n",
              "</table>\n",
              "</div>"
            ]
          },
          "metadata": {
            "tags": []
          },
          "execution_count": 175
        }
      ]
    },
    {
      "cell_type": "code",
      "metadata": {
        "colab_type": "code",
        "id": "-dpKB4uMJEoh",
        "outputId": "dfc2042e-f9c8-45a5-97e6-af5b79478233",
        "trusted": true,
        "colab": {}
      },
      "source": [
        "total.describe(include='all')"
      ],
      "execution_count": 0,
      "outputs": [
        {
          "output_type": "execute_result",
          "data": {
            "text/plain": [
              "                Age        Cabin    ...       Survived    Ticket\n",
              "count   1046.000000          295    ...     891.000000      1309\n",
              "unique          NaN          186    ...            NaN       929\n",
              "top             NaN  C23 C25 C27    ...            NaN  CA. 2343\n",
              "freq            NaN            6    ...            NaN        11\n",
              "mean      29.881138          NaN    ...       0.383838       NaN\n",
              "std       14.413493          NaN    ...       0.486592       NaN\n",
              "min        0.170000          NaN    ...       0.000000       NaN\n",
              "25%       21.000000          NaN    ...       0.000000       NaN\n",
              "50%       28.000000          NaN    ...       0.000000       NaN\n",
              "75%       39.000000          NaN    ...       1.000000       NaN\n",
              "max       80.000000          NaN    ...       1.000000       NaN\n",
              "\n",
              "[11 rows x 12 columns]"
            ],
            "text/html": [
              "<div>\n",
              "<style scoped>\n",
              "    .dataframe tbody tr th:only-of-type {\n",
              "        vertical-align: middle;\n",
              "    }\n",
              "\n",
              "    .dataframe tbody tr th {\n",
              "        vertical-align: top;\n",
              "    }\n",
              "\n",
              "    .dataframe thead th {\n",
              "        text-align: right;\n",
              "    }\n",
              "</style>\n",
              "<table border=\"1\" class=\"dataframe\">\n",
              "  <thead>\n",
              "    <tr style=\"text-align: right;\">\n",
              "      <th></th>\n",
              "      <th>Age</th>\n",
              "      <th>Cabin</th>\n",
              "      <th>Embarked</th>\n",
              "      <th>Fare</th>\n",
              "      <th>Name</th>\n",
              "      <th>Parch</th>\n",
              "      <th>PassengerId</th>\n",
              "      <th>Pclass</th>\n",
              "      <th>Sex</th>\n",
              "      <th>SibSp</th>\n",
              "      <th>Survived</th>\n",
              "      <th>Ticket</th>\n",
              "    </tr>\n",
              "  </thead>\n",
              "  <tbody>\n",
              "    <tr>\n",
              "      <th>count</th>\n",
              "      <td>1046.000000</td>\n",
              "      <td>295</td>\n",
              "      <td>1307</td>\n",
              "      <td>1308.000000</td>\n",
              "      <td>1309</td>\n",
              "      <td>1309.000000</td>\n",
              "      <td>1309.000000</td>\n",
              "      <td>1309.000000</td>\n",
              "      <td>1309</td>\n",
              "      <td>1309.000000</td>\n",
              "      <td>891.000000</td>\n",
              "      <td>1309</td>\n",
              "    </tr>\n",
              "    <tr>\n",
              "      <th>unique</th>\n",
              "      <td>NaN</td>\n",
              "      <td>186</td>\n",
              "      <td>3</td>\n",
              "      <td>NaN</td>\n",
              "      <td>1307</td>\n",
              "      <td>NaN</td>\n",
              "      <td>NaN</td>\n",
              "      <td>NaN</td>\n",
              "      <td>2</td>\n",
              "      <td>NaN</td>\n",
              "      <td>NaN</td>\n",
              "      <td>929</td>\n",
              "    </tr>\n",
              "    <tr>\n",
              "      <th>top</th>\n",
              "      <td>NaN</td>\n",
              "      <td>C23 C25 C27</td>\n",
              "      <td>S</td>\n",
              "      <td>NaN</td>\n",
              "      <td>Connolly, Miss. Kate</td>\n",
              "      <td>NaN</td>\n",
              "      <td>NaN</td>\n",
              "      <td>NaN</td>\n",
              "      <td>male</td>\n",
              "      <td>NaN</td>\n",
              "      <td>NaN</td>\n",
              "      <td>CA. 2343</td>\n",
              "    </tr>\n",
              "    <tr>\n",
              "      <th>freq</th>\n",
              "      <td>NaN</td>\n",
              "      <td>6</td>\n",
              "      <td>914</td>\n",
              "      <td>NaN</td>\n",
              "      <td>2</td>\n",
              "      <td>NaN</td>\n",
              "      <td>NaN</td>\n",
              "      <td>NaN</td>\n",
              "      <td>843</td>\n",
              "      <td>NaN</td>\n",
              "      <td>NaN</td>\n",
              "      <td>11</td>\n",
              "    </tr>\n",
              "    <tr>\n",
              "      <th>mean</th>\n",
              "      <td>29.881138</td>\n",
              "      <td>NaN</td>\n",
              "      <td>NaN</td>\n",
              "      <td>33.295479</td>\n",
              "      <td>NaN</td>\n",
              "      <td>0.385027</td>\n",
              "      <td>655.000000</td>\n",
              "      <td>2.294882</td>\n",
              "      <td>NaN</td>\n",
              "      <td>0.498854</td>\n",
              "      <td>0.383838</td>\n",
              "      <td>NaN</td>\n",
              "    </tr>\n",
              "    <tr>\n",
              "      <th>std</th>\n",
              "      <td>14.413493</td>\n",
              "      <td>NaN</td>\n",
              "      <td>NaN</td>\n",
              "      <td>51.758668</td>\n",
              "      <td>NaN</td>\n",
              "      <td>0.865560</td>\n",
              "      <td>378.020061</td>\n",
              "      <td>0.837836</td>\n",
              "      <td>NaN</td>\n",
              "      <td>1.041658</td>\n",
              "      <td>0.486592</td>\n",
              "      <td>NaN</td>\n",
              "    </tr>\n",
              "    <tr>\n",
              "      <th>min</th>\n",
              "      <td>0.170000</td>\n",
              "      <td>NaN</td>\n",
              "      <td>NaN</td>\n",
              "      <td>0.000000</td>\n",
              "      <td>NaN</td>\n",
              "      <td>0.000000</td>\n",
              "      <td>1.000000</td>\n",
              "      <td>1.000000</td>\n",
              "      <td>NaN</td>\n",
              "      <td>0.000000</td>\n",
              "      <td>0.000000</td>\n",
              "      <td>NaN</td>\n",
              "    </tr>\n",
              "    <tr>\n",
              "      <th>25%</th>\n",
              "      <td>21.000000</td>\n",
              "      <td>NaN</td>\n",
              "      <td>NaN</td>\n",
              "      <td>7.895800</td>\n",
              "      <td>NaN</td>\n",
              "      <td>0.000000</td>\n",
              "      <td>328.000000</td>\n",
              "      <td>2.000000</td>\n",
              "      <td>NaN</td>\n",
              "      <td>0.000000</td>\n",
              "      <td>0.000000</td>\n",
              "      <td>NaN</td>\n",
              "    </tr>\n",
              "    <tr>\n",
              "      <th>50%</th>\n",
              "      <td>28.000000</td>\n",
              "      <td>NaN</td>\n",
              "      <td>NaN</td>\n",
              "      <td>14.454200</td>\n",
              "      <td>NaN</td>\n",
              "      <td>0.000000</td>\n",
              "      <td>655.000000</td>\n",
              "      <td>3.000000</td>\n",
              "      <td>NaN</td>\n",
              "      <td>0.000000</td>\n",
              "      <td>0.000000</td>\n",
              "      <td>NaN</td>\n",
              "    </tr>\n",
              "    <tr>\n",
              "      <th>75%</th>\n",
              "      <td>39.000000</td>\n",
              "      <td>NaN</td>\n",
              "      <td>NaN</td>\n",
              "      <td>31.275000</td>\n",
              "      <td>NaN</td>\n",
              "      <td>0.000000</td>\n",
              "      <td>982.000000</td>\n",
              "      <td>3.000000</td>\n",
              "      <td>NaN</td>\n",
              "      <td>1.000000</td>\n",
              "      <td>1.000000</td>\n",
              "      <td>NaN</td>\n",
              "    </tr>\n",
              "    <tr>\n",
              "      <th>max</th>\n",
              "      <td>80.000000</td>\n",
              "      <td>NaN</td>\n",
              "      <td>NaN</td>\n",
              "      <td>512.329200</td>\n",
              "      <td>NaN</td>\n",
              "      <td>9.000000</td>\n",
              "      <td>1309.000000</td>\n",
              "      <td>3.000000</td>\n",
              "      <td>NaN</td>\n",
              "      <td>8.000000</td>\n",
              "      <td>1.000000</td>\n",
              "      <td>NaN</td>\n",
              "    </tr>\n",
              "  </tbody>\n",
              "</table>\n",
              "</div>"
            ]
          },
          "metadata": {
            "tags": []
          },
          "execution_count": 176
        }
      ]
    },
    {
      "cell_type": "code",
      "metadata": {
        "colab_type": "code",
        "id": "_T6ht4iDN51i",
        "outputId": "fa98a641-ccb9-418d-d8a1-cf6e85780248",
        "trusted": true,
        "colab": {}
      },
      "source": [
        "#unique value\n",
        "print('col_name'.center(15),'count','value'.center(20))\n",
        "for col in total.columns:\n",
        "    length=len(total[col].dropna().unique())\n",
        "    if length <=10:\n",
        "        print('##',col.center(11),':' ,length,' ,',total[col].dropna().unique())\n",
        "    else:\n",
        "        print('##',col.center(11),':' ,length)"
      ],
      "execution_count": 0,
      "outputs": [
        {
          "output_type": "stream",
          "text": [
            "    col_name    count        value        \n",
            "##     Age     : 98\n",
            "##    Cabin    : 186\n",
            "##   Embarked  : 3  , ['S' 'C' 'Q']\n",
            "##     Fare    : 281\n",
            "##     Name    : 1307\n",
            "##    Parch    : 8  , [0 1 2 5 3 4 6 9]\n",
            "## PassengerId : 1309\n",
            "##    Pclass   : 3  , [3 1 2]\n",
            "##     Sex     : 2  , ['male' 'female']\n",
            "##    SibSp    : 7  , [1 0 3 4 2 5 8]\n",
            "##   Survived  : 2  , [0. 1.]\n",
            "##    Ticket   : 929\n"
          ],
          "name": "stdout"
        }
      ]
    },
    {
      "cell_type": "markdown",
      "metadata": {
        "colab_type": "raw",
        "id": "A8x5S8QY2Uyi"
      },
      "source": [
        "##Number of Null"
      ]
    },
    {
      "cell_type": "markdown",
      "metadata": {
        "id": "bunWRy8bDz8q",
        "colab_type": "text"
      },
      "source": [
        "As you can see, there are missing values.<br>\n",
        "The order based on values having more missing values except Survived(because Survived feature is in test data): <br> (Many) Cabin > Age > Embarked > Fare <br>\n"
      ]
    },
    {
      "cell_type": "code",
      "metadata": {
        "colab_type": "code",
        "id": "NnI4PcTG3pjD",
        "outputId": "9bf62620-3699-446e-95cd-565d386be84e",
        "trusted": true,
        "colab": {}
      },
      "source": [
        "total.isnull().sum()"
      ],
      "execution_count": 0,
      "outputs": [
        {
          "output_type": "execute_result",
          "data": {
            "text/plain": [
              "Age             263\n",
              "Cabin          1014\n",
              "Embarked          2\n",
              "Fare              1\n",
              "Name              0\n",
              "Parch             0\n",
              "PassengerId       0\n",
              "Pclass            0\n",
              "Sex               0\n",
              "SibSp             0\n",
              "Survived        418\n",
              "Ticket            0\n",
              "dtype: int64"
            ]
          },
          "metadata": {
            "tags": []
          },
          "execution_count": 178
        }
      ]
    },
    {
      "cell_type": "markdown",
      "metadata": {
        "colab_type": "text",
        "id": "ZlU6D7llRw6p"
      },
      "source": [
        "#1.0 Survived probability"
      ]
    },
    {
      "cell_type": "code",
      "metadata": {
        "colab_type": "code",
        "id": "hRBiQeGHRuz1",
        "outputId": "bfafc4e3-2b6c-417b-b7c1-08a753802f74",
        "trusted": true,
        "colab": {}
      },
      "source": [
        "a=train.Survived.value_counts()\n",
        "plt.pie(a,labels=a.index,autopct='%1.1f%%')"
      ],
      "execution_count": 0,
      "outputs": [
        {
          "output_type": "execute_result",
          "data": {
            "text/plain": [
              "([<matplotlib.patches.Wedge at 0x7f41d8101978>,\n",
              "  <matplotlib.patches.Wedge at 0x7f41d810c0f0>],\n",
              " [Text(-0.39257493509945834, 1.0275626113924428, '0'),\n",
              "  Text(0.3925750313068116, -1.0275625746369201, '1')],\n",
              " [Text(-0.2141317827815227, 0.5604886971231505, '61.6%'),\n",
              "  Text(0.21413183525826085, -0.5604886770746836, '38.4%')])"
            ]
          },
          "metadata": {
            "tags": []
          },
          "execution_count": 179
        },
        {
          "output_type": "display_data",
          "data": {
            "text/plain": [
              "<Figure size 432x288 with 1 Axes>"
            ],
            "image/png": "[encoded data removed]"
          },
          "metadata": {
            "tags": []
          }
        }
      ]
    },
    {
      "cell_type": "markdown",
      "metadata": {
        "colab_type": "text",
        "id": "uqXyweep2Uyv"
      },
      "source": [
        "# 1.1 Age "
      ]
    },
    {
      "cell_type": "markdown",
      "metadata": {
        "colab_type": "text",
        "id": "4KDXdKDjincH"
      },
      "source": [
        "Age distribution looks like normal distribution"
      ]
    },
    {
      "cell_type": "code",
      "metadata": {
        "colab_type": "code",
        "id": "gb42iCwn2Uyx",
        "outputId": "67d56d1c-89d6-4247-86a6-36a313e47446",
        "trusted": true,
        "colab": {}
      },
      "source": [
        "sns.distplot(train.Age.dropna())"
      ],
      "execution_count": 0,
      "outputs": [
        {
          "output_type": "execute_result",
          "data": {
            "text/plain": [
              "<matplotlib.axes._subplots.AxesSubplot at 0x7f41d810cbe0>"
            ]
          },
          "metadata": {
            "tags": []
          },
          "execution_count": 180
        },
        {
          "output_type": "display_data",
          "data": {
            "text/plain": [
              "<Figure size 432x288 with 1 Axes>"
            ],
            "image/png": "[encoded data removed]"
          },
          "metadata": {
            "tags": []
          }
        }
      ]
    },
    {
      "cell_type": "markdown",
      "metadata": {
        "id": "rPGL-Wt4h-2T",
        "colab_type": "text"
      },
      "source": [
        "We wonder If there is different depending on age interval like 2,3,4..<br>\n",
        "We set interval from 2 to 10, and show y_axis: survival percentage ,x_axis: age.<br>\n",
        "Find out some age bands are different such as under 6 age and over 70 age."
      ]
    },
    {
      "cell_type": "code",
      "metadata": {
        "colab_type": "code",
        "id": "nzCwW-vU69Rs",
        "outputId": "865bc2fb-382e-4722-ba37-f9b369ff130d",
        "trusted": true,
        "colab": {}
      },
      "source": [
        "#Survival(%) by Age Interval\n",
        "fig,ax=plt.subplots(3,3)\n",
        "fig.subplots_adjust(hspace=0.8,wspace=0.4)\n",
        "for interval in range(2,11):\n",
        "    age_dict0={(i,i+interval):0 for i in range(0,int(train.Age.max()+interval),interval)}\n",
        "    age_dict1={(i,i+interval):0 for i in range(0,int(train.Age.max()+interval),interval)}\n",
        "    \n",
        "    def survive_age1(age):\n",
        "        global age_dict0; value=age//interval\n",
        "        age_dict0[(interval*value,interval*(value+1))]+=1\n",
        "                                        \n",
        "    def survive_age2(age):\n",
        "        global age_dict1; value=age//interval\n",
        "        age_dict1[(interval*value,interval*(value+1))]+=1\n",
        "                      \n",
        "    train[\"Age\"][(train[\"Survived\"] == 0) & (train[\"Age\"].notnull())].apply(survive_age1)\n",
        "    train[\"Age\"][(train[\"Survived\"] == 1) & (train[\"Age\"].notnull())].apply(survive_age2)\n",
        "    age_list=[round(age_dict1[i]*100/(age_dict1[i]+age_dict0[i])) for i in age_dict1.keys() if age_dict0[i]+age_dict1[i]!=0]\n",
        "    print('###interval=%d###'%(interval))\n",
        "    a,b=divmod(interval-2,3)\n",
        "    ax[a][b].plot(age_list,marker='.')\n",
        "    ax[a][b].set_title(\"interval:{}\".format(interval))\n",
        "plt.xlabel(\"Age\",x=-1,y=0)\n",
        "plt.show()\n",
        "    "
      ],
      "execution_count": 0,
      "outputs": [
        {
          "output_type": "stream",
          "text": [
            "###interval=2###\n",
            "###interval=3###\n",
            "###interval=4###\n",
            "###interval=5###\n",
            "###interval=6###\n",
            "###interval=7###\n",
            "###interval=8###\n",
            "###interval=9###\n",
            "###interval=10###\n"
          ],
          "name": "stdout"
        },
        {
          "output_type": "display_data",
          "data": {
            "text/plain": [
              "<Figure size 432x288 with 9 Axes>"
            ],
            "image/png": "[encoded data removed]"
          },
          "metadata": {
            "tags": []
          }
        }
      ]
    },
    {
      "cell_type": "markdown",
      "metadata": {
        "colab_type": "text",
        "id": "Dyr-POP92UzW"
      },
      "source": [
        "# 1.2 Sex"
      ]
    },
    {
      "cell_type": "markdown",
      "metadata": {
        "id": "Ev1m3T_GSPnc",
        "colab_type": "text"
      },
      "source": [
        "Male is more than Female,but Survived probability is opposite."
      ]
    },
    {
      "cell_type": "code",
      "metadata": {
        "colab_type": "code",
        "id": "jNIEuhnlW6d0",
        "outputId": "615d70ff-d73f-416e-e001-bc4529755a42",
        "trusted": true,
        "colab": {}
      },
      "source": [
        "a=train['Sex'].value_counts()\n",
        "print(a)"
      ],
      "execution_count": 0,
      "outputs": [
        {
          "output_type": "stream",
          "text": [
            "male      577\n",
            "female    314\n",
            "Name: Sex, dtype: int64\n"
          ],
          "name": "stdout"
        }
      ]
    },
    {
      "cell_type": "code",
      "metadata": {
        "trusted": true,
        "id": "I9EpHg6pSPnj",
        "colab_type": "code",
        "colab": {},
        "outputId": "8236cdd9-4393-404e-f390-bf5081fe8e8e"
      },
      "source": [
        "plt.pie(a,labels=a.index,autopct='%1.1f%%')"
      ],
      "execution_count": 0,
      "outputs": [
        {
          "output_type": "execute_result",
          "data": {
            "text/plain": [
              "([<matplotlib.patches.Wedge at 0x7f41d7e38940>,\n",
              "  <matplotlib.patches.Wedge at 0x7f41d7e38c50>],\n",
              " [Text(-0.4919454136803954, 0.9838646807152012, 'male'),\n",
              "  Text(0.4919455057964525, -0.9838646346559433, 'female')],\n",
              " [Text(-0.2683338620074884, 0.5366534622082915, '64.8%'),\n",
              "  Text(0.26833391225261044, -0.53665343708506, '35.2%')])"
            ]
          },
          "metadata": {
            "tags": []
          },
          "execution_count": 183
        },
        {
          "output_type": "display_data",
          "data": {
            "text/plain": [
              "<Figure size 432x288 with 1 Axes>"
            ],
            "image/png": "[encoded data removed]"
          },
          "metadata": {
            "tags": []
          }
        }
      ]
    },
    {
      "cell_type": "code",
      "metadata": {
        "colab_type": "code",
        "id": "K_0Vd3bW2UzZ",
        "outputId": "ed7697eb-359f-4811-913d-bc72fc9a0a40",
        "trusted": true,
        "colab": {}
      },
      "source": [
        "sns.barplot(x=\"Sex\", y=\"Survived\", data=train)"
      ],
      "execution_count": 0,
      "outputs": [
        {
          "output_type": "execute_result",
          "data": {
            "text/plain": [
              "<matplotlib.axes._subplots.AxesSubplot at 0x7f41d7e07da0>"
            ]
          },
          "metadata": {
            "tags": []
          },
          "execution_count": 184
        },
        {
          "output_type": "display_data",
          "data": {
            "text/plain": [
              "<Figure size 432x288 with 1 Axes>"
            ],
            "image/png": "[encoded data removed]"
          },
          "metadata": {
            "tags": []
          }
        }
      ]
    },
    {
      "cell_type": "markdown",
      "metadata": {
        "colab_type": "text",
        "id": "W8OWnbTN2Uzh"
      },
      "source": [
        "# 1.3 Embarked"
      ]
    },
    {
      "cell_type": "markdown",
      "metadata": {
        "id": "69w4qJCjSPnu",
        "colab_type": "text"
      },
      "source": [
        "'S'  is most popular Embarking place ,but Survived probability is lowest."
      ]
    },
    {
      "cell_type": "code",
      "metadata": {
        "trusted": true,
        "id": "_AbEZjwVSPnv",
        "colab_type": "code",
        "colab": {},
        "outputId": "d0931d7c-13da-450a-9069-ec2aaa547946"
      },
      "source": [
        "a=train['Embarked'].value_counts()\n",
        "print(a)"
      ],
      "execution_count": 0,
      "outputs": [
        {
          "output_type": "stream",
          "text": [
            "S    644\n",
            "C    168\n",
            "Q     77\n",
            "Name: Embarked, dtype: int64\n"
          ],
          "name": "stdout"
        }
      ]
    },
    {
      "cell_type": "code",
      "metadata": {
        "trusted": true,
        "id": "5nP7q-c9SPnz",
        "colab_type": "code",
        "colab": {},
        "outputId": "913b6d2c-6e01-43cb-80ed-32a00841913f"
      },
      "source": [
        "plt.pie(a,labels=a.index,autopct='%1.1f%%')"
      ],
      "execution_count": 0,
      "outputs": [
        {
          "output_type": "execute_result",
          "data": {
            "text/plain": [
              "([<matplotlib.patches.Wedge at 0x7f41d7d889e8>,\n",
              "  <matplotlib.patches.Wedge at 0x7f41d7d92128>,\n",
              "  <matplotlib.patches.Wedge at 0x7f41d7d92828>],\n",
              " [Text(-0.7128398214280038, 0.8377704870586524, 'S'),\n",
              "  Text(0.4614522559226597, -0.9985298270476893, 'C'),\n",
              "  Text(1.0595276168013974, -0.29563698894954155, 'Q')],\n",
              " [Text(-0.38882172077891114, 0.4569657202138104, '72.4%'),\n",
              "  Text(0.25170123050326887, -0.5446526329351032, '18.9%'),\n",
              "  Text(0.577924154618944, -0.16125653942702264, '8.7%')])"
            ]
          },
          "metadata": {
            "tags": []
          },
          "execution_count": 186
        },
        {
          "output_type": "display_data",
          "data": {
            "text/plain": [
              "<Figure size 432x288 with 1 Axes>"
            ],
            "image/png": "[encoded data removed]"
          },
          "metadata": {
            "tags": []
          }
        }
      ]
    },
    {
      "cell_type": "code",
      "metadata": {
        "trusted": true,
        "id": "3TNC7od6SPn4",
        "colab_type": "code",
        "colab": {},
        "outputId": "f168c4fa-d1c1-41cf-8844-2ad8e724fd86"
      },
      "source": [
        "sns.barplot(x='Embarked', y='Survived', data=train)"
      ],
      "execution_count": 0,
      "outputs": [
        {
          "output_type": "execute_result",
          "data": {
            "text/plain": [
              "<matplotlib.axes._subplots.AxesSubplot at 0x7f41d7d9f668>"
            ]
          },
          "metadata": {
            "tags": []
          },
          "execution_count": 187
        },
        {
          "output_type": "display_data",
          "data": {
            "text/plain": [
              "<Figure size 432x288 with 1 Axes>"
            ],
            "image/png": "[encoded data removed]"
          },
          "metadata": {
            "tags": []
          }
        }
      ]
    },
    {
      "cell_type": "code",
      "metadata": {
        "trusted": true,
        "id": "SVzIxykESPn9",
        "colab_type": "code",
        "colab": {},
        "outputId": "a206f921-94d5-45b9-96b3-4c82b993885e"
      },
      "source": [
        "train[[\"Embarked\",\"Survived\"]].groupby(['Embarked'], as_index=False).mean().sort_values(by='Survived', ascending=False)"
      ],
      "execution_count": 0,
      "outputs": [
        {
          "output_type": "execute_result",
          "data": {
            "text/plain": [
              "  Embarked  Survived\n",
              "0        C  0.553571\n",
              "1        Q  0.389610\n",
              "2        S  0.336957"
            ],
            "text/html": [
              "<div>\n",
              "<style scoped>\n",
              "    .dataframe tbody tr th:only-of-type {\n",
              "        vertical-align: middle;\n",
              "    }\n",
              "\n",
              "    .dataframe tbody tr th {\n",
              "        vertical-align: top;\n",
              "    }\n",
              "\n",
              "    .dataframe thead th {\n",
              "        text-align: right;\n",
              "    }\n",
              "</style>\n",
              "<table border=\"1\" class=\"dataframe\">\n",
              "  <thead>\n",
              "    <tr style=\"text-align: right;\">\n",
              "      <th></th>\n",
              "      <th>Embarked</th>\n",
              "      <th>Survived</th>\n",
              "    </tr>\n",
              "  </thead>\n",
              "  <tbody>\n",
              "    <tr>\n",
              "      <th>0</th>\n",
              "      <td>C</td>\n",
              "      <td>0.553571</td>\n",
              "    </tr>\n",
              "    <tr>\n",
              "      <th>1</th>\n",
              "      <td>Q</td>\n",
              "      <td>0.389610</td>\n",
              "    </tr>\n",
              "    <tr>\n",
              "      <th>2</th>\n",
              "      <td>S</td>\n",
              "      <td>0.336957</td>\n",
              "    </tr>\n",
              "  </tbody>\n",
              "</table>\n",
              "</div>"
            ]
          },
          "metadata": {
            "tags": []
          },
          "execution_count": 188
        }
      ]
    },
    {
      "cell_type": "markdown",
      "metadata": {
        "colab_type": "text",
        "id": "mhqZiEgf2Uzw"
      },
      "source": [
        "# 1.4 Pclass"
      ]
    },
    {
      "cell_type": "code",
      "metadata": {
        "colab_type": "code",
        "id": "mJxy7vJu2Uzz",
        "outputId": "d94c6147-7c39-443f-d6d7-0f5f11d79373",
        "trusted": true,
        "colab": {}
      },
      "source": [
        "a=train['Pclass'].value_counts()\n",
        "print(a)\n"
      ],
      "execution_count": 0,
      "outputs": [
        {
          "output_type": "stream",
          "text": [
            "3    491\n",
            "1    216\n",
            "2    184\n",
            "Name: Pclass, dtype: int64\n"
          ],
          "name": "stdout"
        }
      ]
    },
    {
      "cell_type": "code",
      "metadata": {
        "trusted": true,
        "id": "F9xo5APSSPoJ",
        "colab_type": "code",
        "colab": {},
        "outputId": "bb0da807-60da-4b80-eca1-fbaf473790be"
      },
      "source": [
        "plt.pie(a,labels=a.index,autopct='%1.1f%%')"
      ],
      "execution_count": 0,
      "outputs": [
        {
          "output_type": "execute_result",
          "data": {
            "text/plain": [
              "([<matplotlib.patches.Wedge at 0x7f41d7d26a58>,\n",
              "  <matplotlib.patches.Wedge at 0x7f41d7d311d0>,\n",
              "  <matplotlib.patches.Wedge at 0x7f41d7d31908>],\n",
              " [Text(-0.17571616709359641, 1.0858746836637898, '3'),\n",
              "  Text(-0.5160762002061153, -0.9714243951954356, '1'),\n",
              "  Text(0.8765111456658484, -0.6646263698677192, '2')],\n",
              " [Text(-0.09584518205105258, 0.5922952819984307, '55.1%'),\n",
              "  Text(-0.2814961092033356, -0.5298678519247829, '24.2%'),\n",
              "  Text(0.47809698854500815, -0.3625234744733013, '20.7%')])"
            ]
          },
          "metadata": {
            "tags": []
          },
          "execution_count": 190
        },
        {
          "output_type": "display_data",
          "data": {
            "text/plain": [
              "<Figure size 432x288 with 1 Axes>"
            ],
            "image/png": "[encoded data removed]"
          },
          "metadata": {
            "tags": []
          }
        }
      ]
    },
    {
      "cell_type": "markdown",
      "metadata": {
        "colab_type": "text",
        "id": "rhaINb6ri426"
      },
      "source": [
        "Pclass '1' have higher survival than others."
      ]
    },
    {
      "cell_type": "code",
      "metadata": {
        "colab_type": "code",
        "id": "CHf8ikpVYM48",
        "outputId": "be42d15d-7a48-48c1-f124-b61acb33d7a1",
        "trusted": true,
        "colab": {}
      },
      "source": [
        "sns.catplot(x='Pclass',y='Survived',data=train,kind='bar',size=6)"
      ],
      "execution_count": 0,
      "outputs": [
        {
          "output_type": "execute_result",
          "data": {
            "text/plain": [
              "<seaborn.axisgrid.FacetGrid at 0x7f41d7cbb780>"
            ]
          },
          "metadata": {
            "tags": []
          },
          "execution_count": 191
        },
        {
          "output_type": "display_data",
          "data": {
            "text/plain": [
              "<Figure size 432x432 with 1 Axes>"
            ],
            "image/png": "[encoded data removed]"
          },
          "metadata": {
            "tags": []
          }
        }
      ]
    },
    {
      "cell_type": "code",
      "metadata": {
        "colab_type": "code",
        "id": "8u3Z5iL74Xrn",
        "outputId": "e820287a-d5e1-44cb-ec29-5287cc40f328",
        "trusted": true,
        "colab": {}
      },
      "source": [
        "grid = sns.FacetGrid(total, col='Survived', row='Pclass', size=2.2, aspect=1.6)\n",
        "grid.map(plt.hist, 'Age', alpha=.5, bins=20)\n",
        "grid.add_legend()"
      ],
      "execution_count": 0,
      "outputs": [
        {
          "output_type": "execute_result",
          "data": {
            "text/plain": [
              "<seaborn.axisgrid.FacetGrid at 0x7f41d7caabe0>"
            ]
          },
          "metadata": {
            "tags": []
          },
          "execution_count": 192
        },
        {
          "output_type": "display_data",
          "data": {
            "text/plain": [
              "<Figure size 514.88x475.2 with 6 Axes>"
            ],
            "image/png": "[encoded data removed]"
          },
          "metadata": {
            "tags": []
          }
        }
      ]
    },
    {
      "cell_type": "markdown",
      "metadata": {
        "colab_type": "text",
        "id": "ZA5EjBAi2Uz8"
      },
      "source": [
        "# 1.5 Parch"
      ]
    },
    {
      "cell_type": "code",
      "metadata": {
        "trusted": true,
        "id": "AZ0QHBJrSPoe",
        "colab_type": "code",
        "colab": {},
        "outputId": "1eca3906-9d94-4436-a5db-36a6bd4ff5a3"
      },
      "source": [
        "a=train['Parch'].value_counts()\n",
        "print(a)"
      ],
      "execution_count": 0,
      "outputs": [
        {
          "output_type": "stream",
          "text": [
            "0    678\n",
            "1    118\n",
            "2     80\n",
            "5      5\n",
            "3      5\n",
            "4      4\n",
            "6      1\n",
            "Name: Parch, dtype: int64\n"
          ],
          "name": "stdout"
        }
      ]
    },
    {
      "cell_type": "code",
      "metadata": {
        "trusted": true,
        "id": "1ZJO1wVxSPoj",
        "colab_type": "code",
        "colab": {},
        "outputId": "da9dd6bf-9f1c-41a7-9477-8235fc9496fd"
      },
      "source": [
        "plt.pie(a,labels=a.index,autopct='%1.1f%%')"
      ],
      "execution_count": 0,
      "outputs": [
        {
          "output_type": "execute_result",
          "data": {
            "text/plain": [
              "([<matplotlib.patches.Wedge at 0x7f41d79650b8>,\n",
              "  <matplotlib.patches.Wedge at 0x7f41d79657f0>,\n",
              "  <matplotlib.patches.Wedge at 0x7f41d7965f28>,\n",
              "  <matplotlib.patches.Wedge at 0x7f41d796a6a0>,\n",
              "  <matplotlib.patches.Wedge at 0x7f41d796add8>,\n",
              "  <matplotlib.patches.Wedge at 0x7f41d7973550>,\n",
              "  <matplotlib.patches.Wedge at 0x7f41d7973c88>],\n",
              " [Text(-0.804092179728483, 0.750623585094085, '0'),\n",
              "  Text(0.5126478637981279, -0.973237981042261, '1'),\n",
              "  Text(1.018296364993601, -0.41601984693139255, '2'),\n",
              "  Text(1.0957292322146563, -0.09683723287186521, '5'),\n",
              "  Text(1.098461885865451, -0.05815053998818253, '3'),\n",
              "  Text(1.0997538533271654, -0.023269338023504005, '4'),\n",
              "  Text(1.0999931622972063, -0.0038785176797351347, '6')],\n",
              " [Text(-0.43859573439735433, 0.4094310464149554, '76.1%'),\n",
              "  Text(0.2796261075262515, -0.5308570805685059, '13.2%'),\n",
              "  Text(0.5554343809056005, -0.22691991650803228, '9.0%'),\n",
              "  Text(0.5976704902989034, -0.0528203088391992, '0.6%'),\n",
              "  Text(0.5991610286538823, -0.03171847635719047, '0.6%'),\n",
              "  Text(0.5998657381784537, -0.012692366194638547, '0.4%'),\n",
              "  Text(0.5999962703439307, -0.002115555098037346, '0.1%')])"
            ]
          },
          "metadata": {
            "tags": []
          },
          "execution_count": 194
        },
        {
          "output_type": "display_data",
          "data": {
            "text/plain": [
              "<Figure size 432x288 with 1 Axes>"
            ],
            "image/png": "[encoded data removed]"
          },
          "metadata": {
            "tags": []
          }
        }
      ]
    },
    {
      "cell_type": "markdown",
      "metadata": {
        "colab_type": "text",
        "id": "6wZDk01ulLgg"
      },
      "source": [
        "People who have 1,2,3 parents or children have high survival"
      ]
    },
    {
      "cell_type": "code",
      "metadata": {
        "colab_type": "code",
        "id": "rxunO3TAYckI",
        "outputId": "97375475-7e04-492a-b2a9-038e9afd1c72",
        "trusted": true,
        "colab": {}
      },
      "source": [
        "sns.catplot(x='Parch',y='Survived',data=train,kind='bar',size=6)"
      ],
      "execution_count": 0,
      "outputs": [
        {
          "output_type": "execute_result",
          "data": {
            "text/plain": [
              "<seaborn.axisgrid.FacetGrid at 0x7f41d78faba8>"
            ]
          },
          "metadata": {
            "tags": []
          },
          "execution_count": 195
        },
        {
          "output_type": "display_data",
          "data": {
            "text/plain": [
              "<Figure size 432x432 with 1 Axes>"
            ],
            "image/png": "[encoded data removed]"
          },
          "metadata": {
            "tags": []
          }
        }
      ]
    },
    {
      "cell_type": "markdown",
      "metadata": {
        "colab_type": "text",
        "id": "sBvBvLYSSIgj"
      },
      "source": [
        "# 1.6 SibSp"
      ]
    },
    {
      "cell_type": "code",
      "metadata": {
        "colab_type": "code",
        "id": "6AAUWHAq2U0H",
        "outputId": "40656f8e-17cf-490b-94b0-8c79f3b4de1e",
        "trusted": true,
        "colab": {}
      },
      "source": [
        "a=train['SibSp'].value_counts()\n",
        "print(a)"
      ],
      "execution_count": 0,
      "outputs": [
        {
          "output_type": "stream",
          "text": [
            "0    608\n",
            "1    209\n",
            "2     28\n",
            "4     18\n",
            "3     16\n",
            "8      7\n",
            "5      5\n",
            "Name: SibSp, dtype: int64\n"
          ],
          "name": "stdout"
        }
      ]
    },
    {
      "cell_type": "code",
      "metadata": {
        "trusted": true,
        "id": "SdmEREy5SPpA",
        "colab_type": "code",
        "colab": {},
        "outputId": "f7ccc28d-6c5f-40a5-e0da-01845439b437"
      },
      "source": [
        "plt.pie(a,labels=a.index,autopct='%1.1f%%')"
      ],
      "execution_count": 0,
      "outputs": [
        {
          "output_type": "execute_result",
          "data": {
            "text/plain": [
              "([<matplotlib.patches.Wedge at 0x7f41d78a5f28>,\n",
              "  <matplotlib.patches.Wedge at 0x7f41d78ad6a0>,\n",
              "  <matplotlib.patches.Wedge at 0x7f41d78addd8>,\n",
              "  <matplotlib.patches.Wedge at 0x7f41d78b6550>,\n",
              "  <matplotlib.patches.Wedge at 0x7f41d78b6c88>,\n",
              "  <matplotlib.patches.Wedge at 0x7f41d783f400>,\n",
              "  <matplotlib.patches.Wedge at 0x7f41d783fb38>],\n",
              " [Text(-0.596335425299201, 0.9243289785207544, '0'),\n",
              "  Text(0.33770481176055295, -1.0468789137783652, '1'),\n",
              "  Text(1.0029980041727713, -0.45165806051197366, '2'),\n",
              "  Text(1.0627689715338293, -0.28376418580385865, '4'),\n",
              "  Text(1.089077888508049, -0.15462649437547848, '3'),\n",
              "  Text(1.0980245143543599, -0.06589511269337359, '8'),\n",
              "  Text(1.0998290643754833, -0.019391471190945954, '5')],\n",
              " [Text(-0.3252738683450187, 0.5041794428295023, '68.2%'),\n",
              "  Text(0.18420262459666523, -0.5710248620609264, '23.5%'),\n",
              "  Text(0.5470898204578751, -0.24635894209744014, '3.1%'),\n",
              "  Text(0.5796921662911796, -0.15478046498392287, '2.0%'),\n",
              "  Text(0.5940424846407539, -0.08434172420480643, '1.8%'),\n",
              "  Text(0.5989224623751053, -0.035942788741840134, '0.8%'),\n",
              "  Text(0.5999067623866272, -0.010577166104152338, '0.6%')])"
            ]
          },
          "metadata": {
            "tags": []
          },
          "execution_count": 197
        },
        {
          "output_type": "display_data",
          "data": {
            "text/plain": [
              "<Figure size 432x288 with 1 Axes>"
            ],
            "image/png": "[encoded data removed]"
          },
          "metadata": {
            "tags": []
          }
        }
      ]
    },
    {
      "cell_type": "markdown",
      "metadata": {
        "colab_type": "text",
        "id": "0bXEHTUUlti8"
      },
      "source": [
        "People who have 1,2 Siblings or spouse have high survival"
      ]
    },
    {
      "cell_type": "code",
      "metadata": {
        "colab_type": "code",
        "id": "haF90UpeY2VS",
        "outputId": "41eab40e-fe79-4290-f784-b5d52765fc62",
        "trusted": true,
        "colab": {}
      },
      "source": [
        "sns.barplot(x='SibSp',y='Survived',data=train)"
      ],
      "execution_count": 0,
      "outputs": [
        {
          "output_type": "execute_result",
          "data": {
            "text/plain": [
              "<matplotlib.axes._subplots.AxesSubplot at 0x7f41d7848c50>"
            ]
          },
          "metadata": {
            "tags": []
          },
          "execution_count": 198
        },
        {
          "output_type": "display_data",
          "data": {
            "text/plain": [
              "<Figure size 432x288 with 1 Axes>"
            ],
            "image/png": "[encoded data removed]"
          },
          "metadata": {
            "tags": []
          }
        }
      ]
    },
    {
      "cell_type": "markdown",
      "metadata": {
        "colab_type": "text",
        "id": "BGiEq8Dh5gwZ"
      },
      "source": [
        "# 1.7 Fare"
      ]
    },
    {
      "cell_type": "markdown",
      "metadata": {
        "colab_type": "text",
        "id": "KNyJcB6UmB0r"
      },
      "source": [
        "Fare distribution has high kurtosis"
      ]
    },
    {
      "cell_type": "code",
      "metadata": {
        "colab_type": "code",
        "id": "WcQwrZ-NY98x",
        "outputId": "f77b5ac1-ec5d-451f-b6fa-994b91cc6ae2",
        "trusted": true,
        "colab": {}
      },
      "source": [
        "sns.distplot(train.Fare.dropna()) "
      ],
      "execution_count": 0,
      "outputs": [
        {
          "output_type": "execute_result",
          "data": {
            "text/plain": [
              "<matplotlib.axes._subplots.AxesSubplot at 0x7f41d7a40e80>"
            ]
          },
          "metadata": {
            "tags": []
          },
          "execution_count": 199
        },
        {
          "output_type": "display_data",
          "data": {
            "text/plain": [
              "<Figure size 432x288 with 1 Axes>"
            ],
            "image/png": "[encoded data removed]"
          },
          "metadata": {
            "tags": []
          }
        }
      ]
    },
    {
      "cell_type": "code",
      "metadata": {
        "colab_type": "code",
        "id": "Hh4oXXcMZDUo",
        "outputId": "efe5e9eb-74e9-4fa4-f200-ce6fbea36a90",
        "trusted": true,
        "colab": {}
      },
      "source": [
        "sns.catplot(x='Survived',y='Fare',data=train,kind='box',size=6)"
      ],
      "execution_count": 0,
      "outputs": [
        {
          "output_type": "execute_result",
          "data": {
            "text/plain": [
              "<seaborn.axisgrid.FacetGrid at 0x7f41d78f6dd8>"
            ]
          },
          "metadata": {
            "tags": []
          },
          "execution_count": 200
        },
        {
          "output_type": "display_data",
          "data": {
            "text/plain": [
              "<Figure size 432x432 with 1 Axes>"
            ],
            "image/png": "[encoded data removed]"
          },
          "metadata": {
            "tags": []
          }
        }
      ]
    },
    {
      "cell_type": "code",
      "metadata": {
        "colab_type": "code",
        "id": "4FtdDuYj5l7r",
        "outputId": "44417c10-9b68-45ac-cb15-dd4376c6176c",
        "trusted": true,
        "colab": {}
      },
      "source": [
        "#Fare Distribution according to Survived\n",
        "grid = sns.FacetGrid(total, col='Survived', height=3, aspect=1.6)\n",
        "grid.map(plt.hist, 'Fare', alpha=.5, bins=20)\n",
        "grid.add_legend();"
      ],
      "execution_count": 0,
      "outputs": [
        {
          "output_type": "display_data",
          "data": {
            "text/plain": [
              "<Figure size 699.2x216 with 2 Axes>"
            ],
            "image/png": "[encoded data removed]"
          },
          "metadata": {
            "tags": []
          }
        }
      ]
    },
    {
      "cell_type": "markdown",
      "metadata": {
        "colab_type": "text",
        "id": "682VLN5nRZJR"
      },
      "source": [
        "# 1.7 Relations among Variables"
      ]
    },
    {
      "cell_type": "markdown",
      "metadata": {
        "colab_type": "text",
        "id": "U-2NOmNsoGiB"
      },
      "source": [
        "There are some correlation between Pclass and Fare, SibSp and Parch ."
      ]
    },
    {
      "cell_type": "code",
      "metadata": {
        "colab_type": "code",
        "id": "-RPtHC9jRUT7",
        "outputId": "6b91654f-a71b-4643-d084-5b4e695a4ffa",
        "trusted": true,
        "colab": {}
      },
      "source": [
        "sns.heatmap(train.corr(),annot=True)"
      ],
      "execution_count": 0,
      "outputs": [
        {
          "output_type": "execute_result",
          "data": {
            "text/plain": [
              "<matplotlib.axes._subplots.AxesSubplot at 0x7f41d7599080>"
            ]
          },
          "metadata": {
            "tags": []
          },
          "execution_count": 202
        },
        {
          "output_type": "display_data",
          "data": {
            "text/plain": [
              "<Figure size 432x288 with 2 Axes>"
            ],
            "image/png": "[encoded data removed]"
          },
          "metadata": {
            "tags": []
          }
        }
      ]
    },
    {
      "cell_type": "markdown",
      "metadata": {
        "colab_type": "text",
        "id": "I6H1cy-yn1HB"
      },
      "source": [
        "## Embark + Age"
      ]
    },
    {
      "cell_type": "code",
      "metadata": {
        "colab_type": "code",
        "id": "eFlbzNV8Rk3D",
        "outputId": "f2cb3f54-3d78-415d-a26c-7a8937bc5b59",
        "trusted": true,
        "colab": {}
      },
      "source": [
        "sns.catplot(x='Embarked',y='Age',size=6,kind='box',data=total)\n",
        "#Conclusion : no special differenciation"
      ],
      "execution_count": 0,
      "outputs": [
        {
          "output_type": "execute_result",
          "data": {
            "text/plain": [
              "<seaborn.axisgrid.FacetGrid at 0x7f41da4440b8>"
            ]
          },
          "metadata": {
            "tags": []
          },
          "execution_count": 203
        },
        {
          "output_type": "display_data",
          "data": {
            "text/plain": [
              "<Figure size 432x432 with 1 Axes>"
            ],
            "image/png": "[encoded data removed]"
          },
          "metadata": {
            "tags": []
          }
        }
      ]
    },
    {
      "cell_type": "markdown",
      "metadata": {
        "colab_type": "text",
        "id": "DIjo3AP8n-Kb"
      },
      "source": [
        "## Sex + Fare"
      ]
    },
    {
      "cell_type": "code",
      "metadata": {
        "colab_type": "code",
        "id": "9bha4Avbdk7o",
        "outputId": "38b9b1ac-cbd4-4d47-ebdd-97ff7861567b",
        "trusted": true,
        "colab": {}
      },
      "source": [
        "sns.factorplot(x='Sex',y='Fare',size=6,kind='box',data=total)"
      ],
      "execution_count": 0,
      "outputs": [
        {
          "output_type": "execute_result",
          "data": {
            "text/plain": [
              "<seaborn.axisgrid.FacetGrid at 0x7f41da3d8da0>"
            ]
          },
          "metadata": {
            "tags": []
          },
          "execution_count": 204
        },
        {
          "output_type": "display_data",
          "data": {
            "text/plain": [
              "<Figure size 432x432 with 1 Axes>"
            ],
            "image/png": "[encoded data removed]"
          },
          "metadata": {
            "tags": []
          }
        }
      ]
    },
    {
      "cell_type": "markdown",
      "metadata": {
        "colab_type": "text",
        "id": "0EAFSMw62U0f"
      },
      "source": [
        "# 2. Feature Engineering"
      ]
    },
    {
      "cell_type": "markdown",
      "metadata": {
        "colab_type": "text",
        "id": "n63OUfcJFdwV"
      },
      "source": [
        "# 2.1 Name\n",
        "\n",
        "The reason that we extract the title is for filling missing Age and it will be used for value when we process modeling.<br>\n",
        "Name is consist of Title,first name,second name. We classify title of name into 5 titles like Mr, Mrs, Miss, Master, Rare.<br>\n",
        "Since the others are < 10 each of them so that we decide it would be better to combine all to Rare category.<br>"
      ]
    },
    {
      "cell_type": "code",
      "metadata": {
        "colab_type": "code",
        "id": "vPendhFvFqXt",
        "outputId": "b42e37a6-8111-424b-d4e1-5cc0a2f1fba5",
        "trusted": true,
        "colab": {}
      },
      "source": [
        "#Age Distirbution according to Title\n",
        "total['Title'] = total.Name.str.extract('([A-Za-z]+)\\.', expand=True)\n",
        "print(list(total.Title.unique()))\n",
        "print(total.Title.value_counts())\n",
        "\n"
      ],
      "execution_count": 0,
      "outputs": [
        {
          "output_type": "stream",
          "text": [
            "['Mr', 'Mrs', 'Miss', 'Master', 'Don', 'Rev', 'Dr', 'Mme', 'Ms', 'Major', 'Lady', 'Sir', 'Mlle', 'Col', 'Capt', 'Countess', 'Jonkheer', 'Dona']\n",
            "Mr          757\n",
            "Miss        260\n",
            "Mrs         197\n",
            "Master       61\n",
            "Dr            8\n",
            "Rev           8\n",
            "Col           4\n",
            "Major         2\n",
            "Mlle          2\n",
            "Ms            2\n",
            "Jonkheer      1\n",
            "Capt          1\n",
            "Dona          1\n",
            "Countess      1\n",
            "Mme           1\n",
            "Sir           1\n",
            "Lady          1\n",
            "Don           1\n",
            "Name: Title, dtype: int64\n"
          ],
          "name": "stdout"
        }
      ]
    },
    {
      "cell_type": "code",
      "metadata": {
        "id": "bgCts-xtGQNp",
        "colab_type": "code",
        "trusted": true,
        "colab": {},
        "outputId": "99b84f89-2880-4e47-df75-62ffce2b4cf5"
      },
      "source": [
        "total['Title'] = total['Title'].replace('Mlle', 'Miss')\n",
        "total['Title'] = total['Title'].replace(['Capt', 'Col','Countess',\n",
        "    'Don','Dona', 'Dr', 'Major','Mme','Ms','Lady','Sir', 'Rev', 'Jonkheer' ],'Rare')\n",
        "print(total.Title.value_counts())"
      ],
      "execution_count": 0,
      "outputs": [
        {
          "output_type": "stream",
          "text": [
            "Mr        757\n",
            "Miss      262\n",
            "Mrs       197\n",
            "Master     61\n",
            "Rare       32\n",
            "Name: Title, dtype: int64\n"
          ],
          "name": "stdout"
        }
      ]
    },
    {
      "cell_type": "markdown",
      "metadata": {
        "colab_type": "text",
        "id": "4z8JAmLHTZIK"
      },
      "source": [
        "# 2.2 Parch+SibSp->FamilySize"
      ]
    },
    {
      "cell_type": "markdown",
      "metadata": {
        "colab_type": "text",
        "id": "6I9kDvs2pVDt"
      },
      "source": [
        "We suppose Family size is important for  survival.As a result, 1 ~4 size of family survived more than others."
      ]
    },
    {
      "cell_type": "code",
      "metadata": {
        "colab_type": "code",
        "id": "nvtQW9VN51mt",
        "trusted": true,
        "colab": {}
      },
      "source": [
        "total['FamilySize'] = total['SibSp'] + total['Parch'] + 1"
      ],
      "execution_count": 0,
      "outputs": []
    },
    {
      "cell_type": "code",
      "metadata": {
        "colab_type": "code",
        "id": "iMdTCATB5ziB",
        "outputId": "d2d99b7e-80d7-476a-81e6-d5651ae9efac",
        "trusted": true,
        "colab": {}
      },
      "source": [
        "f,ax=plt.subplots(1,1,figsize=(15,4))\n",
        "sns.barplot('FamilySize','Survived',data=total,ax=ax)\n",
        "ax.set_title('FamilySize vs Survived')\n"
      ],
      "execution_count": 0,
      "outputs": [
        {
          "output_type": "execute_result",
          "data": {
            "text/plain": [
              "Text(0.5, 1.0, 'FamilySize vs Survived')"
            ]
          },
          "metadata": {
            "tags": []
          },
          "execution_count": 208
        },
        {
          "output_type": "display_data",
          "data": {
            "text/plain": [
              "<Figure size 1080x288 with 1 Axes>"
            ],
            "image/png": "[encoded data removed]"
          },
          "metadata": {
            "tags": []
          }
        }
      ]
    },
    {
      "cell_type": "code",
      "metadata": {
        "colab_type": "code",
        "id": "xI6hKB_52U0P",
        "trusted": true,
        "colab": {}
      },
      "source": [
        "total.loc[total['FamilySize'] == 1, 'FamilySize'] = 0\n",
        "total.loc[(total['FamilySize'] > 1) & (total['FamilySize'] <= 4), 'FamilySize'] = 1\n",
        "total.loc[(total['FamilySize'] > 4), 'FamilySize']   = 2"
      ],
      "execution_count": 0,
      "outputs": []
    },
    {
      "cell_type": "code",
      "metadata": {
        "colab_type": "code",
        "id": "Z7rQJaMr2U0W",
        "outputId": "273f7c7d-f780-4cd1-86f9-d92e1b9918f5",
        "trusted": true,
        "colab": {}
      },
      "source": [
        "total[['FamilySize', 'Survived']].groupby(['FamilySize']).mean().sort_values(by='Survived',ascending=False)"
      ],
      "execution_count": 0,
      "outputs": [
        {
          "output_type": "execute_result",
          "data": {
            "text/plain": [
              "            Survived\n",
              "FamilySize          \n",
              "1           0.578767\n",
              "0           0.303538\n",
              "2           0.161290"
            ],
            "text/html": [
              "<div>\n",
              "<style scoped>\n",
              "    .dataframe tbody tr th:only-of-type {\n",
              "        vertical-align: middle;\n",
              "    }\n",
              "\n",
              "    .dataframe tbody tr th {\n",
              "        vertical-align: top;\n",
              "    }\n",
              "\n",
              "    .dataframe thead th {\n",
              "        text-align: right;\n",
              "    }\n",
              "</style>\n",
              "<table border=\"1\" class=\"dataframe\">\n",
              "  <thead>\n",
              "    <tr style=\"text-align: right;\">\n",
              "      <th></th>\n",
              "      <th>Survived</th>\n",
              "    </tr>\n",
              "    <tr>\n",
              "      <th>FamilySize</th>\n",
              "      <th></th>\n",
              "    </tr>\n",
              "  </thead>\n",
              "  <tbody>\n",
              "    <tr>\n",
              "      <th>1</th>\n",
              "      <td>0.578767</td>\n",
              "    </tr>\n",
              "    <tr>\n",
              "      <th>0</th>\n",
              "      <td>0.303538</td>\n",
              "    </tr>\n",
              "    <tr>\n",
              "      <th>2</th>\n",
              "      <td>0.161290</td>\n",
              "    </tr>\n",
              "  </tbody>\n",
              "</table>\n",
              "</div>"
            ]
          },
          "metadata": {
            "tags": []
          },
          "execution_count": 210
        }
      ]
    },
    {
      "cell_type": "code",
      "metadata": {
        "colab_type": "code",
        "id": "UGCYQmcrqeCC",
        "trusted": true,
        "colab": {},
        "outputId": "907797ef-757e-4f39-e805-15bed8c00ddc"
      },
      "source": [
        "sns.heatmap(total.corr(),annot=True)"
      ],
      "execution_count": 0,
      "outputs": [
        {
          "output_type": "execute_result",
          "data": {
            "text/plain": [
              "<matplotlib.axes._subplots.AxesSubplot at 0x7f41d9bf02b0>"
            ]
          },
          "metadata": {
            "tags": []
          },
          "execution_count": 211
        },
        {
          "output_type": "display_data",
          "data": {
            "text/plain": [
              "<Figure size 432x288 with 2 Axes>"
            ],
            "image/png": "[encoded data removed]"
          },
          "metadata": {
            "tags": []
          }
        }
      ]
    },
    {
      "cell_type": "code",
      "metadata": {
        "colab_type": "code",
        "id": "lg2BNmbuktmN",
        "trusted": true,
        "colab": {}
      },
      "source": [
        "#Parchm SibSp del\n",
        "total = total.drop(['Parch','SibSp'], axis=1)"
      ],
      "execution_count": 0,
      "outputs": []
    },
    {
      "cell_type": "markdown",
      "metadata": {
        "colab_type": "text",
        "id": "Cg0iDUzO2U0i"
      },
      "source": [
        "# 3 Filling Missing Values\n",
        "\n",
        "These are missing values given below<br>\n",
        "\n",
        "Fare: 1 <br>\n",
        "Embarked: 2 <br>\n",
        "Age: 263 <br>\n",
        "Cabin: 1114 <br>\n"
      ]
    },
    {
      "cell_type": "markdown",
      "metadata": {
        "colab_type": "text",
        "id": "usNbzrkC2U0l"
      },
      "source": [
        "# 3.1 Fare"
      ]
    },
    {
      "cell_type": "markdown",
      "metadata": {
        "colab_type": "text",
        "id": "SfRYxKIx2U0n"
      },
      "source": [
        "Fill median without outliers, Because Fare distribution has high kurtosis"
      ]
    },
    {
      "cell_type": "code",
      "metadata": {
        "colab_type": "code",
        "id": "fiqC2ryKb55w",
        "outputId": "28a23d83-8d07-456c-f65b-ae6e698840f8",
        "trusted": true,
        "colab": {}
      },
      "source": [
        "total[total.Fare.isnull()]"
      ],
      "execution_count": 0,
      "outputs": [
        {
          "output_type": "execute_result",
          "data": {
            "text/plain": [
              "       Age Cabin Embarked  Fare    ...     Survived  Ticket  Title FamilySize\n",
              "1043  60.5   NaN        S   NaN    ...          NaN    3701     Mr          0\n",
              "\n",
              "[1 rows x 12 columns]"
            ],
            "text/html": [
              "<div>\n",
              "<style scoped>\n",
              "    .dataframe tbody tr th:only-of-type {\n",
              "        vertical-align: middle;\n",
              "    }\n",
              "\n",
              "    .dataframe tbody tr th {\n",
              "        vertical-align: top;\n",
              "    }\n",
              "\n",
              "    .dataframe thead th {\n",
              "        text-align: right;\n",
              "    }\n",
              "</style>\n",
              "<table border=\"1\" class=\"dataframe\">\n",
              "  <thead>\n",
              "    <tr style=\"text-align: right;\">\n",
              "      <th></th>\n",
              "      <th>Age</th>\n",
              "      <th>Cabin</th>\n",
              "      <th>Embarked</th>\n",
              "      <th>Fare</th>\n",
              "      <th>Name</th>\n",
              "      <th>PassengerId</th>\n",
              "      <th>Pclass</th>\n",
              "      <th>Sex</th>\n",
              "      <th>Survived</th>\n",
              "      <th>Ticket</th>\n",
              "      <th>Title</th>\n",
              "      <th>FamilySize</th>\n",
              "    </tr>\n",
              "  </thead>\n",
              "  <tbody>\n",
              "    <tr>\n",
              "      <th>1043</th>\n",
              "      <td>60.5</td>\n",
              "      <td>NaN</td>\n",
              "      <td>S</td>\n",
              "      <td>NaN</td>\n",
              "      <td>Storey, Mr. Thomas</td>\n",
              "      <td>1044</td>\n",
              "      <td>3</td>\n",
              "      <td>male</td>\n",
              "      <td>NaN</td>\n",
              "      <td>3701</td>\n",
              "      <td>Mr</td>\n",
              "      <td>0</td>\n",
              "    </tr>\n",
              "  </tbody>\n",
              "</table>\n",
              "</div>"
            ]
          },
          "metadata": {
            "tags": []
          },
          "execution_count": 213
        }
      ]
    },
    {
      "cell_type": "code",
      "metadata": {
        "colab_type": "code",
        "id": "-9ZdFTz9b-tH",
        "outputId": "5241982a-d141-4ccc-f40e-efc3d8bd2dcb",
        "trusted": true,
        "colab": {}
      },
      "source": [
        "sns.distplot(total.Fare[(total.Pclass==3) & (total.Fare.notnull())])"
      ],
      "execution_count": 0,
      "outputs": [
        {
          "output_type": "execute_result",
          "data": {
            "text/plain": [
              "<matplotlib.axes._subplots.AxesSubplot at 0x7f41d74cb7f0>"
            ]
          },
          "metadata": {
            "tags": []
          },
          "execution_count": 214
        },
        {
          "output_type": "display_data",
          "data": {
            "text/plain": [
              "<Figure size 432x288 with 1 Axes>"
            ],
            "image/png": "[encoded data removed]"
          },
          "metadata": {
            "tags": []
          }
        }
      ]
    },
    {
      "cell_type": "code",
      "metadata": {
        "colab_type": "code",
        "id": "BsdPe4Tv2U0q",
        "trusted": true,
        "colab": {}
      },
      "source": [
        "total['Fare'] = total.Fare.fillna(total[total['Pclass']==3]['Fare'].median())"
      ],
      "execution_count": 0,
      "outputs": []
    },
    {
      "cell_type": "code",
      "metadata": {
        "trusted": true,
        "id": "s3FiT2jgSPql",
        "colab_type": "code",
        "colab": {},
        "outputId": "aeb8c7ea-a69a-45c6-d42f-38bb9800432e"
      },
      "source": [
        "total.Fare.isnull().sum()"
      ],
      "execution_count": 0,
      "outputs": [
        {
          "output_type": "execute_result",
          "data": {
            "text/plain": [
              "0"
            ]
          },
          "metadata": {
            "tags": []
          },
          "execution_count": 216
        }
      ]
    },
    {
      "cell_type": "markdown",
      "metadata": {
        "colab_type": "text",
        "id": "QQXk5w8C2U0x"
      },
      "source": [
        "# 3.2 Embarked"
      ]
    },
    {
      "cell_type": "markdown",
      "metadata": {
        "colab_type": "text",
        "id": "_VBWmeVosB0D"
      },
      "source": [
        "Two women has 80 of Fare. So we look Embarked and Fare distribution.<br>\n",
        "Among 3 ports , C port has fare range including 80. SO we decide those women's port is 'C'"
      ]
    },
    {
      "cell_type": "code",
      "metadata": {
        "colab_type": "code",
        "id": "9Ow6Jhv82U0y",
        "outputId": "f765d17b-ae13-4bde-ed07-358fc2a18277",
        "trusted": true,
        "colab": {}
      },
      "source": [
        "total[total.Embarked.isnull()]"
      ],
      "execution_count": 0,
      "outputs": [
        {
          "output_type": "execute_result",
          "data": {
            "text/plain": [
              "      Age Cabin Embarked  Fare    ...     Survived  Ticket  Title FamilySize\n",
              "61   38.0   B28      NaN  80.0    ...          1.0  113572   Miss          0\n",
              "829  62.0   B28      NaN  80.0    ...          1.0  113572    Mrs          0\n",
              "\n",
              "[2 rows x 12 columns]"
            ],
            "text/html": [
              "<div>\n",
              "<style scoped>\n",
              "    .dataframe tbody tr th:only-of-type {\n",
              "        vertical-align: middle;\n",
              "    }\n",
              "\n",
              "    .dataframe tbody tr th {\n",
              "        vertical-align: top;\n",
              "    }\n",
              "\n",
              "    .dataframe thead th {\n",
              "        text-align: right;\n",
              "    }\n",
              "</style>\n",
              "<table border=\"1\" class=\"dataframe\">\n",
              "  <thead>\n",
              "    <tr style=\"text-align: right;\">\n",
              "      <th></th>\n",
              "      <th>Age</th>\n",
              "      <th>Cabin</th>\n",
              "      <th>Embarked</th>\n",
              "      <th>Fare</th>\n",
              "      <th>Name</th>\n",
              "      <th>PassengerId</th>\n",
              "      <th>Pclass</th>\n",
              "      <th>Sex</th>\n",
              "      <th>Survived</th>\n",
              "      <th>Ticket</th>\n",
              "      <th>Title</th>\n",
              "      <th>FamilySize</th>\n",
              "    </tr>\n",
              "  </thead>\n",
              "  <tbody>\n",
              "    <tr>\n",
              "      <th>61</th>\n",
              "      <td>38.0</td>\n",
              "      <td>B28</td>\n",
              "      <td>NaN</td>\n",
              "      <td>80.0</td>\n",
              "      <td>Icard, Miss. Amelie</td>\n",
              "      <td>62</td>\n",
              "      <td>1</td>\n",
              "      <td>female</td>\n",
              "      <td>1.0</td>\n",
              "      <td>113572</td>\n",
              "      <td>Miss</td>\n",
              "      <td>0</td>\n",
              "    </tr>\n",
              "    <tr>\n",
              "      <th>829</th>\n",
              "      <td>62.0</td>\n",
              "      <td>B28</td>\n",
              "      <td>NaN</td>\n",
              "      <td>80.0</td>\n",
              "      <td>Stone, Mrs. George Nelson (Martha Evelyn)</td>\n",
              "      <td>830</td>\n",
              "      <td>1</td>\n",
              "      <td>female</td>\n",
              "      <td>1.0</td>\n",
              "      <td>113572</td>\n",
              "      <td>Mrs</td>\n",
              "      <td>0</td>\n",
              "    </tr>\n",
              "  </tbody>\n",
              "</table>\n",
              "</div>"
            ]
          },
          "metadata": {
            "tags": []
          },
          "execution_count": 217
        }
      ]
    },
    {
      "cell_type": "code",
      "metadata": {
        "colab_type": "code",
        "id": "5v_K41SheBfC",
        "outputId": "51e89ed2-d99f-485b-ba30-50009252c3a6",
        "trusted": true,
        "colab": {}
      },
      "source": [
        "sns.catplot(x='Embarked',y='Fare',size=6,kind='box',data=total)"
      ],
      "execution_count": 0,
      "outputs": [
        {
          "output_type": "execute_result",
          "data": {
            "text/plain": [
              "<seaborn.axisgrid.FacetGrid at 0x7f41d75318d0>"
            ]
          },
          "metadata": {
            "tags": []
          },
          "execution_count": 218
        },
        {
          "output_type": "display_data",
          "data": {
            "text/plain": [
              "<Figure size 432x432 with 1 Axes>"
            ],
            "image/png": "[encoded data removed]"
          },
          "metadata": {
            "tags": []
          }
        }
      ]
    },
    {
      "cell_type": "code",
      "metadata": {
        "colab_type": "code",
        "id": "CkYSIMVX2U05",
        "trusted": true,
        "colab": {}
      },
      "source": [
        "total['Embarked'] = total.Embarked.fillna('C')"
      ],
      "execution_count": 0,
      "outputs": []
    },
    {
      "cell_type": "code",
      "metadata": {
        "trusted": true,
        "id": "wYhYVbR9SPq0",
        "colab_type": "code",
        "colab": {},
        "outputId": "def3215b-e2de-4e81-9b6f-77f15d7a4adf"
      },
      "source": [
        "total.Embarked.isnull().sum()"
      ],
      "execution_count": 0,
      "outputs": [
        {
          "output_type": "execute_result",
          "data": {
            "text/plain": [
              "0"
            ]
          },
          "metadata": {
            "tags": []
          },
          "execution_count": 220
        }
      ]
    },
    {
      "cell_type": "markdown",
      "metadata": {
        "colab_type": "text",
        "id": "z_gVN-SJ2U0_"
      },
      "source": [
        "# 3.3 Age"
      ]
    },
    {
      "cell_type": "markdown",
      "metadata": {
        "colab_type": "text",
        "id": "kzjGbYpytH9e"
      },
      "source": [
        "There is difference of age distribution depending on title.<br>\n",
        "So we fill age missing value according to mean age of title."
      ]
    },
    {
      "cell_type": "code",
      "metadata": {
        "colab_type": "code",
        "id": "SGOwjXZNFtRd",
        "outputId": "b6a7f782-3169-4f33-a5ca-006aad5631dd",
        "trusted": true,
        "colab": {}
      },
      "source": [
        "TotalAge = total[total.Age.isnull()==False]\n",
        "grid = sns.FacetGrid(TotalAge, col=\"Title\", hue=\"Title\",col_wrap=4)\n",
        "grid.map(sns.distplot, \"Age\")"
      ],
      "execution_count": 0,
      "outputs": [
        {
          "output_type": "execute_result",
          "data": {
            "text/plain": [
              "<seaborn.axisgrid.FacetGrid at 0x7f41d73eaa20>"
            ]
          },
          "metadata": {
            "tags": []
          },
          "execution_count": 221
        },
        {
          "output_type": "display_data",
          "data": {
            "text/plain": [
              "<Figure size 864x432 with 5 Axes>"
            ],
            "image/png": "[encoded data removed]"
          },
          "metadata": {
            "tags": []
          }
        }
      ]
    },
    {
      "cell_type": "code",
      "metadata": {
        "colab_type": "code",
        "id": "_j6ZgrB3ktnX",
        "outputId": "374c6eb3-a0a0-447a-a791-2bde2e34cbca",
        "trusted": true,
        "colab": {}
      },
      "source": [
        "total[['Title', 'Age']].groupby(['Title']).median().sort_values(by='Title',ascending=False)"
      ],
      "execution_count": 0,
      "outputs": [
        {
          "output_type": "execute_result",
          "data": {
            "text/plain": [
              "         Age\n",
              "Title       \n",
              "Rare    46.0\n",
              "Mrs     35.5\n",
              "Mr      29.0\n",
              "Miss    22.0\n",
              "Master   4.0"
            ],
            "text/html": [
              "<div>\n",
              "<style scoped>\n",
              "    .dataframe tbody tr th:only-of-type {\n",
              "        vertical-align: middle;\n",
              "    }\n",
              "\n",
              "    .dataframe tbody tr th {\n",
              "        vertical-align: top;\n",
              "    }\n",
              "\n",
              "    .dataframe thead th {\n",
              "        text-align: right;\n",
              "    }\n",
              "</style>\n",
              "<table border=\"1\" class=\"dataframe\">\n",
              "  <thead>\n",
              "    <tr style=\"text-align: right;\">\n",
              "      <th></th>\n",
              "      <th>Age</th>\n",
              "    </tr>\n",
              "    <tr>\n",
              "      <th>Title</th>\n",
              "      <th></th>\n",
              "    </tr>\n",
              "  </thead>\n",
              "  <tbody>\n",
              "    <tr>\n",
              "      <th>Rare</th>\n",
              "      <td>46.0</td>\n",
              "    </tr>\n",
              "    <tr>\n",
              "      <th>Mrs</th>\n",
              "      <td>35.5</td>\n",
              "    </tr>\n",
              "    <tr>\n",
              "      <th>Mr</th>\n",
              "      <td>29.0</td>\n",
              "    </tr>\n",
              "    <tr>\n",
              "      <th>Miss</th>\n",
              "      <td>22.0</td>\n",
              "    </tr>\n",
              "    <tr>\n",
              "      <th>Master</th>\n",
              "      <td>4.0</td>\n",
              "    </tr>\n",
              "  </tbody>\n",
              "</table>\n",
              "</div>"
            ]
          },
          "metadata": {
            "tags": []
          },
          "execution_count": 222
        }
      ]
    },
    {
      "cell_type": "code",
      "metadata": {
        "colab_type": "code",
        "id": "UOeV7JhNkozL",
        "trusted": true,
        "colab": {}
      },
      "source": [
        "total['Age']=total.groupby('Title').transform(lambda x:x.fillna(x.median()))"
      ],
      "execution_count": 0,
      "outputs": []
    },
    {
      "cell_type": "markdown",
      "metadata": {
        "colab_type": "text",
        "id": "496xd9Pwktnk"
      },
      "source": [
        "# 4 Data Categorization & Dummy"
      ]
    },
    {
      "cell_type": "markdown",
      "metadata": {
        "id": "te7J8SRvD0Ez",
        "colab_type": "text"
      },
      "source": [
        "We dicide to use Age, Embarked, Fare, Plcass, Sex and FamilySize for feature engineering.<br>\n",
        "The reason of dropping the others:<br>\n",
        "<pre>\n",
        "Cabin: Most of Cabins are missing\n",
        "Name: We already extracted title\n",
        "Ticket: We weren't able to find out encrypted meaning inside.\n",
        "</pre>"
      ]
    },
    {
      "cell_type": "code",
      "metadata": {
        "colab_type": "code",
        "id": "0jzksdVqktn6",
        "scrolled": true,
        "trusted": true,
        "colab": {}
      },
      "source": [
        "total = total.drop(['Cabin','Name','Ticket'], axis=1)"
      ],
      "execution_count": 0,
      "outputs": []
    },
    {
      "cell_type": "code",
      "metadata": {
        "colab_type": "code",
        "id": "4PPuQAHNktoF",
        "outputId": "983c0b83-1dfb-43ed-d154-1e525aefd9da",
        "trusted": true,
        "colab": {}
      },
      "source": [
        "total.head()"
      ],
      "execution_count": 0,
      "outputs": [
        {
          "output_type": "execute_result",
          "data": {
            "text/plain": [
              "    Age Embarked     Fare    ...      Survived  Title FamilySize\n",
              "0  22.0        S   7.2500    ...           0.0     Mr          1\n",
              "1  38.0        C  71.2833    ...           1.0    Mrs          1\n",
              "2  26.0        S   7.9250    ...           1.0   Miss          0\n",
              "3  35.0        S  53.1000    ...           1.0    Mrs          1\n",
              "4  35.0        S   8.0500    ...           0.0     Mr          0\n",
              "\n",
              "[5 rows x 9 columns]"
            ],
            "text/html": [
              "<div>\n",
              "<style scoped>\n",
              "    .dataframe tbody tr th:only-of-type {\n",
              "        vertical-align: middle;\n",
              "    }\n",
              "\n",
              "    .dataframe tbody tr th {\n",
              "        vertical-align: top;\n",
              "    }\n",
              "\n",
              "    .dataframe thead th {\n",
              "        text-align: right;\n",
              "    }\n",
              "</style>\n",
              "<table border=\"1\" class=\"dataframe\">\n",
              "  <thead>\n",
              "    <tr style=\"text-align: right;\">\n",
              "      <th></th>\n",
              "      <th>Age</th>\n",
              "      <th>Embarked</th>\n",
              "      <th>Fare</th>\n",
              "      <th>PassengerId</th>\n",
              "      <th>Pclass</th>\n",
              "      <th>Sex</th>\n",
              "      <th>Survived</th>\n",
              "      <th>Title</th>\n",
              "      <th>FamilySize</th>\n",
              "    </tr>\n",
              "  </thead>\n",
              "  <tbody>\n",
              "    <tr>\n",
              "      <th>0</th>\n",
              "      <td>22.0</td>\n",
              "      <td>S</td>\n",
              "      <td>7.2500</td>\n",
              "      <td>1</td>\n",
              "      <td>3</td>\n",
              "      <td>male</td>\n",
              "      <td>0.0</td>\n",
              "      <td>Mr</td>\n",
              "      <td>1</td>\n",
              "    </tr>\n",
              "    <tr>\n",
              "      <th>1</th>\n",
              "      <td>38.0</td>\n",
              "      <td>C</td>\n",
              "      <td>71.2833</td>\n",
              "      <td>2</td>\n",
              "      <td>1</td>\n",
              "      <td>female</td>\n",
              "      <td>1.0</td>\n",
              "      <td>Mrs</td>\n",
              "      <td>1</td>\n",
              "    </tr>\n",
              "    <tr>\n",
              "      <th>2</th>\n",
              "      <td>26.0</td>\n",
              "      <td>S</td>\n",
              "      <td>7.9250</td>\n",
              "      <td>3</td>\n",
              "      <td>3</td>\n",
              "      <td>female</td>\n",
              "      <td>1.0</td>\n",
              "      <td>Miss</td>\n",
              "      <td>0</td>\n",
              "    </tr>\n",
              "    <tr>\n",
              "      <th>3</th>\n",
              "      <td>35.0</td>\n",
              "      <td>S</td>\n",
              "      <td>53.1000</td>\n",
              "      <td>4</td>\n",
              "      <td>1</td>\n",
              "      <td>female</td>\n",
              "      <td>1.0</td>\n",
              "      <td>Mrs</td>\n",
              "      <td>1</td>\n",
              "    </tr>\n",
              "    <tr>\n",
              "      <th>4</th>\n",
              "      <td>35.0</td>\n",
              "      <td>S</td>\n",
              "      <td>8.0500</td>\n",
              "      <td>5</td>\n",
              "      <td>3</td>\n",
              "      <td>male</td>\n",
              "      <td>0.0</td>\n",
              "      <td>Mr</td>\n",
              "      <td>0</td>\n",
              "    </tr>\n",
              "  </tbody>\n",
              "</table>\n",
              "</div>"
            ]
          },
          "metadata": {
            "tags": []
          },
          "execution_count": 225
        }
      ]
    },
    {
      "cell_type": "markdown",
      "metadata": {
        "colab_type": "text",
        "id": "C9acYgotktoW"
      },
      "source": [
        "# 4.1 Sex"
      ]
    },
    {
      "cell_type": "markdown",
      "metadata": {
        "id": "fm6vS0o6D0FG",
        "colab_type": "text"
      },
      "source": [
        "We classify Female to 1 and Male to 0"
      ]
    },
    {
      "cell_type": "code",
      "metadata": {
        "colab_type": "code",
        "id": "slfdF9Ctktoe",
        "outputId": "882f2cb8-0883-4f1c-8ded-adbd9b27bd0c",
        "trusted": true,
        "colab": {}
      },
      "source": [
        "total['Sex'] = total['Sex'].map( {'female': 1, 'male': 0} ).astype(int)\n",
        "total.head()"
      ],
      "execution_count": 0,
      "outputs": [
        {
          "output_type": "execute_result",
          "data": {
            "text/plain": [
              "    Age Embarked     Fare     ...      Survived  Title  FamilySize\n",
              "0  22.0        S   7.2500     ...           0.0     Mr           1\n",
              "1  38.0        C  71.2833     ...           1.0    Mrs           1\n",
              "2  26.0        S   7.9250     ...           1.0   Miss           0\n",
              "3  35.0        S  53.1000     ...           1.0    Mrs           1\n",
              "4  35.0        S   8.0500     ...           0.0     Mr           0\n",
              "\n",
              "[5 rows x 9 columns]"
            ],
            "text/html": [
              "<div>\n",
              "<style scoped>\n",
              "    .dataframe tbody tr th:only-of-type {\n",
              "        vertical-align: middle;\n",
              "    }\n",
              "\n",
              "    .dataframe tbody tr th {\n",
              "        vertical-align: top;\n",
              "    }\n",
              "\n",
              "    .dataframe thead th {\n",
              "        text-align: right;\n",
              "    }\n",
              "</style>\n",
              "<table border=\"1\" class=\"dataframe\">\n",
              "  <thead>\n",
              "    <tr style=\"text-align: right;\">\n",
              "      <th></th>\n",
              "      <th>Age</th>\n",
              "      <th>Embarked</th>\n",
              "      <th>Fare</th>\n",
              "      <th>PassengerId</th>\n",
              "      <th>Pclass</th>\n",
              "      <th>Sex</th>\n",
              "      <th>Survived</th>\n",
              "      <th>Title</th>\n",
              "      <th>FamilySize</th>\n",
              "    </tr>\n",
              "  </thead>\n",
              "  <tbody>\n",
              "    <tr>\n",
              "      <th>0</th>\n",
              "      <td>22.0</td>\n",
              "      <td>S</td>\n",
              "      <td>7.2500</td>\n",
              "      <td>1</td>\n",
              "      <td>3</td>\n",
              "      <td>0</td>\n",
              "      <td>0.0</td>\n",
              "      <td>Mr</td>\n",
              "      <td>1</td>\n",
              "    </tr>\n",
              "    <tr>\n",
              "      <th>1</th>\n",
              "      <td>38.0</td>\n",
              "      <td>C</td>\n",
              "      <td>71.2833</td>\n",
              "      <td>2</td>\n",
              "      <td>1</td>\n",
              "      <td>1</td>\n",
              "      <td>1.0</td>\n",
              "      <td>Mrs</td>\n",
              "      <td>1</td>\n",
              "    </tr>\n",
              "    <tr>\n",
              "      <th>2</th>\n",
              "      <td>26.0</td>\n",
              "      <td>S</td>\n",
              "      <td>7.9250</td>\n",
              "      <td>3</td>\n",
              "      <td>3</td>\n",
              "      <td>1</td>\n",
              "      <td>1.0</td>\n",
              "      <td>Miss</td>\n",
              "      <td>0</td>\n",
              "    </tr>\n",
              "    <tr>\n",
              "      <th>3</th>\n",
              "      <td>35.0</td>\n",
              "      <td>S</td>\n",
              "      <td>53.1000</td>\n",
              "      <td>4</td>\n",
              "      <td>1</td>\n",
              "      <td>1</td>\n",
              "      <td>1.0</td>\n",
              "      <td>Mrs</td>\n",
              "      <td>1</td>\n",
              "    </tr>\n",
              "    <tr>\n",
              "      <th>4</th>\n",
              "      <td>35.0</td>\n",
              "      <td>S</td>\n",
              "      <td>8.0500</td>\n",
              "      <td>5</td>\n",
              "      <td>3</td>\n",
              "      <td>0</td>\n",
              "      <td>0.0</td>\n",
              "      <td>Mr</td>\n",
              "      <td>0</td>\n",
              "    </tr>\n",
              "  </tbody>\n",
              "</table>\n",
              "</div>"
            ]
          },
          "metadata": {
            "tags": []
          },
          "execution_count": 226
        }
      ]
    },
    {
      "cell_type": "markdown",
      "metadata": {
        "colab_type": "text",
        "id": "WfsUun7ektop"
      },
      "source": [
        "# 4.2 Embarked"
      ]
    },
    {
      "cell_type": "markdown",
      "metadata": {
        "id": "-e4tY7hbD0FW",
        "colab_type": "text"
      },
      "source": [
        "We use get_dummies in Pandas for processing Embarked"
      ]
    },
    {
      "cell_type": "code",
      "metadata": {
        "colab_type": "code",
        "id": "QWdSg8J0kto0",
        "outputId": "b4b177d5-bad6-4a63-88fe-8e41459b1616",
        "trusted": true,
        "colab": {}
      },
      "source": [
        "total[\"Embarked\"] = total[\"Embarked\"].astype(\"category\")\n",
        "total = pd.get_dummies(total, columns = [\"Embarked\"],prefix=\"Embarked\")\n",
        "total.head()"
      ],
      "execution_count": 0,
      "outputs": [
        {
          "output_type": "execute_result",
          "data": {
            "text/plain": [
              "    Age     Fare  PassengerId     ...      Embarked_C  Embarked_Q  Embarked_S\n",
              "0  22.0   7.2500            1     ...               0           0           1\n",
              "1  38.0  71.2833            2     ...               1           0           0\n",
              "2  26.0   7.9250            3     ...               0           0           1\n",
              "3  35.0  53.1000            4     ...               0           0           1\n",
              "4  35.0   8.0500            5     ...               0           0           1\n",
              "\n",
              "[5 rows x 11 columns]"
            ],
            "text/html": [
              "<div>\n",
              "<style scoped>\n",
              "    .dataframe tbody tr th:only-of-type {\n",
              "        vertical-align: middle;\n",
              "    }\n",
              "\n",
              "    .dataframe tbody tr th {\n",
              "        vertical-align: top;\n",
              "    }\n",
              "\n",
              "    .dataframe thead th {\n",
              "        text-align: right;\n",
              "    }\n",
              "</style>\n",
              "<table border=\"1\" class=\"dataframe\">\n",
              "  <thead>\n",
              "    <tr style=\"text-align: right;\">\n",
              "      <th></th>\n",
              "      <th>Age</th>\n",
              "      <th>Fare</th>\n",
              "      <th>PassengerId</th>\n",
              "      <th>Pclass</th>\n",
              "      <th>Sex</th>\n",
              "      <th>Survived</th>\n",
              "      <th>Title</th>\n",
              "      <th>FamilySize</th>\n",
              "      <th>Embarked_C</th>\n",
              "      <th>Embarked_Q</th>\n",
              "      <th>Embarked_S</th>\n",
              "    </tr>\n",
              "  </thead>\n",
              "  <tbody>\n",
              "    <tr>\n",
              "      <th>0</th>\n",
              "      <td>22.0</td>\n",
              "      <td>7.2500</td>\n",
              "      <td>1</td>\n",
              "      <td>3</td>\n",
              "      <td>0</td>\n",
              "      <td>0.0</td>\n",
              "      <td>Mr</td>\n",
              "      <td>1</td>\n",
              "      <td>0</td>\n",
              "      <td>0</td>\n",
              "      <td>1</td>\n",
              "    </tr>\n",
              "    <tr>\n",
              "      <th>1</th>\n",
              "      <td>38.0</td>\n",
              "      <td>71.2833</td>\n",
              "      <td>2</td>\n",
              "      <td>1</td>\n",
              "      <td>1</td>\n",
              "      <td>1.0</td>\n",
              "      <td>Mrs</td>\n",
              "      <td>1</td>\n",
              "      <td>1</td>\n",
              "      <td>0</td>\n",
              "      <td>0</td>\n",
              "    </tr>\n",
              "    <tr>\n",
              "      <th>2</th>\n",
              "      <td>26.0</td>\n",
              "      <td>7.9250</td>\n",
              "      <td>3</td>\n",
              "      <td>3</td>\n",
              "      <td>1</td>\n",
              "      <td>1.0</td>\n",
              "      <td>Miss</td>\n",
              "      <td>0</td>\n",
              "      <td>0</td>\n",
              "      <td>0</td>\n",
              "      <td>1</td>\n",
              "    </tr>\n",
              "    <tr>\n",
              "      <th>3</th>\n",
              "      <td>35.0</td>\n",
              "      <td>53.1000</td>\n",
              "      <td>4</td>\n",
              "      <td>1</td>\n",
              "      <td>1</td>\n",
              "      <td>1.0</td>\n",
              "      <td>Mrs</td>\n",
              "      <td>1</td>\n",
              "      <td>0</td>\n",
              "      <td>0</td>\n",
              "      <td>1</td>\n",
              "    </tr>\n",
              "    <tr>\n",
              "      <th>4</th>\n",
              "      <td>35.0</td>\n",
              "      <td>8.0500</td>\n",
              "      <td>5</td>\n",
              "      <td>3</td>\n",
              "      <td>0</td>\n",
              "      <td>0.0</td>\n",
              "      <td>Mr</td>\n",
              "      <td>0</td>\n",
              "      <td>0</td>\n",
              "      <td>0</td>\n",
              "      <td>1</td>\n",
              "    </tr>\n",
              "  </tbody>\n",
              "</table>\n",
              "</div>"
            ]
          },
          "metadata": {
            "tags": []
          },
          "execution_count": 227
        }
      ]
    },
    {
      "cell_type": "markdown",
      "metadata": {
        "colab_type": "text",
        "id": "ETseNxJtkto6"
      },
      "source": [
        "# 4.3 Pclass"
      ]
    },
    {
      "cell_type": "code",
      "metadata": {
        "colab_type": "code",
        "id": "agRO72J8ktpL",
        "outputId": "011cc344-de27-4ba8-8a5c-920ec3415a65",
        "trusted": true,
        "colab": {}
      },
      "source": [
        "total[\"Pclass\"] = total[\"Pclass\"].astype(\"category\")\n",
        "total = pd.get_dummies(total, columns = [\"Pclass\"],prefix=\"Pclass\")\n",
        "total.head()"
      ],
      "execution_count": 0,
      "outputs": [
        {
          "output_type": "execute_result",
          "data": {
            "text/plain": [
              "    Age     Fare  PassengerId   ...     Pclass_1  Pclass_2 Pclass_3\n",
              "0  22.0   7.2500            1   ...            0         0        1\n",
              "1  38.0  71.2833            2   ...            1         0        0\n",
              "2  26.0   7.9250            3   ...            0         0        1\n",
              "3  35.0  53.1000            4   ...            1         0        0\n",
              "4  35.0   8.0500            5   ...            0         0        1\n",
              "\n",
              "[5 rows x 13 columns]"
            ],
            "text/html": [
              "<div>\n",
              "<style scoped>\n",
              "    .dataframe tbody tr th:only-of-type {\n",
              "        vertical-align: middle;\n",
              "    }\n",
              "\n",
              "    .dataframe tbody tr th {\n",
              "        vertical-align: top;\n",
              "    }\n",
              "\n",
              "    .dataframe thead th {\n",
              "        text-align: right;\n",
              "    }\n",
              "</style>\n",
              "<table border=\"1\" class=\"dataframe\">\n",
              "  <thead>\n",
              "    <tr style=\"text-align: right;\">\n",
              "      <th></th>\n",
              "      <th>Age</th>\n",
              "      <th>Fare</th>\n",
              "      <th>PassengerId</th>\n",
              "      <th>Sex</th>\n",
              "      <th>Survived</th>\n",
              "      <th>Title</th>\n",
              "      <th>FamilySize</th>\n",
              "      <th>Embarked_C</th>\n",
              "      <th>Embarked_Q</th>\n",
              "      <th>Embarked_S</th>\n",
              "      <th>Pclass_1</th>\n",
              "      <th>Pclass_2</th>\n",
              "      <th>Pclass_3</th>\n",
              "    </tr>\n",
              "  </thead>\n",
              "  <tbody>\n",
              "    <tr>\n",
              "      <th>0</th>\n",
              "      <td>22.0</td>\n",
              "      <td>7.2500</td>\n",
              "      <td>1</td>\n",
              "      <td>0</td>\n",
              "      <td>0.0</td>\n",
              "      <td>Mr</td>\n",
              "      <td>1</td>\n",
              "      <td>0</td>\n",
              "      <td>0</td>\n",
              "      <td>1</td>\n",
              "      <td>0</td>\n",
              "      <td>0</td>\n",
              "      <td>1</td>\n",
              "    </tr>\n",
              "    <tr>\n",
              "      <th>1</th>\n",
              "      <td>38.0</td>\n",
              "      <td>71.2833</td>\n",
              "      <td>2</td>\n",
              "      <td>1</td>\n",
              "      <td>1.0</td>\n",
              "      <td>Mrs</td>\n",
              "      <td>1</td>\n",
              "      <td>1</td>\n",
              "      <td>0</td>\n",
              "      <td>0</td>\n",
              "      <td>1</td>\n",
              "      <td>0</td>\n",
              "      <td>0</td>\n",
              "    </tr>\n",
              "    <tr>\n",
              "      <th>2</th>\n",
              "      <td>26.0</td>\n",
              "      <td>7.9250</td>\n",
              "      <td>3</td>\n",
              "      <td>1</td>\n",
              "      <td>1.0</td>\n",
              "      <td>Miss</td>\n",
              "      <td>0</td>\n",
              "      <td>0</td>\n",
              "      <td>0</td>\n",
              "      <td>1</td>\n",
              "      <td>0</td>\n",
              "      <td>0</td>\n",
              "      <td>1</td>\n",
              "    </tr>\n",
              "    <tr>\n",
              "      <th>3</th>\n",
              "      <td>35.0</td>\n",
              "      <td>53.1000</td>\n",
              "      <td>4</td>\n",
              "      <td>1</td>\n",
              "      <td>1.0</td>\n",
              "      <td>Mrs</td>\n",
              "      <td>1</td>\n",
              "      <td>0</td>\n",
              "      <td>0</td>\n",
              "      <td>1</td>\n",
              "      <td>1</td>\n",
              "      <td>0</td>\n",
              "      <td>0</td>\n",
              "    </tr>\n",
              "    <tr>\n",
              "      <th>4</th>\n",
              "      <td>35.0</td>\n",
              "      <td>8.0500</td>\n",
              "      <td>5</td>\n",
              "      <td>0</td>\n",
              "      <td>0.0</td>\n",
              "      <td>Mr</td>\n",
              "      <td>0</td>\n",
              "      <td>0</td>\n",
              "      <td>0</td>\n",
              "      <td>1</td>\n",
              "      <td>0</td>\n",
              "      <td>0</td>\n",
              "      <td>1</td>\n",
              "    </tr>\n",
              "  </tbody>\n",
              "</table>\n",
              "</div>"
            ]
          },
          "metadata": {
            "tags": []
          },
          "execution_count": 228
        }
      ]
    },
    {
      "cell_type": "markdown",
      "metadata": {
        "colab_type": "text",
        "id": "Fek-zWq2biIN"
      },
      "source": [
        "# 4.4 Title"
      ]
    },
    {
      "cell_type": "code",
      "metadata": {
        "colab_type": "code",
        "id": "bYUkdcLsbiIP",
        "trusted": true,
        "colab": {}
      },
      "source": [
        "total[\"Title\"] = total[\"Title\"].astype(\"category\")\n",
        "total = pd.get_dummies(total, columns = [\"Title\"],prefix=\"Title\")"
      ],
      "execution_count": 0,
      "outputs": []
    },
    {
      "cell_type": "markdown",
      "metadata": {
        "colab_type": "text",
        "id": "wvRzy_cMktpb"
      },
      "source": [
        "# 4.5 FamilySize"
      ]
    },
    {
      "cell_type": "markdown",
      "metadata": {
        "id": "wqwb-I-qD0GM",
        "colab_type": "text"
      },
      "source": [
        "We already categorized FamilySize, We renamed them as Family_Single,Small and Large"
      ]
    },
    {
      "cell_type": "code",
      "metadata": {
        "colab_type": "code",
        "id": "J7GJ2Xthktpf",
        "outputId": "fc133bb7-666c-4b10-9b19-6d903b63611e",
        "trusted": true,
        "colab": {}
      },
      "source": [
        "total[ 'Family_Single' ] = total[ 'FamilySize' ].map( lambda s : 1 if s == 0 else 0 )\n",
        "total[ 'Family_Small' ]  = total[ 'FamilySize' ].map( lambda s : 1 if s == 1 else 0 )\n",
        "total[ 'Family_Large' ]  = total[ 'FamilySize' ].map( lambda s : 1 if s == 2 else 0 )\n",
        "\n",
        "total = total.drop(['FamilySize'], axis=1)\n",
        "total.head()"
      ],
      "execution_count": 0,
      "outputs": [
        {
          "output_type": "execute_result",
          "data": {
            "text/plain": [
              "    Age     Fare      ...       Family_Small  Family_Large\n",
              "0  22.0   7.2500      ...                  1             0\n",
              "1  38.0  71.2833      ...                  1             0\n",
              "2  26.0   7.9250      ...                  0             0\n",
              "3  35.0  53.1000      ...                  1             0\n",
              "4  35.0   8.0500      ...                  0             0\n",
              "\n",
              "[5 rows x 19 columns]"
            ],
            "text/html": [
              "<div>\n",
              "<style scoped>\n",
              "    .dataframe tbody tr th:only-of-type {\n",
              "        vertical-align: middle;\n",
              "    }\n",
              "\n",
              "    .dataframe tbody tr th {\n",
              "        vertical-align: top;\n",
              "    }\n",
              "\n",
              "    .dataframe thead th {\n",
              "        text-align: right;\n",
              "    }\n",
              "</style>\n",
              "<table border=\"1\" class=\"dataframe\">\n",
              "  <thead>\n",
              "    <tr style=\"text-align: right;\">\n",
              "      <th></th>\n",
              "      <th>Age</th>\n",
              "      <th>Fare</th>\n",
              "      <th>PassengerId</th>\n",
              "      <th>Sex</th>\n",
              "      <th>Survived</th>\n",
              "      <th>Embarked_C</th>\n",
              "      <th>Embarked_Q</th>\n",
              "      <th>Embarked_S</th>\n",
              "      <th>Pclass_1</th>\n",
              "      <th>Pclass_2</th>\n",
              "      <th>Pclass_3</th>\n",
              "      <th>Title_Master</th>\n",
              "      <th>Title_Miss</th>\n",
              "      <th>Title_Mr</th>\n",
              "      <th>Title_Mrs</th>\n",
              "      <th>Title_Rare</th>\n",
              "      <th>Family_Single</th>\n",
              "      <th>Family_Small</th>\n",
              "      <th>Family_Large</th>\n",
              "    </tr>\n",
              "  </thead>\n",
              "  <tbody>\n",
              "    <tr>\n",
              "      <th>0</th>\n",
              "      <td>22.0</td>\n",
              "      <td>7.2500</td>\n",
              "      <td>1</td>\n",
              "      <td>0</td>\n",
              "      <td>0.0</td>\n",
              "      <td>0</td>\n",
              "      <td>0</td>\n",
              "      <td>1</td>\n",
              "      <td>0</td>\n",
              "      <td>0</td>\n",
              "      <td>1</td>\n",
              "      <td>0</td>\n",
              "      <td>0</td>\n",
              "      <td>1</td>\n",
              "      <td>0</td>\n",
              "      <td>0</td>\n",
              "      <td>0</td>\n",
              "      <td>1</td>\n",
              "      <td>0</td>\n",
              "    </tr>\n",
              "    <tr>\n",
              "      <th>1</th>\n",
              "      <td>38.0</td>\n",
              "      <td>71.2833</td>\n",
              "      <td>2</td>\n",
              "      <td>1</td>\n",
              "      <td>1.0</td>\n",
              "      <td>1</td>\n",
              "      <td>0</td>\n",
              "      <td>0</td>\n",
              "      <td>1</td>\n",
              "      <td>0</td>\n",
              "      <td>0</td>\n",
              "      <td>0</td>\n",
              "      <td>0</td>\n",
              "      <td>0</td>\n",
              "      <td>1</td>\n",
              "      <td>0</td>\n",
              "      <td>0</td>\n",
              "      <td>1</td>\n",
              "      <td>0</td>\n",
              "    </tr>\n",
              "    <tr>\n",
              "      <th>2</th>\n",
              "      <td>26.0</td>\n",
              "      <td>7.9250</td>\n",
              "      <td>3</td>\n",
              "      <td>1</td>\n",
              "      <td>1.0</td>\n",
              "      <td>0</td>\n",
              "      <td>0</td>\n",
              "      <td>1</td>\n",
              "      <td>0</td>\n",
              "      <td>0</td>\n",
              "      <td>1</td>\n",
              "      <td>0</td>\n",
              "      <td>1</td>\n",
              "      <td>0</td>\n",
              "      <td>0</td>\n",
              "      <td>0</td>\n",
              "      <td>1</td>\n",
              "      <td>0</td>\n",
              "      <td>0</td>\n",
              "    </tr>\n",
              "    <tr>\n",
              "      <th>3</th>\n",
              "      <td>35.0</td>\n",
              "      <td>53.1000</td>\n",
              "      <td>4</td>\n",
              "      <td>1</td>\n",
              "      <td>1.0</td>\n",
              "      <td>0</td>\n",
              "      <td>0</td>\n",
              "      <td>1</td>\n",
              "      <td>1</td>\n",
              "      <td>0</td>\n",
              "      <td>0</td>\n",
              "      <td>0</td>\n",
              "      <td>0</td>\n",
              "      <td>0</td>\n",
              "      <td>1</td>\n",
              "      <td>0</td>\n",
              "      <td>0</td>\n",
              "      <td>1</td>\n",
              "      <td>0</td>\n",
              "    </tr>\n",
              "    <tr>\n",
              "      <th>4</th>\n",
              "      <td>35.0</td>\n",
              "      <td>8.0500</td>\n",
              "      <td>5</td>\n",
              "      <td>0</td>\n",
              "      <td>0.0</td>\n",
              "      <td>0</td>\n",
              "      <td>0</td>\n",
              "      <td>1</td>\n",
              "      <td>0</td>\n",
              "      <td>0</td>\n",
              "      <td>1</td>\n",
              "      <td>0</td>\n",
              "      <td>0</td>\n",
              "      <td>1</td>\n",
              "      <td>0</td>\n",
              "      <td>0</td>\n",
              "      <td>1</td>\n",
              "      <td>0</td>\n",
              "      <td>0</td>\n",
              "    </tr>\n",
              "  </tbody>\n",
              "</table>\n",
              "</div>"
            ]
          },
          "metadata": {
            "tags": []
          },
          "execution_count": 230
        }
      ]
    },
    {
      "cell_type": "markdown",
      "metadata": {
        "colab_type": "text",
        "id": "6_pZu9ctktpx"
      },
      "source": [
        "# 5 Modeling"
      ]
    },
    {
      "cell_type": "markdown",
      "metadata": {
        "id": "jRaFQ_8fD0Gc",
        "colab_type": "text"
      },
      "source": [
        "\n",
        "Almost done!  We've just finised feature engineering, now we need to adjust several models.<br>\n",
        "<pre>\n",
        "train: train set\n",
        "y_train: only Survived values of train set\n",
        "x_train: all values except for Survived\n",
        "test: test set\n",
        "</pre>\n",
        "\n",
        "We split the train set into train and test again for testing"
      ]
    },
    {
      "cell_type": "code",
      "metadata": {
        "colab_type": "code",
        "id": "P3fyYkp6ktp1",
        "trusted": true,
        "colab": {}
      },
      "source": [
        "del train,test\n",
        "train=total[:891];test=total[891:];test_id=test['PassengerId'];test=test.drop(['Survived','PassengerId'],1)\n",
        "y_train=train['Survived'];x_train=train.drop(['Survived','PassengerId'],1)\n",
        "\n",
        "x_train1, x_test, y_train1, y_test = train_test_split(x_train, y_train, random_state=0)\n",
        "del total,train"
      ],
      "execution_count": 0,
      "outputs": []
    },
    {
      "cell_type": "markdown",
      "metadata": {
        "colab_type": "text",
        "id": "vkP7h0p0u4at"
      },
      "source": [
        "# 5.1 Cross-Validation"
      ]
    },
    {
      "cell_type": "code",
      "metadata": {
        "colab_type": "code",
        "id": "56WdP6rfktp7",
        "outputId": "02548555-83f6-4272-b443-ae4d0c4ec6db",
        "trusted": true,
        "colab": {}
      },
      "source": [
        "random_state = 0\n",
        "kfold = KFold(n_splits=5, shuffle=True, random_state=random_state)\n",
        "\n",
        "classifiers = []\n",
        "classifiers.append(SVC(random_state=random_state))\n",
        "classifiers.append(DecisionTreeClassifier(random_state=random_state))\n",
        "classifiers.append(RandomForestClassifier(random_state=random_state))\n",
        "classifiers.append(KNeighborsClassifier())\n",
        "classifiers.append(LogisticRegression(random_state = random_state))\n",
        "\n",
        "\n",
        "cv_means = [];cv_stds= []\n",
        "for classifier in classifiers :\n",
        "    result=cross_val_score(classifier, x_train, y_train, scoring = \"accuracy\", cv = kfold)\n",
        "    cv_means.append(result.mean());cv_stds.append(result.std())\n",
        "    \n",
        "cv_df= pd.DataFrame({\"Means\":cv_means,\"Stds\": cv_stds,\"Algorithm\":[\"SVC\",\"DecisionTree\",\"RandomForest\",\"KNeighboors\",\"LogisticRegression\"]})\n",
        "\n",
        "g = sns.barplot(\"Means\",\"Algorithm\",data = cv_df,orient = \"h\",**{'xerr':cv_stds})\n",
        "g.set_xlabel(\"Mean Accuracy\")\n",
        "g = g.set_title(\"Cross validation scores\")"
      ],
      "execution_count": 0,
      "outputs": [
        {
          "output_type": "display_data",
          "data": {
            "text/plain": [
              "<Figure size 432x288 with 1 Axes>"
            ],
            "image/png": "[encoded data removed]"
          },
          "metadata": {
            "tags": []
          }
        }
      ]
    },
    {
      "cell_type": "markdown",
      "metadata": {
        "colab_type": "text",
        "id": "dsJWqtNXu-BX"
      },
      "source": [
        "# 5.2 Tunning Parameters"
      ]
    },
    {
      "cell_type": "code",
      "metadata": {
        "colab_type": "code",
        "id": "YPm69IJ4HUZ8",
        "trusted": true,
        "colab": {},
        "outputId": "0f5c2f87-59a3-4982-f4bf-0ab004c75857"
      },
      "source": [
        "#Logistic Regression\n",
        "param_grid = {'C': [0.001, 0.01, 0.1, 1, 10, 100]}\n",
        "\n",
        "grid_search = GridSearchCV(LogisticRegression(), param_grid, cv=5,n_jobs=-1,return_train_score=True)\n",
        "\n",
        "grid_search.fit(x_train1, y_train1)\n",
        "print(\"Test score: {}\".format(grid_search.score(x_test,y_test)))\n",
        "print(\"Best Parameter : {}\".format(grid_search.best_params_))\n",
        "print(\"Best cross-validation score: {:.2f}\".format(grid_search.best_score_))\n",
        "\n",
        "print(\"Best score model: \\n{}\".format(grid_search.best_estimator_))"
      ],
      "execution_count": 0,
      "outputs": [
        {
          "output_type": "stream",
          "text": [
            "Test score: 0.8116591928251121\n",
            "Best Parameter : {'C': 0.1}\n",
            "Best cross-validation score: 0.83\n",
            "Best score model: \n",
            "LogisticRegression(C=0.1, class_weight=None, dual=False, fit_intercept=True,\n",
            "          intercept_scaling=1, max_iter=100, multi_class='warn',\n",
            "          n_jobs=None, penalty='l2', random_state=None, solver='warn',\n",
            "          tol=0.0001, verbose=0, warm_start=False)\n"
          ],
          "name": "stdout"
        }
      ]
    },
    {
      "cell_type": "markdown",
      "metadata": {
        "colab_type": "text",
        "id": "c4Aopl3DKvlY"
      },
      "source": [
        "# 6. Prediction"
      ]
    },
    {
      "cell_type": "code",
      "metadata": {
        "colab_type": "code",
        "id": "uxhqj6DXK6Hm",
        "trusted": true,
        "colab": {},
        "outputId": "f519fe1c-8500-4e20-ca61-9e7e2bf65785"
      },
      "source": [
        "logi=LogisticRegression(C=0.1)\n",
        "logi.fit(x_train,y_train)\n",
        "y_pred=logi.predict(test).astype(int)\n",
        "test_score = round(logi.score(x_train, y_train) * 100, 2)\n",
        "print(test_score)\n",
        "\n",
        "submission = pd.DataFrame({\n",
        "        \"PassengerId\": test_id,\n",
        "        \"Survived\": y_pred\n",
        "    })\n",
        "\n",
        "submission.to_csv('submission.csv', index=False)"
      ],
      "execution_count": 0,
      "outputs": [
        {
          "output_type": "stream",
          "text": [
            "82.72\n"
          ],
          "name": "stdout"
        }
      ]
    }
  ]
}